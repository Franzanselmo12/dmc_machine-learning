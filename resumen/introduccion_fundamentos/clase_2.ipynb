{
  "nbformat": 4,
  "nbformat_minor": 0,
  "metadata": {
    "colab": {
      "provenance": [],
      "include_colab_link": true
    },
    "kernelspec": {
      "name": "python3",
      "display_name": "Python 3"
    },
    "language_info": {
      "name": "python"
    }
  },
  "cells": [
    {
      "cell_type": "markdown",
      "metadata": {
        "id": "view-in-github",
        "colab_type": "text"
      },
      "source": [
        "<a href=\"https://colab.research.google.com/github/Franzanselmo12/dmc_machine-learning/blob/main/resumen/introduccion_fundamentos/clase_2.ipynb\" target=\"_parent\"><img src=\"https://colab.research.google.com/assets/colab-badge.svg\" alt=\"Open In Colab\"/></a>"
      ]
    },
    {
      "cell_type": "code",
      "source": [
        "import this"
      ],
      "metadata": {
        "id": "mMTogTjl7i3j"
      },
      "execution_count": null,
      "outputs": []
    },
    {
      "cell_type": "code",
      "source": [
        "(8 + 10)*50/25"
      ],
      "metadata": {
        "colab": {
          "base_uri": "https://localhost:8080/"
        },
        "id": "h6Bgpv9l7il7",
        "outputId": "159aee32-8a8b-4905-ca6e-a0012d0ca6cb"
      },
      "execution_count": null,
      "outputs": [
        {
          "output_type": "execute_result",
          "data": {
            "text/plain": [
              "36.0"
            ]
          },
          "metadata": {},
          "execution_count": 16
        }
      ]
    },
    {
      "cell_type": "code",
      "source": [
        "# Este es un ejemplo de atributo numérico entero\n",
        "4"
      ],
      "metadata": {
        "colab": {
          "base_uri": "https://localhost:8080/"
        },
        "id": "H2p_SG9K9w7Y",
        "outputId": "aa8d877b-d53a-4cb2-a569-23d90e4be6df"
      },
      "execution_count": null,
      "outputs": [
        {
          "output_type": "execute_result",
          "data": {
            "text/plain": [
              "4"
            ]
          },
          "metadata": {},
          "execution_count": 10
        }
      ]
    },
    {
      "cell_type": "code",
      "source": [
        "type(4)"
      ],
      "metadata": {
        "colab": {
          "base_uri": "https://localhost:8080/"
        },
        "id": "3tzkEmpq-5gZ",
        "outputId": "68d9aa57-075b-4b85-e7ba-740dfd59c170"
      },
      "execution_count": null,
      "outputs": [
        {
          "output_type": "execute_result",
          "data": {
            "text/plain": [
              "int"
            ]
          },
          "metadata": {},
          "execution_count": 18
        }
      ]
    },
    {
      "cell_type": "code",
      "source": [
        "# Este es un ejemplo de atributo numérico float\n",
        "4.5"
      ],
      "metadata": {
        "colab": {
          "base_uri": "https://localhost:8080/"
        },
        "id": "m5e9y6Ib76VD",
        "outputId": "18a922ca-0084-4089-bbac-63b6c962e21b"
      },
      "execution_count": null,
      "outputs": [
        {
          "output_type": "execute_result",
          "data": {
            "text/plain": [
              "4.5"
            ]
          },
          "metadata": {},
          "execution_count": 17
        }
      ]
    },
    {
      "cell_type": "code",
      "source": [
        "type(4.5)"
      ],
      "metadata": {
        "colab": {
          "base_uri": "https://localhost:8080/"
        },
        "id": "AH186CYF-_HF",
        "outputId": "9ed9116f-4ed0-4061-e5c3-9a0648af2701"
      },
      "execution_count": null,
      "outputs": [
        {
          "output_type": "execute_result",
          "data": {
            "text/plain": [
              "float"
            ]
          },
          "metadata": {},
          "execution_count": 19
        }
      ]
    },
    {
      "cell_type": "code",
      "source": [
        "10%3"
      ],
      "metadata": {
        "colab": {
          "base_uri": "https://localhost:8080/"
        },
        "id": "1xVri8QfAlJa",
        "outputId": "5e3b9929-5142-4cef-9a3c-ccc5f97916cb"
      },
      "execution_count": null,
      "outputs": [
        {
          "output_type": "execute_result",
          "data": {
            "text/plain": [
              "1"
            ]
          },
          "metadata": {},
          "execution_count": 27
        }
      ]
    },
    {
      "cell_type": "code",
      "source": [
        "10//3"
      ],
      "metadata": {
        "colab": {
          "base_uri": "https://localhost:8080/"
        },
        "id": "3gTO45HMAqeB",
        "outputId": "1bc902b4-df21-429b-8cf8-6225302eeb60"
      },
      "execution_count": null,
      "outputs": [
        {
          "output_type": "execute_result",
          "data": {
            "text/plain": [
              "3"
            ]
          },
          "metadata": {},
          "execution_count": 28
        }
      ]
    },
    {
      "cell_type": "code",
      "source": [
        "10/3"
      ],
      "metadata": {
        "colab": {
          "base_uri": "https://localhost:8080/"
        },
        "id": "rJKUnvMvAvQA",
        "outputId": "42c7e8aa-b00a-4f85-ceb6-ddd8162fe35c"
      },
      "execution_count": null,
      "outputs": [
        {
          "output_type": "execute_result",
          "data": {
            "text/plain": [
              "3.3333333333333335"
            ]
          },
          "metadata": {},
          "execution_count": 29
        }
      ]
    },
    {
      "cell_type": "code",
      "source": [
        "# Este es un ejemplo de atributo categórico\n",
        "\n",
        "'Hola chicos, un \"gusto\" conocerlos'\n",
        "\"Hola chicos, un 'gusto' conocerlos\"\n"
      ],
      "metadata": {
        "colab": {
          "base_uri": "https://localhost:8080/",
          "height": 35
        },
        "id": "JPAvyKkJ_Ca7",
        "outputId": "c2384374-6ca9-4bc1-bf32-54fb37c6662d"
      },
      "execution_count": null,
      "outputs": [
        {
          "output_type": "execute_result",
          "data": {
            "text/plain": [
              "\"Hola chicos, un 'gusto' conocerlos\""
            ],
            "application/vnd.google.colaboratory.intrinsic+json": {
              "type": "string"
            }
          },
          "metadata": {},
          "execution_count": 22
        }
      ]
    },
    {
      "cell_type": "code",
      "source": [
        "type(\"John\")"
      ],
      "metadata": {
        "colab": {
          "base_uri": "https://localhost:8080/"
        },
        "id": "XKDeYBy3_8d4",
        "outputId": "04abce7c-42ce-4e6c-a785-c886d4b16847"
      },
      "execution_count": null,
      "outputs": [
        {
          "output_type": "execute_result",
          "data": {
            "text/plain": [
              "str"
            ]
          },
          "metadata": {},
          "execution_count": 24
        }
      ]
    },
    {
      "cell_type": "code",
      "source": [
        "type('John')"
      ],
      "metadata": {
        "colab": {
          "base_uri": "https://localhost:8080/"
        },
        "id": "5EfOX-MKABn4",
        "outputId": "97c068e0-ae8a-41a3-94b7-edb380ea9f45"
      },
      "execution_count": null,
      "outputs": [
        {
          "output_type": "execute_result",
          "data": {
            "text/plain": [
              "str"
            ]
          },
          "metadata": {},
          "execution_count": 25
        }
      ]
    },
    {
      "cell_type": "code",
      "source": [
        "# Este es un ejemplo de atributo Booleano\n",
        "\n",
        "True\n",
        "False\n"
      ],
      "metadata": {
        "colab": {
          "base_uri": "https://localhost:8080/"
        },
        "id": "qNS4s5Nb_zno",
        "outputId": "95dc8b04-4564-4a11-efa5-f87854993cb8"
      },
      "execution_count": null,
      "outputs": [
        {
          "output_type": "execute_result",
          "data": {
            "text/plain": [
              "False"
            ]
          },
          "metadata": {},
          "execution_count": 23
        }
      ]
    },
    {
      "cell_type": "code",
      "source": [
        "type(True)"
      ],
      "metadata": {
        "colab": {
          "base_uri": "https://localhost:8080/"
        },
        "id": "7Gask3DdAFAN",
        "outputId": "b5b20b31-97b7-44cd-d0c3-1fee2abc58ae"
      },
      "execution_count": null,
      "outputs": [
        {
          "output_type": "execute_result",
          "data": {
            "text/plain": [
              "bool"
            ]
          },
          "metadata": {},
          "execution_count": 26
        }
      ]
    },
    {
      "cell_type": "markdown",
      "source": [
        "# Asignación de objetos"
      ],
      "metadata": {
        "id": "Kv_sDb56BRX0"
      }
    },
    {
      "cell_type": "code",
      "source": [
        "a = 10"
      ],
      "metadata": {
        "id": "C2ONGnhKBUlE"
      },
      "execution_count": null,
      "outputs": []
    },
    {
      "cell_type": "code",
      "source": [
        "a*10"
      ],
      "metadata": {
        "colab": {
          "base_uri": "https://localhost:8080/"
        },
        "id": "1UKz1B4QBZFy",
        "outputId": "0c40516c-5702-4018-f0ad-62296c668c4c"
      },
      "execution_count": null,
      "outputs": [
        {
          "output_type": "execute_result",
          "data": {
            "text/plain": [
              "100"
            ]
          },
          "metadata": {},
          "execution_count": 31
        }
      ]
    },
    {
      "cell_type": "code",
      "source": [
        "b = 'John'"
      ],
      "metadata": {
        "id": "YOH6UV4EBe8s"
      },
      "execution_count": null,
      "outputs": []
    },
    {
      "cell_type": "code",
      "source": [
        "print(b)"
      ],
      "metadata": {
        "colab": {
          "base_uri": "https://localhost:8080/"
        },
        "id": "ns_8eLi1BhyX",
        "outputId": "ada2829f-08a1-4bb5-9970-8a04798741ed"
      },
      "execution_count": null,
      "outputs": [
        {
          "output_type": "stream",
          "name": "stdout",
          "text": [
            "John\n"
          ]
        }
      ]
    },
    {
      "cell_type": "code",
      "source": [
        "type(a)"
      ],
      "metadata": {
        "colab": {
          "base_uri": "https://localhost:8080/"
        },
        "id": "xj8ra23jB8Sh",
        "outputId": "4aa2f7f7-f880-4e74-e21e-23250add2c69"
      },
      "execution_count": null,
      "outputs": [
        {
          "output_type": "execute_result",
          "data": {
            "text/plain": [
              "int"
            ]
          },
          "metadata": {},
          "execution_count": 36
        }
      ]
    },
    {
      "cell_type": "markdown",
      "source": [
        "# Operadores Relacionales"
      ],
      "metadata": {
        "id": "Dk3QuKxaC2vn"
      }
    },
    {
      "cell_type": "code",
      "source": [
        "a > 20"
      ],
      "metadata": {
        "colab": {
          "base_uri": "https://localhost:8080/"
        },
        "id": "sTKq7_vGDH6a",
        "outputId": "be4e2219-c0d5-423a-f37b-aa6bb694b1e7"
      },
      "execution_count": null,
      "outputs": [
        {
          "output_type": "execute_result",
          "data": {
            "text/plain": [
              "False"
            ]
          },
          "metadata": {},
          "execution_count": 38
        }
      ]
    },
    {
      "cell_type": "code",
      "source": [
        "a == 10"
      ],
      "metadata": {
        "colab": {
          "base_uri": "https://localhost:8080/"
        },
        "id": "lp-uH6pVDR8B",
        "outputId": "57bd41c2-0acf-40e2-84d3-3654dc6bd2b1"
      },
      "execution_count": null,
      "outputs": [
        {
          "output_type": "execute_result",
          "data": {
            "text/plain": [
              "True"
            ]
          },
          "metadata": {},
          "execution_count": 39
        }
      ]
    },
    {
      "cell_type": "code",
      "source": [
        "a != 10"
      ],
      "metadata": {
        "colab": {
          "base_uri": "https://localhost:8080/"
        },
        "id": "IWN5JXBuDVfV",
        "outputId": "0710034b-4fe3-439a-c6c4-14e511d497d9"
      },
      "execution_count": null,
      "outputs": [
        {
          "output_type": "execute_result",
          "data": {
            "text/plain": [
              "False"
            ]
          },
          "metadata": {},
          "execution_count": 40
        }
      ]
    },
    {
      "cell_type": "code",
      "source": [
        "b == 'John'"
      ],
      "metadata": {
        "colab": {
          "base_uri": "https://localhost:8080/"
        },
        "id": "Ld9SqnnNDZQ3",
        "outputId": "38778255-0d76-4132-95a7-b68a121e9a5a"
      },
      "execution_count": null,
      "outputs": [
        {
          "output_type": "execute_result",
          "data": {
            "text/plain": [
              "False"
            ]
          },
          "metadata": {},
          "execution_count": 43
        }
      ]
    },
    {
      "cell_type": "code",
      "source": [
        "b > 10"
      ],
      "metadata": {
        "colab": {
          "base_uri": "https://localhost:8080/",
          "height": 166
        },
        "id": "sVZCI2lrD2C0",
        "outputId": "22af3a04-3249-4a3b-b121-c7cbf262bcf4"
      },
      "execution_count": null,
      "outputs": [
        {
          "output_type": "error",
          "ename": "TypeError",
          "evalue": "ignored",
          "traceback": [
            "\u001b[0;31m---------------------------------------------------------------------------\u001b[0m",
            "\u001b[0;31mTypeError\u001b[0m                                 Traceback (most recent call last)",
            "\u001b[0;32m<ipython-input-44-8dea5a33d369>\u001b[0m in \u001b[0;36m<cell line: 1>\u001b[0;34m()\u001b[0m\n\u001b[0;32m----> 1\u001b[0;31m \u001b[0mb\u001b[0m \u001b[0;34m>\u001b[0m \u001b[0;36m10\u001b[0m\u001b[0;34m\u001b[0m\u001b[0;34m\u001b[0m\u001b[0m\n\u001b[0m",
            "\u001b[0;31mTypeError\u001b[0m: '>' not supported between instances of 'str' and 'int'"
          ]
        }
      ]
    },
    {
      "cell_type": "markdown",
      "source": [
        "# Listas en Python"
      ],
      "metadata": {
        "id": "8pBJoknxEmt3"
      }
    },
    {
      "cell_type": "code",
      "source": [
        "a = [1, 17, 30, 4]"
      ],
      "metadata": {
        "id": "gKpZ2jjuEo2q"
      },
      "execution_count": null,
      "outputs": []
    },
    {
      "cell_type": "code",
      "source": [
        "type(a)"
      ],
      "metadata": {
        "colab": {
          "base_uri": "https://localhost:8080/"
        },
        "id": "amPZRjh3E4S8",
        "outputId": "130781ff-8503-407a-9e39-598ba66f079e"
      },
      "execution_count": null,
      "outputs": [
        {
          "output_type": "execute_result",
          "data": {
            "text/plain": [
              "list"
            ]
          },
          "metadata": {},
          "execution_count": 48
        }
      ]
    },
    {
      "cell_type": "code",
      "source": [
        "b = ['Franco', 'Rodolfo', 'Zayuri', 1, 2, 5, [1, 2, 3]]\n"
      ],
      "metadata": {
        "id": "6iRIBu2ZFHMu"
      },
      "execution_count": null,
      "outputs": []
    },
    {
      "cell_type": "code",
      "source": [
        "type(b)"
      ],
      "metadata": {
        "colab": {
          "base_uri": "https://localhost:8080/"
        },
        "id": "-9vgSSOIFQGp",
        "outputId": "596a0868-97ef-4e92-f0f3-01509a3b4ef3"
      },
      "execution_count": null,
      "outputs": [
        {
          "output_type": "execute_result",
          "data": {
            "text/plain": [
              "list"
            ]
          },
          "metadata": {},
          "execution_count": 53
        }
      ]
    },
    {
      "cell_type": "code",
      "source": [
        "b"
      ],
      "metadata": {
        "colab": {
          "base_uri": "https://localhost:8080/"
        },
        "id": "39he9ni0FZaq",
        "outputId": "81fc1e04-2cc8-4276-8b48-e385019ffefd"
      },
      "execution_count": null,
      "outputs": [
        {
          "output_type": "execute_result",
          "data": {
            "text/plain": [
              "['Franco', 'Rodolfo', 'Zayuri', 1, 2, 5, [1, 2, 3]]"
            ]
          },
          "metadata": {},
          "execution_count": 54
        }
      ]
    },
    {
      "cell_type": "code",
      "source": [
        "len(a)"
      ],
      "metadata": {
        "colab": {
          "base_uri": "https://localhost:8080/"
        },
        "id": "6rwyN68HF6WR",
        "outputId": "c8ef6a2a-65a9-47d2-bd06-c1ca0274ebd5"
      },
      "execution_count": null,
      "outputs": [
        {
          "output_type": "execute_result",
          "data": {
            "text/plain": [
              "4"
            ]
          },
          "metadata": {},
          "execution_count": 55
        }
      ]
    },
    {
      "cell_type": "code",
      "source": [
        "[0, 1, 2, 3, 4]"
      ],
      "metadata": {
        "id": "aCpdtGxNGS6z"
      },
      "execution_count": null,
      "outputs": []
    },
    {
      "cell_type": "code",
      "source": [
        "my_list = ['Franco', 'Rodolfo', 'Zayuri', 'Hernan', 'Alex', 'Jorge']"
      ],
      "metadata": {
        "id": "okFKPAhtGfCc"
      },
      "execution_count": null,
      "outputs": []
    },
    {
      "cell_type": "code",
      "source": [
        "my_list[0]"
      ],
      "metadata": {
        "colab": {
          "base_uri": "https://localhost:8080/",
          "height": 35
        },
        "id": "zr8XBGDwGpth",
        "outputId": "26cdec1f-08c0-4eff-b518-b94fd7f01a39"
      },
      "execution_count": null,
      "outputs": [
        {
          "output_type": "execute_result",
          "data": {
            "text/plain": [
              "'Franco'"
            ],
            "application/vnd.google.colaboratory.intrinsic+json": {
              "type": "string"
            }
          },
          "metadata": {},
          "execution_count": 57
        }
      ]
    },
    {
      "cell_type": "code",
      "source": [
        "my_list[4]"
      ],
      "metadata": {
        "colab": {
          "base_uri": "https://localhost:8080/",
          "height": 35
        },
        "id": "VmFhnLL9HBpW",
        "outputId": "465c843a-68ca-424b-f966-92da40a169e9"
      },
      "execution_count": null,
      "outputs": [
        {
          "output_type": "execute_result",
          "data": {
            "text/plain": [
              "'Alex'"
            ],
            "application/vnd.google.colaboratory.intrinsic+json": {
              "type": "string"
            }
          },
          "metadata": {},
          "execution_count": 58
        }
      ]
    },
    {
      "cell_type": "markdown",
      "source": [
        "# IF/ELSE"
      ],
      "metadata": {
        "id": "ctvd5QfLH1vR"
      }
    },
    {
      "cell_type": "code",
      "source": [
        "edad = 30\n",
        "\n",
        "if edad >= 18:\n",
        "  print('Eres mayor de 18 años!')\n",
        "  b = 'es mayor de edad'\n",
        "else:\n",
        "  print(\"Aún no eres mayor de edad\")\n",
        "  b = 'es menor de edad'\n",
        "\n",
        "b = 'el proceso terminó'\n"
      ],
      "metadata": {
        "colab": {
          "base_uri": "https://localhost:8080/"
        },
        "id": "LqhbHhChH4AS",
        "outputId": "695baa4d-296c-4367-d11b-ec58f33d70dc"
      },
      "execution_count": 1,
      "outputs": [
        {
          "output_type": "stream",
          "name": "stdout",
          "text": [
            "Eres mayor de 18 años!\n"
          ]
        }
      ]
    },
    {
      "cell_type": "code",
      "source": [
        "b"
      ],
      "metadata": {
        "colab": {
          "base_uri": "https://localhost:8080/",
          "height": 35
        },
        "id": "x7jpKPEYJWOT",
        "outputId": "041b455e-4bcd-47ab-97b2-04fd12841e03"
      },
      "execution_count": null,
      "outputs": [
        {
          "output_type": "execute_result",
          "data": {
            "text/plain": [
              "'el proceso terminó'"
            ],
            "application/vnd.google.colaboratory.intrinsic+json": {
              "type": "string"
            }
          },
          "metadata": {},
          "execution_count": 71
        }
      ]
    },
    {
      "cell_type": "markdown",
      "source": [
        "**Ejemplo**"
      ],
      "metadata": {
        "id": "1VU4ApBOKTZf"
      }
    },
    {
      "cell_type": "code",
      "source": [
        "print('hola', b)"
      ],
      "metadata": {
        "colab": {
          "base_uri": "https://localhost:8080/"
        },
        "id": "vkRVj1v5MD-n",
        "outputId": "361dc16c-cab3-4f2a-e2f1-922e59285ecf"
      },
      "execution_count": null,
      "outputs": [
        {
          "output_type": "stream",
          "name": "stdout",
          "text": [
            "hola el proceso terminó\n"
          ]
        }
      ]
    },
    {
      "cell_type": "code",
      "source": [
        "\n",
        "b = input('Indique su nombre: ')\n",
        "a = int(input('Por favor ingrese su edad: '))\n",
        "\n",
        "if a >= 18:\n",
        "  print('Felicidades' , b, ', usted puede votar en estas elecciones.')\n",
        "else:\n",
        "  print('Lo lamentamos', b, 'pero no cumple con la edad mínima para votar.')\n",
        "datos = [b, a]\n"
      ],
      "metadata": {
        "colab": {
          "base_uri": "https://localhost:8080/"
        },
        "id": "HP2TQCl3KVTD",
        "outputId": "245da965-944d-4eb5-ea31-27622629529e"
      },
      "execution_count": null,
      "outputs": [
        {
          "output_type": "stream",
          "name": "stdout",
          "text": [
            "Indique su nombre: John\n",
            "Por favor ingrese su edad: 25\n",
            "FelicidadesJohn, usted puede votar en estas elecciones.\n"
          ]
        }
      ]
    },
    {
      "cell_type": "code",
      "source": [
        "datos"
      ],
      "metadata": {
        "colab": {
          "base_uri": "https://localhost:8080/"
        },
        "id": "2gC2AG2VKiuJ",
        "outputId": "2a190e00-87b6-49c7-f3ac-96176896e482"
      },
      "execution_count": null,
      "outputs": [
        {
          "output_type": "execute_result",
          "data": {
            "text/plain": [
              "['John', 25]"
            ]
          },
          "metadata": {},
          "execution_count": 91
        }
      ]
    },
    {
      "cell_type": "markdown",
      "source": [
        "**Tarea**\n",
        "\n",
        "Escriban un programa que reciba el nombre y la nota de un alumno, si el alumno tiene nota mayor a 15 imprimir un mensaje de felicitaciones por aprobar el curso, caso contrario recomendar volver a llevar el curso. Finalmente almacenar los datos en una lista.\n",
        "\n"
      ],
      "metadata": {
        "id": "2b1oOOBjMrz-"
      }
    },
    {
      "cell_type": "code",
      "source": [
        "\n",
        "b = input('Indique su nombre: ')\n",
        "a = int(input('Por favor ingrese su nota: '))\n",
        "\n",
        "if a > 15:\n",
        "  print('Felicidades' , b, ', usted esta aprobado')\n",
        "else:\n",
        "  print('Lo lamentamos', b, 'pero tiene que repetir el curso.')\n",
        "\n",
        "datos = [b, a]\n"
      ],
      "metadata": {
        "colab": {
          "base_uri": "https://localhost:8080/"
        },
        "id": "zuF5stR14K8m",
        "outputId": "5aad3bec-8773-4772-db93-d0332533658c"
      },
      "execution_count": null,
      "outputs": [
        {
          "output_type": "stream",
          "name": "stdout",
          "text": [
            "Indique su nombre: John\n",
            "Por favor ingrese su nota: 16\n",
            "Felicidades John , usted esta aprobado\n"
          ]
        }
      ]
    },
    {
      "cell_type": "code",
      "source": [
        "\n",
        "b = input('Indique su nombre: ')\n",
        "a = int(input('Por favor ingrese su nota: '))\n",
        "\n",
        "if a > 15:\n",
        "  if a > 18:\n",
        "    print('Felicidades' , b, ', usted tiene una nota sobresaliente')\n",
        "  else:\n",
        "    print('Felicidades' , b, ', usted esta aprobado')\n",
        "else:\n",
        "  print('Lo lamentamos', b, 'pero tiene que repetir el curso.')\n",
        "\n",
        "datos = [b, a]\n"
      ],
      "metadata": {
        "colab": {
          "base_uri": "https://localhost:8080/"
        },
        "id": "QhAaYpvR4ygQ",
        "outputId": "bc67aae8-18b5-42fd-ce7a-6838a5b0fc01"
      },
      "execution_count": null,
      "outputs": [
        {
          "output_type": "stream",
          "name": "stdout",
          "text": [
            "Indique su nombre: John\n",
            "Por favor ingrese su nota: 20\n",
            "Felicidades John , usted tiene una nota sobresaliente\n"
          ]
        }
      ]
    },
    {
      "cell_type": "code",
      "source": [
        "\n",
        "b = input('Indique su nombre: ')\n",
        "a = input('Por favor ingrese su nota: ')\n",
        "\n",
        "try:\n",
        "  a = float(a)\n",
        "  if (a <= 20) & (a >= 0):\n",
        "    if a > 18:\n",
        "      print('Felicidades' , b, ', usted tiene una nota sobresaliente')\n",
        "    elif a > 15:\n",
        "      print('Felicidades' , b, ', usted esta aprobado')\n",
        "    elif a > 12:\n",
        "      print(b, ', usted debe aplicar al curso de nivelación')\n",
        "    else:\n",
        "      print('Lo lamentamos', b, 'pero tiene que repetir el curso.')\n",
        "\n",
        "    datos = [b, a]\n",
        "  else:\n",
        "    print('La nota ingresada no es válida')\n",
        "except:\n",
        "  print('Se presentó un bug en el programa')\n"
      ],
      "metadata": {
        "colab": {
          "base_uri": "https://localhost:8080/"
        },
        "id": "PpkppiCN6Fpz",
        "outputId": "6a06f43e-a1fc-4b42-e7a8-0a8fd9bd2e76"
      },
      "execution_count": null,
      "outputs": [
        {
          "output_type": "stream",
          "name": "stdout",
          "text": [
            "Indique su nombre: John \n",
            "Por favor ingrese su nota: 14\n",
            "John  , usted debe aplicar al curso de nivelación\n"
          ]
        }
      ]
    },
    {
      "cell_type": "code",
      "source": [
        "type(a) == int"
      ],
      "metadata": {
        "colab": {
          "base_uri": "https://localhost:8080/"
        },
        "id": "sHyeb1JV7gbs",
        "outputId": "32ef60ee-d60e-494d-b415-b7d13a14af2e"
      },
      "execution_count": null,
      "outputs": [
        {
          "output_type": "execute_result",
          "data": {
            "text/plain": [
              "True"
            ]
          },
          "metadata": {},
          "execution_count": 12
        }
      ]
    },
    {
      "cell_type": "markdown",
      "source": [
        "# Condicionales anidadas"
      ],
      "metadata": {
        "id": "8aG5K0LQ9-Kj"
      }
    },
    {
      "cell_type": "code",
      "source": [
        "a = 12\n",
        "(a > 0) & (a < 14)"
      ],
      "metadata": {
        "colab": {
          "base_uri": "https://localhost:8080/"
        },
        "id": "zS7uAuFT9xxH",
        "outputId": "31fc8641-23a0-4848-d0d9-86e0c12bb9f2"
      },
      "execution_count": null,
      "outputs": [
        {
          "output_type": "execute_result",
          "data": {
            "text/plain": [
              "True"
            ]
          },
          "metadata": {},
          "execution_count": 21
        }
      ]
    },
    {
      "cell_type": "code",
      "source": [
        "(a > 0) and (a < 14)"
      ],
      "metadata": {
        "colab": {
          "base_uri": "https://localhost:8080/"
        },
        "id": "uYRocSxg-gEe",
        "outputId": "c8e7e028-4c21-4118-b50e-815ab0b86ba3"
      },
      "execution_count": null,
      "outputs": [
        {
          "output_type": "execute_result",
          "data": {
            "text/plain": [
              "True"
            ]
          },
          "metadata": {},
          "execution_count": 24
        }
      ]
    },
    {
      "cell_type": "code",
      "source": [
        "a = 12\n",
        "(a > 0) | (a < 14)"
      ],
      "metadata": {
        "colab": {
          "base_uri": "https://localhost:8080/"
        },
        "id": "TNKUCIQd-Gn2",
        "outputId": "18f3108b-b416-4b95-f62d-f09d0b319106"
      },
      "execution_count": null,
      "outputs": [
        {
          "output_type": "execute_result",
          "data": {
            "text/plain": [
              "True"
            ]
          },
          "metadata": {},
          "execution_count": 22
        }
      ]
    },
    {
      "cell_type": "code",
      "source": [
        "(a > 0) or (a < 14)"
      ],
      "metadata": {
        "colab": {
          "base_uri": "https://localhost:8080/"
        },
        "id": "aaMjF0LJ-d2K",
        "outputId": "33101cfa-89ca-49d8-cc8e-99378b68d12b"
      },
      "execution_count": null,
      "outputs": [
        {
          "output_type": "execute_result",
          "data": {
            "text/plain": [
              "True"
            ]
          },
          "metadata": {},
          "execution_count": 23
        }
      ]
    },
    {
      "cell_type": "markdown",
      "source": [
        "# Comando For"
      ],
      "metadata": {
        "id": "R0MvWcVC_hbi"
      }
    },
    {
      "cell_type": "code",
      "source": [
        "for x in [2,4,6,8]:\n",
        "  print(x)\n",
        "print('proceso termindado')"
      ],
      "metadata": {
        "id": "Wu4vuc4WMFvU",
        "outputId": "4dfa4882-c787-4ced-be35-b2512c40e30a",
        "colab": {
          "base_uri": "https://localhost:8080/"
        }
      },
      "execution_count": 3,
      "outputs": [
        {
          "output_type": "stream",
          "name": "stdout",
          "text": [
            "2\n",
            "4\n",
            "6\n",
            "8\n",
            "proceso termindado\n"
          ]
        }
      ]
    },
    {
      "cell_type": "code",
      "source": [
        "for x in [1, 2, 3, 4, 5]:\n",
        "  print(x**2)"
      ],
      "metadata": {
        "id": "fCpj5BB0_jUB",
        "outputId": "d45ddf13-7fc4-4170-b79a-442ba825c563",
        "colab": {
          "base_uri": "https://localhost:8080/"
        }
      },
      "execution_count": 5,
      "outputs": [
        {
          "output_type": "stream",
          "name": "stdout",
          "text": [
            "1\n",
            "4\n",
            "9\n",
            "16\n",
            "25\n"
          ]
        }
      ]
    },
    {
      "cell_type": "code",
      "source": [
        "#range(inicio, final +1)\n",
        "for x in range(1, 51):\n",
        "  print(x**2)"
      ],
      "metadata": {
        "id": "sZistJPhAdCt"
      },
      "execution_count": null,
      "outputs": []
    },
    {
      "cell_type": "markdown",
      "source": [
        "Imprima los números múltiplos de 17 comprendidos entre 1 y 1000"
      ],
      "metadata": {
        "id": "1jhAFjq6BE0z"
      }
    },
    {
      "cell_type": "code",
      "source": [
        "# for y range\n",
        "# X%17 == 0\n",
        "# if/else\n"
      ],
      "metadata": {
        "id": "POFRI0rcBQB3"
      },
      "execution_count": null,
      "outputs": []
    },
    {
      "cell_type": "code",
      "source": [
        "for x in range(0, 1001):\n",
        "  if x%17 == 0:\n",
        "    print(x, 'es múltiplo de 17')"
      ],
      "metadata": {
        "id": "HTN2EE7ZBEa-"
      },
      "execution_count": null,
      "outputs": []
    },
    {
      "cell_type": "code",
      "source": [
        "for name in ['John', 'Jorge', 'Rodolfo']:\n",
        "  print('Bienvenido al curso', name)\n"
      ],
      "metadata": {
        "colab": {
          "base_uri": "https://localhost:8080/"
        },
        "id": "EyoSbaYlDQ11",
        "outputId": "f4cf8c17-5ccf-4310-b9e6-cf0fb6ada21c"
      },
      "execution_count": null,
      "outputs": [
        {
          "output_type": "stream",
          "name": "stdout",
          "text": [
            "Bienvenido al curso John\n",
            "Bienvenido al curso Jorge\n",
            "Bienvenido al curso Rodolfo\n"
          ]
        }
      ]
    },
    {
      "cell_type": "markdown",
      "source": [
        "# While"
      ],
      "metadata": {
        "id": "S8p7U-NiDNn4"
      }
    },
    {
      "cell_type": "code",
      "source": [
        "\n",
        "#while ____ :\n",
        "#  proceso\n"
      ],
      "metadata": {
        "id": "2NQP3__9DPLs"
      },
      "execution_count": null,
      "outputs": []
    },
    {
      "cell_type": "code",
      "source": [
        "# i += 1   es lo mismo que i = i + 1\n",
        "i = 0\n",
        "\n",
        "while i <= 20:\n",
        "  print(i)\n",
        "  i += 1\n"
      ],
      "metadata": {
        "id": "4mFPtkpkDxKy",
        "outputId": "649438e9-44b1-48f8-fedb-224398e3fa2b",
        "colab": {
          "base_uri": "https://localhost:8080/"
        }
      },
      "execution_count": 6,
      "outputs": [
        {
          "output_type": "stream",
          "name": "stdout",
          "text": [
            "0\n",
            "1\n",
            "2\n",
            "3\n",
            "4\n",
            "5\n",
            "6\n",
            "7\n",
            "8\n",
            "9\n",
            "10\n",
            "11\n",
            "12\n",
            "13\n",
            "14\n",
            "15\n",
            "16\n",
            "17\n",
            "18\n",
            "19\n",
            "20\n"
          ]
        }
      ]
    },
    {
      "cell_type": "code",
      "source": [
        "message = ''\n",
        "\n",
        "while message != 'quit':\n",
        "  message = input('Hola!, indicame tu pedido (o escribe quit para salir):')\n",
        "  if message != 'quit':\n",
        "    print('tu pedido de', message, 'a sido guardado')\n"
      ],
      "metadata": {
        "colab": {
          "base_uri": "https://localhost:8080/"
        },
        "id": "xiSEaMJ8E2aU",
        "outputId": "6687a9ca-3f51-4433-81ca-ade96495f6e6"
      },
      "execution_count": null,
      "outputs": [
        {
          "name": "stdout",
          "output_type": "stream",
          "text": [
            "Hola!, indicame tu pedido (o escribe quit para salir):peperoni\n",
            "tu pedido de peperoni a sido guardado\n",
            "Hola!, indicame tu pedido (o escribe quit para salir):cabanossi\n",
            "tu pedido de cabanossi a sido guardado\n",
            "Hola!, indicame tu pedido (o escribe quit para salir):quit\n"
          ]
        }
      ]
    },
    {
      "cell_type": "code",
      "source": [
        "message = ''\n",
        "my_list = []\n",
        "\n",
        "while message != 'quit':\n",
        "  message = input('Hola!, indicame tu pedido (o escribe quit para salir):')\n",
        "  if message != 'quit':\n",
        "    my_list.append(message)\n",
        "    print('tu pedido de', message, 'fue guardado')\n",
        "\n",
        "print('gracias!!!')\n",
        "for x in my_list:\n",
        "  print('tu pedido de', x, 'fue generado')\n"
      ],
      "metadata": {
        "colab": {
          "base_uri": "https://localhost:8080/"
        },
        "id": "RxliYC3uGzAq",
        "outputId": "785c5419-53e6-40c2-d700-cda18fcba371"
      },
      "execution_count": null,
      "outputs": [
        {
          "output_type": "stream",
          "name": "stdout",
          "text": [
            "Hola!, indicame tu pedido (o escribe quit para salir):a\n",
            "tu pedido de a fue guardado\n",
            "Hola!, indicame tu pedido (o escribe quit para salir):b\n",
            "tu pedido de b fue guardado\n",
            "Hola!, indicame tu pedido (o escribe quit para salir):quit\n",
            "gracias!!!\n",
            "tu pedido de a fue generado\n",
            "tu pedido de b fue generado\n"
          ]
        }
      ]
    },
    {
      "cell_type": "code",
      "source": [
        "my_list"
      ],
      "metadata": {
        "colab": {
          "base_uri": "https://localhost:8080/"
        },
        "id": "UHs8BKAxHpOZ",
        "outputId": "5a67fed8-6275-4929-ee19-aacaf81ca1ec"
      },
      "execution_count": null,
      "outputs": [
        {
          "output_type": "stream",
          "name": "stdout",
          "text": [
            "['coca cola', 'pizza']\n"
          ]
        }
      ]
    },
    {
      "cell_type": "code",
      "source": [
        "my_list = [1, 2, 3]"
      ],
      "metadata": {
        "id": "_or4E4s1HA6j"
      },
      "execution_count": null,
      "outputs": []
    },
    {
      "cell_type": "code",
      "source": [
        "my_list.append(4)"
      ],
      "metadata": {
        "id": "Dc_CPeGqHCug"
      },
      "execution_count": null,
      "outputs": []
    },
    {
      "cell_type": "code",
      "source": [
        "my_list"
      ],
      "metadata": {
        "colab": {
          "base_uri": "https://localhost:8080/"
        },
        "id": "YHQ1j-8nHGQT",
        "outputId": "667fd6c0-76cc-45fd-8867-f06ecd542916"
      },
      "execution_count": null,
      "outputs": [
        {
          "output_type": "execute_result",
          "data": {
            "text/plain": [
              "[1, 2, 3, 4]"
            ]
          },
          "metadata": {},
          "execution_count": 44
        }
      ]
    },
    {
      "cell_type": "markdown",
      "source": [
        "# Pandas"
      ],
      "metadata": {
        "id": "sJSkQGdgOv1m"
      }
    },
    {
      "cell_type": "code",
      "source": [
        "import pandas as pd"
      ],
      "metadata": {
        "id": "kh64FACFS020"
      },
      "execution_count": 8,
      "outputs": []
    },
    {
      "cell_type": "code",
      "source": [
        "#pandas dataframe\n",
        "pddf = pd.read_csv('train_titanic.csv')\n",
        "type(pddf)\n"
      ],
      "metadata": {
        "id": "6l6lQN1RTHBE",
        "outputId": "ab4a2400-b1fe-47a1-934e-18ec79a6ecd9",
        "colab": {
          "base_uri": "https://localhost:8080/",
          "height": 203
        }
      },
      "execution_count": 11,
      "outputs": [
        {
          "output_type": "execute_result",
          "data": {
            "text/plain": [
              "pandas.core.frame.DataFrame"
            ],
            "text/html": [
              "<div style=\"max-width:800px; border: 1px solid var(--colab-border-color);\"><style>\n",
              "      pre.function-repr-contents {\n",
              "        overflow-x: auto;\n",
              "        padding: 8px 12px;\n",
              "        max-height: 500px;\n",
              "      }\n",
              "\n",
              "      pre.function-repr-contents.function-repr-contents-collapsed {\n",
              "        cursor: pointer;\n",
              "        max-height: 100px;\n",
              "      }\n",
              "    </style>\n",
              "    <pre style=\"white-space: initial; background:\n",
              "         var(--colab-secondary-surface-color); padding: 8px 12px;\n",
              "         border-bottom: 1px solid var(--colab-border-color);\"><b>pandas.core.frame.DataFrame</b><br/>def __init__(data=None, index: Axes | None=None, columns: Axes | None=None, dtype: Dtype | None=None, copy: bool | None=None) -&gt; None</pre><pre class=\"function-repr-contents function-repr-contents-collapsed\" style=\"\"><a class=\"filepath\" style=\"display:none\" href=\"#\">/usr/local/lib/python3.10/dist-packages/pandas/core/frame.py</a>Two-dimensional, size-mutable, potentially heterogeneous tabular data.\n",
              "\n",
              "Data structure also contains labeled axes (rows and columns).\n",
              "Arithmetic operations align on both row and column labels. Can be\n",
              "thought of as a dict-like container for Series objects. The primary\n",
              "pandas data structure.\n",
              "\n",
              "Parameters\n",
              "----------\n",
              "data : ndarray (structured or homogeneous), Iterable, dict, or DataFrame\n",
              "    Dict can contain Series, arrays, constants, dataclass or list-like objects. If\n",
              "    data is a dict, column order follows insertion-order. If a dict contains Series\n",
              "    which have an index defined, it is aligned by its index. This alignment also\n",
              "    occurs if data is a Series or a DataFrame itself. Alignment is done on\n",
              "    Series/DataFrame inputs.\n",
              "\n",
              "    If data is a list of dicts, column order follows insertion-order.\n",
              "\n",
              "index : Index or array-like\n",
              "    Index to use for resulting frame. Will default to RangeIndex if\n",
              "    no indexing information part of input data and no index provided.\n",
              "columns : Index or array-like\n",
              "    Column labels to use for resulting frame when data does not have them,\n",
              "    defaulting to RangeIndex(0, 1, 2, ..., n). If data contains column labels,\n",
              "    will perform column selection instead.\n",
              "dtype : dtype, default None\n",
              "    Data type to force. Only a single dtype is allowed. If None, infer.\n",
              "copy : bool or None, default None\n",
              "    Copy data from inputs.\n",
              "    For dict data, the default of None behaves like ``copy=True``.  For DataFrame\n",
              "    or 2d ndarray input, the default of None behaves like ``copy=False``.\n",
              "    If data is a dict containing one or more Series (possibly of different dtypes),\n",
              "    ``copy=False`` will ensure that these inputs are not copied.\n",
              "\n",
              "    .. versionchanged:: 1.3.0\n",
              "\n",
              "See Also\n",
              "--------\n",
              "DataFrame.from_records : Constructor from tuples, also record arrays.\n",
              "DataFrame.from_dict : From dicts of Series, arrays, or dicts.\n",
              "read_csv : Read a comma-separated values (csv) file into DataFrame.\n",
              "read_table : Read general delimited file into DataFrame.\n",
              "read_clipboard : Read text from clipboard into DataFrame.\n",
              "\n",
              "Notes\n",
              "-----\n",
              "Please reference the :ref:`User Guide &lt;basics.dataframe&gt;` for more information.\n",
              "\n",
              "Examples\n",
              "--------\n",
              "Constructing DataFrame from a dictionary.\n",
              "\n",
              "&gt;&gt;&gt; d = {&#x27;col1&#x27;: [1, 2], &#x27;col2&#x27;: [3, 4]}\n",
              "&gt;&gt;&gt; df = pd.DataFrame(data=d)\n",
              "&gt;&gt;&gt; df\n",
              "   col1  col2\n",
              "0     1     3\n",
              "1     2     4\n",
              "\n",
              "Notice that the inferred dtype is int64.\n",
              "\n",
              "&gt;&gt;&gt; df.dtypes\n",
              "col1    int64\n",
              "col2    int64\n",
              "dtype: object\n",
              "\n",
              "To enforce a single dtype:\n",
              "\n",
              "&gt;&gt;&gt; df = pd.DataFrame(data=d, dtype=np.int8)\n",
              "&gt;&gt;&gt; df.dtypes\n",
              "col1    int8\n",
              "col2    int8\n",
              "dtype: object\n",
              "\n",
              "Constructing DataFrame from a dictionary including Series:\n",
              "\n",
              "&gt;&gt;&gt; d = {&#x27;col1&#x27;: [0, 1, 2, 3], &#x27;col2&#x27;: pd.Series([2, 3], index=[2, 3])}\n",
              "&gt;&gt;&gt; pd.DataFrame(data=d, index=[0, 1, 2, 3])\n",
              "   col1  col2\n",
              "0     0   NaN\n",
              "1     1   NaN\n",
              "2     2   2.0\n",
              "3     3   3.0\n",
              "\n",
              "Constructing DataFrame from numpy ndarray:\n",
              "\n",
              "&gt;&gt;&gt; df2 = pd.DataFrame(np.array([[1, 2, 3], [4, 5, 6], [7, 8, 9]]),\n",
              "...                    columns=[&#x27;a&#x27;, &#x27;b&#x27;, &#x27;c&#x27;])\n",
              "&gt;&gt;&gt; df2\n",
              "   a  b  c\n",
              "0  1  2  3\n",
              "1  4  5  6\n",
              "2  7  8  9\n",
              "\n",
              "Constructing DataFrame from a numpy ndarray that has labeled columns:\n",
              "\n",
              "&gt;&gt;&gt; data = np.array([(1, 2, 3), (4, 5, 6), (7, 8, 9)],\n",
              "...                 dtype=[(&quot;a&quot;, &quot;i4&quot;), (&quot;b&quot;, &quot;i4&quot;), (&quot;c&quot;, &quot;i4&quot;)])\n",
              "&gt;&gt;&gt; df3 = pd.DataFrame(data, columns=[&#x27;c&#x27;, &#x27;a&#x27;])\n",
              "...\n",
              "&gt;&gt;&gt; df3\n",
              "   c  a\n",
              "0  3  1\n",
              "1  6  4\n",
              "2  9  7\n",
              "\n",
              "Constructing DataFrame from dataclass:\n",
              "\n",
              "&gt;&gt;&gt; from dataclasses import make_dataclass\n",
              "&gt;&gt;&gt; Point = make_dataclass(&quot;Point&quot;, [(&quot;x&quot;, int), (&quot;y&quot;, int)])\n",
              "&gt;&gt;&gt; pd.DataFrame([Point(0, 0), Point(0, 3), Point(2, 3)])\n",
              "   x  y\n",
              "0  0  0\n",
              "1  0  3\n",
              "2  2  3\n",
              "\n",
              "Constructing DataFrame from Series/DataFrame:\n",
              "\n",
              "&gt;&gt;&gt; ser = pd.Series([1, 2, 3], index=[&quot;a&quot;, &quot;b&quot;, &quot;c&quot;])\n",
              "&gt;&gt;&gt; df = pd.DataFrame(data=ser, index=[&quot;a&quot;, &quot;c&quot;])\n",
              "&gt;&gt;&gt; df\n",
              "   0\n",
              "a  1\n",
              "c  3\n",
              "\n",
              "&gt;&gt;&gt; df1 = pd.DataFrame([1, 2, 3], index=[&quot;a&quot;, &quot;b&quot;, &quot;c&quot;], columns=[&quot;x&quot;])\n",
              "&gt;&gt;&gt; df2 = pd.DataFrame(data=df1, index=[&quot;a&quot;, &quot;c&quot;])\n",
              "&gt;&gt;&gt; df2\n",
              "   x\n",
              "a  1\n",
              "c  3</pre>\n",
              "      <script>\n",
              "      if (google.colab.kernel.accessAllowed && google.colab.files && google.colab.files.view) {\n",
              "        for (const element of document.querySelectorAll('.filepath')) {\n",
              "          element.style.display = 'block'\n",
              "          element.onclick = (event) => {\n",
              "            event.preventDefault();\n",
              "            event.stopPropagation();\n",
              "            google.colab.files.view(element.textContent, 490);\n",
              "          };\n",
              "        }\n",
              "      }\n",
              "      for (const element of document.querySelectorAll('.function-repr-contents')) {\n",
              "        element.onclick = (event) => {\n",
              "          event.preventDefault();\n",
              "          event.stopPropagation();\n",
              "          element.classList.toggle('function-repr-contents-collapsed');\n",
              "        };\n",
              "      }\n",
              "      </script>\n",
              "      </div>"
            ]
          },
          "metadata": {},
          "execution_count": 11
        }
      ]
    },
    {
      "cell_type": "code",
      "source": [
        "pddf.head(10)"
      ],
      "metadata": {
        "id": "foHJfbLtTy5L",
        "outputId": "871215f6-91b0-4b6f-849b-2611edad810c",
        "colab": {
          "base_uri": "https://localhost:8080/",
          "height": 432
        }
      },
      "execution_count": 13,
      "outputs": [
        {
          "output_type": "execute_result",
          "data": {
            "text/plain": [
              "   PassengerId  Survived  Pclass  \\\n",
              "0            1         0       3   \n",
              "1            2         1       1   \n",
              "2            3         1       3   \n",
              "3            4         1       1   \n",
              "4            5         0       3   \n",
              "5            6         0       3   \n",
              "6            7         0       1   \n",
              "7            8         0       3   \n",
              "8            9         1       3   \n",
              "9           10         1       2   \n",
              "\n",
              "                                                Name     Sex   Age  SibSp  \\\n",
              "0                            Braund, Mr. Owen Harris    male  22.0      1   \n",
              "1  Cumings, Mrs. John Bradley (Florence Briggs Th...  female  38.0      1   \n",
              "2                             Heikkinen, Miss. Laina  female  26.0      0   \n",
              "3       Futrelle, Mrs. Jacques Heath (Lily May Peel)  female  35.0      1   \n",
              "4                           Allen, Mr. William Henry    male  35.0      0   \n",
              "5                                   Moran, Mr. James    male   NaN      0   \n",
              "6                            McCarthy, Mr. Timothy J    male  54.0      0   \n",
              "7                     Palsson, Master. Gosta Leonard    male   2.0      3   \n",
              "8  Johnson, Mrs. Oscar W (Elisabeth Vilhelmina Berg)  female  27.0      0   \n",
              "9                Nasser, Mrs. Nicholas (Adele Achem)  female  14.0      1   \n",
              "\n",
              "   Parch            Ticket     Fare Cabin Embarked  \n",
              "0      0         A/5 21171   7.2500   NaN        S  \n",
              "1      0          PC 17599  71.2833   C85        C  \n",
              "2      0  STON/O2. 3101282   7.9250   NaN        S  \n",
              "3      0            113803  53.1000  C123        S  \n",
              "4      0            373450   8.0500   NaN        S  \n",
              "5      0            330877   8.4583   NaN        Q  \n",
              "6      0             17463  51.8625   E46        S  \n",
              "7      1            349909  21.0750   NaN        S  \n",
              "8      2            347742  11.1333   NaN        S  \n",
              "9      0            237736  30.0708   NaN        C  "
            ],
            "text/html": [
              "\n",
              "  <div id=\"df-91eb3a99-fe77-40ec-8bc2-251fbc7b0ce1\" class=\"colab-df-container\">\n",
              "    <div>\n",
              "<style scoped>\n",
              "    .dataframe tbody tr th:only-of-type {\n",
              "        vertical-align: middle;\n",
              "    }\n",
              "\n",
              "    .dataframe tbody tr th {\n",
              "        vertical-align: top;\n",
              "    }\n",
              "\n",
              "    .dataframe thead th {\n",
              "        text-align: right;\n",
              "    }\n",
              "</style>\n",
              "<table border=\"1\" class=\"dataframe\">\n",
              "  <thead>\n",
              "    <tr style=\"text-align: right;\">\n",
              "      <th></th>\n",
              "      <th>PassengerId</th>\n",
              "      <th>Survived</th>\n",
              "      <th>Pclass</th>\n",
              "      <th>Name</th>\n",
              "      <th>Sex</th>\n",
              "      <th>Age</th>\n",
              "      <th>SibSp</th>\n",
              "      <th>Parch</th>\n",
              "      <th>Ticket</th>\n",
              "      <th>Fare</th>\n",
              "      <th>Cabin</th>\n",
              "      <th>Embarked</th>\n",
              "    </tr>\n",
              "  </thead>\n",
              "  <tbody>\n",
              "    <tr>\n",
              "      <th>0</th>\n",
              "      <td>1</td>\n",
              "      <td>0</td>\n",
              "      <td>3</td>\n",
              "      <td>Braund, Mr. Owen Harris</td>\n",
              "      <td>male</td>\n",
              "      <td>22.0</td>\n",
              "      <td>1</td>\n",
              "      <td>0</td>\n",
              "      <td>A/5 21171</td>\n",
              "      <td>7.2500</td>\n",
              "      <td>NaN</td>\n",
              "      <td>S</td>\n",
              "    </tr>\n",
              "    <tr>\n",
              "      <th>1</th>\n",
              "      <td>2</td>\n",
              "      <td>1</td>\n",
              "      <td>1</td>\n",
              "      <td>Cumings, Mrs. John Bradley (Florence Briggs Th...</td>\n",
              "      <td>female</td>\n",
              "      <td>38.0</td>\n",
              "      <td>1</td>\n",
              "      <td>0</td>\n",
              "      <td>PC 17599</td>\n",
              "      <td>71.2833</td>\n",
              "      <td>C85</td>\n",
              "      <td>C</td>\n",
              "    </tr>\n",
              "    <tr>\n",
              "      <th>2</th>\n",
              "      <td>3</td>\n",
              "      <td>1</td>\n",
              "      <td>3</td>\n",
              "      <td>Heikkinen, Miss. Laina</td>\n",
              "      <td>female</td>\n",
              "      <td>26.0</td>\n",
              "      <td>0</td>\n",
              "      <td>0</td>\n",
              "      <td>STON/O2. 3101282</td>\n",
              "      <td>7.9250</td>\n",
              "      <td>NaN</td>\n",
              "      <td>S</td>\n",
              "    </tr>\n",
              "    <tr>\n",
              "      <th>3</th>\n",
              "      <td>4</td>\n",
              "      <td>1</td>\n",
              "      <td>1</td>\n",
              "      <td>Futrelle, Mrs. Jacques Heath (Lily May Peel)</td>\n",
              "      <td>female</td>\n",
              "      <td>35.0</td>\n",
              "      <td>1</td>\n",
              "      <td>0</td>\n",
              "      <td>113803</td>\n",
              "      <td>53.1000</td>\n",
              "      <td>C123</td>\n",
              "      <td>S</td>\n",
              "    </tr>\n",
              "    <tr>\n",
              "      <th>4</th>\n",
              "      <td>5</td>\n",
              "      <td>0</td>\n",
              "      <td>3</td>\n",
              "      <td>Allen, Mr. William Henry</td>\n",
              "      <td>male</td>\n",
              "      <td>35.0</td>\n",
              "      <td>0</td>\n",
              "      <td>0</td>\n",
              "      <td>373450</td>\n",
              "      <td>8.0500</td>\n",
              "      <td>NaN</td>\n",
              "      <td>S</td>\n",
              "    </tr>\n",
              "    <tr>\n",
              "      <th>5</th>\n",
              "      <td>6</td>\n",
              "      <td>0</td>\n",
              "      <td>3</td>\n",
              "      <td>Moran, Mr. James</td>\n",
              "      <td>male</td>\n",
              "      <td>NaN</td>\n",
              "      <td>0</td>\n",
              "      <td>0</td>\n",
              "      <td>330877</td>\n",
              "      <td>8.4583</td>\n",
              "      <td>NaN</td>\n",
              "      <td>Q</td>\n",
              "    </tr>\n",
              "    <tr>\n",
              "      <th>6</th>\n",
              "      <td>7</td>\n",
              "      <td>0</td>\n",
              "      <td>1</td>\n",
              "      <td>McCarthy, Mr. Timothy J</td>\n",
              "      <td>male</td>\n",
              "      <td>54.0</td>\n",
              "      <td>0</td>\n",
              "      <td>0</td>\n",
              "      <td>17463</td>\n",
              "      <td>51.8625</td>\n",
              "      <td>E46</td>\n",
              "      <td>S</td>\n",
              "    </tr>\n",
              "    <tr>\n",
              "      <th>7</th>\n",
              "      <td>8</td>\n",
              "      <td>0</td>\n",
              "      <td>3</td>\n",
              "      <td>Palsson, Master. Gosta Leonard</td>\n",
              "      <td>male</td>\n",
              "      <td>2.0</td>\n",
              "      <td>3</td>\n",
              "      <td>1</td>\n",
              "      <td>349909</td>\n",
              "      <td>21.0750</td>\n",
              "      <td>NaN</td>\n",
              "      <td>S</td>\n",
              "    </tr>\n",
              "    <tr>\n",
              "      <th>8</th>\n",
              "      <td>9</td>\n",
              "      <td>1</td>\n",
              "      <td>3</td>\n",
              "      <td>Johnson, Mrs. Oscar W (Elisabeth Vilhelmina Berg)</td>\n",
              "      <td>female</td>\n",
              "      <td>27.0</td>\n",
              "      <td>0</td>\n",
              "      <td>2</td>\n",
              "      <td>347742</td>\n",
              "      <td>11.1333</td>\n",
              "      <td>NaN</td>\n",
              "      <td>S</td>\n",
              "    </tr>\n",
              "    <tr>\n",
              "      <th>9</th>\n",
              "      <td>10</td>\n",
              "      <td>1</td>\n",
              "      <td>2</td>\n",
              "      <td>Nasser, Mrs. Nicholas (Adele Achem)</td>\n",
              "      <td>female</td>\n",
              "      <td>14.0</td>\n",
              "      <td>1</td>\n",
              "      <td>0</td>\n",
              "      <td>237736</td>\n",
              "      <td>30.0708</td>\n",
              "      <td>NaN</td>\n",
              "      <td>C</td>\n",
              "    </tr>\n",
              "  </tbody>\n",
              "</table>\n",
              "</div>\n",
              "    <div class=\"colab-df-buttons\">\n",
              "\n",
              "  <div class=\"colab-df-container\">\n",
              "    <button class=\"colab-df-convert\" onclick=\"convertToInteractive('df-91eb3a99-fe77-40ec-8bc2-251fbc7b0ce1')\"\n",
              "            title=\"Convert this dataframe to an interactive table.\"\n",
              "            style=\"display:none;\">\n",
              "\n",
              "  <svg xmlns=\"http://www.w3.org/2000/svg\" height=\"24px\" viewBox=\"0 -960 960 960\">\n",
              "    <path d=\"M120-120v-720h720v720H120Zm60-500h600v-160H180v160Zm220 220h160v-160H400v160Zm0 220h160v-160H400v160ZM180-400h160v-160H180v160Zm440 0h160v-160H620v160ZM180-180h160v-160H180v160Zm440 0h160v-160H620v160Z\"/>\n",
              "  </svg>\n",
              "    </button>\n",
              "\n",
              "  <style>\n",
              "    .colab-df-container {\n",
              "      display:flex;\n",
              "      gap: 12px;\n",
              "    }\n",
              "\n",
              "    .colab-df-convert {\n",
              "      background-color: #E8F0FE;\n",
              "      border: none;\n",
              "      border-radius: 50%;\n",
              "      cursor: pointer;\n",
              "      display: none;\n",
              "      fill: #1967D2;\n",
              "      height: 32px;\n",
              "      padding: 0 0 0 0;\n",
              "      width: 32px;\n",
              "    }\n",
              "\n",
              "    .colab-df-convert:hover {\n",
              "      background-color: #E2EBFA;\n",
              "      box-shadow: 0px 1px 2px rgba(60, 64, 67, 0.3), 0px 1px 3px 1px rgba(60, 64, 67, 0.15);\n",
              "      fill: #174EA6;\n",
              "    }\n",
              "\n",
              "    .colab-df-buttons div {\n",
              "      margin-bottom: 4px;\n",
              "    }\n",
              "\n",
              "    [theme=dark] .colab-df-convert {\n",
              "      background-color: #3B4455;\n",
              "      fill: #D2E3FC;\n",
              "    }\n",
              "\n",
              "    [theme=dark] .colab-df-convert:hover {\n",
              "      background-color: #434B5C;\n",
              "      box-shadow: 0px 1px 3px 1px rgba(0, 0, 0, 0.15);\n",
              "      filter: drop-shadow(0px 1px 2px rgba(0, 0, 0, 0.3));\n",
              "      fill: #FFFFFF;\n",
              "    }\n",
              "  </style>\n",
              "\n",
              "    <script>\n",
              "      const buttonEl =\n",
              "        document.querySelector('#df-91eb3a99-fe77-40ec-8bc2-251fbc7b0ce1 button.colab-df-convert');\n",
              "      buttonEl.style.display =\n",
              "        google.colab.kernel.accessAllowed ? 'block' : 'none';\n",
              "\n",
              "      async function convertToInteractive(key) {\n",
              "        const element = document.querySelector('#df-91eb3a99-fe77-40ec-8bc2-251fbc7b0ce1');\n",
              "        const dataTable =\n",
              "          await google.colab.kernel.invokeFunction('convertToInteractive',\n",
              "                                                    [key], {});\n",
              "        if (!dataTable) return;\n",
              "\n",
              "        const docLinkHtml = 'Like what you see? Visit the ' +\n",
              "          '<a target=\"_blank\" href=https://colab.research.google.com/notebooks/data_table.ipynb>data table notebook</a>'\n",
              "          + ' to learn more about interactive tables.';\n",
              "        element.innerHTML = '';\n",
              "        dataTable['output_type'] = 'display_data';\n",
              "        await google.colab.output.renderOutput(dataTable, element);\n",
              "        const docLink = document.createElement('div');\n",
              "        docLink.innerHTML = docLinkHtml;\n",
              "        element.appendChild(docLink);\n",
              "      }\n",
              "    </script>\n",
              "  </div>\n",
              "\n",
              "\n",
              "<div id=\"df-0cc172ac-5e64-4a1d-a429-49315c94c4bb\">\n",
              "  <button class=\"colab-df-quickchart\" onclick=\"quickchart('df-0cc172ac-5e64-4a1d-a429-49315c94c4bb')\"\n",
              "            title=\"Suggest charts\"\n",
              "            style=\"display:none;\">\n",
              "\n",
              "<svg xmlns=\"http://www.w3.org/2000/svg\" height=\"24px\"viewBox=\"0 0 24 24\"\n",
              "     width=\"24px\">\n",
              "    <g>\n",
              "        <path d=\"M19 3H5c-1.1 0-2 .9-2 2v14c0 1.1.9 2 2 2h14c1.1 0 2-.9 2-2V5c0-1.1-.9-2-2-2zM9 17H7v-7h2v7zm4 0h-2V7h2v10zm4 0h-2v-4h2v4z\"/>\n",
              "    </g>\n",
              "</svg>\n",
              "  </button>\n",
              "\n",
              "<style>\n",
              "  .colab-df-quickchart {\n",
              "      --bg-color: #E8F0FE;\n",
              "      --fill-color: #1967D2;\n",
              "      --hover-bg-color: #E2EBFA;\n",
              "      --hover-fill-color: #174EA6;\n",
              "      --disabled-fill-color: #AAA;\n",
              "      --disabled-bg-color: #DDD;\n",
              "  }\n",
              "\n",
              "  [theme=dark] .colab-df-quickchart {\n",
              "      --bg-color: #3B4455;\n",
              "      --fill-color: #D2E3FC;\n",
              "      --hover-bg-color: #434B5C;\n",
              "      --hover-fill-color: #FFFFFF;\n",
              "      --disabled-bg-color: #3B4455;\n",
              "      --disabled-fill-color: #666;\n",
              "  }\n",
              "\n",
              "  .colab-df-quickchart {\n",
              "    background-color: var(--bg-color);\n",
              "    border: none;\n",
              "    border-radius: 50%;\n",
              "    cursor: pointer;\n",
              "    display: none;\n",
              "    fill: var(--fill-color);\n",
              "    height: 32px;\n",
              "    padding: 0;\n",
              "    width: 32px;\n",
              "  }\n",
              "\n",
              "  .colab-df-quickchart:hover {\n",
              "    background-color: var(--hover-bg-color);\n",
              "    box-shadow: 0 1px 2px rgba(60, 64, 67, 0.3), 0 1px 3px 1px rgba(60, 64, 67, 0.15);\n",
              "    fill: var(--button-hover-fill-color);\n",
              "  }\n",
              "\n",
              "  .colab-df-quickchart-complete:disabled,\n",
              "  .colab-df-quickchart-complete:disabled:hover {\n",
              "    background-color: var(--disabled-bg-color);\n",
              "    fill: var(--disabled-fill-color);\n",
              "    box-shadow: none;\n",
              "  }\n",
              "\n",
              "  .colab-df-spinner {\n",
              "    border: 2px solid var(--fill-color);\n",
              "    border-color: transparent;\n",
              "    border-bottom-color: var(--fill-color);\n",
              "    animation:\n",
              "      spin 1s steps(1) infinite;\n",
              "  }\n",
              "\n",
              "  @keyframes spin {\n",
              "    0% {\n",
              "      border-color: transparent;\n",
              "      border-bottom-color: var(--fill-color);\n",
              "      border-left-color: var(--fill-color);\n",
              "    }\n",
              "    20% {\n",
              "      border-color: transparent;\n",
              "      border-left-color: var(--fill-color);\n",
              "      border-top-color: var(--fill-color);\n",
              "    }\n",
              "    30% {\n",
              "      border-color: transparent;\n",
              "      border-left-color: var(--fill-color);\n",
              "      border-top-color: var(--fill-color);\n",
              "      border-right-color: var(--fill-color);\n",
              "    }\n",
              "    40% {\n",
              "      border-color: transparent;\n",
              "      border-right-color: var(--fill-color);\n",
              "      border-top-color: var(--fill-color);\n",
              "    }\n",
              "    60% {\n",
              "      border-color: transparent;\n",
              "      border-right-color: var(--fill-color);\n",
              "    }\n",
              "    80% {\n",
              "      border-color: transparent;\n",
              "      border-right-color: var(--fill-color);\n",
              "      border-bottom-color: var(--fill-color);\n",
              "    }\n",
              "    90% {\n",
              "      border-color: transparent;\n",
              "      border-bottom-color: var(--fill-color);\n",
              "    }\n",
              "  }\n",
              "</style>\n",
              "\n",
              "  <script>\n",
              "    async function quickchart(key) {\n",
              "      const quickchartButtonEl =\n",
              "        document.querySelector('#' + key + ' button');\n",
              "      quickchartButtonEl.disabled = true;  // To prevent multiple clicks.\n",
              "      quickchartButtonEl.classList.add('colab-df-spinner');\n",
              "      try {\n",
              "        const charts = await google.colab.kernel.invokeFunction(\n",
              "            'suggestCharts', [key], {});\n",
              "      } catch (error) {\n",
              "        console.error('Error during call to suggestCharts:', error);\n",
              "      }\n",
              "      quickchartButtonEl.classList.remove('colab-df-spinner');\n",
              "      quickchartButtonEl.classList.add('colab-df-quickchart-complete');\n",
              "    }\n",
              "    (() => {\n",
              "      let quickchartButtonEl =\n",
              "        document.querySelector('#df-0cc172ac-5e64-4a1d-a429-49315c94c4bb button');\n",
              "      quickchartButtonEl.style.display =\n",
              "        google.colab.kernel.accessAllowed ? 'block' : 'none';\n",
              "    })();\n",
              "  </script>\n",
              "</div>\n",
              "\n",
              "    </div>\n",
              "  </div>\n"
            ],
            "application/vnd.google.colaboratory.intrinsic+json": {
              "type": "dataframe",
              "variable_name": "pddf",
              "summary": "{\n  \"name\": \"pddf\",\n  \"rows\": 891,\n  \"fields\": [\n    {\n      \"column\": \"PassengerId\",\n      \"properties\": {\n        \"dtype\": \"number\",\n        \"std\": 257,\n        \"min\": 1,\n        \"max\": 891,\n        \"num_unique_values\": 891,\n        \"samples\": [\n          710,\n          440,\n          841\n        ],\n        \"semantic_type\": \"\",\n        \"description\": \"\"\n      }\n    },\n    {\n      \"column\": \"Survived\",\n      \"properties\": {\n        \"dtype\": \"number\",\n        \"std\": 0,\n        \"min\": 0,\n        \"max\": 1,\n        \"num_unique_values\": 2,\n        \"samples\": [\n          1,\n          0\n        ],\n        \"semantic_type\": \"\",\n        \"description\": \"\"\n      }\n    },\n    {\n      \"column\": \"Pclass\",\n      \"properties\": {\n        \"dtype\": \"number\",\n        \"std\": 0,\n        \"min\": 1,\n        \"max\": 3,\n        \"num_unique_values\": 3,\n        \"samples\": [\n          3,\n          1\n        ],\n        \"semantic_type\": \"\",\n        \"description\": \"\"\n      }\n    },\n    {\n      \"column\": \"Name\",\n      \"properties\": {\n        \"dtype\": \"string\",\n        \"num_unique_values\": 891,\n        \"samples\": [\n          \"Moubarek, Master. Halim Gonios (\\\"William George\\\")\",\n          \"Kvillner, Mr. Johan Henrik Johannesson\"\n        ],\n        \"semantic_type\": \"\",\n        \"description\": \"\"\n      }\n    },\n    {\n      \"column\": \"Sex\",\n      \"properties\": {\n        \"dtype\": \"category\",\n        \"num_unique_values\": 2,\n        \"samples\": [\n          \"female\",\n          \"male\"\n        ],\n        \"semantic_type\": \"\",\n        \"description\": \"\"\n      }\n    },\n    {\n      \"column\": \"Age\",\n      \"properties\": {\n        \"dtype\": \"number\",\n        \"std\": 14.526497332334042,\n        \"min\": 0.42,\n        \"max\": 80.0,\n        \"num_unique_values\": 88,\n        \"samples\": [\n          0.75,\n          22.0\n        ],\n        \"semantic_type\": \"\",\n        \"description\": \"\"\n      }\n    },\n    {\n      \"column\": \"SibSp\",\n      \"properties\": {\n        \"dtype\": \"number\",\n        \"std\": 1,\n        \"min\": 0,\n        \"max\": 8,\n        \"num_unique_values\": 7,\n        \"samples\": [\n          1,\n          0\n        ],\n        \"semantic_type\": \"\",\n        \"description\": \"\"\n      }\n    },\n    {\n      \"column\": \"Parch\",\n      \"properties\": {\n        \"dtype\": \"number\",\n        \"std\": 0,\n        \"min\": 0,\n        \"max\": 6,\n        \"num_unique_values\": 7,\n        \"samples\": [\n          0,\n          1\n        ],\n        \"semantic_type\": \"\",\n        \"description\": \"\"\n      }\n    },\n    {\n      \"column\": \"Ticket\",\n      \"properties\": {\n        \"dtype\": \"string\",\n        \"num_unique_values\": 681,\n        \"samples\": [\n          \"11774\",\n          \"248740\"\n        ],\n        \"semantic_type\": \"\",\n        \"description\": \"\"\n      }\n    },\n    {\n      \"column\": \"Fare\",\n      \"properties\": {\n        \"dtype\": \"number\",\n        \"std\": 49.6934285971809,\n        \"min\": 0.0,\n        \"max\": 512.3292,\n        \"num_unique_values\": 248,\n        \"samples\": [\n          11.2417,\n          51.8625\n        ],\n        \"semantic_type\": \"\",\n        \"description\": \"\"\n      }\n    },\n    {\n      \"column\": \"Cabin\",\n      \"properties\": {\n        \"dtype\": \"category\",\n        \"num_unique_values\": 147,\n        \"samples\": [\n          \"D45\",\n          \"B49\"\n        ],\n        \"semantic_type\": \"\",\n        \"description\": \"\"\n      }\n    },\n    {\n      \"column\": \"Embarked\",\n      \"properties\": {\n        \"dtype\": \"category\",\n        \"num_unique_values\": 3,\n        \"samples\": [\n          \"S\",\n          \"C\"\n        ],\n        \"semantic_type\": \"\",\n        \"description\": \"\"\n      }\n    }\n  ]\n}"
            }
          },
          "metadata": {},
          "execution_count": 13
        }
      ]
    },
    {
      "cell_type": "code",
      "source": [
        "len(pddf)"
      ],
      "metadata": {
        "id": "toPQsui9ZBLP",
        "outputId": "6b405951-68ab-4083-f7bd-9a1824f81f8c",
        "colab": {
          "base_uri": "https://localhost:8080/"
        }
      },
      "execution_count": null,
      "outputs": [
        {
          "output_type": "execute_result",
          "data": {
            "text/plain": [
              "891"
            ]
          },
          "metadata": {},
          "execution_count": 63
        }
      ]
    },
    {
      "cell_type": "code",
      "source": [
        "pddf.shape"
      ],
      "metadata": {
        "id": "qewt5F4gZEjw",
        "outputId": "17e7e130-babb-452a-cec3-8904874bbae3",
        "colab": {
          "base_uri": "https://localhost:8080/"
        }
      },
      "execution_count": 17,
      "outputs": [
        {
          "output_type": "execute_result",
          "data": {
            "text/plain": [
              "(891, 12)"
            ]
          },
          "metadata": {},
          "execution_count": 17
        }
      ]
    },
    {
      "cell_type": "code",
      "source": [
        "pddf.columns"
      ],
      "metadata": {
        "id": "_r4L-CX6ZJsX",
        "outputId": "0857dc79-96f5-429d-8d8c-fa1b8bdcfe61",
        "colab": {
          "base_uri": "https://localhost:8080/"
        }
      },
      "execution_count": 16,
      "outputs": [
        {
          "output_type": "execute_result",
          "data": {
            "text/plain": [
              "Index(['PassengerId', 'Survived', 'Pclass', 'Name', 'Sex', 'Age', 'SibSp',\n",
              "       'Parch', 'Ticket', 'Fare', 'Cabin', 'Embarked'],\n",
              "      dtype='object')"
            ]
          },
          "metadata": {},
          "execution_count": 16
        }
      ]
    },
    {
      "cell_type": "code",
      "source": [
        "pddf.dtypes"
      ],
      "metadata": {
        "id": "G0Rvxvw2ZV8V",
        "outputId": "bc73b4c3-0235-4ebb-d461-392bb5797940",
        "colab": {
          "base_uri": "https://localhost:8080/"
        }
      },
      "execution_count": null,
      "outputs": [
        {
          "output_type": "execute_result",
          "data": {
            "text/plain": [
              "PassengerId      int64\n",
              "Survived         int64\n",
              "Pclass           int64\n",
              "Name            object\n",
              "Sex             object\n",
              "Age            float64\n",
              "SibSp            int64\n",
              "Parch            int64\n",
              "Ticket          object\n",
              "Fare           float64\n",
              "Cabin           object\n",
              "Embarked        object\n",
              "dtype: object"
            ]
          },
          "metadata": {},
          "execution_count": 67
        }
      ]
    },
    {
      "cell_type": "code",
      "source": [
        "type(pddf)"
      ],
      "metadata": {
        "id": "dR05l47TZ3ys",
        "outputId": "e733e19e-aa08-497c-aa7c-6be0853d679b",
        "colab": {
          "base_uri": "https://localhost:8080/",
          "height": 203
        }
      },
      "execution_count": 15,
      "outputs": [
        {
          "output_type": "execute_result",
          "data": {
            "text/plain": [
              "pandas.core.frame.DataFrame"
            ],
            "text/html": [
              "<div style=\"max-width:800px; border: 1px solid var(--colab-border-color);\"><style>\n",
              "      pre.function-repr-contents {\n",
              "        overflow-x: auto;\n",
              "        padding: 8px 12px;\n",
              "        max-height: 500px;\n",
              "      }\n",
              "\n",
              "      pre.function-repr-contents.function-repr-contents-collapsed {\n",
              "        cursor: pointer;\n",
              "        max-height: 100px;\n",
              "      }\n",
              "    </style>\n",
              "    <pre style=\"white-space: initial; background:\n",
              "         var(--colab-secondary-surface-color); padding: 8px 12px;\n",
              "         border-bottom: 1px solid var(--colab-border-color);\"><b>pandas.core.frame.DataFrame</b><br/>def __init__(data=None, index: Axes | None=None, columns: Axes | None=None, dtype: Dtype | None=None, copy: bool | None=None) -&gt; None</pre><pre class=\"function-repr-contents function-repr-contents-collapsed\" style=\"\"><a class=\"filepath\" style=\"display:none\" href=\"#\">/usr/local/lib/python3.10/dist-packages/pandas/core/frame.py</a>Two-dimensional, size-mutable, potentially heterogeneous tabular data.\n",
              "\n",
              "Data structure also contains labeled axes (rows and columns).\n",
              "Arithmetic operations align on both row and column labels. Can be\n",
              "thought of as a dict-like container for Series objects. The primary\n",
              "pandas data structure.\n",
              "\n",
              "Parameters\n",
              "----------\n",
              "data : ndarray (structured or homogeneous), Iterable, dict, or DataFrame\n",
              "    Dict can contain Series, arrays, constants, dataclass or list-like objects. If\n",
              "    data is a dict, column order follows insertion-order. If a dict contains Series\n",
              "    which have an index defined, it is aligned by its index. This alignment also\n",
              "    occurs if data is a Series or a DataFrame itself. Alignment is done on\n",
              "    Series/DataFrame inputs.\n",
              "\n",
              "    If data is a list of dicts, column order follows insertion-order.\n",
              "\n",
              "index : Index or array-like\n",
              "    Index to use for resulting frame. Will default to RangeIndex if\n",
              "    no indexing information part of input data and no index provided.\n",
              "columns : Index or array-like\n",
              "    Column labels to use for resulting frame when data does not have them,\n",
              "    defaulting to RangeIndex(0, 1, 2, ..., n). If data contains column labels,\n",
              "    will perform column selection instead.\n",
              "dtype : dtype, default None\n",
              "    Data type to force. Only a single dtype is allowed. If None, infer.\n",
              "copy : bool or None, default None\n",
              "    Copy data from inputs.\n",
              "    For dict data, the default of None behaves like ``copy=True``.  For DataFrame\n",
              "    or 2d ndarray input, the default of None behaves like ``copy=False``.\n",
              "    If data is a dict containing one or more Series (possibly of different dtypes),\n",
              "    ``copy=False`` will ensure that these inputs are not copied.\n",
              "\n",
              "    .. versionchanged:: 1.3.0\n",
              "\n",
              "See Also\n",
              "--------\n",
              "DataFrame.from_records : Constructor from tuples, also record arrays.\n",
              "DataFrame.from_dict : From dicts of Series, arrays, or dicts.\n",
              "read_csv : Read a comma-separated values (csv) file into DataFrame.\n",
              "read_table : Read general delimited file into DataFrame.\n",
              "read_clipboard : Read text from clipboard into DataFrame.\n",
              "\n",
              "Notes\n",
              "-----\n",
              "Please reference the :ref:`User Guide &lt;basics.dataframe&gt;` for more information.\n",
              "\n",
              "Examples\n",
              "--------\n",
              "Constructing DataFrame from a dictionary.\n",
              "\n",
              "&gt;&gt;&gt; d = {&#x27;col1&#x27;: [1, 2], &#x27;col2&#x27;: [3, 4]}\n",
              "&gt;&gt;&gt; df = pd.DataFrame(data=d)\n",
              "&gt;&gt;&gt; df\n",
              "   col1  col2\n",
              "0     1     3\n",
              "1     2     4\n",
              "\n",
              "Notice that the inferred dtype is int64.\n",
              "\n",
              "&gt;&gt;&gt; df.dtypes\n",
              "col1    int64\n",
              "col2    int64\n",
              "dtype: object\n",
              "\n",
              "To enforce a single dtype:\n",
              "\n",
              "&gt;&gt;&gt; df = pd.DataFrame(data=d, dtype=np.int8)\n",
              "&gt;&gt;&gt; df.dtypes\n",
              "col1    int8\n",
              "col2    int8\n",
              "dtype: object\n",
              "\n",
              "Constructing DataFrame from a dictionary including Series:\n",
              "\n",
              "&gt;&gt;&gt; d = {&#x27;col1&#x27;: [0, 1, 2, 3], &#x27;col2&#x27;: pd.Series([2, 3], index=[2, 3])}\n",
              "&gt;&gt;&gt; pd.DataFrame(data=d, index=[0, 1, 2, 3])\n",
              "   col1  col2\n",
              "0     0   NaN\n",
              "1     1   NaN\n",
              "2     2   2.0\n",
              "3     3   3.0\n",
              "\n",
              "Constructing DataFrame from numpy ndarray:\n",
              "\n",
              "&gt;&gt;&gt; df2 = pd.DataFrame(np.array([[1, 2, 3], [4, 5, 6], [7, 8, 9]]),\n",
              "...                    columns=[&#x27;a&#x27;, &#x27;b&#x27;, &#x27;c&#x27;])\n",
              "&gt;&gt;&gt; df2\n",
              "   a  b  c\n",
              "0  1  2  3\n",
              "1  4  5  6\n",
              "2  7  8  9\n",
              "\n",
              "Constructing DataFrame from a numpy ndarray that has labeled columns:\n",
              "\n",
              "&gt;&gt;&gt; data = np.array([(1, 2, 3), (4, 5, 6), (7, 8, 9)],\n",
              "...                 dtype=[(&quot;a&quot;, &quot;i4&quot;), (&quot;b&quot;, &quot;i4&quot;), (&quot;c&quot;, &quot;i4&quot;)])\n",
              "&gt;&gt;&gt; df3 = pd.DataFrame(data, columns=[&#x27;c&#x27;, &#x27;a&#x27;])\n",
              "...\n",
              "&gt;&gt;&gt; df3\n",
              "   c  a\n",
              "0  3  1\n",
              "1  6  4\n",
              "2  9  7\n",
              "\n",
              "Constructing DataFrame from dataclass:\n",
              "\n",
              "&gt;&gt;&gt; from dataclasses import make_dataclass\n",
              "&gt;&gt;&gt; Point = make_dataclass(&quot;Point&quot;, [(&quot;x&quot;, int), (&quot;y&quot;, int)])\n",
              "&gt;&gt;&gt; pd.DataFrame([Point(0, 0), Point(0, 3), Point(2, 3)])\n",
              "   x  y\n",
              "0  0  0\n",
              "1  0  3\n",
              "2  2  3\n",
              "\n",
              "Constructing DataFrame from Series/DataFrame:\n",
              "\n",
              "&gt;&gt;&gt; ser = pd.Series([1, 2, 3], index=[&quot;a&quot;, &quot;b&quot;, &quot;c&quot;])\n",
              "&gt;&gt;&gt; df = pd.DataFrame(data=ser, index=[&quot;a&quot;, &quot;c&quot;])\n",
              "&gt;&gt;&gt; df\n",
              "   0\n",
              "a  1\n",
              "c  3\n",
              "\n",
              "&gt;&gt;&gt; df1 = pd.DataFrame([1, 2, 3], index=[&quot;a&quot;, &quot;b&quot;, &quot;c&quot;], columns=[&quot;x&quot;])\n",
              "&gt;&gt;&gt; df2 = pd.DataFrame(data=df1, index=[&quot;a&quot;, &quot;c&quot;])\n",
              "&gt;&gt;&gt; df2\n",
              "   x\n",
              "a  1\n",
              "c  3</pre>\n",
              "      <script>\n",
              "      if (google.colab.kernel.accessAllowed && google.colab.files && google.colab.files.view) {\n",
              "        for (const element of document.querySelectorAll('.filepath')) {\n",
              "          element.style.display = 'block'\n",
              "          element.onclick = (event) => {\n",
              "            event.preventDefault();\n",
              "            event.stopPropagation();\n",
              "            google.colab.files.view(element.textContent, 490);\n",
              "          };\n",
              "        }\n",
              "      }\n",
              "      for (const element of document.querySelectorAll('.function-repr-contents')) {\n",
              "        element.onclick = (event) => {\n",
              "          event.preventDefault();\n",
              "          event.stopPropagation();\n",
              "          element.classList.toggle('function-repr-contents-collapsed');\n",
              "        };\n",
              "      }\n",
              "      </script>\n",
              "      </div>"
            ]
          },
          "metadata": {},
          "execution_count": 15
        }
      ]
    },
    {
      "cell_type": "code",
      "source": [
        "len(pddf)"
      ],
      "metadata": {
        "id": "dp5H3koXXxFJ",
        "outputId": "173e7e78-b218-43cb-f8b5-9384b503596b",
        "colab": {
          "base_uri": "https://localhost:8080/"
        }
      },
      "execution_count": 21,
      "outputs": [
        {
          "output_type": "execute_result",
          "data": {
            "text/plain": [
              "891"
            ]
          },
          "metadata": {},
          "execution_count": 21
        }
      ]
    },
    {
      "cell_type": "code",
      "source": [
        "pddf.describe()\n",
        "# count: cuenta las observaciones no vacias de la columna"
      ],
      "metadata": {
        "id": "ukYjGYvpYc6f",
        "outputId": "9b4b350a-4a26-4b5e-973f-c7baad6db97f",
        "colab": {
          "base_uri": "https://localhost:8080/",
          "height": 300
        }
      },
      "execution_count": 18,
      "outputs": [
        {
          "output_type": "execute_result",
          "data": {
            "text/plain": [
              "       PassengerId    Survived      Pclass         Age       SibSp  \\\n",
              "count   891.000000  891.000000  891.000000  714.000000  891.000000   \n",
              "mean    446.000000    0.383838    2.308642   29.699118    0.523008   \n",
              "std     257.353842    0.486592    0.836071   14.526497    1.102743   \n",
              "min       1.000000    0.000000    1.000000    0.420000    0.000000   \n",
              "25%     223.500000    0.000000    2.000000   20.125000    0.000000   \n",
              "50%     446.000000    0.000000    3.000000   28.000000    0.000000   \n",
              "75%     668.500000    1.000000    3.000000   38.000000    1.000000   \n",
              "max     891.000000    1.000000    3.000000   80.000000    8.000000   \n",
              "\n",
              "            Parch        Fare  \n",
              "count  891.000000  891.000000  \n",
              "mean     0.381594   32.204208  \n",
              "std      0.806057   49.693429  \n",
              "min      0.000000    0.000000  \n",
              "25%      0.000000    7.910400  \n",
              "50%      0.000000   14.454200  \n",
              "75%      0.000000   31.000000  \n",
              "max      6.000000  512.329200  "
            ],
            "text/html": [
              "\n",
              "  <div id=\"df-b0155439-61df-45d1-83c5-f79f3a13161b\" class=\"colab-df-container\">\n",
              "    <div>\n",
              "<style scoped>\n",
              "    .dataframe tbody tr th:only-of-type {\n",
              "        vertical-align: middle;\n",
              "    }\n",
              "\n",
              "    .dataframe tbody tr th {\n",
              "        vertical-align: top;\n",
              "    }\n",
              "\n",
              "    .dataframe thead th {\n",
              "        text-align: right;\n",
              "    }\n",
              "</style>\n",
              "<table border=\"1\" class=\"dataframe\">\n",
              "  <thead>\n",
              "    <tr style=\"text-align: right;\">\n",
              "      <th></th>\n",
              "      <th>PassengerId</th>\n",
              "      <th>Survived</th>\n",
              "      <th>Pclass</th>\n",
              "      <th>Age</th>\n",
              "      <th>SibSp</th>\n",
              "      <th>Parch</th>\n",
              "      <th>Fare</th>\n",
              "    </tr>\n",
              "  </thead>\n",
              "  <tbody>\n",
              "    <tr>\n",
              "      <th>count</th>\n",
              "      <td>891.000000</td>\n",
              "      <td>891.000000</td>\n",
              "      <td>891.000000</td>\n",
              "      <td>714.000000</td>\n",
              "      <td>891.000000</td>\n",
              "      <td>891.000000</td>\n",
              "      <td>891.000000</td>\n",
              "    </tr>\n",
              "    <tr>\n",
              "      <th>mean</th>\n",
              "      <td>446.000000</td>\n",
              "      <td>0.383838</td>\n",
              "      <td>2.308642</td>\n",
              "      <td>29.699118</td>\n",
              "      <td>0.523008</td>\n",
              "      <td>0.381594</td>\n",
              "      <td>32.204208</td>\n",
              "    </tr>\n",
              "    <tr>\n",
              "      <th>std</th>\n",
              "      <td>257.353842</td>\n",
              "      <td>0.486592</td>\n",
              "      <td>0.836071</td>\n",
              "      <td>14.526497</td>\n",
              "      <td>1.102743</td>\n",
              "      <td>0.806057</td>\n",
              "      <td>49.693429</td>\n",
              "    </tr>\n",
              "    <tr>\n",
              "      <th>min</th>\n",
              "      <td>1.000000</td>\n",
              "      <td>0.000000</td>\n",
              "      <td>1.000000</td>\n",
              "      <td>0.420000</td>\n",
              "      <td>0.000000</td>\n",
              "      <td>0.000000</td>\n",
              "      <td>0.000000</td>\n",
              "    </tr>\n",
              "    <tr>\n",
              "      <th>25%</th>\n",
              "      <td>223.500000</td>\n",
              "      <td>0.000000</td>\n",
              "      <td>2.000000</td>\n",
              "      <td>20.125000</td>\n",
              "      <td>0.000000</td>\n",
              "      <td>0.000000</td>\n",
              "      <td>7.910400</td>\n",
              "    </tr>\n",
              "    <tr>\n",
              "      <th>50%</th>\n",
              "      <td>446.000000</td>\n",
              "      <td>0.000000</td>\n",
              "      <td>3.000000</td>\n",
              "      <td>28.000000</td>\n",
              "      <td>0.000000</td>\n",
              "      <td>0.000000</td>\n",
              "      <td>14.454200</td>\n",
              "    </tr>\n",
              "    <tr>\n",
              "      <th>75%</th>\n",
              "      <td>668.500000</td>\n",
              "      <td>1.000000</td>\n",
              "      <td>3.000000</td>\n",
              "      <td>38.000000</td>\n",
              "      <td>1.000000</td>\n",
              "      <td>0.000000</td>\n",
              "      <td>31.000000</td>\n",
              "    </tr>\n",
              "    <tr>\n",
              "      <th>max</th>\n",
              "      <td>891.000000</td>\n",
              "      <td>1.000000</td>\n",
              "      <td>3.000000</td>\n",
              "      <td>80.000000</td>\n",
              "      <td>8.000000</td>\n",
              "      <td>6.000000</td>\n",
              "      <td>512.329200</td>\n",
              "    </tr>\n",
              "  </tbody>\n",
              "</table>\n",
              "</div>\n",
              "    <div class=\"colab-df-buttons\">\n",
              "\n",
              "  <div class=\"colab-df-container\">\n",
              "    <button class=\"colab-df-convert\" onclick=\"convertToInteractive('df-b0155439-61df-45d1-83c5-f79f3a13161b')\"\n",
              "            title=\"Convert this dataframe to an interactive table.\"\n",
              "            style=\"display:none;\">\n",
              "\n",
              "  <svg xmlns=\"http://www.w3.org/2000/svg\" height=\"24px\" viewBox=\"0 -960 960 960\">\n",
              "    <path d=\"M120-120v-720h720v720H120Zm60-500h600v-160H180v160Zm220 220h160v-160H400v160Zm0 220h160v-160H400v160ZM180-400h160v-160H180v160Zm440 0h160v-160H620v160ZM180-180h160v-160H180v160Zm440 0h160v-160H620v160Z\"/>\n",
              "  </svg>\n",
              "    </button>\n",
              "\n",
              "  <style>\n",
              "    .colab-df-container {\n",
              "      display:flex;\n",
              "      gap: 12px;\n",
              "    }\n",
              "\n",
              "    .colab-df-convert {\n",
              "      background-color: #E8F0FE;\n",
              "      border: none;\n",
              "      border-radius: 50%;\n",
              "      cursor: pointer;\n",
              "      display: none;\n",
              "      fill: #1967D2;\n",
              "      height: 32px;\n",
              "      padding: 0 0 0 0;\n",
              "      width: 32px;\n",
              "    }\n",
              "\n",
              "    .colab-df-convert:hover {\n",
              "      background-color: #E2EBFA;\n",
              "      box-shadow: 0px 1px 2px rgba(60, 64, 67, 0.3), 0px 1px 3px 1px rgba(60, 64, 67, 0.15);\n",
              "      fill: #174EA6;\n",
              "    }\n",
              "\n",
              "    .colab-df-buttons div {\n",
              "      margin-bottom: 4px;\n",
              "    }\n",
              "\n",
              "    [theme=dark] .colab-df-convert {\n",
              "      background-color: #3B4455;\n",
              "      fill: #D2E3FC;\n",
              "    }\n",
              "\n",
              "    [theme=dark] .colab-df-convert:hover {\n",
              "      background-color: #434B5C;\n",
              "      box-shadow: 0px 1px 3px 1px rgba(0, 0, 0, 0.15);\n",
              "      filter: drop-shadow(0px 1px 2px rgba(0, 0, 0, 0.3));\n",
              "      fill: #FFFFFF;\n",
              "    }\n",
              "  </style>\n",
              "\n",
              "    <script>\n",
              "      const buttonEl =\n",
              "        document.querySelector('#df-b0155439-61df-45d1-83c5-f79f3a13161b button.colab-df-convert');\n",
              "      buttonEl.style.display =\n",
              "        google.colab.kernel.accessAllowed ? 'block' : 'none';\n",
              "\n",
              "      async function convertToInteractive(key) {\n",
              "        const element = document.querySelector('#df-b0155439-61df-45d1-83c5-f79f3a13161b');\n",
              "        const dataTable =\n",
              "          await google.colab.kernel.invokeFunction('convertToInteractive',\n",
              "                                                    [key], {});\n",
              "        if (!dataTable) return;\n",
              "\n",
              "        const docLinkHtml = 'Like what you see? Visit the ' +\n",
              "          '<a target=\"_blank\" href=https://colab.research.google.com/notebooks/data_table.ipynb>data table notebook</a>'\n",
              "          + ' to learn more about interactive tables.';\n",
              "        element.innerHTML = '';\n",
              "        dataTable['output_type'] = 'display_data';\n",
              "        await google.colab.output.renderOutput(dataTable, element);\n",
              "        const docLink = document.createElement('div');\n",
              "        docLink.innerHTML = docLinkHtml;\n",
              "        element.appendChild(docLink);\n",
              "      }\n",
              "    </script>\n",
              "  </div>\n",
              "\n",
              "\n",
              "<div id=\"df-8a63f60a-8c87-4586-89d4-be37fe0b63e5\">\n",
              "  <button class=\"colab-df-quickchart\" onclick=\"quickchart('df-8a63f60a-8c87-4586-89d4-be37fe0b63e5')\"\n",
              "            title=\"Suggest charts\"\n",
              "            style=\"display:none;\">\n",
              "\n",
              "<svg xmlns=\"http://www.w3.org/2000/svg\" height=\"24px\"viewBox=\"0 0 24 24\"\n",
              "     width=\"24px\">\n",
              "    <g>\n",
              "        <path d=\"M19 3H5c-1.1 0-2 .9-2 2v14c0 1.1.9 2 2 2h14c1.1 0 2-.9 2-2V5c0-1.1-.9-2-2-2zM9 17H7v-7h2v7zm4 0h-2V7h2v10zm4 0h-2v-4h2v4z\"/>\n",
              "    </g>\n",
              "</svg>\n",
              "  </button>\n",
              "\n",
              "<style>\n",
              "  .colab-df-quickchart {\n",
              "      --bg-color: #E8F0FE;\n",
              "      --fill-color: #1967D2;\n",
              "      --hover-bg-color: #E2EBFA;\n",
              "      --hover-fill-color: #174EA6;\n",
              "      --disabled-fill-color: #AAA;\n",
              "      --disabled-bg-color: #DDD;\n",
              "  }\n",
              "\n",
              "  [theme=dark] .colab-df-quickchart {\n",
              "      --bg-color: #3B4455;\n",
              "      --fill-color: #D2E3FC;\n",
              "      --hover-bg-color: #434B5C;\n",
              "      --hover-fill-color: #FFFFFF;\n",
              "      --disabled-bg-color: #3B4455;\n",
              "      --disabled-fill-color: #666;\n",
              "  }\n",
              "\n",
              "  .colab-df-quickchart {\n",
              "    background-color: var(--bg-color);\n",
              "    border: none;\n",
              "    border-radius: 50%;\n",
              "    cursor: pointer;\n",
              "    display: none;\n",
              "    fill: var(--fill-color);\n",
              "    height: 32px;\n",
              "    padding: 0;\n",
              "    width: 32px;\n",
              "  }\n",
              "\n",
              "  .colab-df-quickchart:hover {\n",
              "    background-color: var(--hover-bg-color);\n",
              "    box-shadow: 0 1px 2px rgba(60, 64, 67, 0.3), 0 1px 3px 1px rgba(60, 64, 67, 0.15);\n",
              "    fill: var(--button-hover-fill-color);\n",
              "  }\n",
              "\n",
              "  .colab-df-quickchart-complete:disabled,\n",
              "  .colab-df-quickchart-complete:disabled:hover {\n",
              "    background-color: var(--disabled-bg-color);\n",
              "    fill: var(--disabled-fill-color);\n",
              "    box-shadow: none;\n",
              "  }\n",
              "\n",
              "  .colab-df-spinner {\n",
              "    border: 2px solid var(--fill-color);\n",
              "    border-color: transparent;\n",
              "    border-bottom-color: var(--fill-color);\n",
              "    animation:\n",
              "      spin 1s steps(1) infinite;\n",
              "  }\n",
              "\n",
              "  @keyframes spin {\n",
              "    0% {\n",
              "      border-color: transparent;\n",
              "      border-bottom-color: var(--fill-color);\n",
              "      border-left-color: var(--fill-color);\n",
              "    }\n",
              "    20% {\n",
              "      border-color: transparent;\n",
              "      border-left-color: var(--fill-color);\n",
              "      border-top-color: var(--fill-color);\n",
              "    }\n",
              "    30% {\n",
              "      border-color: transparent;\n",
              "      border-left-color: var(--fill-color);\n",
              "      border-top-color: var(--fill-color);\n",
              "      border-right-color: var(--fill-color);\n",
              "    }\n",
              "    40% {\n",
              "      border-color: transparent;\n",
              "      border-right-color: var(--fill-color);\n",
              "      border-top-color: var(--fill-color);\n",
              "    }\n",
              "    60% {\n",
              "      border-color: transparent;\n",
              "      border-right-color: var(--fill-color);\n",
              "    }\n",
              "    80% {\n",
              "      border-color: transparent;\n",
              "      border-right-color: var(--fill-color);\n",
              "      border-bottom-color: var(--fill-color);\n",
              "    }\n",
              "    90% {\n",
              "      border-color: transparent;\n",
              "      border-bottom-color: var(--fill-color);\n",
              "    }\n",
              "  }\n",
              "</style>\n",
              "\n",
              "  <script>\n",
              "    async function quickchart(key) {\n",
              "      const quickchartButtonEl =\n",
              "        document.querySelector('#' + key + ' button');\n",
              "      quickchartButtonEl.disabled = true;  // To prevent multiple clicks.\n",
              "      quickchartButtonEl.classList.add('colab-df-spinner');\n",
              "      try {\n",
              "        const charts = await google.colab.kernel.invokeFunction(\n",
              "            'suggestCharts', [key], {});\n",
              "      } catch (error) {\n",
              "        console.error('Error during call to suggestCharts:', error);\n",
              "      }\n",
              "      quickchartButtonEl.classList.remove('colab-df-spinner');\n",
              "      quickchartButtonEl.classList.add('colab-df-quickchart-complete');\n",
              "    }\n",
              "    (() => {\n",
              "      let quickchartButtonEl =\n",
              "        document.querySelector('#df-8a63f60a-8c87-4586-89d4-be37fe0b63e5 button');\n",
              "      quickchartButtonEl.style.display =\n",
              "        google.colab.kernel.accessAllowed ? 'block' : 'none';\n",
              "    })();\n",
              "  </script>\n",
              "</div>\n",
              "\n",
              "    </div>\n",
              "  </div>\n"
            ],
            "application/vnd.google.colaboratory.intrinsic+json": {
              "type": "dataframe",
              "summary": "{\n  \"name\": \"# count: cuenta las observaciones no vacias de la columna\",\n  \"rows\": 8,\n  \"fields\": [\n    {\n      \"column\": \"PassengerId\",\n      \"properties\": {\n        \"dtype\": \"number\",\n        \"std\": 320.8159711429855,\n        \"min\": 1.0,\n        \"max\": 891.0,\n        \"num_unique_values\": 6,\n        \"samples\": [\n          891.0,\n          446.0,\n          668.5\n        ],\n        \"semantic_type\": \"\",\n        \"description\": \"\"\n      }\n    },\n    {\n      \"column\": \"Survived\",\n      \"properties\": {\n        \"dtype\": \"number\",\n        \"std\": 314.8713661874558,\n        \"min\": 0.0,\n        \"max\": 891.0,\n        \"num_unique_values\": 5,\n        \"samples\": [\n          0.3838383838383838,\n          1.0,\n          0.4865924542648575\n        ],\n        \"semantic_type\": \"\",\n        \"description\": \"\"\n      }\n    },\n    {\n      \"column\": \"Pclass\",\n      \"properties\": {\n        \"dtype\": \"number\",\n        \"std\": 314.2523437079694,\n        \"min\": 0.836071240977049,\n        \"max\": 891.0,\n        \"num_unique_values\": 6,\n        \"samples\": [\n          891.0,\n          2.308641975308642,\n          3.0\n        ],\n        \"semantic_type\": \"\",\n        \"description\": \"\"\n      }\n    },\n    {\n      \"column\": \"Age\",\n      \"properties\": {\n        \"dtype\": \"number\",\n        \"std\": 242.9056731818781,\n        \"min\": 0.42,\n        \"max\": 714.0,\n        \"num_unique_values\": 8,\n        \"samples\": [\n          29.69911764705882,\n          28.0,\n          714.0\n        ],\n        \"semantic_type\": \"\",\n        \"description\": \"\"\n      }\n    },\n    {\n      \"column\": \"SibSp\",\n      \"properties\": {\n        \"dtype\": \"number\",\n        \"std\": 314.4908277465442,\n        \"min\": 0.0,\n        \"max\": 891.0,\n        \"num_unique_values\": 6,\n        \"samples\": [\n          891.0,\n          0.5230078563411896,\n          8.0\n        ],\n        \"semantic_type\": \"\",\n        \"description\": \"\"\n      }\n    },\n    {\n      \"column\": \"Parch\",\n      \"properties\": {\n        \"dtype\": \"number\",\n        \"std\": 314.65971717879,\n        \"min\": 0.0,\n        \"max\": 891.0,\n        \"num_unique_values\": 5,\n        \"samples\": [\n          0.38159371492704824,\n          6.0,\n          0.8060572211299483\n        ],\n        \"semantic_type\": \"\",\n        \"description\": \"\"\n      }\n    },\n    {\n      \"column\": \"Fare\",\n      \"properties\": {\n        \"dtype\": \"number\",\n        \"std\": 330.6256632228578,\n        \"min\": 0.0,\n        \"max\": 891.0,\n        \"num_unique_values\": 8,\n        \"samples\": [\n          32.204207968574636,\n          14.4542,\n          891.0\n        ],\n        \"semantic_type\": \"\",\n        \"description\": \"\"\n      }\n    }\n  ]\n}"
            }
          },
          "metadata": {},
          "execution_count": 18
        }
      ]
    },
    {
      "cell_type": "code",
      "source": [
        "pddf[['sex','Age']]"
      ],
      "metadata": {
        "id": "nnl53lgFinCl",
        "outputId": "0f078f07-b0c2-4e4b-89b0-b66a629f2ea3",
        "colab": {
          "base_uri": "https://localhost:8080/",
          "height": 287
        }
      },
      "execution_count": 23,
      "outputs": [
        {
          "output_type": "error",
          "ename": "KeyError",
          "evalue": "\"['sex'] not in index\"",
          "traceback": [
            "\u001b[0;31m---------------------------------------------------------------------------\u001b[0m",
            "\u001b[0;31mKeyError\u001b[0m                                  Traceback (most recent call last)",
            "\u001b[0;32m<ipython-input-23-9624eaa31bfc>\u001b[0m in \u001b[0;36m<cell line: 1>\u001b[0;34m()\u001b[0m\n\u001b[0;32m----> 1\u001b[0;31m \u001b[0mpddf\u001b[0m\u001b[0;34m[\u001b[0m\u001b[0;34m[\u001b[0m\u001b[0;34m'sex'\u001b[0m\u001b[0;34m,\u001b[0m\u001b[0;34m'Age'\u001b[0m\u001b[0;34m]\u001b[0m\u001b[0;34m]\u001b[0m\u001b[0;34m\u001b[0m\u001b[0;34m\u001b[0m\u001b[0m\n\u001b[0m",
            "\u001b[0;32m/usr/local/lib/python3.10/dist-packages/pandas/core/frame.py\u001b[0m in \u001b[0;36m__getitem__\u001b[0;34m(self, key)\u001b[0m\n\u001b[1;32m   3765\u001b[0m             \u001b[0;32mif\u001b[0m \u001b[0mis_iterator\u001b[0m\u001b[0;34m(\u001b[0m\u001b[0mkey\u001b[0m\u001b[0;34m)\u001b[0m\u001b[0;34m:\u001b[0m\u001b[0;34m\u001b[0m\u001b[0;34m\u001b[0m\u001b[0m\n\u001b[1;32m   3766\u001b[0m                 \u001b[0mkey\u001b[0m \u001b[0;34m=\u001b[0m \u001b[0mlist\u001b[0m\u001b[0;34m(\u001b[0m\u001b[0mkey\u001b[0m\u001b[0;34m)\u001b[0m\u001b[0;34m\u001b[0m\u001b[0;34m\u001b[0m\u001b[0m\n\u001b[0;32m-> 3767\u001b[0;31m             \u001b[0mindexer\u001b[0m \u001b[0;34m=\u001b[0m \u001b[0mself\u001b[0m\u001b[0;34m.\u001b[0m\u001b[0mcolumns\u001b[0m\u001b[0;34m.\u001b[0m\u001b[0m_get_indexer_strict\u001b[0m\u001b[0;34m(\u001b[0m\u001b[0mkey\u001b[0m\u001b[0;34m,\u001b[0m \u001b[0;34m\"columns\"\u001b[0m\u001b[0;34m)\u001b[0m\u001b[0;34m[\u001b[0m\u001b[0;36m1\u001b[0m\u001b[0;34m]\u001b[0m\u001b[0;34m\u001b[0m\u001b[0;34m\u001b[0m\u001b[0m\n\u001b[0m\u001b[1;32m   3768\u001b[0m \u001b[0;34m\u001b[0m\u001b[0m\n\u001b[1;32m   3769\u001b[0m         \u001b[0;31m# take() does not accept boolean indexers\u001b[0m\u001b[0;34m\u001b[0m\u001b[0;34m\u001b[0m\u001b[0m\n",
            "\u001b[0;32m/usr/local/lib/python3.10/dist-packages/pandas/core/indexes/base.py\u001b[0m in \u001b[0;36m_get_indexer_strict\u001b[0;34m(self, key, axis_name)\u001b[0m\n\u001b[1;32m   5875\u001b[0m             \u001b[0mkeyarr\u001b[0m\u001b[0;34m,\u001b[0m \u001b[0mindexer\u001b[0m\u001b[0;34m,\u001b[0m \u001b[0mnew_indexer\u001b[0m \u001b[0;34m=\u001b[0m \u001b[0mself\u001b[0m\u001b[0;34m.\u001b[0m\u001b[0m_reindex_non_unique\u001b[0m\u001b[0;34m(\u001b[0m\u001b[0mkeyarr\u001b[0m\u001b[0;34m)\u001b[0m\u001b[0;34m\u001b[0m\u001b[0;34m\u001b[0m\u001b[0m\n\u001b[1;32m   5876\u001b[0m \u001b[0;34m\u001b[0m\u001b[0m\n\u001b[0;32m-> 5877\u001b[0;31m         \u001b[0mself\u001b[0m\u001b[0;34m.\u001b[0m\u001b[0m_raise_if_missing\u001b[0m\u001b[0;34m(\u001b[0m\u001b[0mkeyarr\u001b[0m\u001b[0;34m,\u001b[0m \u001b[0mindexer\u001b[0m\u001b[0;34m,\u001b[0m \u001b[0maxis_name\u001b[0m\u001b[0;34m)\u001b[0m\u001b[0;34m\u001b[0m\u001b[0;34m\u001b[0m\u001b[0m\n\u001b[0m\u001b[1;32m   5878\u001b[0m \u001b[0;34m\u001b[0m\u001b[0m\n\u001b[1;32m   5879\u001b[0m         \u001b[0mkeyarr\u001b[0m \u001b[0;34m=\u001b[0m \u001b[0mself\u001b[0m\u001b[0;34m.\u001b[0m\u001b[0mtake\u001b[0m\u001b[0;34m(\u001b[0m\u001b[0mindexer\u001b[0m\u001b[0;34m)\u001b[0m\u001b[0;34m\u001b[0m\u001b[0;34m\u001b[0m\u001b[0m\n",
            "\u001b[0;32m/usr/local/lib/python3.10/dist-packages/pandas/core/indexes/base.py\u001b[0m in \u001b[0;36m_raise_if_missing\u001b[0;34m(self, key, indexer, axis_name)\u001b[0m\n\u001b[1;32m   5939\u001b[0m \u001b[0;34m\u001b[0m\u001b[0m\n\u001b[1;32m   5940\u001b[0m             \u001b[0mnot_found\u001b[0m \u001b[0;34m=\u001b[0m \u001b[0mlist\u001b[0m\u001b[0;34m(\u001b[0m\u001b[0mensure_index\u001b[0m\u001b[0;34m(\u001b[0m\u001b[0mkey\u001b[0m\u001b[0;34m)\u001b[0m\u001b[0;34m[\u001b[0m\u001b[0mmissing_mask\u001b[0m\u001b[0;34m.\u001b[0m\u001b[0mnonzero\u001b[0m\u001b[0;34m(\u001b[0m\u001b[0;34m)\u001b[0m\u001b[0;34m[\u001b[0m\u001b[0;36m0\u001b[0m\u001b[0;34m]\u001b[0m\u001b[0;34m]\u001b[0m\u001b[0;34m.\u001b[0m\u001b[0munique\u001b[0m\u001b[0;34m(\u001b[0m\u001b[0;34m)\u001b[0m\u001b[0;34m)\u001b[0m\u001b[0;34m\u001b[0m\u001b[0;34m\u001b[0m\u001b[0m\n\u001b[0;32m-> 5941\u001b[0;31m             \u001b[0;32mraise\u001b[0m \u001b[0mKeyError\u001b[0m\u001b[0;34m(\u001b[0m\u001b[0;34mf\"{not_found} not in index\"\u001b[0m\u001b[0;34m)\u001b[0m\u001b[0;34m\u001b[0m\u001b[0;34m\u001b[0m\u001b[0m\n\u001b[0m\u001b[1;32m   5942\u001b[0m \u001b[0;34m\u001b[0m\u001b[0m\n\u001b[1;32m   5943\u001b[0m     \u001b[0;34m@\u001b[0m\u001b[0moverload\u001b[0m\u001b[0;34m\u001b[0m\u001b[0;34m\u001b[0m\u001b[0m\n",
            "\u001b[0;31mKeyError\u001b[0m: \"['sex'] not in index\""
          ]
        }
      ]
    },
    {
      "cell_type": "code",
      "source": [
        "891-714"
      ],
      "metadata": {
        "id": "HbQ6W7RBYyrA"
      },
      "execution_count": null,
      "outputs": []
    },
    {
      "cell_type": "code",
      "source": [
        "type(pddf.Age)"
      ],
      "metadata": {
        "id": "L2GQDkiZaVT4",
        "outputId": "ca89a790-8717-4d43-8360-ca4cbeb42106",
        "colab": {
          "base_uri": "https://localhost:8080/",
          "height": 203
        }
      },
      "execution_count": 24,
      "outputs": [
        {
          "output_type": "execute_result",
          "data": {
            "text/plain": [
              "pandas.core.series.Series"
            ],
            "text/html": [
              "<div style=\"max-width:800px; border: 1px solid var(--colab-border-color);\"><style>\n",
              "      pre.function-repr-contents {\n",
              "        overflow-x: auto;\n",
              "        padding: 8px 12px;\n",
              "        max-height: 500px;\n",
              "      }\n",
              "\n",
              "      pre.function-repr-contents.function-repr-contents-collapsed {\n",
              "        cursor: pointer;\n",
              "        max-height: 100px;\n",
              "      }\n",
              "    </style>\n",
              "    <pre style=\"white-space: initial; background:\n",
              "         var(--colab-secondary-surface-color); padding: 8px 12px;\n",
              "         border-bottom: 1px solid var(--colab-border-color);\"><b>pandas.core.series.Series</b><br/>def __init__(data=None, index=None, dtype: Dtype | None=None, name=None, copy: bool | None=None, fastpath: bool=False) -&gt; None</pre><pre class=\"function-repr-contents function-repr-contents-collapsed\" style=\"\"><a class=\"filepath\" style=\"display:none\" href=\"#\">/usr/local/lib/python3.10/dist-packages/pandas/core/series.py</a>One-dimensional ndarray with axis labels (including time series).\n",
              "\n",
              "Labels need not be unique but must be a hashable type. The object\n",
              "supports both integer- and label-based indexing and provides a host of\n",
              "methods for performing operations involving the index. Statistical\n",
              "methods from ndarray have been overridden to automatically exclude\n",
              "missing data (currently represented as NaN).\n",
              "\n",
              "Operations between Series (+, -, /, \\*, \\*\\*) align values based on their\n",
              "associated index values-- they need not be the same length. The result\n",
              "index will be the sorted union of the two indexes.\n",
              "\n",
              "Parameters\n",
              "----------\n",
              "data : array-like, Iterable, dict, or scalar value\n",
              "    Contains data stored in Series. If data is a dict, argument order is\n",
              "    maintained.\n",
              "index : array-like or Index (1d)\n",
              "    Values must be hashable and have the same length as `data`.\n",
              "    Non-unique index values are allowed. Will default to\n",
              "    RangeIndex (0, 1, 2, ..., n) if not provided. If data is dict-like\n",
              "    and index is None, then the keys in the data are used as the index. If the\n",
              "    index is not None, the resulting Series is reindexed with the index values.\n",
              "dtype : str, numpy.dtype, or ExtensionDtype, optional\n",
              "    Data type for the output Series. If not specified, this will be\n",
              "    inferred from `data`.\n",
              "    See the :ref:`user guide &lt;basics.dtypes&gt;` for more usages.\n",
              "name : Hashable, default None\n",
              "    The name to give to the Series.\n",
              "copy : bool, default False\n",
              "    Copy input data. Only affects Series or 1d ndarray input. See examples.\n",
              "\n",
              "Notes\n",
              "-----\n",
              "Please reference the :ref:`User Guide &lt;basics.series&gt;` for more information.\n",
              "\n",
              "Examples\n",
              "--------\n",
              "Constructing Series from a dictionary with an Index specified\n",
              "\n",
              "&gt;&gt;&gt; d = {&#x27;a&#x27;: 1, &#x27;b&#x27;: 2, &#x27;c&#x27;: 3}\n",
              "&gt;&gt;&gt; ser = pd.Series(data=d, index=[&#x27;a&#x27;, &#x27;b&#x27;, &#x27;c&#x27;])\n",
              "&gt;&gt;&gt; ser\n",
              "a   1\n",
              "b   2\n",
              "c   3\n",
              "dtype: int64\n",
              "\n",
              "The keys of the dictionary match with the Index values, hence the Index\n",
              "values have no effect.\n",
              "\n",
              "&gt;&gt;&gt; d = {&#x27;a&#x27;: 1, &#x27;b&#x27;: 2, &#x27;c&#x27;: 3}\n",
              "&gt;&gt;&gt; ser = pd.Series(data=d, index=[&#x27;x&#x27;, &#x27;y&#x27;, &#x27;z&#x27;])\n",
              "&gt;&gt;&gt; ser\n",
              "x   NaN\n",
              "y   NaN\n",
              "z   NaN\n",
              "dtype: float64\n",
              "\n",
              "Note that the Index is first build with the keys from the dictionary.\n",
              "After this the Series is reindexed with the given Index values, hence we\n",
              "get all NaN as a result.\n",
              "\n",
              "Constructing Series from a list with `copy=False`.\n",
              "\n",
              "&gt;&gt;&gt; r = [1, 2]\n",
              "&gt;&gt;&gt; ser = pd.Series(r, copy=False)\n",
              "&gt;&gt;&gt; ser.iloc[0] = 999\n",
              "&gt;&gt;&gt; r\n",
              "[1, 2]\n",
              "&gt;&gt;&gt; ser\n",
              "0    999\n",
              "1      2\n",
              "dtype: int64\n",
              "\n",
              "Due to input data type the Series has a `copy` of\n",
              "the original data even though `copy=False`, so\n",
              "the data is unchanged.\n",
              "\n",
              "Constructing Series from a 1d ndarray with `copy=False`.\n",
              "\n",
              "&gt;&gt;&gt; r = np.array([1, 2])\n",
              "&gt;&gt;&gt; ser = pd.Series(r, copy=False)\n",
              "&gt;&gt;&gt; ser.iloc[0] = 999\n",
              "&gt;&gt;&gt; r\n",
              "array([999,   2])\n",
              "&gt;&gt;&gt; ser\n",
              "0    999\n",
              "1      2\n",
              "dtype: int64\n",
              "\n",
              "Due to input data type the Series has a `view` on\n",
              "the original data, so\n",
              "the data is changed as well.</pre>\n",
              "      <script>\n",
              "      if (google.colab.kernel.accessAllowed && google.colab.files && google.colab.files.view) {\n",
              "        for (const element of document.querySelectorAll('.filepath')) {\n",
              "          element.style.display = 'block'\n",
              "          element.onclick = (event) => {\n",
              "            event.preventDefault();\n",
              "            event.stopPropagation();\n",
              "            google.colab.files.view(element.textContent, 244);\n",
              "          };\n",
              "        }\n",
              "      }\n",
              "      for (const element of document.querySelectorAll('.function-repr-contents')) {\n",
              "        element.onclick = (event) => {\n",
              "          event.preventDefault();\n",
              "          event.stopPropagation();\n",
              "          element.classList.toggle('function-repr-contents-collapsed');\n",
              "        };\n",
              "      }\n",
              "      </script>\n",
              "      </div>"
            ]
          },
          "metadata": {},
          "execution_count": 24
        }
      ]
    },
    {
      "cell_type": "code",
      "source": [
        "pddf.Age.min()"
      ],
      "metadata": {
        "id": "YUE_q9LuagzT",
        "outputId": "8a61608c-6ded-482c-cfc3-639d44bfdf8f",
        "colab": {
          "base_uri": "https://localhost:8080/"
        }
      },
      "execution_count": 30,
      "outputs": [
        {
          "output_type": "execute_result",
          "data": {
            "text/plain": [
              "0.42"
            ]
          },
          "metadata": {},
          "execution_count": 30
        }
      ]
    },
    {
      "cell_type": "code",
      "source": [
        "pddf.dtypes"
      ],
      "metadata": {
        "id": "CGt33jBqZVnx",
        "outputId": "dad683d1-bf5e-48d2-d96a-f3210c8d44a1",
        "colab": {
          "base_uri": "https://localhost:8080/"
        }
      },
      "execution_count": 19,
      "outputs": [
        {
          "output_type": "execute_result",
          "data": {
            "text/plain": [
              "PassengerId      int64\n",
              "Survived         int64\n",
              "Pclass           int64\n",
              "Name            object\n",
              "Sex             object\n",
              "Age            float64\n",
              "SibSp            int64\n",
              "Parch            int64\n",
              "Ticket          object\n",
              "Fare           float64\n",
              "Cabin           object\n",
              "Embarked        object\n",
              "dtype: object"
            ]
          },
          "metadata": {},
          "execution_count": 19
        }
      ]
    },
    {
      "cell_type": "code",
      "source": [
        "pddf.Age.max()"
      ],
      "metadata": {
        "id": "rowp-2Q5amAk",
        "outputId": "8bce6625-a2e1-4923-e0ba-e3d7d84aa35c",
        "colab": {
          "base_uri": "https://localhost:8080/"
        }
      },
      "execution_count": 31,
      "outputs": [
        {
          "output_type": "execute_result",
          "data": {
            "text/plain": [
              "80.0"
            ]
          },
          "metadata": {},
          "execution_count": 31
        }
      ]
    },
    {
      "cell_type": "code",
      "source": [
        "pddf.Age.std()"
      ],
      "metadata": {
        "id": "QCKHK7EYanan",
        "outputId": "cfa4fe9f-917f-4f25-b0a9-e0baa6999b07",
        "colab": {
          "base_uri": "https://localhost:8080/"
        }
      },
      "execution_count": 32,
      "outputs": [
        {
          "output_type": "execute_result",
          "data": {
            "text/plain": [
              "14.526497332334042"
            ]
          },
          "metadata": {},
          "execution_count": 32
        }
      ]
    },
    {
      "cell_type": "code",
      "source": [
        "pddf.Age.count()"
      ],
      "metadata": {
        "id": "yYdnR_x8apIB",
        "outputId": "8b6d3e41-a755-4da7-8429-55a721635f67",
        "colab": {
          "base_uri": "https://localhost:8080/"
        }
      },
      "execution_count": null,
      "outputs": [
        {
          "output_type": "execute_result",
          "data": {
            "text/plain": [
              "714"
            ]
          },
          "metadata": {},
          "execution_count": 75
        }
      ]
    },
    {
      "cell_type": "code",
      "source": [
        "#groupby\n",
        "\n",
        "pddf.groupby('Sex')['PassengerId'].count()\n"
      ],
      "metadata": {
        "id": "c4tVuP9Qa0L9",
        "outputId": "f49932be-6631-443b-d25f-64121687fb1a",
        "colab": {
          "base_uri": "https://localhost:8080/"
        }
      },
      "execution_count": 34,
      "outputs": [
        {
          "output_type": "execute_result",
          "data": {
            "text/plain": [
              "Sex\n",
              "female    314\n",
              "male      577\n",
              "Name: PassengerId, dtype: int64"
            ]
          },
          "metadata": {},
          "execution_count": 34
        }
      ]
    },
    {
      "cell_type": "code",
      "source": [
        "pddf.groupby('Sex')['Age'].mean()"
      ],
      "metadata": {
        "id": "5iQJ4SntbIdq",
        "outputId": "cca90f72-a3ae-4667-f0f7-1e776d8b6568",
        "colab": {
          "base_uri": "https://localhost:8080/"
        }
      },
      "execution_count": 35,
      "outputs": [
        {
          "output_type": "execute_result",
          "data": {
            "text/plain": [
              "Sex\n",
              "female    27.915709\n",
              "male      30.726645\n",
              "Name: Age, dtype: float64"
            ]
          },
          "metadata": {},
          "execution_count": 35
        }
      ]
    },
    {
      "cell_type": "code",
      "source": [
        "pddf.Survived.mean()"
      ],
      "metadata": {
        "id": "j1I1idh8beLk",
        "outputId": "46281a99-2ac7-4cd6-8ff5-635e1ce202fe",
        "colab": {
          "base_uri": "https://localhost:8080/"
        }
      },
      "execution_count": 36,
      "outputs": [
        {
          "output_type": "execute_result",
          "data": {
            "text/plain": [
              "0.3838383838383838"
            ]
          },
          "metadata": {},
          "execution_count": 36
        }
      ]
    },
    {
      "cell_type": "code",
      "source": [
        "pddf.groupby('Sex')['Survived'].mean()"
      ],
      "metadata": {
        "id": "AXX3JK_vbqqA",
        "outputId": "f1abeb9f-6701-44de-f35b-ed6d1750f629",
        "colab": {
          "base_uri": "https://localhost:8080/"
        }
      },
      "execution_count": null,
      "outputs": [
        {
          "output_type": "execute_result",
          "data": {
            "text/plain": [
              "Sex\n",
              "female    0.742038\n",
              "male      0.188908\n",
              "Name: Survived, dtype: float64"
            ]
          },
          "metadata": {},
          "execution_count": 81
        }
      ]
    },
    {
      "cell_type": "code",
      "source": [
        "pddf.groupby('Sex').agg ({'Survived': 'mean','Age':lambda x:(x-x.mean()).std()})"
      ],
      "metadata": {
        "id": "YPo19kM_lYVT",
        "outputId": "0a5cfaad-6d81-4caa-a811-61250288fc8d",
        "colab": {
          "base_uri": "https://localhost:8080/",
          "height": 779
        }
      },
      "execution_count": 37,
      "outputs": [
        {
          "output_type": "execute_result",
          "data": {
            "text/plain": [
              "        Survived        Age\n",
              "Sex                        \n",
              "female  0.742038  14.110146\n",
              "male    0.188908  14.678201"
            ],
            "text/html": [
              "\n",
              "  <div id=\"df-71aa75a5-6593-4224-8531-f4dcc0506ec5\" class=\"colab-df-container\">\n",
              "    <div>\n",
              "<style scoped>\n",
              "    .dataframe tbody tr th:only-of-type {\n",
              "        vertical-align: middle;\n",
              "    }\n",
              "\n",
              "    .dataframe tbody tr th {\n",
              "        vertical-align: top;\n",
              "    }\n",
              "\n",
              "    .dataframe thead th {\n",
              "        text-align: right;\n",
              "    }\n",
              "</style>\n",
              "<table border=\"1\" class=\"dataframe\">\n",
              "  <thead>\n",
              "    <tr style=\"text-align: right;\">\n",
              "      <th></th>\n",
              "      <th>Survived</th>\n",
              "      <th>Age</th>\n",
              "    </tr>\n",
              "    <tr>\n",
              "      <th>Sex</th>\n",
              "      <th></th>\n",
              "      <th></th>\n",
              "    </tr>\n",
              "  </thead>\n",
              "  <tbody>\n",
              "    <tr>\n",
              "      <th>female</th>\n",
              "      <td>0.742038</td>\n",
              "      <td>14.110146</td>\n",
              "    </tr>\n",
              "    <tr>\n",
              "      <th>male</th>\n",
              "      <td>0.188908</td>\n",
              "      <td>14.678201</td>\n",
              "    </tr>\n",
              "  </tbody>\n",
              "</table>\n",
              "</div>\n",
              "    <div class=\"colab-df-buttons\">\n",
              "\n",
              "  <div class=\"colab-df-container\">\n",
              "    <button class=\"colab-df-convert\" onclick=\"convertToInteractive('df-71aa75a5-6593-4224-8531-f4dcc0506ec5')\"\n",
              "            title=\"Convert this dataframe to an interactive table.\"\n",
              "            style=\"display:none;\">\n",
              "\n",
              "  <svg xmlns=\"http://www.w3.org/2000/svg\" height=\"24px\" viewBox=\"0 -960 960 960\">\n",
              "    <path d=\"M120-120v-720h720v720H120Zm60-500h600v-160H180v160Zm220 220h160v-160H400v160Zm0 220h160v-160H400v160ZM180-400h160v-160H180v160Zm440 0h160v-160H620v160ZM180-180h160v-160H180v160Zm440 0h160v-160H620v160Z\"/>\n",
              "  </svg>\n",
              "    </button>\n",
              "\n",
              "  <style>\n",
              "    .colab-df-container {\n",
              "      display:flex;\n",
              "      gap: 12px;\n",
              "    }\n",
              "\n",
              "    .colab-df-convert {\n",
              "      background-color: #E8F0FE;\n",
              "      border: none;\n",
              "      border-radius: 50%;\n",
              "      cursor: pointer;\n",
              "      display: none;\n",
              "      fill: #1967D2;\n",
              "      height: 32px;\n",
              "      padding: 0 0 0 0;\n",
              "      width: 32px;\n",
              "    }\n",
              "\n",
              "    .colab-df-convert:hover {\n",
              "      background-color: #E2EBFA;\n",
              "      box-shadow: 0px 1px 2px rgba(60, 64, 67, 0.3), 0px 1px 3px 1px rgba(60, 64, 67, 0.15);\n",
              "      fill: #174EA6;\n",
              "    }\n",
              "\n",
              "    .colab-df-buttons div {\n",
              "      margin-bottom: 4px;\n",
              "    }\n",
              "\n",
              "    [theme=dark] .colab-df-convert {\n",
              "      background-color: #3B4455;\n",
              "      fill: #D2E3FC;\n",
              "    }\n",
              "\n",
              "    [theme=dark] .colab-df-convert:hover {\n",
              "      background-color: #434B5C;\n",
              "      box-shadow: 0px 1px 3px 1px rgba(0, 0, 0, 0.15);\n",
              "      filter: drop-shadow(0px 1px 2px rgba(0, 0, 0, 0.3));\n",
              "      fill: #FFFFFF;\n",
              "    }\n",
              "  </style>\n",
              "\n",
              "    <script>\n",
              "      const buttonEl =\n",
              "        document.querySelector('#df-71aa75a5-6593-4224-8531-f4dcc0506ec5 button.colab-df-convert');\n",
              "      buttonEl.style.display =\n",
              "        google.colab.kernel.accessAllowed ? 'block' : 'none';\n",
              "\n",
              "      async function convertToInteractive(key) {\n",
              "        const element = document.querySelector('#df-71aa75a5-6593-4224-8531-f4dcc0506ec5');\n",
              "        const dataTable =\n",
              "          await google.colab.kernel.invokeFunction('convertToInteractive',\n",
              "                                                    [key], {});\n",
              "        if (!dataTable) return;\n",
              "\n",
              "        const docLinkHtml = 'Like what you see? Visit the ' +\n",
              "          '<a target=\"_blank\" href=https://colab.research.google.com/notebooks/data_table.ipynb>data table notebook</a>'\n",
              "          + ' to learn more about interactive tables.';\n",
              "        element.innerHTML = '';\n",
              "        dataTable['output_type'] = 'display_data';\n",
              "        await google.colab.output.renderOutput(dataTable, element);\n",
              "        const docLink = document.createElement('div');\n",
              "        docLink.innerHTML = docLinkHtml;\n",
              "        element.appendChild(docLink);\n",
              "      }\n",
              "    </script>\n",
              "  </div>\n",
              "\n",
              "\n",
              "<div id=\"df-5a05d8cc-7116-48a1-af94-a9beaf8a96cc\">\n",
              "  <button class=\"colab-df-quickchart\" onclick=\"quickchart('df-5a05d8cc-7116-48a1-af94-a9beaf8a96cc')\"\n",
              "            title=\"Suggest charts\"\n",
              "            style=\"display:none;\">\n",
              "\n",
              "<svg xmlns=\"http://www.w3.org/2000/svg\" height=\"24px\"viewBox=\"0 0 24 24\"\n",
              "     width=\"24px\">\n",
              "    <g>\n",
              "        <path d=\"M19 3H5c-1.1 0-2 .9-2 2v14c0 1.1.9 2 2 2h14c1.1 0 2-.9 2-2V5c0-1.1-.9-2-2-2zM9 17H7v-7h2v7zm4 0h-2V7h2v10zm4 0h-2v-4h2v4z\"/>\n",
              "    </g>\n",
              "</svg>\n",
              "  </button>\n",
              "\n",
              "<style>\n",
              "  .colab-df-quickchart {\n",
              "      --bg-color: #E8F0FE;\n",
              "      --fill-color: #1967D2;\n",
              "      --hover-bg-color: #E2EBFA;\n",
              "      --hover-fill-color: #174EA6;\n",
              "      --disabled-fill-color: #AAA;\n",
              "      --disabled-bg-color: #DDD;\n",
              "  }\n",
              "\n",
              "  [theme=dark] .colab-df-quickchart {\n",
              "      --bg-color: #3B4455;\n",
              "      --fill-color: #D2E3FC;\n",
              "      --hover-bg-color: #434B5C;\n",
              "      --hover-fill-color: #FFFFFF;\n",
              "      --disabled-bg-color: #3B4455;\n",
              "      --disabled-fill-color: #666;\n",
              "  }\n",
              "\n",
              "  .colab-df-quickchart {\n",
              "    background-color: var(--bg-color);\n",
              "    border: none;\n",
              "    border-radius: 50%;\n",
              "    cursor: pointer;\n",
              "    display: none;\n",
              "    fill: var(--fill-color);\n",
              "    height: 32px;\n",
              "    padding: 0;\n",
              "    width: 32px;\n",
              "  }\n",
              "\n",
              "  .colab-df-quickchart:hover {\n",
              "    background-color: var(--hover-bg-color);\n",
              "    box-shadow: 0 1px 2px rgba(60, 64, 67, 0.3), 0 1px 3px 1px rgba(60, 64, 67, 0.15);\n",
              "    fill: var(--button-hover-fill-color);\n",
              "  }\n",
              "\n",
              "  .colab-df-quickchart-complete:disabled,\n",
              "  .colab-df-quickchart-complete:disabled:hover {\n",
              "    background-color: var(--disabled-bg-color);\n",
              "    fill: var(--disabled-fill-color);\n",
              "    box-shadow: none;\n",
              "  }\n",
              "\n",
              "  .colab-df-spinner {\n",
              "    border: 2px solid var(--fill-color);\n",
              "    border-color: transparent;\n",
              "    border-bottom-color: var(--fill-color);\n",
              "    animation:\n",
              "      spin 1s steps(1) infinite;\n",
              "  }\n",
              "\n",
              "  @keyframes spin {\n",
              "    0% {\n",
              "      border-color: transparent;\n",
              "      border-bottom-color: var(--fill-color);\n",
              "      border-left-color: var(--fill-color);\n",
              "    }\n",
              "    20% {\n",
              "      border-color: transparent;\n",
              "      border-left-color: var(--fill-color);\n",
              "      border-top-color: var(--fill-color);\n",
              "    }\n",
              "    30% {\n",
              "      border-color: transparent;\n",
              "      border-left-color: var(--fill-color);\n",
              "      border-top-color: var(--fill-color);\n",
              "      border-right-color: var(--fill-color);\n",
              "    }\n",
              "    40% {\n",
              "      border-color: transparent;\n",
              "      border-right-color: var(--fill-color);\n",
              "      border-top-color: var(--fill-color);\n",
              "    }\n",
              "    60% {\n",
              "      border-color: transparent;\n",
              "      border-right-color: var(--fill-color);\n",
              "    }\n",
              "    80% {\n",
              "      border-color: transparent;\n",
              "      border-right-color: var(--fill-color);\n",
              "      border-bottom-color: var(--fill-color);\n",
              "    }\n",
              "    90% {\n",
              "      border-color: transparent;\n",
              "      border-bottom-color: var(--fill-color);\n",
              "    }\n",
              "  }\n",
              "</style>\n",
              "\n",
              "  <script>\n",
              "    async function quickchart(key) {\n",
              "      const quickchartButtonEl =\n",
              "        document.querySelector('#' + key + ' button');\n",
              "      quickchartButtonEl.disabled = true;  // To prevent multiple clicks.\n",
              "      quickchartButtonEl.classList.add('colab-df-spinner');\n",
              "      try {\n",
              "        const charts = await google.colab.kernel.invokeFunction(\n",
              "            'suggestCharts', [key], {});\n",
              "      } catch (error) {\n",
              "        console.error('Error during call to suggestCharts:', error);\n",
              "      }\n",
              "      quickchartButtonEl.classList.remove('colab-df-spinner');\n",
              "      quickchartButtonEl.classList.add('colab-df-quickchart-complete');\n",
              "    }\n",
              "    (() => {\n",
              "      let quickchartButtonEl =\n",
              "        document.querySelector('#df-5a05d8cc-7116-48a1-af94-a9beaf8a96cc button');\n",
              "      quickchartButtonEl.style.display =\n",
              "        google.colab.kernel.accessAllowed ? 'block' : 'none';\n",
              "    })();\n",
              "  </script>\n",
              "</div>\n",
              "\n",
              "    </div>\n",
              "  </div>\n"
            ],
            "application/vnd.google.colaboratory.intrinsic+json": {
              "type": "dataframe",
              "summary": "{\n  \"name\": \"pddf\",\n  \"rows\": 2,\n  \"fields\": [\n    {\n      \"column\": \"Sex\",\n      \"properties\": {\n        \"dtype\": \"string\",\n        \"num_unique_values\": 2,\n        \"samples\": [\n          \"male\",\n          \"female\"\n        ],\n        \"semantic_type\": \"\",\n        \"description\": \"\"\n      }\n    },\n    {\n      \"column\": \"Survived\",\n      \"properties\": {\n        \"dtype\": \"number\",\n        \"std\": 0.391122024068098,\n        \"min\": 0.18890814558058924,\n        \"max\": 0.7420382165605095,\n        \"num_unique_values\": 2,\n        \"samples\": [\n          0.18890814558058924,\n          0.7420382165605095\n        ],\n        \"semantic_type\": \"\",\n        \"description\": \"\"\n      }\n    },\n    {\n      \"column\": \"Age\",\n      \"properties\": {\n        \"dtype\": \"number\",\n        \"std\": 0.401675094473893,\n        \"min\": 14.110146457544129,\n        \"max\": 14.678200823816603,\n        \"num_unique_values\": 2,\n        \"samples\": [\n          14.678200823816603,\n          14.110146457544129\n        ],\n        \"semantic_type\": \"\",\n        \"description\": \"\"\n      }\n    }\n  ]\n}"
            }
          },
          "metadata": {},
          "execution_count": 37
        },
        {
          "output_type": "display_data",
          "data": {
            "text/plain": [
              "<google.colab._quickchart_helpers.SectionTitle at 0x79161f2c6380>"
            ],
            "text/html": [
              "<h4 class=\"colab-quickchart-section-title\">Distributions</h4>\n",
              "<style>\n",
              "  .colab-quickchart-section-title {\n",
              "      clear: both;\n",
              "  }\n",
              "</style>"
            ]
          },
          "metadata": {}
        },
        {
          "output_type": "display_data",
          "data": {
            "text/plain": [
              "from matplotlib import pyplot as plt\n",
              "_df_0['Survived'].plot(kind='hist', bins=20, title='Survived')\n",
              "plt.gca().spines[['top', 'right',]].set_visible(False)"
            ],
            "text/html": [
              "      <div class=\"colab-quickchart-chart-with-code\" id=\"chart-e2bbe7ec-f161-40c2-9543-39bb7506c963\">\n",
              "        <img style=\"width: 180px;\" src=\"data:image/png;base64,iVBORw0KGgoAAAANSUhEUgAAAioAAAGrCAYAAADuNLxTAAAAOXRFWHRTb2Z0d2FyZQBNYXRwbG90\n",
              "bGliIHZlcnNpb24zLjcuMSwgaHR0cHM6Ly9tYXRwbG90bGliLm9yZy/bCgiHAAAACXBIWXMAAA9h\n",
              "AAAPYQGoP6dpAAAg2UlEQVR4nO3dfVSUdf7/8dcINlkKlGKSOJEihKQgJutB82jtnsg1NM3SFpOK\n",
              "G6td22Mdzawtqw3b7XbrtI6idMwtK2+KY221pbZWGpqtt5li4mCi2J2jZSjD9fvDX3ybkJrBuZgP\n",
              "+nycM+c442cu3vM5FE9nLmYclmVZAgAAMFCbcA8AAADQFEIFAAAYi1ABAADGIlQAAICxCBUAAGAs\n",
              "QgUAABiLUAEAAMYiVAAAgLEIFQAAYCxCBYDxVq1apfbt28vn89n2NXJzc5WXl2fb8QE0D6ECICi7\n",
              "du3SuHHjdP7556t9+/Y6//zzNWzYMFVXV9v2NS+99FIdPnxYERERtn0NAGYiVAAEZdiwYerQoYM2\n",
              "b96sw4cP65NPPtF1110nh8PRrOMdPXo0xBMCOJUQKgAC9tVXX2nbtm2aOHGizj33XEnSeeedpwkT\n",
              "JqhLly567rnnFB8f73ef+++/X4MGDWq4PmTIEP3xj3/U2LFjdc4552jSpEnKysrSgw8+6He/JUuW\n",
              "KDY2VkePHtXKlSvlcDhUV1en7du3KyIiQrt37/Zbn5OTo0mTJkmSfD6fHnvsMaWkpCg6Olr9+vXT\n",
              "u+++67f+73//u1wul2JiYpSfn08wAYYiVAAErGPHjurdu7eKiopUWlqqjRs3qr6+PujjlJaW6oYb\n",
              "btBXX32lxx9/XPn5+SotLdVPP8x9zpw5Gj9+vM444wy/+yYlJWngwIEqLS1tuG3v3r164403lJ+f\n",
              "L0l68MEH9fzzz+vVV1/VN998o3vuuUc5OTnauXOnJOmFF17Qww8/rIULF+rAgQPKzMzU0qVLm7Ml\n",
              "AGxGqAAIyooVK3TllVfqn//8pzIzM9WpUyfdeeedqq2tDfgYOTk5GjZsmNq0aaOzzjpL1113nb78\n",
              "8suGZz2qqqr09ttvN4THz/0YNj9GUmlpqTIyMtSnTx9J0hNPPKFHHnlEycnJatOmja6++mplZWXp\n",
              "xRdfbFh/0003KSsrS23btlVhYWHDfQGYhVABEJSOHTvqgQceUHl5uQ4ePKh58+Zpzpw5Ki4uDvgY\n",
              "F154od/1s88+W2PHjtXcuXMlSfPmzdNvfvMb9erV64T3HzNmjA4ePKj//Oc/sixL8+bNa4ia/fv3\n",
              "y+v1asyYMYqJiWm4fPjhh/riiy8kSXv27Gk0w8+vAzBDZLgHANB6OZ1OjRw5Ur/97W+1fv169e7d\n",
              "W999953fmr179za6X5s2jf+NlJ+fr8GDB+vLL79UaWmp/vKXvzT5ddu1a6frr79eJSUlioyM1P79\n",
              "+zVu3DhJUkxMjM4880wtW7ZMgwcPPuH94+PjVVlZ6XdbZWWlLr744l97yABaGM+oAAjYN998o7vu\n",
              "uksbN25UbW2tfD6f3n33Xa1YsUKDBw9W3759dejQIb300kuqr6/XypUr9corrwR07MzMTCUlJenG\n",
              "G2/U119/reuuu+4X1+fn56usrEx/+9vfdO2116pDhw6SjsfTxIkTNWXKFH366aeyLEtHjhzRf//7\n",
              "X23fvl2SNGHCBM2bN09r1qxRXV2dSkpKtGHDhpPbHAC24BkVAAE744wz9OWXX2rMmDHau3evIiIi\n",
              "FB8fr6lTp+qOO+6Qw+HQM888ozvvvFMFBQX6/e9/rxtvvFHl5eUBHT8/P1+33367CgoKdPbZZ//i\n",
              "2oyMDKWmpurtt9/WBx984Pd3jz76qJ555hmNGTNGVVVVOvPMM5WRkaFHH31UkvSHP/xBe/bs0Zgx\n",
              "Y3To0CFdc801uvrqq5u3KQBs5bB+epo9AACAQXjpBwAAGItQAQAAxiJUAACAsQgVAABgLEIFAAAY\n",
              "i1ABAADGIlQAAICxTolQeeqpp8I9AgAAsMEpESq7d+8O9wgAAMAGp0SoAACAUxOhAgAAjEWoAAAA\n",
              "YxEqAADAWIQKAAAwFqECAACMRagAAABjESoAAMBYhAoAADAWoQIAAIxFqAAAAGMRKgAAwFi2hsqk\n",
              "SZOUkJAgh8Oh//3vf02umzt3rnr27KkePXqooKBAx44ds3MsAADQStgaKtdcc43ef/99XXDBBU2u\n",
              "2bVrl+69916tWrVKFRUV2r9/v2bPnm3nWAAAoJWwNVQGDx6s+Pj4X1yzaNEi5eTkqEuXLnI4HJo4\n",
              "caJefPHFJtfX1tbK6/X6XXw+X6hHBwAABogM9wAej8fvGZeEhAR5PJ4m1xcXF2vGjBl+tw0YMMCW\n",
              "2RLuet2W40pS5czf23ZsAMDpx66fWeH+edXqTqadNm2aDh486HfJzMwM91gAAMAGYX9GxeVyaefO\n",
              "nQ3XKysr5XK5mlzvdDrldDr9bouIiLBtPgAAED5hf0Zl9OjRKisr0759+2RZlmbNmqWxY8eGeywA\n",
              "AGAAW0OlqKhI8fHx2rNnj6644golJiZKkvLz81VWViZJ6t69u2bMmKGBAwcqMTFRsbGxKioqsnMs\n",
              "AADQStj60o/b7T7h7SUlJX7XCwoKVFBQYOcoAACgFQr7Sz8AAABNIVQAAICxCBUAAGAsQgUAABiL\n",
              "UAEAAMYiVAAAgLEIFQAAYCxCBQAAGItQAQAAxiJUAACAsQgVAABgLEIFAAAYi1ABAADGIlQAAICx\n",
              "CBUAAGAsQgUAABiLUAEAAMYiVAAAgLEIFQAAYCxCBQAAGItQAQAAxiJUAACAsQgVAABgLEIFAAAY\n",
              "i1ABAADGIlQAAICxCBUAAGAsQgUAABiLUAEAAMYiVAAAgLEIFQAAYCxCBQAAGItQAQAAxiJUAACA\n",
              "sQgVAABgLEIFAAAYi1ABAADGIlQAAICxCBUAAGAsQgUAABiLUAEAAMYiVAAAgLEIFQAAYCxCBQAA\n",
              "GItQAQAAxiJUAACAsQgVAABgLEIFAAAYi1ABAADGIlQAAICxCBUAAGAsQgUAABiLUAEAAMYiVAAA\n",
              "gLEIFQAAYCxCBQAAGItQAQAAxiJUAACAsQgVAABgLEIFAAAYi1ABAADGsjVUduzYoaysLCUlJal/\n",
              "//7asmVLozX19fWaPHmyevXqpT59+mjo0KGqqKiwcywAANBK2BoqRUVFKiws1Pbt2zV16lTl5eU1\n",
              "WlNWVqYPPvhAGzZs0MaNG3X55Zfr7rvvtnMsAADQStgWKjU1NVq3bp1yc3MlSaNHj1ZVVVWjZ0sc\n",
              "Dodqa2v1ww8/yLIseb1excfH2zUWAABoRSLtOnBVVZXi4uIUGXn8SzgcDrlcLnk8HiUmJjasu+qq\n",
              "q7RixQp16dJFHTp0UNeuXfXee+81edza2lrV1tb63ebz+ex5EAAAIKzCfjLtunXrtHnzZn3xxRfa\n",
              "u3evLr/8ck2cOLHJ9cXFxYqOjva7lJeXt+DEAACgpdgWKt26dVN1dbXq6uokSZZlyePxyOVy+a2b\n",
              "P3++LrvsMsXExKhNmzaaMGGCVqxY0eRxp02bpoMHD/pdMjMz7XoYAAAgjGwLlc6dOysjI0MLFiyQ\n",
              "JC1evFjx8fF+L/tIUvfu3bV8+XIdPXpUkrRs2TJdfPHFTR7X6XQqKirK7xIREWHXwwAAAGFk2zkq\n",
              "kuR2u5WXl6eHH35YUVFRKi0tlSTl5+crJydHOTk5uu222/Tpp58qLS1Nbdu2VZcuXTRr1iw7xwIA\n",
              "AK2EraGSnJys1atXN7q9pKSk4c9Op1Nz5syxcwwAANBKhf1kWgAAgKYQKgAAwFiECgAAMBahAgAA\n",
              "jEWoAAAAYxEqAADAWIQKAAAwFqECAACMRagAAABjESoAAMBYhAoAADAWoQIAAIxFqAAAAGMRKgAA\n",
              "wFiECgAAMBahAgAAjEWoAAAAYxEqAADAWIQKAAAwFqECAACMRagAAABjESoAAMBYhAoAADAWoQIA\n",
              "AIxFqAAAAGMRKgAAwFiECgAAMBahAgAAjEWoAAAAYxEqAADAWIQKAAAwFqECAACMRagAAABjESoA\n",
              "AMBYhAoAADAWoQIAAIxFqAAAAGMRKgAAwFiECgAAMBahAgAAjEWoAAAAYxEqAADAWIQKAAAwFqEC\n",
              "AACMRagAAABjESoAAMBYhAoAADAWoQIAAIxFqAAAAGMRKgAAwFiECgAAMBahAgAAjEWoAAAAYxEq\n",
              "AADAWIQKAAAwFqECAACMRagAAABjESoAAMBYhAoAADAWoQIAAIxFqAAAAGMRKgAAwFi2hsqOHTuU\n",
              "lZWlpKQk9e/fX1u2bDnhuk2bNmnIkCFKSUlRSkqKlixZYudYAACglYi08+BFRUUqLCxUXl6eFi1a\n",
              "pLy8PK1du9Zvzffff68RI0Zo/vz5GjRokHw+n77++ms7xwIAAK2Ebc+o1NTUaN26dcrNzZUkjR49\n",
              "WlVVVaqoqPBb98ILL2jAgAEaNGiQJCkiIkKxsbFNHre2tlZer9fv4vP57HoYAAAgjGwLlaqqKsXF\n",
              "xSky8viTNg6HQy6XSx6Px2/d1q1b5XQ6NXz4cKWnp+uGG27QgQMHmjxucXGxoqOj/S7l5eV2PQwA\n",
              "ABBGQYfKW2+9FdIB6urq9M4778jtduuTTz5R165ddcsttzS5ftq0aTp48KDfJTMzM6QzAQAAMwQd\n",
              "Kg888ICSk5P11FNPyev1NrmuW7duqq6uVl1dnSTJsix5PB65XC6/dS6XS0OHDlXXrl3lcDiUm5ur\n",
              "NWvWNHlcp9OpqKgov0tERESwDwMAALQCQYfKBx98oIULF2rz5s1KSkrSrbfeqq1btzZa17lzZ2Vk\n",
              "ZGjBggWSpMWLFys+Pl6JiYl+66699lqtXbu2IXreeOMNpaWlNeexAACAU0yzzlHp27ev5syZozff\n",
              "fFPLli1Tnz599Lvf/U6bNm3yW+d2u+V2u5WUlKSZM2eqtLRUkpSfn6+ysjJJx59Rufvuu5WVlaU+\n",
              "ffpo+fLlmjVr1kk+LAAAcCpo1q8nv/POO3r66ae1adMm3Xbbbbr55pu1cuVKXX311X6/1ZOcnKzV\n",
              "q1c3un9JSYnf9fHjx2v8+PHNGQUAAJzCgg6VlJQUderUSZMmTdKoUaMazg+55pprNHfu3JAPCAAA\n",
              "Tl9Bh8qCBQvUr1+/E/7dv//975MeCAAA4EdBn6Py8ccf+71z7FdffaU5c+aEdCgAAACpGaHy7LPP\n",
              "6txzz2243rFjRz377LMhHQoAAEBqRqhYltXoNt7CHgAA2CHoUImLi9PLL7/ccP2ll15SXFxcSIcC\n",
              "AACQmnEy7ZNPPqkRI0ZoypQpkqSzzjpLr732WsgHAwAACDpULrroIm3dulWfffaZpOPvlcJb2AMA\n",
              "ADs06w3fHA6HYmJiVFdXpy+++EKSGn2GDwAAwMkKOlSee+45TZo0SW3btlWbNsdPcXE4HKqpqQn5\n",
              "cAAA4PQWdKg8+OCDWrt2rZKTk+2YBwAAoEHQv/XTqVMnIgUAALSIoENl5MiRevLJJ1VTUyOv19tw\n",
              "AQAACLWgX/qZPn26JGny5MlyOByyLEsOh4M3fQMAACEXdKjU19fbMQcAAEAjQb/0Ix3/YMLnn39e\n",
              "kvTtt9+quro6pEMBAABIzfxQwptuukn333+/pOOfnnz99deHei4AAIDgQ2X27Nlas2aNoqKiJEk9\n",
              "evTQgQMHQj4YAABA0KHidDrVrl07v9siI5v1BrcAAAC/KOhQiY2N1fbt2+VwOCQdf6da3j4fAADY\n",
              "oVmfnjxu3Dht27ZN3bp1U1RUlJYtW2bHbAAA4DQXdKgkJibqo48+0meffSbLsvj0ZAAAYJugQ8Xj\n",
              "8UiSzj77bEni05MBAIBtgg6Vfv36Nbwj7Q8//KDvv/9eHTt25NOTAQBAyAUdKj//VeQlS5Zow4YN\n",
              "IRsIAADgR816Z9qfGjVqlF5//fVQzAIAAOAn6GdUfvpJyT6fTx999BGfngwAAGwRdKjExMQ0nKMS\n",
              "ERGhnj176h//+IcdswEAgNMcn54MAACMddLnqAAAANgl6GdU2rRp0/D2+T9lWZYcDod8Pl9IBgMA\n",
              "AAg6VB544AEdOXJEt9xyiyRp1qxZateunf785z+HejYAAHCaCzpUli5dqo8//rjh+kMPPaR+/fpp\n",
              "+vTpIR0MAAAg6HNUDh065PcutDU1NTp06FBIhwIAAJCa8YzKHXfcobS0NA0bNkyS9Oabb+r+++8P\n",
              "9VwAAADBh0pRUZEGDhyoFStWSJImT56s1NTUkA8GAAAQdKhIUseOHdW7d28NGTJEdXV1Onr0qM44\n",
              "44xQzwYAAE5zQZ+jsmjRIg0YMEA33nijJGnLli0aOXJkqOcCAAAIPlSKi4u1fv16xcTESJLS0tK0\n",
              "e/fuUM8FAAAQfKhERESoY8eOfrfxsg8AALBD0KHSoUMH7d+/v+Hdad99912de+65IR8MAAAg6JNp\n",
              "H3nkEV155ZX6/PPPNWjQIO3atUuvv/66HbMBAIDTXFChUl9fL5/PpxUrVujDDz+UZVnKyspqOF8F\n",
              "AAAglIIKlTZt2qiwsFAbNmzQlVdeaddMAAAAkppxjkrPnj1VUVFhxywAAAB+gj5H5euvv1Z6erqy\n",
              "srLUvn37htuXLFkS0sEAAAACDpXCwkLNnj1bEyZMUE5Ojs455xw75wIAAAg8VNatWydJmjBhgjIy\n",
              "MrR+/XrbhgIAAJCacY6KJFmWFeo5AAAAGgn4GZUjR45o06ZNsixLP/zwQ8Off9SnTx9bBgQAAKev\n",
              "oEIlJyen4fpP/+xwOPT555+HdjIAAHDaCzhUKisrbRwDAACgsWadowIAANASCBUAAGAsQgUAABiL\n",
              "UAEAAMYiVAAAgLEIFQAAYCxCBQAAGItQAQAAxiJUAACAsWwNlR07digrK0tJSUnq37+/tmzZ0uRa\n",
              "y7J02WWXKSYmxs6RAABAK2JrqBQVFamwsFDbt2/X1KlTlZeX1+TaJ554Qj169LBzHAAA0MrYFio1\n",
              "NTVat26dcnNzJUmjR49WVVWVKioqGq3dsmWLXn31Vd11112/etza2lp5vV6/i8/nC/n8AAAg/GwL\n",
              "laqqKsXFxSky8vjnHjocDrlcLnk8Hr91x44dU0FBgdxutyIiIn71uMXFxYqOjva7lJeX2/IYAABA\n",
              "eIX9ZNoZM2Zo1KhRSklJCWj9tGnTdPDgQb9LZmamzVMCAIBwiLTrwN26dVN1dbXq6uoUGRkpy7Lk\n",
              "8Xjkcrn81r333nvyeDx65plnVFdXJ6/Xq4SEBK1du1axsbGNjut0OuV0Ov1uC+SZGAAA0PrY9oxK\n",
              "586dlZGRoQULFkiSFi9erPj4eCUmJvqtW7VqlXbv3q3Kykq9//77ioqKUmVl5QkjBQAAnF5sfenH\n",
              "7XbL7XYrKSlJM2fOVGlpqSQpPz9fZWVldn5pAABwCrDtpR9JSk5O1urVqxvdXlJScsL1CQkJ+vbb\n",
              "b+0cCQAAtCJhP5kWAACgKYQKAAAwFqECAACMRagAAABjESoAAMBYhAoAADAWoQIAAIxFqAAAAGMR\n",
              "KgAAwFiECgAAMBahAgAAjEWoAAAAYxEqAADAWIQKAAAwFqECAACMRagAAABjESoAAMBYhAoAADAW\n",
              "oQIAAIxFqAAAAGMRKgAAwFiECgAAMBahAgAAjEWoAAAAYxEqAADAWIQKAAAwFqECAACMRagAAABj\n",
              "ESoAAMBYhAoAADAWoQIAAIxFqAAAAGMRKgAAwFiECgAAMBahAgAAjEWoAAAAYxEqAADAWIQKAAAw\n",
              "FqECAACMRagAAABjESoAAMBYhAoAADAWoQIAAIxFqAAAAGMRKgAAwFiECgAAMBahAgAAjEWoAAAA\n",
              "YxEqAADAWIQKAAAwFqECAACMRagAAABjESoAAMBYhAoAADAWoQIAAIxFqAAAAGMRKgAAwFiECgAA\n",
              "MBahAgAAjEWoAAAAYxEqAADAWIQKAAAwlq2hsmPHDmVlZSkpKUn9+/fXli1bGq1Zvny5MjMz1atX\n",
              "L6WmpmrKlCmqr6+3cywAANBK2BoqRUVFKiws1Pbt2zV16lTl5eU1WnPOOedo4cKF2rp1qz7++GN9\n",
              "+OGHmj9/vp1jAQCAVsK2UKmpqdG6deuUm5srSRo9erSqqqpUUVHht65v377q3r27JOnMM89Uenq6\n",
              "KisrmzxubW2tvF6v38Xn89n1MAAAQBjZFipVVVWKi4tTZGSkJMnhcMjlcsnj8TR5n3379mnRokUa\n",
              "Pnx4k2uKi4sVHR3tdykvLw/5/AAAIPyMOZnW6/Xqqquu0pQpU3TJJZc0uW7atGk6ePCg3yUzM7MF\n",
              "JwUAAC0l0q4Dd+vWTdXV1aqrq1NkZKQsy5LH45HL5Wq09tChQ8rOztaIESM0efLkXzyu0+mU0+n0\n",
              "uy0iIiKkswMAADPY9oxK586dlZGRoQULFkiSFi9erPj4eCUmJvqtO3z4sLKzs5Wdna177rnHrnEA\n",
              "AEArZOtLP263W263W0lJSZo5c6ZKS0slSfn5+SorK5MkPfXUUyovL9eSJUuUnp6u9PR0/fWvf7Vz\n",
              "LAAA0ErY9tKPJCUnJ2v16tWNbi8pKWn48/Tp0zV9+nQ7xwAAAK2UMSfTAgAA/ByhAgAAjEWoAAAA\n",
              "YxEqAADAWIQKAAAwFqECAACMRagAAABjESoAAMBYhAoAADAWoQIAAIxFqAAAAGMRKgAAwFiECgAA\n",
              "MBahAgAAjEWoAAAAYxEqAADAWIQKAAAwFqECAACMRagAAABjESoAAMBYhAoAADAWoQIAAIxFqAAA\n",
              "AGMRKgAAwFiECgAAMBahAgAAjEWoAAAAYxEqAADAWIQKAAAwFqECAACMRagAAABjESoAAMBYhAoA\n",
              "ADAWoQIAAIxFqAAAAGMRKgAAwFiECgAAMBahAgAAjEWoAAAAYxEqAADAWIQKAAAwFqECAACMRagA\n",
              "AABjESoAAMBYhAoAADAWoQIAAIxFqAAAAGMRKgAAwFiECgAAMBahAgAAjEWoAAAAYxEqAADAWIQK\n",
              "AAAwFqECAACMRagAAABjESoAAMBYhAoAADAWoQIAAIxFqAAAAGMRKgAAwFiECgAAMJatobJjxw5l\n",
              "ZWUpKSlJ/fv315YtW064bu7cuerZs6d69OihgoICHTt2zM6xAABAK2FrqBQVFamwsFDbt2/X1KlT\n",
              "lZeX12jNrl27dO+992rVqlWqqKjQ/v37NXv2bDvHAgAArYRtoVJTU6N169YpNzdXkjR69GhVVVWp\n",
              "oqLCb92iRYuUk5OjLl26yOFwaOLEiXrxxRebPG5tba28Xq/fxefz2fUwAABAGEXadeCqqirFxcUp\n",
              "MvL4l3A4HHK5XPJ4PEpMTGxY5/F4dMEFFzRcT0hIkMfjafK4xcXFmjFjht9tF110kSZPnhziRyCN\n",
              "+pW/9/l8Ki8vV2ZmpiIiIoI69uTJ7zZ/sFPMyewjjmMPQ4N9DA328eQ1Zw9/7WdWc9n58+qCCy7Q\n",
              "7bff/otrbAsVu0ybNq1RlDidTjmdzhafxev1Kjo6Wm+99ZaioqJa/OufKtjHk8cehgb7GBrs48lj\n",
              "D/+PbaHSrVs3VVdXq66uTpGRkbIsSx6PRy6Xy2+dy+XSzp07G65XVlY2WvNT4YoSAADQ8mw7R6Vz\n",
              "587KyMjQggULJEmLFy9WfHy838s+0vFzV8rKyrRv3z5ZlqVZs2Zp7Nixdo0FAABaEVt/68ftdsvt\n",
              "dispKUkzZ85UaWmpJCk/P19lZWWSpO7du2vGjBkaOHCgEhMTFRsbq6KiIjvHAgAArYSt56gkJydr\n",
              "9erVjW4vKSnxu15QUKCCggI7R7GF0+nUfffdx0tRJ4l9PHnsYWiwj6HBPp489vD/OCzLssI9BAAA\n",
              "wInwFvoAAMBYhAoAADAWoQIAAIxFqAAAAGMRKgEI5FOgly9frszMTPXq1UupqamaMmWK6uvrwzCt\n",
              "uQLZx9WrVys9PV3p6elKTU1VUVGRamtrwzCtmQL9RHJJsixLl112mWJiYlpuwFYikH1cuXKl2rVr\n",
              "1/D9mJ6eriNHjoRhWjMF+r24adMmDRkyRCkpKUpJSdGSJUtaeFKzBbKPpaWlft+HnTp10qhRdr1h\n",
              "voEs/KqhQ4dapaWllmVZ1iuvvGJdcskljdasX7/e2rlzp2VZlnXkyBFr4MCBDffBcYHs43fffWcd\n",
              "PXrUsizL8vl81siRI63HH3+8Jcc0WiB7+KPHHnvMys/Pt6Kjo1tmuFYkkH1csWKFlZaW1rKDtSKB\n",
              "/vd84YUXWqtWrbIsy7Lq6uqsmpqalhzTeMH8N/2j1NRUa9GiRTZPZg5C5Vfs37/f6tChg3Xs2DHL\n",
              "siyrvr7eOu+886wdO3b84v1uu+0267777muBCVuH5uzjkSNHrCuuuMJ64oknWmhKswWzh5s3b7Yu\n",
              "vfRSq6KiglD5mUD3kVBpWqB7OGfOHGvcuHHhGLFVaM7/F9esWWPFxsY2/IPudMBLP7/ilz4Fuin7\n",
              "9u3TokWLNHz48JYa03jB7GNlZaXS0tLUqVMnRUdH69Zbb23pcY0U6B4eO3ZMBQUFcrvdfHLtCQTz\n",
              "vbhz505lZGSof//+evbZZ1t6VGMFuodbt26V0+nU8OHDlZ6erhtuuEEHDhwIx8hGas7Pl7lz52r8\n",
              "+PFq27ZtS40ZdoRKiHm9Xl111VWaMmWKLrnkknCP0yolJCRow4YN2rdvn2pra3lNO0gzZszQqFGj\n",
              "lJKSEu5RWrWMjAzt2bNH69ev19KlSzVr1iy9/PLL4R6rVamrq9M777wjt9utTz75RF27dtUtt9wS\n",
              "7rFare+++04LFy7UzTffHO5RWhSh8it++inQkpr8FGhJOnTokLKzszVixAhNnjy5pUc1WjD7+KP2\n",
              "7dtr7Nix+te//tVSYxot0D1877339PTTTyshIUGDBg2S1+tVQkIC/5L9/wLdx6ioKEVHR0uS4uPj\n",
              "NW7cOK1atarF5zVRoHvocrk0dOhQde3aVQ6HQ7m5uVqzZk04RjZSsP9ffOWVV5SamqpevXq15Jhh\n",
              "R6j8ikA/Bfrw4cPKzs5Wdna27rnnnnCMarRA97GiokLHjh2TJB09elRLly5Vnz59WnxeEwW6h6tW\n",
              "rdLu3btVWVmp999/X1FRUaqsrFRsbGw4xjZOoPtYXV3d8Jt7hw4d0rJly9S3b98Wn9dEge7htdde\n",
              "q7Vr18rr9UqS3njjDaWlpbX4vKYKdB9/NHfu3NPu2RRJ/NZPILZt22YNGDDA6tmzp9WvXz9r48aN\n",
              "lmVZ1s0332y99tprlmVZ1kMPPWRFRkZaaWlpDZeHHnoonGMbJ5B9dLvdVmpqqtWnTx+rV69e1p/+\n",
              "9CfryJEj4RzbKIHs4U/t2rWLk2lPIJB9fPrpp61evXo1fC/ed999Vn19fTjHNkqg34vz58+3UlNT\n",
              "rd69e1vZ2dmWx+MJ18hGCnQft23bZrVv397yer3hGjVs+FBCAABgLF76AQAAxiJUAACAsQgVAABg\n",
              "LEIFAAAYi1ABAADGIlQAAICxCBUAAGAsQgUAABiLUAEAAMYiVAAAgLH+H/WWcR7AoqnjAAAAAElF\n",
              "TkSuQmCC\n",
              "\">\n",
              "      </div>\n",
              "      <script type=\"text/javascript\">\n",
              "        (() => {\n",
              "          const chartElement = document.getElementById(\"chart-e2bbe7ec-f161-40c2-9543-39bb7506c963\");\n",
              "          async function getCodeForChartHandler(event) {\n",
              "            const chartCodeResponse =  await google.colab.kernel.invokeFunction(\n",
              "                'getCodeForChart', [\"chart-e2bbe7ec-f161-40c2-9543-39bb7506c963\"], {});\n",
              "            const responseJson = chartCodeResponse.data['application/json'];\n",
              "            await google.colab.notebook.addCell(responseJson.code, 'code');\n",
              "          }\n",
              "          chartElement.onclick = getCodeForChartHandler;\n",
              "        })();\n",
              "      </script>\n",
              "      <style>\n",
              "        .colab-quickchart-chart-with-code  {\n",
              "            display: block;\n",
              "            float: left;\n",
              "            border: 1px solid transparent;\n",
              "        }\n",
              "\n",
              "        .colab-quickchart-chart-with-code:hover {\n",
              "            cursor: pointer;\n",
              "            border: 1px solid #aaa;\n",
              "        }\n",
              "      </style>"
            ]
          },
          "metadata": {}
        },
        {
          "output_type": "display_data",
          "data": {
            "text/plain": [
              "from matplotlib import pyplot as plt\n",
              "_df_1['Age'].plot(kind='hist', bins=20, title='Age')\n",
              "plt.gca().spines[['top', 'right',]].set_visible(False)"
            ],
            "text/html": [
              "      <div class=\"colab-quickchart-chart-with-code\" id=\"chart-5afa10d5-b290-498d-9428-d389b338bd14\">\n",
              "        <img style=\"width: 180px;\" src=\"data:image/png;base64,iVBORw0KGgoAAAANSUhEUgAAAjIAAAGrCAYAAADaTX1PAAAAOXRFWHRTb2Z0d2FyZQBNYXRwbG90\n",
              "bGliIHZlcnNpb24zLjcuMSwgaHR0cHM6Ly9tYXRwbG90bGliLm9yZy/bCgiHAAAACXBIWXMAAA9h\n",
              "AAAPYQGoP6dpAAAgU0lEQVR4nO3dfVCVdf7/8dcR9FitiHcEiUdWucmbRcSFMXTb1N3V3NK86WYL\n",
              "i1xuupmscWc1c9tNdzdsZ2ozGwPFpTF2u1MqpnZrK11XDVNMDGELKOlgqXSjYJogeH3/cOLX+SHp\n",
              "gXNxzgefj5lrxnO8uHifz2A8u84Fl8OyLEsAAAAG6uHvAQAAADqKkAEAAMYiZAAAgLEIGQAAYCxC\n",
              "BgAAGIuQAQAAxiJkAACAsQgZAABgLEIGAAAYi5ABAADGImQA+EV+fr4cDofuv/9+f48CwGAO7rUE\n",
              "wB+SkpK0f/9+9ejRQ7W1tXI6nf4eCYCBOCMDoMvt2rVLJSUlKigoUH19vV588cXWvzt27JjS0tI0\n",
              "YMAARUZGauXKlYqMjNTTTz/dus8HH3yga665RpdeeqkGDx6su+66S8ePH/fDKwHgb4QMgC63evVq\n",
              "JSQkaNq0aZo1a5ZWr17d+nf33nuvKioqVFZWpsrKSpWVlenw4cOtf//FF1/oJz/5iaZMmSK32629\n",
              "e/eqsrJS9913nx9eCQB/460lAF3qyJEjGjx4sB599FHdeeed2rRpk6ZMmaLS0lKNHj1aF198sV56\n",
              "6SVNnz5dktTQ0KB+/fpp3bp1SktL02OPPaYXX3xRxcXFrcfcvn27Jk+erBMnTigoKMhfLw2AH3BG\n",
              "BkCX+vYi31tuuUWSNGnSJEVHR2v16tX64osv1NTUpKFDh7buHxISon79+rU+rqqq0u7duxUaGtq6\n",
              "TZ8+XQ6HQ4cOHery1wPAvwgZAF3Gsizl5OSoqalJsbGxCg8PV0REhA4cOKC///3v6t27t3r16qVP\n",
              "Pvmk9WMaGhp05MiR1sfh4eGaOHGijh492rrV19fr5MmTGjx4sD9eFgA/ImQAdJk333xTVVVV+ve/\n",
              "/63S0tLW7f3335ckrV+/XjfffLOWL1+ugwcP6sSJE/rtb3+rHj3+33+qbr/9du3Zs0erV6/WiRMn\n",
              "ZFmWamtr9fLLL/vpVQHwJ0IGQJd56qmn9LOf/UyTJk1SeHh46xYTE6P09HQ99dRTWrlypWJjYzVq\n",
              "1CjFxMRo5MiR6t+/v3r37i1JcrlcKi4u1ptvvqnhw4crNDRUU6dOVVlZmZ9fHQB/4GJfAAHtyJEj\n",
              "GjBggLZv364rrrjC3+MACDCckQEQUNxut7Zs2aKWlhZ9+eWXuuuuuxQTE6OkpCR/jwYgABEyAAJK\n",
              "U1OT7rnnHoWGhiomJkZHjx5VUVGRgoOD/T0agADEW0sAAMBYnJEBAADGImQAAICxCBkAAGAsQgYA\n",
              "ABirW4TMypUr/T0CAADwg24RMt+9LwsAALhwdIuQAQAAFyZCBgAAGIuQAQAAxiJkAACAsQgZAABg\n",
              "LEIGAAAYi5ABAADGImQAAICxCBkAAGAsQgYAABiLkAEAAMYiZAAAgLFsDZkFCxYoKipKDodDpaWl\n",
              "7e63bt06xcTEaPjw4crIyNCpU6fsHAsAAHQTtobM3LlztW3bNg0dOrTdffbv368HH3xQW7duVXV1\n",
              "tQ4fPqw1a9bYORYAAOgmbA2ZK6+8UpGRkd+7z4YNGzRjxgyFh4fL4XDojjvu0LPPPtvu/o2NjWpo\n",
              "aPDYWlpafD06AAAwQLC/B3C73R5nbKKiouR2u9vdPzs7W8uWLfN4bvz48bbMFnX/a7YcV5JqVvzS\n",
              "tmMDAC48dn3PCvTvV8Zd7LtkyRLV19d7bMnJyf4eCwAA+IHfz8i4XC599NFHrY9ramrkcrna3d/p\n",
              "dMrpdHo8FxQUZNt8AAAgcPn9jMycOXNUVFSkQ4cOybIs5eTk6KabbvL3WAAAwAC2hkxWVpYiIyN1\n",
              "4MABTZ06VdHR0ZKk9PR0FRUVSZKGDRumZcuWacKECYqOjtagQYOUlZVl51gAAKCbsPWtpdzc3LM+\n",
              "n5eX5/E4IyNDGRkZdo4CAAC6Ib+/tQQAANBRhAwAADAWIQMAAIxFyAAAAGMRMgAAwFiEDAAAMBYh\n",
              "AwAAjEXIAAAAYxEyAADAWIQMAAAwFiEDAACMRcgAAABjETIAAMBYhAwAADAWIQMAAIxFyAAAAGMR\n",
              "MgAAwFiEDAAAMBYhAwAAjEXIAAAAYxEyAADAWIQMAAAwFiEDAACMRcgAAABjETIAAMBYhAwAADAW\n",
              "IQMAAIxFyAAAAGMRMgAAwFiEDAAAMBYhAwAAjEXIAAAAYxEyAADAWIQMAAAwFiEDAACMRcgAAABj\n",
              "ETIAAMBYhAwAADAWIQMAAIxFyAAAAGMRMgAAwFiEDAAAMBYhAwAAjEXIAAAAYxEyAADAWIQMAAAw\n",
              "FiEDAACMRcgAAABjETIAAMBYhAwAADAWIQMAAIxFyAAAAGMRMgAAwFiEDAAAMBYhAwAAjEXIAAAA\n",
              "YxEyAADAWIQMAAAwFiEDAACMRcgAAABjETIAAMBYtoZMVVWVUlJSFBsbq6SkJJWXl7fZ5/Tp01q4\n",
              "cKFGjhyp+Ph4TZo0SdXV1XaOBQAAuglbQyYrK0uZmZmqrKzU4sWLlZaW1mafoqIibd++XXv37tX7\n",
              "77+vKVOm6IEHHrBzLAAA0E3YFjJ1dXUqKSlRamqqJGnOnDmqra1tc7bF4XCosbFRJ0+elGVZamho\n",
              "UGRkpF1jAQCAbiTYrgPX1tYqIiJCwcFnPoXD4ZDL5ZLb7VZ0dHTrftdee602b96s8PBw9enTR4MH\n",
              "D9aWLVvaPW5jY6MaGxs9nmtpabHnRQAAgIDm94t9S0pKtG/fPn366af67LPPNGXKFN1xxx3t7p+d\n",
              "na2+fft6bDt37uzCiQEAQKCwLWSGDBmigwcPqrm5WZJkWZbcbrdcLpfHfuvXr9fkyZMVGhqqHj16\n",
              "6LbbbtPmzZvbPe6SJUtUX1/vsSUnJ9v1MgAAQACzLWTCwsKUmJiogoICSdLGjRsVGRnp8baSJA0b\n",
              "NkybNm1SU1OTJOnVV1/V6NGj2z2u0+lUSEiIxxYUFGTXywAAAAHMtmtkJCk3N1dpaWl6+OGHFRIS\n",
              "ovz8fElSenq6ZsyYoRkzZujuu+/W//73P40ZM0Y9e/ZUeHi4cnJy7BwLAAB0E7aGTFxcnIqLi9s8\n",
              "n5eX1/pnp9OptWvX2jkGAADopvx+sS8AAEBHETIAAMBYhAwAADAWIQMAAIxFyAAAAGMRMgAAwFiE\n",
              "DAAAMBYhAwAAjEXIAAAAYxEyAADAWIQMAAAwFiEDAACMRcgAAABjETIAAMBYhAwAADAWIQMAAIxF\n",
              "yAAAAGMRMgAAwFiEDAAAMBYhAwAAjEXIAAAAYxEyAADAWIQMAAAwFiEDAACMRcgAAABjETIAAMBY\n",
              "hAwAADAWIQMAAIxFyAAAAGMRMgAAwFiEDAAAMBYhAwAAjEXIAAAAYxEyAADAWIQMAAAwFiEDAACM\n",
              "RcgAAABjETIAAMBYhAwAADAWIQMAAIxFyAAAAGMRMgAAwFiEDAAAMBYhAwAAjEXIAAAAYxEyAADA\n",
              "WIQMAAAwFiEDAACMRcgAAABjETIAAMBYhAwAADAWIQMAAIxFyAAAAGMRMgAAwFiEDAAAMBYhAwAA\n",
              "jEXIAAAAYxEyAADAWIQMAAAwFiEDAACMRcgAAABjETIAAMBYtoZMVVWVUlJSFBsbq6SkJJWXl591\n",
              "v7KyMl111VUaMWKERowYocLCQjvHAgAA3USwnQfPyspSZmam0tLStGHDBqWlpWnXrl0e+5w4cUIz\n",
              "Z87U+vXrNXHiRLW0tOirr76ycywAANBN2HZGpq6uTiUlJUpNTZUkzZkzR7W1taqurvbY7x//+IfG\n",
              "jx+viRMnSpKCgoI0aNCgdo/b2NiohoYGj62lpcWulwEAAAKYbSFTW1uriIgIBQefOenjcDjkcrnk\n",
              "drs99quoqJDT6dQ111yjhIQE3Xrrrfr888/bPW52drb69u3rse3cudOulwEAAAKY1yHzxhtv+HSA\n",
              "5uZmvfXWW8rNzdWePXs0ePBg3Xnnne3uv2TJEtXX13tsycnJPp0JAACYweuQWb58ueLi4rRy5Uo1\n",
              "NDS0u9+QIUN08OBBNTc3S5Isy5Lb7ZbL5fLYz+VyadKkSRo8eLAcDodSU1O1Y8eOdo/rdDoVEhLi\n",
              "sQUFBXn7MgAAQDfgdchs375dzz33nPbt26fY2FjdddddqqioaLNfWFiYEhMTVVBQIEnauHGjIiMj\n",
              "FR0d7bHfDTfcoF27drVG0T//+U+NGTOmI68FAABcYDp0jczYsWO1du1avf7663r11VcVHx+vn//8\n",
              "5yorK/PYLzc3V7m5uYqNjdWKFSuUn58vSUpPT1dRUZGkM2dkHnjgAaWkpCg+Pl6bNm1STk5OJ18W\n",
              "AAC4EHTox6/feustrVq1SmVlZbr77rv161//Wv/5z380a9Ysj59KiouLU3FxcZuPz8vL83g8b948\n",
              "zZs3ryOjAACAC5jXITNixAgNHDhQCxYs0OzZs1uvT5k7d67WrVvn8wEBAADa43XIFBQUaNy4cWf9\n",
              "u3/961+dHggAAOB8eX2NzO7duz1+8+6XX36ptWvX+nQoAACA8+F1yKxevVr9+/dvfTxgwACtXr3a\n",
              "p0MBAACcD69DxrKsNs9xiwAAAOAPXodMRESEXnjhhdbHzz//vCIiInw6FAAAwPnw+mLfxx9/XDNn\n",
              "ztSiRYskSRdffLFeeeUVnw8GAABwLl6HzOWXX66Kigp9+OGHks78rhhuEQAAAPyhQ78Qz+FwKDQ0\n",
              "VM3Nzfr0008lqc09lAAAAOzmdcg8/fTTWrBggXr27KkePc5cYuNwOFRXV+fz4QAAAL6P1yHzxz/+\n",
              "Ubt27VJcXJwd8wAAAJw3r39qaeDAgUQMAAAICF6HzHXXXafHH39cdXV1amhoaN0AAAC6mtdvLS1d\n",
              "ulSStHDhQjkcDlmWJYfDwS/FAwAAXc7rkDl9+rQdcwAAAHjN67eWpDM3jnzmmWckSUePHtXBgwd9\n",
              "OhQAAMD56NBNI+fPn6+HHnpI0pm7X998882+ngsAAOCcvA6ZNWvWaMeOHQoJCZEkDR8+XJ9//rnP\n",
              "BwMAADgXr0PG6XTqoosu8nguOLhDvyAYAACgU7wOmUGDBqmyslIOh0PSmd/0y+0JAACAP3To7te/\n",
              "+tWv9MEHH2jIkCEKCQnRq6++asdsAAAA38vrkImOjta7776rDz/8UJZlcfdrAADgN16HjNvtliRd\n",
              "csklksTdrwEAgN94HTLjxo1r/Y2+J0+e1IkTJzRgwADufg0AALqc1yHz//+odWFhofbu3euzgQAA\n",
              "AM5Xh36z73fNnj1br732mi9mAQAA8IrXZ2S+e6frlpYWvfvuu9z9GgAA+IXXIRMaGtp6jUxQUJBi\n",
              "YmL0xBNP2DEbAADA9+Lu1wAAwFidvkYGAADAX7w+I9OjR4/W2xN8l2VZcjgcamlp8clgAAAA5+J1\n",
              "yCxfvlzffPON7rzzTklSTk6OLrroIt13332+ng0AAOB7eR0yL730knbv3t36+E9/+pPGjRunpUuX\n",
              "+nQwAACAc/H6Gpljx455/Bbfuro6HTt2zKdDAQAAnA+vz8j85je/0ZgxYzR9+nRJ0uuvv66HHnrI\n",
              "13MBAACck9chk5WVpQkTJmjz5s2SpIULF2rUqFE+HwwAAOBcvA4ZSRowYIB+9KMf6aqrrlJzc7Oa\n",
              "mprUq1cvX88GAADwvby+RmbDhg0aP368br/9dklSeXm5rrvuOl/PBQAAcE5eh0x2drbee+89hYaG\n",
              "SpLGjBmjTz75xNdzAQAAnJPXIRMUFKQBAwZ4PMfbSgAAwB+8Dpk+ffro8OHDrb/d9+2331b//v19\n",
              "PhgAAMC5eH2x7yOPPKKrr75aH3/8sSZOnKj9+/frtddes2M2AACA7+VVyJw+fVotLS3avHmz3nnn\n",
              "HVmWpZSUlNbrZQAAALqSVyHTo0cPZWZmau/evbr66qvtmgkAAOC8eH2NTExMjKqrq+2YBQAAwCte\n",
              "XyPz1VdfKSEhQSkpKfrBD37Q+nxhYaFPBwMAADiX8w6ZzMxMrVmzRrfddptmzJihfv362TkXAADA\n",
              "OZ13yJSUlEiSbrvtNiUmJuq9996zbSgAAIDz4fU1MpJkWZav5wAAAPDaeZ+R+eabb1RWVibLsnTy\n",
              "5MnWP38rPj7elgEBAADa41XIzJgxo/Xxd//scDj08ccf+3YyAACAczjvkKmpqbFxDAAAAO916BoZ\n",
              "AACAQEDIAAAAYxEyAADAWIQMAAAwFiEDAACMRcgAAABjETIAAMBYhAwAADAWIQMAAIxla8hUVVUp\n",
              "JSVFsbGxSkpKUnl5ebv7WpalyZMnKzQ01M6RAABAN2JryGRlZSkzM1OVlZVavHix0tLS2t33r3/9\n",
              "q4YPH27nOAAAoJuxLWTq6upUUlKi1NRUSdKcOXNUW1ur6urqNvuWl5fr5Zdf1v3333/O4zY2Nqqh\n",
              "ocFja2lp8fn8AAAg8NkWMrW1tYqIiFBw8Jn7UjocDrlcLrndbo/9Tp06pYyMDOXm5iooKOicx83O\n",
              "zlbfvn09tp07d9ryGgAAQGDz+8W+y5Yt0+zZszVixIjz2n/JkiWqr6/32JKTk22eEgAABKJguw48\n",
              "ZMgQHTx4UM3NzQoODpZlWXK73XK5XB77bdmyRW63W08++aSam5vV0NCgqKgo7dq1S4MGDWpzXKfT\n",
              "KafT6fHc+ZzJAQAA3Y9tZ2TCwsKUmJiogoICSdLGjRsVGRmp6Ohoj/22bt2qTz75RDU1Ndq2bZtC\n",
              "QkJUU1Nz1ogBAAD4LlvfWsrNzVVubq5iY2O1YsUK5efnS5LS09NVVFRk56cGAAAXANveWpKkuLg4\n",
              "FRcXt3k+Ly/vrPtHRUXp6NGjdo4EAAC6Eb9f7AsAANBRhAwAADAWIQMAAIxFyAAAAGMRMgAAwFiE\n",
              "DAAAMBYhAwAAjEXIAAAAYxEyAADAWIQMAAAwFiEDAACMRcgAAABjETIAAMBYhAwAADAWIQMAAIxF\n",
              "yAAAAGMRMgAAwFiEDAAAMBYhAwAAjEXIAAAAYxEyAADAWIQMAAAwFiEDAACMRcgAAABjETIAAMBY\n",
              "hAwAADAWIQMAAIxFyAAAAGMRMgAAwFiEDAAAMBYhAwAAjEXIAAAAYxEyAADAWIQMAAAwFiEDAACM\n",
              "RcgAAABjETIAAMBYhAwAADAWIQMAAIxFyAAAAGMRMgAAwFiEDAAAMBYhAwAAjEXIAAAAYxEyAADA\n",
              "WIQMAAAwFiEDAACMRcgAAABjETIAAMBYhAwAADAWIQMAAIxFyAAAAGMRMgAAwFiEDAAAMBYhAwAA\n",
              "jEXIAAAAYxEyAADAWIQMAAAwFiEDAACMRcgAAABjETIAAMBYhAwAADCWrSFTVVWllJQUxcbGKikp\n",
              "SeXl5W322bRpk5KTkzVy5EiNGjVKixYt0unTp+0cCwAAdBO2hkxWVpYyMzNVWVmpxYsXKy0trc0+\n",
              "/fr103PPPaeKigrt3r1b77zzjtavX2/nWAAAoJuwLWTq6upUUlKi1NRUSdKcOXNUW1ur6upqj/3G\n",
              "jh2rYcOGSZJ69+6thIQE1dTUtHvcxsZGNTQ0eGwtLS12vQwAABDAbAuZ2tpaRUREKDg4WJLkcDjk\n",
              "crnkdrvb/ZhDhw5pw4YNuuaaa9rdJzs7W3379vXYdu7c6fP5AQBA4AuYi30bGhp07bXXatGiRfrx\n",
              "j3/c7n5LlixRfX29x5acnNyFkwIAgEARbNeBhwwZooMHD6q5uVnBwcGyLEtut1sul6vNvseOHdO0\n",
              "adM0c+ZMLVy48HuP63Q65XQ6PZ4LCgry6ewAAMAMtp2RCQsLU2JiogoKCiRJGzduVGRkpKKjoz32\n",
              "+/rrrzVt2jRNmzZNv/vd7+waBwAAdEO2vrWUm5ur3NxcxcbGasWKFcrPz5ckpaenq6ioSJK0cuVK\n",
              "7dy5U4WFhUpISFBCQoL+/Oc/2zkWAADoJmx7a0mS4uLiVFxc3Ob5vLy81j8vXbpUS5cutXMMAADQ\n",
              "TQXMxb4AAADeImQAAICxCBkAAGAsQgYAABiLkAEAAMYiZAAAgLEIGQAAYCxCBgAAGIuQAQAAxiJk\n",
              "AACAsQgZAABgLEIGAAAYi5ABAADGImQAAICxCBkAAGAsQgYAABiLkAEAAMYiZAAAgLEIGQAAYCxC\n",
              "BgAAGIuQAQAAxiJkAACAsQgZAABgLEIGAAAYi5ABAADGImQAAICxCBkAAGAsQgYAABiLkAEAAMYi\n",
              "ZAAAgLEIGQAAYCxCBgAAGIuQAQAAxiJkAACAsQgZAABgLEIGAAAYi5ABAADGImQAAICxCBkAAGAs\n",
              "QgYAABiLkAEAAMYiZAAAgLEIGQAAYCxCBgAAGIuQAQAAxiJkAACAsQgZAABgLEIGAAAYi5ABAADG\n",
              "ImQAAICxCBkAAGAsQgYAABiLkAEAAMYiZAAAgLEIGQAAYCxCBgAAGIuQAQAAxiJkAACAsQgZAABg\n",
              "LEIGAAAYi5ABAADGsjVkqqqqlJKSotjYWCUlJam8vPys+61bt04xMTEaPny4MjIydOrUKTvHAgAA\n",
              "3YStIZOVlaXMzExVVlZq8eLFSktLa7PP/v379eCDD2rr1q2qrq7W4cOHtWbNGjvHAgAA3YRtIVNX\n",
              "V6eSkhKlpqZKkubMmaPa2lpVV1d77LdhwwbNmDFD4eHhcjgcuuOOO/Tss8+2e9zGxkY1NDR4bC0t\n",
              "LXa9DAAAEMCC7TpwbW2tIiIiFBx85lM4HA65XC653W5FR0e37ud2uzV06NDWx1FRUXK73e0eNzs7\n",
              "W8uWLfN47vLLL9fChQu9mq+lpUU7d+5UcnKygoKCzrrPbK+O6J2FC9+28ej2O5/1w9mxdh3H2nUO\n",
              "69dxJqydXd+zfPH9qr31Gzp0qO69995OHdu2kLHLkiVL2kSL0+mU0+n06jgNDQ3q27ev3njjDYWE\n",
              "hPhyxAsC69dxrF3HsXadw/p1HGvXOXaun20hM2TIEB08eFDNzc0KDg6WZVlyu91yuVwe+7lcLn30\n",
              "0Uetj2tqatrs810diRYAANA92XaNTFhYmBITE1VQUCBJ2rhxoyIjIz3eVpLOXDtTVFSkQ4cOybIs\n",
              "5eTk6KabbrJrLAAA0I3Y+lNLubm5ys3NVWxsrFasWKH8/HxJUnp6uoqKiiRJw4YN07JlyzRhwgRF\n",
              "R0dr0KBBysrKsnMsAADQTdh6jUxcXJyKi4vbPJ+Xl+fxOCMjQxkZGXaO0obT6dQf/vAH3qbqINav\n",
              "41i7jmPtOof16zjWrnPsXD+HZVmWz48KAADQBbhFAQAAMBYhAwAAjEXIAAAAYxEyAADAWN0uZBYs\n",
              "WKCoqCg5HA6Vlpa2+fv8/Hw5HA69/PLLZ/34r7/+WlOnTtXAgQMVGhpq66yBprNrV1ZWpiuvvFKX\n",
              "X365Ro8erfnz5+ubb76xd+gA0tn1279/v8aNG6eEhASNHj1a119/vY4cOWLv0AGis2v3XWlpaXI4\n",
              "HDp69KjP5wxUnV2/mpoaBQUFKSEhoXX77i8q7c588bXndrt17bXXKi4uTiNHjtSqVavsGziAdHbt\n",
              "3njjDY+vucsuu0yJiYlez9HtQmbu3Lnatm2bx/2bvlVTU6O1a9dq/Pjx7X58z549tXjxYr311lt2\n",
              "jhmQOrt2vXv31pNPPqkPPvhAe/fu1fHjx/XII4/YOXJA6ez6XXbZZdq2bZtKS0u1b98+XXbZZXro\n",
              "oYdsnDhwdHbtvlVYWKiePXvaMWJA88X69enTR6Wlpa3b8OHD7Ro3oHR27SzL0qxZs3Trrbfqww8/\n",
              "VEVFhW644QY7Rw4YnV27qVOnenzNJSYm6pZbbvF6jm4XMldeeaUiIyPbPH/69Gmlp6dr1apV3/tz\n",
              "7E6nU5MnT77gzsZInV+7mJgYxcfHS5KCgoKUlJSkmpoau8YNOL742rvooosknbnB2vHjx+VwOGyb\n",
              "N5B0du0k6fDhw3r44Yf12GOP2TVmwPLF+l2oOrt2b7/9tpxOp66//vrW5y699FJbZg00vvy6++yz\n",
              "z/T2229r3rx5Xs/R7UKmPY899pgmTJigcePG+XsU43Rk7Y4fP668vDzNnDnTxsnM4M36NTU1KSEh\n",
              "QQMHDlRVVVWbO71faLxZu4yMDP3lL39Rnz59umAyM3izfsePH1dSUpISExO1fPlytbS0dMGEget8\n",
              "166iokKDBg3STTfdpLFjx2rWrFn6+OOPu2jKwNSR7xlPP/20pk+frrCwMK8/n3F3v+6Iffv2aePG\n",
              "jfrvf//r71GM05G1a2pq0o033qhf/OIXmjVrlo3TBT5v169Xr14qLS1VU1OT7rnnHuXm5mrRokU2\n",
              "TxmYvFm7vLw8uVwuTZ48uQsmM4M36xcREaFPP/1UYWFh+uqrr3TjjTfq0Ucf5WvvPNauublZmzZt\n",
              "0o4dOzRq1Cjl5OTohhtuUElJSRdMGng68j3Dsiz97W9/0xNPPNGhz3lBnJHZunWrampqFBMTo6io\n",
              "KO3YsUOZmZl66qmn/D1awPN27U6dOqUbb7xRERERWrlyZRdPG3g6+rXXq1cv3X777XrmmWe6aNLA\n",
              "483abd68Wa+88oqioqIUFRUlSYqPj9eePXu6eOrA4c36OZ3O1v8T7t+/v+bPn6+tW7d29cgBw5u1\n",
              "c7lcGjt2rEaNGiVJmjdvnt577z2dOnWqq8cOCB35b96WLVt08uRJTZ06tWOf1Oqmhg4dau3Zs+es\n",
              "f/fTn/7Ueumll7734/fv32/17dvX53OZoKNrd+rUKWv27NnW/PnzrdOnT9s3YIDr6PrV1NRYx48f\n",
              "tyzLslpaWqyFCxdaN998s01TBqbO/rv9liTryJEjPpvLFB1dv8OHD1tNTU2WZVnWyZMnrblz51oP\n",
              "PvigTVMGpo6u3ddff2398Ic/tA4cOGBZlmW98MIL1siRI22aMjB19t9tamqqtXTp0g5//m53RiYr\n",
              "K0uRkZE6cOCApk6dqujo6HN+zO9//3vl5OS0Po6Pj9cVV1yhhoYGRUZGdujiIxN1du2ef/55FRYW\n",
              "qqSkRGPHjlVCQoLuvvtuu8cOGJ1dv/fff1/jx49XfHy84uPj9fnnn3f4VKtpfPHv9kLW2fXbtm2b\n",
              "xo4dqzFjxigxMVHh4eFaunSp3WMHhM6u3SWXXKKcnBz98pe/1JgxY7Rq1So999xzdo8dEHzx77a+\n",
              "vl6FhYWaP39+h+fgppEAAMBY3e6MDAAAuHAQMgAAwFiEDAAAMBYhAwAAjEXIAAAAYxEyAADAWIQM\n",
              "AAAwFiEDAACMRcgAAABjETIAAMBY/weEWp60IoMmJgAAAABJRU5ErkJggg==\n",
              "\">\n",
              "      </div>\n",
              "      <script type=\"text/javascript\">\n",
              "        (() => {\n",
              "          const chartElement = document.getElementById(\"chart-5afa10d5-b290-498d-9428-d389b338bd14\");\n",
              "          async function getCodeForChartHandler(event) {\n",
              "            const chartCodeResponse =  await google.colab.kernel.invokeFunction(\n",
              "                'getCodeForChart', [\"chart-5afa10d5-b290-498d-9428-d389b338bd14\"], {});\n",
              "            const responseJson = chartCodeResponse.data['application/json'];\n",
              "            await google.colab.notebook.addCell(responseJson.code, 'code');\n",
              "          }\n",
              "          chartElement.onclick = getCodeForChartHandler;\n",
              "        })();\n",
              "      </script>\n",
              "      <style>\n",
              "        .colab-quickchart-chart-with-code  {\n",
              "            display: block;\n",
              "            float: left;\n",
              "            border: 1px solid transparent;\n",
              "        }\n",
              "\n",
              "        .colab-quickchart-chart-with-code:hover {\n",
              "            cursor: pointer;\n",
              "            border: 1px solid #aaa;\n",
              "        }\n",
              "      </style>"
            ]
          },
          "metadata": {}
        },
        {
          "output_type": "display_data",
          "data": {
            "text/plain": [
              "<google.colab._quickchart_helpers.SectionTitle at 0x79161f308b20>"
            ],
            "text/html": [
              "<h4 class=\"colab-quickchart-section-title\">2-d distributions</h4>\n",
              "<style>\n",
              "  .colab-quickchart-section-title {\n",
              "      clear: both;\n",
              "  }\n",
              "</style>"
            ]
          },
          "metadata": {}
        },
        {
          "output_type": "display_data",
          "data": {
            "text/plain": [
              "from matplotlib import pyplot as plt\n",
              "_df_2.plot(kind='scatter', x='Survived', y='Age', s=32, alpha=.8)\n",
              "plt.gca().spines[['top', 'right',]].set_visible(False)"
            ],
            "text/html": [
              "      <div class=\"colab-quickchart-chart-with-code\" id=\"chart-eb958c2f-52d3-4284-b04c-96bac860cbb3\">\n",
              "        <img style=\"width: 180px;\" src=\"data:image/png;base64,iVBORw0KGgoAAAANSUhEUgAAAjEAAAGkCAYAAADALHSZAAAAOXRFWHRTb2Z0d2FyZQBNYXRwbG90\n",
              "bGliIHZlcnNpb24zLjcuMSwgaHR0cHM6Ly9tYXRwbG90bGliLm9yZy/bCgiHAAAACXBIWXMAAA9h\n",
              "AAAPYQGoP6dpAAAhi0lEQVR4nO3de3BU9f3/8dcxCwslEOoAKkay1sQCwZALpMFgRmi/BlodxCLe\n",
              "ggiExEibOrGDw5ji5aulVk1H09FcxDAUv18tBqMt1s7grUk1xgsRo4MKcsBggrRfm5AYNtnN+f7h\n",
              "z3ybXwhsIHv54PMxc2aa3XPOvvOZaJ+ePdlYjuM4AgAAMMwZ4R4AAADgZBAxAADASEQMAAAwEhED\n",
              "AACMRMQAAAAjETEAAMBIRAwAADASEQMAAIx02kfMww8/HO4RAABAEAQ1YgoLC+XxeGRZlhobGwc8\n",
              "X1VVJcuyVFNTc8zj//rXvyo5Oblvmzx5slJTU4c0w/79+09icgAAEOmCGjFLlixRXV2d4uLiBjxn\n",
              "27YqKyuVkZEx6PHZ2dlqbGzs21JTU3XDDTcEc2QAAGCIoEZMVlaWYmNjBzze29ur3NxclZaWyu12\n",
              "B3Suzz//XC+99JKWLVs26D5er1ft7e39Nr/ff9LzAwCAyBWWe2JKSkqUmZmptLS0gI/ZtGmTfvzj\n",
              "H2vSpEmD7rNhwwbFxMT02xoaGoZjZAAAEGFCHjFNTU2qrq5WcXFxwMc4jqMnnnhCq1atOu5+69at\n",
              "U1tbW78tPT39VEcGAAARyBXqF6ytrZVt20pISJAktba2Ki8vTy0tLSooKDjmMa+99pqOHj2q7Ozs\n",
              "457b7XYPeHsqKipqeAYHAAARJeRXYgoKCtTS0iLbtmXbtjIyMlRRUTFowEjSxo0bddNNNxEkAACg\n",
              "T1AjJj8/X7GxsWpublZ2drbi4+NPeMz69etVVlbW93VbW5u2bdumlStXBnNUAABgGMtxHCfcQwRT\n",
              "UVGRSkpKwj0GAAAYZqf9J/YCAIDTExEDAACMRMScpKM9fv2jw6ujPXyYHgAA4RDyX7E23eEjXm2p\n",
              "t/Vi0yF19fg1ekSUFs44Wzlz4jQhOrBPHwYAAKeOKzFDcPiIVz//75168s0D6vT65DrDUqfXpy1v\n",
              "7tfP/mun/tHhDfeIAAB8axAxQ7Cl3taeL45oYrRb3x0zUmPcLn13zEhNjHZrzxdHtOUN/mI2AACh\n",
              "QsQE6GiPXy82HdIoV5RcUf2XzRV1htyuKP3lg1bukQEAIESImAB1eH3q6vFrpOvYS+Z2naGubr86\n",
              "vL4QTwYAwLcTEROgaLdLo0dEqdvXe8znvb5ejR4ZpWg390oDABAKREyARo2I0oIZZ+mozy+fv3/I\n",
              "+Py98vr8Wph4tkaN4O87AQAQClw2GIJlczx6c9+X2vPFEbldUXK7zpDX93XAJEwaq5w5ceEeEQCA\n",
              "bw2uxAzBhGi3fn99inJ+EKfoUS75eh1Fj3Ip5wdxKr0+hc+JAQAghLgSM0QTot269T8u1M2XXqAO\n",
              "r0/RbhdvIQEAEAZEzEkaNSKKeAEAIIx4OwkAABiJiAEAAEYiYgAAgJGIGAAAYCQiBgAAGImIAQAA\n",
              "RiJiAACAkYgYAABgJCIGAAAYiYgBAABGImIAAICRiBgAAGAkIgYAABiJiAEAAEYiYgAAgJGIGAAA\n",
              "YCQiBgAAGImIAQAARiJiAACAkYgYAABgJCIGAAAYiYgBAABGImIAAICRiBgAAGAkIgYAABiJiAEA\n",
              "AEYiYgAAgJGIGAAAYCQiBgAAGImIAQAARiJiAACAkYgYAABgJCIGAAAYiYgBAABGImIAAICRiBgA\n",
              "AGCkoEZMYWGhPB6PLMtSY2PjgOerqqpkWZZqamoGPceBAwd0xRVX6Pvf/76mT5+u0tLS4A0MAACM\n",
              "EdSIWbJkierq6hQXFzfgOdu2VVlZqYyMjEGPdxxHixcv1o033qiPPvpIH374oZYuXRrMkQEAgCGC\n",
              "GjFZWVmKjY0d8Hhvb69yc3NVWloqt9s96PEvvfSS3G63rr766r7HzjrrrEH393q9am9v77f5/f5T\n",
              "+yYAAEBECss9MSUlJcrMzFRaWtpx9/vwww81ceJEXXvttUpJSdHixYv16aefDrr/hg0bFBMT029r\n",
              "aGgY7vEBAEAECHnENDU1qbq6WsXFxSfc1+fz6eWXX9avfvUr7dy5U9nZ2cd9O2ndunVqa2vrt6Wn\n",
              "pw/n+AAAIEK4Qv2CtbW1sm1bCQkJkqTW1lbl5eWppaVFBQUF/fadMmWKUlJSlJiYKElatmyZbrnl\n",
              "FvX09GjEiBEDzu12uwe8PRUVFRWk7wQAAIRTyK/EFBQUqKWlRbZty7ZtZWRkqKKiYkDASNLChQvV\n",
              "3NysgwcPSpJeeOEFTZs27ZgBAwAAvl2CeiUmPz9f27dvV2trq7KzszV27Fjt2bPnuMesX79ekydP\n",
              "1s0336wxY8aorKxMP/nJT+Q4jmJiYvTUU08Fc2QAAGAIy3EcJ9xDBFNRUZFKSkrCPQYAABhmfGIv\n",
              "AAAwEhEDAACMRMQAAAAjETEAAMBIRAwAADASEQMAAIxExAAAACMRMQAAwEhEDAAAMBIRAwAAjETE\n",
              "AAAAIxExAADASEQMAAAwEhEDAACMRMQAAAAjETEAAMBIRAwAADASEQMAAIxExAAAACMRMQAAwEhE\n",
              "DAAAMBIRAwAAjETEAAAAIxExAADASEQMAAAwEhEDAACMRMQAAAAjETEAAMBIRAwAADASEQMAAIxE\n",
              "xAAAACMRMQAAwEhEDAAAMBIRAwAAjETEAAAAIxExAADASEQMAAAwEhEDAACMRMQAAAAjETEAAMBI\n",
              "RAwAADASEQMAAIxExAAAACMRMQAAwEhEDAAAMBIRAwAAjETEAAAAIxExAADASEQMAAAwEhEDAACM\n",
              "FNSIKSwslMfjkWVZamxsHPB8VVWVLMtSTU3NMY+3bVtRUVFKTk7u2/bu3RvMkQEAgCFcwTz5kiVL\n",
              "tHbtWs2dO3fAc7Ztq7KyUhkZGcc9x9ixY48ZQAAA4NstqFdisrKyFBsbO+Dx3t5e5ebmqrS0VG63\n",
              "e9hez+v1qr29vd/m9/uH7fwAACByhOWemJKSEmVmZiotLe2E+3Z2dmr27NlKTU3VPffcc9wo2bBh\n",
              "g2JiYvptDQ0Nwzk6AACIECGPmKamJlVXV6u4uPiE+55zzjk6ePCg3nrrLe3YsUO1tbV66KGHBt1/\n",
              "3bp1amtr67elp6cP5/gAACBChDxiamtrZdu2EhIS5PF4VF9fr7y8PD322GMD9nW73Zo0aZIk6cwz\n",
              "z9TKlStVW1s76LndbrfGjRvXb4uKigra9wIAAMIn5BFTUFCglpYW2bYt27aVkZGhiooKFRQUDNj3\n",
              "iy++UE9Pj6Sv73fZtm2bUlJSQj0yAACIQEGNmPz8fMXGxqq5uVnZ2dmKj48/4THr169XWVmZJKmu\n",
              "rk4pKSmaOXOmUlNTdfbZZ+uOO+4I5sgAAMAQluM4TriHCKaioiKVlJSEewwAADDM+MReAABgJCIG\n",
              "AAAYiYgBAABGImIAAICRiBgAAGAkIgYAABiJiAEAAEYiYgAAgJGIGAAAYCQiBgAAGImIAQAARiJi\n",
              "AACAkYgYAABgJCIGAAAYiYgBAABGImIAAICRiBgAAGAkIgYAABiJiAEAAEYiYgAAgJGIGAAAYCQi\n",
              "BgAAGImIAQAARiJiAACAkYgYAABgJCIGAAAYiYgBAABGImIAAICRiBgAAGAkIgYAABiJiAEAAEYi\n",
              "YgAAgJGIGAAAYCQiBgAAGImIAQAARiJiAACAkYgYAABgJCIGAAAYiYgBAABGImIAAICRiBgAAGAk\n",
              "IgYAABiJiAEAAEYiYgAAgJGIGAAAYCQiBgAAGImIAQAARiJiAACAkYgYAABgpJOKGK/XO9xzAAAA\n",
              "DMmQImbXrl2aMWOGLrjgAknSO++8o7Vr1w66f2FhoTwejyzLUmNj44Dnq6qqZFmWampqTvjaN910\n",
              "kyzL0r/+9a+hjAwAAE5TQ4qYwsJClZWVaeLEiZKk1NRUbd++fdD9lyxZorq6OsXFxQ14zrZtVVZW\n",
              "KiMj44Svu23bNo0YMWIoowIAgNPckCKmo6NDc+fO7fvasiyNHDly0P2zsrIUGxs74PHe3l7l5uaq\n",
              "tLRUbrf7uK956NAh/frXv1ZJSclQRgUAAKc515B2drnU09Mjy7IkSZ999pmioqKG/KIlJSXKzMxU\n",
              "WlraCfddvXq1fvvb32rs2LEn3Nfr9Q64X8fv9w95PgAAEPmGdCXmZz/7ma688kodPnxYxcXFuuSS\n",
              "S457T8yxNDU1qbq6WsXFxSfc9/HHH9eUKVM0f/78gM69YcMGxcTE9NsaGhqGNB8AADDDkCImJydH\n",
              "d9xxh66//np1d3dry5YtWrp06ZBesLa2VrZtKyEhQR6PR/X19crLy9Njjz02YN9XXnlFzz33nDwe\n",
              "jzwejyQpKSlJO3fuPOa5161bp7a2tn5benr6kOYDAABmsBzHcYL9Ih6PRzU1NUpOTh7w3KWXXqpb\n",
              "b71VV1555QnPY1mWvvzyS40fPz7g1y4qKuJ+GgAATkNDuidm3rx5fffDfGP8+PGaM2eOCgsLB9yk\n",
              "m5+fr+3bt6u1tVXZ2dkaO3as9uzZc9zXWL9+vSZPnqybb755KKMBAIBvmSFdifnlL3+pXbt2afny\n",
              "5bIsS5s3b1Z8fLwOHz6smJgYVVRUBHPWk8KVGAAATk9DuhLz+uuvq7a2tu83kq6++mpdcsklqqur\n",
              "00UXXRSUAQEAAI5lSDf2/vOf/+z3dtI396i4XC6NGjVq2IcDAAAYzJCuxPzwhz/UwoULlZOTI0l6\n",
              "8sknNX/+fHV0dJzwQ+sAAACG05Ai5pFHHlF5eblqampkWZauuOIKTZo0SdHR0aqvrw/WjAAAAAMM\n",
              "6e0kl8ulNWvW6L777tP555+v//zP/9T9998frNkAAAAGFfCVmK+++kpPP/20Nm7cqE8//VRdXV16\n",
              "4403NHXq1GDOBwAAcEwBXYlZvXq1zjvvPD3//PO6/fbbdeDAAY0fP56AAQAAYRPQlZinnnpKs2bN\n",
              "Un5+vrKzs2VZ1oAPvQMAAAilgK7EtLS0KCcnR/fcc4/i4uJUXFysnp6eYM8GAAAwqIAiJjo6WqtW\n",
              "rdLrr7+uF198UUePHlV3d7cuvvhiPfroo8GeEQAAYIAh/XaSJE2fPl0PPvigDh48qNtuu03bt28P\n",
              "xlwAAADHNeSI+YbL5dJPf/pTIgYAAITFSUcMAABAOBExAADASEQMAAAwEhEDAACMRMQAAAAjETEA\n",
              "AMBIRAwAADASEQMAAIxExAAAACMRMQAAwEhEDAAAMBIRAwAAjETEAAAAIxExAADASEQMAAAwEhED\n",
              "AACMRMQAAAAjETEAAMBIRAwAADASEQMAAIxExAAAACMRMQAAwEhEDAAAMBIRAwAAjETEAAAAIxEx\n",
              "AADASEQMAAAwEhEDAACMRMQAAAAjETEAAMBIRAwAADASEQMAAIxExAAAACMRMQAAwEhEDAAAMBIR\n",
              "AwAAjETEAAAAIxExAADASEQMAAAwUlAjprCwUB6PR5ZlqbGxccDzVVVVsixLNTU1xzx+3759SktL\n",
              "U3JysmbMmKGrr75aX375ZTBHBgAAhghqxCxZskR1dXWKi4sb8Jxt26qsrFRGRsagx0+ePFl1dXVq\n",
              "bGxUU1OTJk+erLvuuiuIEwMAAFMENWKysrIUGxs74PHe3l7l5uaqtLRUbrd70OPdbrdGjx4tSfL7\n",
              "/ers7JRlWYPu7/V61d7e3m/z+/2n/o0AAICIE5Z7YkpKSpSZmam0tLQT7tvd3a3k5GRNmDBBn3zy\n",
              "ie6+++5B992wYYNiYmL6bQ0NDcM5OgAAiBAhj5impiZVV1eruLg4oP1HjhypxsZGHTp0SFOnTlV5\n",
              "efmg+65bt05tbW39tvT09OEaHQAARJCQR0xtba1s21ZCQoI8Ho/q6+uVl5enxx577LjHjRw5UitW\n",
              "rNAf/vCHQfdxu90aN25cvy0qKmq4vwUAABABQh4xBQUFamlpkW3bsm1bGRkZqqioUEFBwYB99+/f\n",
              "r6+++krS1/fRbN26VUlJSaEeGQAARKCgRkx+fr5iY2PV3Nys7OxsxcfHn/CY9evXq6ysTJK0a9cu\n",
              "ZWRkKCkpSUlJSTp8+LAeeeSRYI4MAAAMYTmO44R7iGAqKipSSUlJuMcAAADDjE/sBQAARiJiAACA\n",
              "kYgYAABgJCIGAAAYiYgBAABGImIAAICRiBgAAGAkIgYAABiJiAEAAEYiYgAAgJGIGAAAYCQiBgAA\n",
              "GImIAQAARiJiAACAkYgYAABgJCIGAAAYiYgBAABGImIAAICRiBgAAGAkIgYAABiJiAEAAEYiYgAA\n",
              "gJGIGAAAYCQiBgAAGImIAQAARiJiAACAkYgYAABgJCIGAAAYiYgBAABGImIAAICRiBgAAGAkIgYA\n",
              "ABiJiAEAAEYiYgAAgJGIGAAAYCQiBgAAGImIAQAARiJiAACAkYgYAABgJCIGAAAYiYgBAABGImIA\n",
              "AICRiBgAAGAkIgYAABiJiAEAAEYiYgAAgJGIGAAAYCQiBgAAGImIAQAARiJiAACAkYIaMYWFhfJ4\n",
              "PLIsS42NjQOer6qqkmVZqqmpOebx77//vrKysjR16lTNmDFDK1euVFdXVzBHBgAAhghqxCxZskR1\n",
              "dXWKi4sb8Jxt26qsrFRGRsagx48aNUq///3vtXv3br333nvq7OzU/fffH8yRAQCAIVzBPHlWVtYx\n",
              "H+/t7VVubq5KS0t12223DXp8QkJC3/+OiorS7Nmz1dTUNOj+Xq9XXq+332N+v3+IUwMAABOE5Z6Y\n",
              "kpISZWZmKi0tLeBjOjs79fjjj2vRokWD7rNhwwbFxMT02xoaGoZjZAAAEGFCHjFNTU2qrq5WcXFx\n",
              "wMd0d3frmmuu0WWXXabFixcPut+6devU1tbWb0tPTx+OsQEAQIQJ6ttJx1JbWyvbtvveKmptbVVe\n",
              "Xp5aWlpUUFAwYP+enh5dc801Ouecc/Twww8f99xut1tut7vfY1FRUcM3PAAAiBghvxJTUFCglpYW\n",
              "2bYt27aVkZGhioqKYwaMz+fTtddeqzPPPFMVFRWyLCvU4wIAgAgV1IjJz89XbGysmpublZ2drfj4\n",
              "+BMes379epWVlUmSnn76aW3btk1vv/22UlJSlJycrDVr1gRzZAAAYAjLcRwn3EMEU1FRkUpKSsI9\n",
              "BgAAGGZ8Yi8AADASEQMAAIxExAAAACMRMQAAwEhEDAAAMBIRAwAAjETEAAAAIxExAADASEQMAAAw\n",
              "EhEDAACMRMQAAAAjETEAAMBIRAwAADASEQMAAIxExAAAACMRMQAAwEhEDAAAMBIRAwAAjETEAAAA\n",
              "IxExAADASEQMAAAwEhEDAACMRMQAAAAjETEAAMBIRAwAADASEQMAAIxExAAAACMRMQAAwEhEDAAA\n",
              "MBIRAwAAjETEAAAAIxExAADASEQMAAAwEhEDAACMRMQAAAAjETEAAMBIRAwAADASEQMAAIxExAAA\n",
              "ACMRMQAAwEhEDAAAMBIRAwAAjETEAACAITva49c/Orw62uMP2wyusL0yAAAwzuEjXm2pt/Vi0yF1\n",
              "9fg1ekSUFs44Wzlz4jQh2h3SWbgSAwAAAnL4iFc//++devLNA+r0+uQ6w1Kn16ctb+7Xz/5rp/7R\n",
              "4Q3pPEQMAAAIyJZ6W3u+OKKJ0W59d8xIjXG79N0xIzUx2q09XxzRljf2h3QeIgYAAJzQ0R6/Xmw6\n",
              "pFGuKLmi+ueDK+oMuV1R+ssHrSG9R4aIAQAAJ9Th9amrx6+RrmOng9t1hrq6/erw+kI2ExEDAABO\n",
              "KNrt0ugRUer29R7zea+vV6NHRinaHbrfGSJiAADACY0aEaUFM87SUZ9fPn//kPH5e+X1+bUw8WyN\n",
              "GhEVspmCGjGFhYXyeDyyLEuNjY0Dnq+qqpJlWaqpqTnm8R0dHcrOztaECRM0fvz4YI4KAABOYNkc\n",
              "j+InjdXhDq/+p7NbnV6f/qezW4c7vEqYNFY5c+JCOk9QI2bJkiWqq6tTXNzAb8q2bVVWViojI2PQ\n",
              "40eMGKHbb79dO3bsCOaYAAAgABOi3fr99SnK+UGcoke55Ot1FD3KpZwfxKn0+pSQf05MUN+4ysrK\n",
              "Oubjvb29ys3NVWlpqW677bZBj3e73Zo/f75s2w7o9bxer7ze/r+j7veH75MEAQA43UyIduvW/7hQ\n",
              "N196gTq8PkW7XSF9C+nfheWemJKSEmVmZiotLW1Yz7thwwbFxMT02xoaGob1NQAAwNf3yEyIdoct\n",
              "YKQwRExTU5Oqq6tVXFw87Odet26d2tra+m3p6enD/joAACD8Qv63k2pra2XbthISEiRJra2tysvL\n",
              "U0tLiwoKCk7p3G63W253//fjoqLCV4gAACB4Qn4lpqCgQC0tLbJtW7ZtKyMjQxUVFaccMAAA4Nsl\n",
              "qBGTn5+v2NhYNTc3Kzs7W/Hx8Sc8Zv369SorK+v7OikpSXPmzFF7e7tiY2O1bNmyYI4MAAAMYTmO\n",
              "44R7iGAqKipSSUlJuMcAAADDjE/sBQAARiJiAACAkYgYAABgJCIGAAAYiYgBAABGOu1/O+mqq66S\n",
              "x+MJy2v7/X41NDQoPT2dD907Sazh8GAdTx1rODxYx1P3bVnDuLg4/eIXvzjuPqd9xIRTe3u7YmJi\n",
              "1NbWpnHjxoV7HCOxhsODdTx1rOHwYB1PHWv4f3g7CQAAGImIAQAARiJiAACAkYiYIHK73brzzjsH\n",
              "/GVtBI41HB6s46ljDYcH63jqWMP/w429AADASFyJAQAARiJiAACAkYgYAABgJCLmFH3yySe6+OKL\n",
              "deGFF2r27Nn64IMPBuzz8ssvKz09XdOnT1diYqLWrl2r3t7eMEwbuQJZxzfeeEPJyclKTk5WYmKi\n",
              "8vPz5fV6wzBtZApkDb/hOI7mz5+v8ePHh25AQwSyjq+++qpGjx7d9/OYnJysrq6uMEwbuQL9eXz/\n",
              "/fd16aWXatq0aZo2bZq2bdsW4kkjVyBrWFVV1e/ncMKECbrqqqvCMG2YODgl8+bNc6qqqhzHcZyt\n",
              "W7c6s2bNGrDPu+++6+zdu9dxHMfp6upyMjMz+47B1wJZx87OTqe7u9txHMfx+/3OlVde6ZSUlIRy\n",
              "zIgWyBp+46GHHnJyc3OdmJiY0AxnkEDW8ZVXXnFmzpwZ2sEME+g/0+eff75TW1vrOI7j+Hw+54sv\n",
              "vgjlmBFtKP9MfyMxMdF55plngjxZ5CBiTsGhQ4ecsWPHOj09PY7jOE5vb69z1llnOZ988slxj1uz\n",
              "Zo1z5513hmBCM5zMOnZ1dTnZ2dnO7373uxBNGdmGsoZNTU3OJZdc4uzZs4eI+f8Euo5EzPEFuo6V\n",
              "lZXOddddF44RI97J/Huxvr7emThxYt9/7H0b8HbSKfjss890zjnnyOVySZIsy9KUKVN04MCBQY9p\n",
              "bW3VM888o8svvzxUY0a8oayjbduaOXOmJkyYoJiYGN1yyy2hHjciBbqGPT09Wr16tcrLy0/rPxx3\n",
              "sobys7h3716lpqZq9uzZevTRR0M9akQLdB0//PBDud1uXX755UpOTtaNN96ow4cPh2PkiHMy//+y\n",
              "ceNGLVu2TCNGjAjVmGFHxIRQe3u7rrjiCq1du1azZs0K9zhG8ng8eu+999Ta2iqv18v750N09913\n",
              "66qrrtK0adPCPYrRUlNT1dzcrHfffVfPPvusysrK9Mc//jHcYxnH5/Npx44dKi8v186dO3Xuueeq\n",
              "oKAg3GMZqbOzU0899ZRWrVoV7lFCiog5Beedd55aWlrk8/kkfX2z5IEDBzRlypQB+x45ckQLFizQ\n",
              "okWLVFRUFOpRI9pQ1vEb0dHRuvbaa/Xkk0+GasyIFugavvbaayotLZXH49HcuXPV3t4uj8fDf/3+\n",
              "P4Gu47hx4xQTEyNJio2N1XXXXafa2tqQzxupAl3HKVOmaN68eTr33HNlWZZycnJUX18fjpEjzlD/\n",
              "vbh161YlJiZq+vTpoRwz7IiYUzBp0iSlpqZqy5YtkqTq6mrFxsYqPj6+334dHR1asGCBFixYoOLi\n",
              "4nCMGtECXcc9e/aop6dHktTd3a1nn31WSUlJIZ83EgW6hrW1tdq/f79s21ZdXZ3GjRsn27Y1ceLE\n",
              "cIwdcQJdx5aWlr7fMDxy5Ij+/Oc/KyUlJeTzRqpA13Hp0qV666231N7eLkl64YUXNHPmzJDPG4kC\n",
              "XcNvbNy48Vt3FUYSv510qnbv3u1kZGQ4CQkJTlpamrNr1y7HcRxn1apVznPPPec4juPce++9jsvl\n",
              "cmbOnNm33XvvveEcO+IEso7l5eVOYmKik5SU5EyfPt35+c9/7nR1dYVz7IgSyBr+u3379nFj7zEE\n",
              "so6lpaXO9OnT+34W77zzTqe3tzecY0ecQH8eN2/e7CQmJjoXXXSRs2DBAufAgQPhGjniBLqGu3fv\n",
              "dqKjo5329vZwjRo2/O0kAABgJN5OAgAARiJiAACAkYgYAABgJCIGQFBt27ZNaWlpSk5O1tSpUzV/\n",
              "/vxh/dthZWVleuCBB4btfJI0a9Ysvfrqq8N6TgDDzxXuAQCcvlpaWpSXl6d33nlHcXFxkqR3331X\n",
              "lmUFfA6fz9f3qaXHcvPNN5/ynADMxJUYAEFz6NAhRUVF6cwzz+x7LDU1VZZlyePxqLGxse/xf7/6\n",
              "cemll6qwsFBz5szRZZddptWrV+vBBx/s23ffvn06++yz1dPTo7vuuku33nqrJOnCCy/U22+/3bff\n",
              "pk2btHjxYklf/8mPpUuXKj09XRdddFG/z2x6/fXXlZycrBkzZmjFihV9HzAGILIRMQCCJikpSXPn\n",
              "zlVcXJwWL16sBx54QAcPHgzo2I8//lh/+9vf9PLLL2vFihXatGlT33ObNm3SDTfcMOBvxNx00039\n",
              "9quqqtLKlSslScuXL9eaNWvU0NCgnTt36u2339bWrVvV3d2ta665Rg8++KCampp03XXX6b333jvl\n",
              "7x1A8PF2EoCgOeOMM1RdXa3du3frtdde01/+8hfdd999/a6WDCYnJ6cvUi6++GL5fD699dZbmjVr\n",
              "ljZv3qw//elPA4658cYblZKSooceekgHDx7Uxx9/rIULF6qzs1MvvfSSDh061LdvR0eHPvroI+3e\n",
              "vVsul0s/+tGPJEmXXXaZvve97w3TCgAIJiIGQNBNnTpVU6dOVX5+vhYsWKDnn39eLpdLfr+/b5+j\n",
              "R4/2OyY6Orrf1ytWrFBVVZU6Ojo0YcIEzZgxY8DrxMbGatasWXruuef0wQcfKCcnRy6Xq+/c9fX1\n",
              "GjVqVL9jdu3aNeA8Q7lnB0D48HYSgKA5ePCg/v73v/d9/eWXX2rfvn264IILFB8frzfffFOS1NDQ\n",
              "oI8++ui451q2bJm2bt2qsrKyvreIjmXFihV64okntHnz5r79oqOjNW/ePP3mN7/p2+/zzz9Xc3Oz\n",
              "pk6dKp/Pp1deeUWStGPHDu3du/ekv2cAocOVGABB4/P5dM8992jfvn36zne+I5/Pp+XLl2vRokU6\n",
              "99xztXz5cpWXl2vOnDlKTEw87rkmT56s9PR0Pf/88yovLx90v0WLFqmgoEAJCQmaNm1a3+NPPvmk\n",
              "ioqKNGPGDFmWpTFjxqi8vFyxsbF6+umndcstt8jv92v27Nn8EULAEPztJAAAYCTeTgIAAEYiYgAA\n",
              "gJGIGAAAYCQiBgAAGImIAQAARiJiAACAkYgYAABgJCIGAAAYiYgBAABGImIAAICR/hfcTxpfI68p\n",
              "ZwAAAABJRU5ErkJggg==\n",
              "\">\n",
              "      </div>\n",
              "      <script type=\"text/javascript\">\n",
              "        (() => {\n",
              "          const chartElement = document.getElementById(\"chart-eb958c2f-52d3-4284-b04c-96bac860cbb3\");\n",
              "          async function getCodeForChartHandler(event) {\n",
              "            const chartCodeResponse =  await google.colab.kernel.invokeFunction(\n",
              "                'getCodeForChart', [\"chart-eb958c2f-52d3-4284-b04c-96bac860cbb3\"], {});\n",
              "            const responseJson = chartCodeResponse.data['application/json'];\n",
              "            await google.colab.notebook.addCell(responseJson.code, 'code');\n",
              "          }\n",
              "          chartElement.onclick = getCodeForChartHandler;\n",
              "        })();\n",
              "      </script>\n",
              "      <style>\n",
              "        .colab-quickchart-chart-with-code  {\n",
              "            display: block;\n",
              "            float: left;\n",
              "            border: 1px solid transparent;\n",
              "        }\n",
              "\n",
              "        .colab-quickchart-chart-with-code:hover {\n",
              "            cursor: pointer;\n",
              "            border: 1px solid #aaa;\n",
              "        }\n",
              "      </style>"
            ]
          },
          "metadata": {}
        },
        {
          "output_type": "display_data",
          "data": {
            "text/plain": [
              "<google.colab._quickchart_helpers.SectionTitle at 0x79161f2c7b80>"
            ],
            "text/html": [
              "<h4 class=\"colab-quickchart-section-title\">Time series</h4>\n",
              "<style>\n",
              "  .colab-quickchart-section-title {\n",
              "      clear: both;\n",
              "  }\n",
              "</style>"
            ]
          },
          "metadata": {}
        },
        {
          "output_type": "display_data",
          "data": {
            "text/plain": [
              "from matplotlib import pyplot as plt\n",
              "import seaborn as sns\n",
              "def _plot_series(series, series_name, series_index=0):\n",
              "  palette = list(sns.palettes.mpl_palette('Dark2'))\n",
              "  xs = series['Age']\n",
              "  ys = series['Survived']\n",
              "  \n",
              "  plt.plot(xs, ys, label=series_name, color=palette[series_index % len(palette)])\n",
              "\n",
              "fig, ax = plt.subplots(figsize=(10, 5.2), layout='constrained')\n",
              "df_sorted = _df_3.sort_values('Age', ascending=True)\n",
              "_plot_series(df_sorted, '')\n",
              "sns.despine(fig=fig, ax=ax)\n",
              "plt.xlabel('Age')\n",
              "_ = plt.ylabel('Survived')"
            ],
            "text/html": [
              "      <div class=\"colab-quickchart-chart-with-code\" id=\"chart-f4b4d2f9-81ca-479e-9d88-10977854fb9d\">\n",
              "        <img style=\"width: 180px;\" src=\"data:image/png;base64,iVBORw0KGgoAAAANSUhEUgAAA/MAAAITCAYAAABLz0yVAAAAOXRFWHRTb2Z0d2FyZQBNYXRwbG90\n",
              "bGliIHZlcnNpb24zLjcuMSwgaHR0cHM6Ly9tYXRwbG90bGliLm9yZy/bCgiHAAAACXBIWXMAAA9h\n",
              "AAAPYQGoP6dpAABmoUlEQVR4nO3dd3RUBcL//8+dmVQgoUMoASmhQ+gkhN5bKElEpYoINlRa0HV1\n",
              "dXddJQiIWABBULBgEnqR3gJBaui9905ICOnz+2Ofx9/DV1ECGW4meb/OmXMwuTP55Jy7gffO5I5h\n",
              "t9vtAgAAAAAATsNi9gAAAAAAAJA1xDwAAAAAAE6GmAcAAAAAwMkQ8wAAAAAAOBliHgAAAAAAJ0PM\n",
              "AwAAAADgZIh5AAAAAACcDDEPAAAAAICTyRUxP2nSJLMnAAAAAADwxOSKmD9z5ozZEwAAAAAAeGJy\n",
              "RcwDAAAAAJCXEPMAAAAAADgZYh4AAAAAACdDzAMAAAAA4GSIeQAAAAAAnAwxDwAAAACAkyHmAQAA\n",
              "AABwMsQ8AAAAAABOhpgHAAAAAMDJEPMAAAAAADgZYh4AAAAAACdDzAMAAAAA4GSIeQAAAAAAnAwx\n",
              "DwAAAACAkyHmAQAAAABwMsQ8AAAAAABOhpgHAAAAAMDJEPMAAAAAADgZYv4Jik+5J7vdbvYMAAAA\n",
              "AICTs5k9IK+w2+0auHqW7JJG1m2rIJ9KMgzD7FkAAAAAACdEzD8hp+7c0N4bF5SSka5nV8xQoxLl\n",
              "NbJuOzX1qWj2NAAAAACAk+Fl9k9IBe+i2hIarkHVAuVmtWnbldPq/cvXCls+TVsvnzR7HgAAAADA\n",
              "iRDzT1AJTy/9s0mwYkJGa0DVALlarIq9fFKhy6fpmV+ma/uV02ZPBAAAAAA4AWLeBD75vPVhQHfF\n",
              "hIxWvyqN5WKxKubScfVcNkXPrZihnVfPmD0RAAAAAJCDEfMmKpW/oD4K7KlNIaP0nF8j2QyLNl48\n",
              "pu5Lv1Lfld9o97VzZk8EAAAAAORAxHwOUCZ/IUU07aWNIaPUu3IDWQ2L1l84qm5LvtCAVbO09/p5\n",
              "sycCAAAAAHIQYj4H8S1QWOODQrWh10iFVaoni2FozfnD6rz4cw1a/a3237hg9kQAAAAAQA5AzOdA\n",
              "5b2KaGKzp7W+5wj1qlhXFsPQynOH1HHRZA1eM1sHb14yeyIAAAAAwETEfA5WwbuYPmveW2t7DFeP\n",
              "Cv4yZOiXswfUfuEkDV33vQ7fumz2RAAAAACACYh5J1CpYHF93uIZren5poKfqi1Dhpae3qd2Cybp\n",
              "lfU/6Njtq2ZPBAAAAAA8QcS8E/ErWEJftnxOq3q8oS7la8kuuxad2qvW8yfqtQ0/6UT8NbMnAgAA\n",
              "AACeAGLeCVUtVFJTW/XRyu6vq6NvDdll14KTcWo1f4Je3zhXJ+Ovmz0RAAAAAOBAxLwTq164lKa3\n",
              "6adfgoepfdlqyrTbNe/EbrWaP0HDN/2s03dumD0RAAAAAOAAxHwuULNIaX3TdoCWdntNbcpUVYY9\n",
              "U5HHd6nFvPEaGROlswk3zZ4IAAAAAMhGxHwuUqdoGX3bbqAWd31VLUv7KcOeqbnHdqh59CcK3zxP\n",
              "5xNvmT0RAAAAAJANiPlcqG6xsprTfpAWdnlZzUtVVro9Uz8c3aZm0Z/o7S3zdTHxttkTAQAAAACP\n",
              "gZjPxeoXL6cfOryg+Z1fUpBPJaVlZmj2kV8VFD1O78Qu1KW78WZPBAAAAAA8AmI+D2hYorx+6jhY\n",
              "UZ2GqEnJp5SamaFvD8cqKHqc3tu6SFeS7pg9EQAAAACQBcR8HtKkZAVFdRqquR1fVOMS5ZWSka5v\n",
              "Dm1RYFSEPti2RNfuJZg9EQAAAADwEIj5PKipT0VFdRqqHzu8oAbFyyklI11fH4hRQGSE/rV9ma7f\n",
              "SzR7IgAAAADgTxDzeZRhGGpWqrLmd35Jc9oPUt1iZZWckaap+zcqIGqsPty+XDeT75o9EwAAAADw\n",
              "B4j5PM4wDLUs7adFXV7Rt20Hqk7RMrqXnqav9m9QQORYfbzzF90i6gEAAAAgRyHmIem/Ud+mbFUt\n",
              "6fqqZrUdoJqFS+lueqo+37teAVERGrdrpW6nJJk9EwAAAAAgYh7/D8Mw1LZsNS0PHqYZrfupemEf\n",
              "JaalaNKetQqIHKvxu1cpPuWe2TMBAAAAIE8j5vGHDMNQh3I19EvwME1r1VdVCpZQQlqKJsatUWDU\n",
              "WH0at0YJqclmzwQAAACAPImYx5+yGBZ1Ll9Tq3q8oSktn5NfweKKT03WJ7tXqUnkWE3es06JaSlm\n",
              "zwQAAACAPIWYx0OxGBZ1faq2VnV/U1+0eFaVvIspPvWexu5aoYDIsfpi73rdJeoBAAAA4Ikg5pEl\n",
              "VotF3SvU0Zoew/VZ896q4FVUt1KS9NHOXxQQGaEp+zYqKS3V7JkAAAAAkKsR83gkVotFvSrW1dqe\n",
              "w/VpszCVK1BEN1Pu6t87likwKkLT9m/SvXSiHgAAAAAcgZjHY7FZrAqtVF8beo3QhKBQ+eYvrOvJ\n",
              "ifrn9qVqGjVO0w/EKDk9zeyZAAAAAJCrODTmjx07psDAQPn5+alhw4Y6cODA746ZOXOm/P39f7sV\n",
              "LVpUvXr1cuQsOIDNYtXTlRtoQ8hIjWsaojL5C+rqvQS9v22JmkaP08yDW4h6AAAAAMgmht1utzvq\n",
              "wVu3bq3+/ftr4MCBioqK0tixY7V9+/Y/vU/NmjX1wQcfKCQk5KG/zogRIzRhwoTHnYtslJqRrp+P\n",
              "79Rne9bq4t14SZKPp7eG1Wml3pUbyM1qM3khAAAAADgvh8X81atXValSJd28eVM2m012u10+Pj6K\n",
              "iYlRpUqV/vA+v/76q7p166YLFy7IxcXlD49JSUlRSsr9V01/9913NWnSpGz/HvD4UjLSNffYDn22\n",
              "Z60uJ92RJJXOV1DD6rTS05Xqy5WoBwAAAIAsc9jL7M+dOycfHx/ZbP+NNcMw5Ovrq7Nnzz7wPjNm\n",
              "zFC/fv0eGPKS9NFHH8nb2/u+27Zt27J9P7KHm9Wm/lWbKCZktP7VOFglPArowt3bemvLfLWYN14/\n",
              "Ht2utMwMs2cCAAAAgFPJMRfAu3v3rn766Se98MILf3rc22+/rfj4+PtujRo1ekIr8ajcbS56vnqg\n",
              "YkLD9X6jrirmkV/nEm9p9OZotZw3Xj8f26F0oh4AAAAAHorDYr5s2bK6dOmS0tPTJUl2u11nz56V\n",
              "r6/vHx4fGRmpGjVqqHr16n/6uG5ubvLy8rrvZrVas30/HMPD5qLBNYK0JTRc7zXsoqLu+XUm4aZG\n",
              "xESp5bwJijq+i6gHAAAAgL/gsJgvXry46tWrpzlz5kiSoqOjVaZMmQf+vvyMGTP+8ll55B4eNlcN\n",
              "qdlMW0LD9U6DTirslk+nE27ozU0/q/X8iZp/Ik4ZmZlmzwQAAACAHMmhV7M/cuSIBg4cqBs3bsjL\n",
              "y0szZ85UrVq1NHjwYAUHBys4OPi34xo0aKCLFy+qQIECWf46XM3e+d1NS9HMQ7Gasn+jbqckSZIq\n",
              "exfXm/5t1O2pWrIYOeY3QgAAAADAdA6N+SeFmM89ElKTNfPQFk3dv0nxqfckSVUKltBw/zbqXL4m\n",
              "UQ8AAAAAykEXwAMkqYCru16v01qxYWM0sm5bebm668jtK3pp/Q9qv/AzLTu9X5l2Xn4PAAAAIG8j\n",
              "5pEjebm6a7h/W8WGjtFw/zYq4OKmw7cua8i6Oeq0aLJWnDmgXPCiEgAAAAB4JMQ8cjRvNw+NrNtO\n",
              "W8LG6I06rZXP5qoDNy/phbWz1WXx51p97hBRDwAAACDPIebhFAq5eWp0vfbaGjZGr9VuKU+bq/be\n",
              "uKCBq79V1yVfaO35I0Q9AAAAgDyDmIdTKeSeT2/V76jYsHC9XLOFPGwu2nP9vPqvmqngpV9qw4Wj\n",
              "RD0AAACAXI+Yh1Mq4p5f7zTspNjQMRpao5ncrS7afe2c+qz8Rj2XTdGmi8eIegAAAAC5FjEPp1bU\n",
              "I7/ebdRFW0LDNbh6U7lZbdpx9YyeXTFDocunasulE2ZPBAAAAIBsR8wjVyjuWUDvN+6mzaHher5a\n",
              "oNysNv165bSe/uVrhS2fpq2XT5o9EQAAAACyDTGPXKWkp5f+1SRYMSGjNaBqgFwtVsVePqnQ5dP0\n",
              "zC/Ttf3KabMnAgAAAMBjI+aRK/nk89aHAd21KWS0+lZpLBeLVTGXjqvnsinqs2KGdl49a/ZEAAAA\n",
              "AHhkxDxytdL5C+rjwJ7aFDJKz/k1ks2waMPFY+q+9Ev1WzlTcdfOmT0RAAAAALKMmEeeUCZ/IUU0\n",
              "7aWNIaPUu3IDWQ2L1l04oq5LvtDA1bO09/p5sycCAAAAwEMj5pGn+BYorPFBoVrfa4TCKtWTxTC0\n",
              "+txhdV78uQat/lb7b1wweyIAAAAA/CViHnnSU15FNbHZ01rfc4R6Vawri2Fo5blD6rhosgavma2D\n",
              "Ny+ZPREAAAAAHoiYR55WwbuYPmveW2t7DFf3CnVkyNAvZw+o/cJJGrruex2+ddnsiQAAAADwO8Q8\n",
              "IKlSweL6osWzWtPzTXUrX1uStPT0PrVbMEmvrP9Bx25fNXkhAAAAAPz/iHng//ArWEJftXpOq7q/\n",
              "qc7lasouuxad2qvW8yfqtQ0/6UT8NbMnAgAAAAAxD/yRaoVLalrrvlrZ/XV18K0uu+xacDJOreZP\n",
              "0Bsb5+pk/HWzJwIAAADIw4h54E9UL1xKM9r01y/Bw9S+bDVl2u2KPrFbreZP0IhNkTqTcMPsiQAA\n",
              "AADyIGIeeAg1i5TWN20HaGm319SmTFVl2DP18/Gdah49XqNionQu4abZEwEAAADkIcQ8kAV1ipbR\n",
              "t+0GalHXV9SytJ8y7Jn66dgONYv+ROGb5+l84i2zJwIAAADIA4h54BHUK+arOe0HaWGXl9W8VGWl\n",
              "2zP1w9Ftahb9if4Wu0AX78abPREAAABALkbMA4+hfvFy+qHDC5rX+SU19amotMwMfXd4q4KiIvT3\n",
              "rQt1OemO2RMBAAAA5ELEPJANGpUor7kdX1RkpyFqXOIppWZmaNahWDWNitB7WxfpClEPAAAAIBsR\n",
              "80A2CihZQVGdhmhuh8FqVKK8UjLS9c2hLQqMitAH25bo2r0EsycCAAAAyAWIeSCbGYahpqUqKbrT\n",
              "UP3Y4QXVL+arlIx0fX0gRgGREfrX9mW6kZxo9kwAAAAAToyYBxzEMAw1K1VZC7q8rDntB8m/aFkl\n",
              "Z6Rp6v6NCoiM0H92LNfN5LtmzwQAAADghIh5wMEMw1DL0n5a3PUVfdt2oOoULaOk9FR9uW+DAiLH\n",
              "auzOFbqVkmT2TAAAAABOhJgHnhDDMNSmbFUt6fqqZrbpr5qFS+lueqom712ngMixGrdrpW4T9QAA\n",
              "AAAeAjEPPGGGYaidb3UtDx6m6a37qXphHyWmpWjSnrUKjIrQ+N2rFJ9yz+yZAAAAAHIwYh4wiWEY\n",
              "6liuhn4JHqaprfqoSsESupOarIlxaxQYNVafxq1RQmqy2TMBAAAA5EDEPGAyi2FRl/K1tKrHG/qq\n",
              "5XPyK1hc8anJ+mT3KgVERWjynnVKTEsxeyYAAACAHISYB3IIi2FRt6dqa1X3N/VFi2dV0buYbqck\n",
              "aeyuFQqIHKsv9q7XXaIeAAAAgIh5IMexWizqXqGO1vYYrs+a99ZTXkV1KyVJH+38RYFREZqyb6Pu\n",
              "paeaPRMAAACAiYh5IIeyWizqVbGu1vUcrk+bhalcgSK6kXxX/96xTAGREfr6wCbdS08zeyYAAAAA\n",
              "ExDzQA5ns1gVWqm+NvQaofFBofLNX1jXkxP1wbalahoVoRkHNyuZqAcAAADyFGIecBI2i1W9KzfQ\n",
              "hpCRimjaS2XyF9TVewn6x6+L1TR6nGYdilVKRrrZMwEAAAA8AcQ84GRcLFY959dIG3uN0scBPVUq\n",
              "n7euJN3R37cuVFDUOM0+vFWpRD0AAACQqxHzgJNytdrUt2pjbQoZrQ+bdFdJTy9dSorX27EL1Cz6\n",
              "E31/ZJvSMjPMngkAAADAAYh5wMm5WW0aUC1AMSGj9c/G3VTCo4Au3L2tMVvmqXn0J/rp6HaiHgAA\n",
              "AMhliHkgl3C3uWhQ9aaKCQ3X+426qphHfp1LvKVRm6PVct54/Xxsh9KJegAAACBXIOaBXMbD5qLB\n",
              "NYK0JTRc7zXsoiLu+XQm4aZGxESp5bwJijq+SxmZmWbPBAAAAPAYiHkgl/KwuWpIzWaKDR2jdxp0\n",
              "UmG3fDqdcENvbvpZrRdM1PwTcUQ9AAAA4KSIeSCX83Rx1cu1Wig2LFxv1e+ogm6eOhF/TcM2/qS2\n",
              "Cz7VopN7lGkn6gEAAABnQswDeUQ+Fze9VrulYkPDFV6vvbxd3XUs/qpe2fCj2i2YpCWn9xH1AAAA\n",
              "gJMg5oE8poCru16v01qxYW9pZN228nJ115HbV/TSuu/VYeFnWn5mv+x2u9kzAQAAAPwJYh7Io7xc\n",
              "3TXcv61iQ8foTf82KuDipkO3LuvFtXPUcdFnWnn2IFEPAAAA5FDEPJDHebt5aFTddtoSNkav126l\n",
              "fDZXHbh5SYPWfKcuiz/X6nOHiHoAAAAghyHmAUiSCrl5Krx+B8WGjdGrtVrK0+aqvTcuaODqb9V1\n",
              "yRdae/4IUQ8AAADkEMQ8gPsUds+ntxt0VGxYuF6u2UIeNhftuX5e/VfNVPelX2nDhaNEPQAAAGAy\n",
              "Yh7AHyrinl/vNOyk2NAxGlqjmdysNu26dlZ9Vn6jXsumKObicaIeAAAAMAkxD+BPFfXIr3cbdVFs\n",
              "6BgNrt5Ublabtl89o2dWTFfo8mnacumE2RMBAACAPIeYB/BQinsW0PuNu2lzaLierxYoV4tVv145\n",
              "pad/+VpPL5+mXy+fMnsiAAAAkGcQ8wCypKSnl/7VJFgxoeEaULWJXCxWbbl8UiHLp+rZFdO148oZ\n",
              "sycCAAAAuR4xD+CRlMrnrQ8DeigmZLT6Vmksm2HRpovH1WPZV+qzYoZ2Xj1r9kQAAAAg1yLmATyW\n",
              "0vkL6uPAntoUMkrP+jWUzbBow8Vj6r70S/VbOVNx186ZPREAAADIdYh5ANmibIHCGtc0RBtCRqp3\n",
              "5fqyGhatu3BEXZd8oYGrZ2nf9QtmTwQAAAByDWIeQLYqV6CIxgeFaX2vEQqtWE8Ww9Dqc4fVafFk\n",
              "vbDmOx24cdHsiQAAAIDTI+YBOMRTXkX1afOntb7nCPWqWFcWw9CKswfVYdFnenHtbB26ednsiQAA\n",
              "AIDTIuYBOFQF72L6rHlvre0xXN0r1JEhQ8vPHFC7hZ/qpXXf68itK2ZPBAAAAJwOMQ/giahUsLi+\n",
              "aPGsVvd4U93K15YkLTm9T20XfKpX1/+oY7evmrwQAAAAcB7EPIAnqkqhEvqq1XNa1f1NdS5XU3bZ\n",
              "tfDUHrWeP1HDNvykk/HXzJ4IAAAA5HjEPABTVCtcUtNa99WK4NfVwbe67LJr/sk4tZw/QW9snKtT\n",
              "d66bPREAAADIsYh5AKaqUaSUZrTpr+Xdhqld2WrKtNsVfWK3Ws6boBGbInUm4YbZEwEAAIAch5gH\n",
              "kCPUKlpaM9sO0JKur6p1mSrKsGfq5+M71SJ6vEbFROlcwk2zJwIAAAA5BjEPIEfxL1ZW37V7Xou6\n",
              "vqIWpf2Ubs/UT8d2qFn0JxqzeZ4uJN42eyIAAABgOmIeQI5Ur5ivvm8/SAu7vKzmpSor3Z6p749u\n",
              "U1D0OP0tdoEu3o03eyIAAABgGmIeQI5Wv3g5/dDhBc3r/JKa+lRUWmaGvju8VUFREfr71oW6nHTH\n",
              "7IkAAADAE0fMA3AKjUqU19yOL+rnji+qcYmnlJqZoVmHYtU0KkL/+HWxrhD1AAAAyEOIeQBOJdCn\n",
              "oqI6DdHcDoPVqER5pWSka8bBzQqMitA/ty3RtXsJZk8EAAAAHM6hMX/s2DEFBgbKz89PDRs21IED\n",
              "B/7wuH379qlly5aqVq2aqlWrpnnz5jlyFgAnZxiGmpaqpOhOQ/VD+xdUv5ivUjLSNe1AjAIiI/Tv\n",
              "7ct0IznR7JkAAACAwxh2u93uqAdv3bq1+vfvr4EDByoqKkpjx47V9u3b7zsmKSlJNWvW1Hfffaeg\n",
              "oCBlZGTo5s2bKlas2EN/nREjRmjChAnZPR+Ak7Db7Vp/4ajG716tuOvnJEmeNlcNrBagl2o2V2H3\n",
              "fCYvBAAAALKXw2L+6tWrqlSpkm7evCmbzSa73S4fHx/FxMSoUqVKvx03ffp0rV27Vj/88MNDPW5K\n",
              "SopSUlLu+9i7776rSZMmZet+AM7Hbrdr7fkjGr97lfbeuCBJymdz1aDqTTWkZjMVcvM0eSEAAACQ\n",
              "PRz2Mvtz587Jx8dHNptN0n9fFuvr66uzZ8/ed9zBgwfl5uamrl27yt/fX/3799e1a9ce+LgfffSR\n",
              "vL2977tt27bNUd8GACdiGIbalK2qpd1e08w2/VWzcCndTU/V5L3rFBA5VuN2rdTtlCSzZwIAAACP\n",
              "zfQL4KWnp2v16tWaOnWqdu/erdKlS+vll19+4PFvv/224uPj77s1atToCS4GkNMZhqF2vtW1PHiY\n",
              "prfup2qFSioxLUWT9qxVYFSEJuxerTupyWbPBAAAAB6ZzVEPXLZsWV26dEnp6em/vcz+7Nmz8vX1\n",
              "ve84X19ftWrVSqVLl5Yk9e3bVx06dHjg47q5ucnNze2+j1mt1uz/BgA4PcMw1LFcDbX3rablZw5o\n",
              "wu7VOnL7iibErdaMgzEaUqOZBlVvqgKu7mZPBQAAALLEYc/MFy9eXPXq1dOcOXMkSdHR0SpTpsx9\n",
              "vy8vSU8//bS2b9+uO3f++x7Ry5YtU506dRw1C0AeZDEs6lK+llb1eENftXxOfgWLKz41WeN2r1JA\n",
              "VIQ+37tOiWkpf/1AAAAAQA7h0KvZHzlyRAMHDtSNGzfk5eWlmTNnqlatWho8eLCCg4MVHBwsSZo9\n",
              "e7bGjh0ri8Wi0qVLa9q0aSpbtuxDfx2uZg8gKzIyM7X49F5NjFujE/H/vUZHITdPvVyrhQZWDZCn\n",
              "i6vJCwEAAIA/59CYf1KIeQCPIiMzUwtO7dGncWt06s51SVIR93x6pVYL9a/aRB42oh4AAAA5k+kX\n",
              "wAMAs1gtFoVUrKt1PYdrYlCYyhUoohvJd/Wv7csUGBWhrw9s0r30NLNnAgAAAL9DzAPI82wWq8Iq\n",
              "19f6XiM0PihUZfMX0rV7ifpg21IFRUVoxsHNSibqAQAAkIMQ8wDwP1wsVvWu3EAbQ0Ypomkvlc5X\n",
              "UFfuJegfvy5WUPQ4zToUq5SMdLNnAgAAAMQ8APy/XCxWPefXSJtCRunjgJ7y8fTW5aQ7+vvWhQqK\n",
              "GqfZh7cqlagHAACAiYh5AHgAV6tNfas2VkzoaH3YpLtKeHrpUlK83o5doGbRn+j7I9uUlplh9kwA\n",
              "AADkQcQ8APwFN6tNA6oFaHPIaP2zcTcV9yigC3dva8yWeWoRPV4/Hd1O1AMAAOCJIuYB4CG521w0\n",
              "qHpTbQ4N1/uNuqqYR36dTbypUZuj1XLeBEUe26l0oh4AAABPADEPAFnkYXPR4BpB2hIarncbdlYR\n",
              "93w6k3BDw2Mi1Wr+REWf2K2MzEyzZwIAACAXI+YB4BF52Fw1tGZzxYaO0d8adFIhN0+dunNdb2yc\n",
              "q9YLJmrByTiiHgAAAA5BzAPAY/J0cdUrtVooNmyM3qrfQQXdPHUi/ppe2/CT2i74VItO7lGmnagH\n",
              "AABA9iHmASCb5Hdx02u1Wyk2NFyj67aTt6u7jsVf1SsbflS7BZO05PQ+oh4AAADZgpgHgGxWwNVd\n",
              "b/i3UWzYWxpZt628XN115PYVvbTue3VY+JmWn9kvu91u9kwAAAA4MWIeABzEy9Vdw/3bKjZ0jN70\n",
              "b6P8Lm46dOuyXlw7R50WTdbKsweJegAAADwSYh4AHMzbzUOj6rZTbNgYvV67lfLZXLX/5kUNWvOd\n",
              "ui75QmvOHSbqAQAAkCXEPAA8IYXcPBVev4Niw8bo1Vot5Wlz1Z7r5zVg9Sx1W/Kl1p0/QtQDAADg\n",
              "oRDzAPCEFXbPp7cbdFRsWLheqtlcHjYXxV0/p36rZqr70q+08cIxoh4AAAB/ipgHAJMUcc+vvzfs\n",
              "rC2h4RpSI0huVpt2XTur51bOUK9lUxRz8ThRDwAAgD9EzAOAyYp5FNB7jbpqS2i4XqjeVG5Wm7Zf\n",
              "PaNnVkxX6PJpir180uyJAAAAyGGIeQDIIUp4eumDxt20OTRcz1cLlKvFql+vnFLY8ml6evk0/Xr5\n",
              "lNkTAQAAkEMQ8wCQw5T09NK/mgQrJjRcA6o2kYvFqi2XTypk+VQ9u2K6dlw5Y/ZEAAAAmIyYB4Ac\n",
              "qlQ+b30Y0EMxIaPVx6+RbIZFmy4eV49lX6nPym+069pZsycCAADAJMQ8AORwpfMX1NimvbQpZJSe\n",
              "9Wsoq2HRhgtHFbzkS/VfNVN7rp83eyIAAACeMGIeAJxE2QKFNa5piDaGjFTvyvVlNSxae/6Iuiz+\n",
              "XM+v/lb7rl8weyIAAACeEGIeAJxMuQJFND4oTOt7jVBoxXqyGIZWnTukTosn64U13+nAjYtmTwQA\n",
              "AICDEfMA4KSe8iqqT5s/rXU9R6hnBX8ZMrTi7EF1WPSZXlw7W4duXjZ7IgAAAByEmAcAJ1fRu5gm\n",
              "t3hGa3sOV/en6siQoeVnDqjdwk/10rrvdeTWFbMnAgAAIJsR8wCQS1QuWFxftHxWq3u8qa7la0mS\n",
              "lpzep7YLPtWr63/UsdtXTV4IAACA7ELMA0AuU6VQCU1p1Ucru7+hTuVqyC67Fp7ao9bzJ2rYhp90\n",
              "Mv6a2RMBAADwmIh5AMilqhf20det+2lF8Ovq4Ftddtk1/2ScWs6foDc3/qxTd66bPREAAACPiJgH\n",
              "gFyuRpFSmtGmv5Z3G6Z2Zasp025X1IldajlvgkbGROpMwg2zJwIAACCLiHkAyCNqFS2tmW0HaEnX\n",
              "V9W6TBVl2DM199hOtYger9Gbo3Uu4abZEwEAAPCQiHkAyGP8i5XVd+2e18Iur6hFaT+l2zP149Ht\n",
              "ahb9icZsnqcLibfNnggAAIC/QMwDQB5Vv7ivvm8/SAs6v6xmpSop3Z6p749uU1D0OL0Tu0AX78ab\n",
              "PREAAAAPQMwDQB7XoEQ5/dhhsKI7DVVgyQpKy8zQt4e3KigqQn/fulCXk+6YPREAAAD/D2IeACBJ\n",
              "alzyKf3caYh+7viiGpd4SqmZGZp1KFZNoyL0j18X62pSgtkTAQAA8D+IeQDAfQJ9Kiqq0xD91GGw\n",
              "GhYvp5SMdM04uFmBURH657YlunaPqAcAADAbMQ8A+B3DMBRUqpLmdX5JP7R/QfWK+So5I03TDsQo\n",
              "MCpC/96+TDeSE82eCQAAkGcR8wCABzIMQ81LV9bCLi9rdrvnVadoGd1LT9OU/RsVEBmhj3b8olvJ\n",
              "d82eCQAAkOcQ8wCAv2QYhlqVqaIlXV/Vt20HqnaR0kpKT9UX+9arSeRYRexcoVspSWbPBAAAyDOI\n",
              "eQDAQzMMQ23KVtXSbq/pmzb9VaOwj+6mp+qzvesUGDlWn+xepfiUe2bPBAAAyPWIeQBAlhmGofa+\n",
              "1fVL8Ov6unVfVStUUglpKfo0bo0CosZqwu7VupOabPZMAACAXIuYBwA8MsMw1KlcTa3o/rqmtOqj\n",
              "KgVL6E5qsibErVZA5MeaFLdGCUQ9AABAtiPmAQCPzWJY1LV8La3q8Ya+bPGsKnsXV3xqssbtXqWA\n",
              "qAh9vned7qalmD0TAAAg1yDmAQDZxmJYFFyhjlb3eFOft3hGFb2L6XZKkj7euUIBkRH6ct8GJaWl\n",
              "mj0TAADA6RHzAIBsZ7VY1KOCv9b2GK5JzXurfIEiuplyV//ZsVyBURGaun+j7qUT9QAAAI+KmAcA\n",
              "OIzVYlFIxbpa32uEJgaFqVyBwrqenKh/bV+mwKgITT8Qo3vpaWbPBAAAcDrEPADA4WwWq8Iq19f6\n",
              "XiP1SdMQlc1fSNfuJer9bUsUFBWhbw5uVjJRDwAA8NCIeQDAE+NiseoZv4ba0Gukxgb2Uul8BXXl\n",
              "XoLe+3WxgqLH6dtDsUrJSDd7JgAAQI5HzAMAnjhXq019qjTSppBR+iigh3w8vXU56Y7e2bpQzaLH\n",
              "ac7hX5VK1AMAADwQMQ8AMI2r1aZ+VZsoJnS0PmzSXSU8vXTxbrzeip2v5vM+0Q9HtyktM8PsmQAA\n",
              "ADkOMQ8AMJ2b1aYB1QK0OWS0PmjcTcU9Cuh84m2Fb56nFtHjNffYDqUT9QAAAL8h5gEAOYa7zUUv\n",
              "VG+qzaHh+kejLirqnl9nE29qZEyUWsyboMhjO4l6AAAAEfMAgBzIw+aiF2s0U2xYuN5t2FlF3PPp\n",
              "TMINDY+JVKv5ExV9YrcyMjPNngkAAGAaYh4AkGN52Fw1tGZzxYaO0d8adFIhN0+dunNdb2ycqzYL\n",
              "JmrByTiiHgAA5EnEPAAgx/N0cdUrtVooNmyM3qrfQd6uHjoef02vbfhJ7RZ+qsWn9irTTtQDAIC8\n",
              "g5gHADiN/C5ueq12K20NG6PRddvJ29VdR29f1cvrf1C7BZO09PQ+oh4AAOQJxDwAwOkUcHXXG/5t\n",
              "FBv2lkb4t5WXq7uO3L6ioeu+V4eFn+mXMwdkt9vNngkAAOAwxDwAwGl5ubprRN222hIarjfqtFZ+\n",
              "FzcdunVZg9fOVqdFk7Xy7EGiHgAA5ErEPADA6RV089Toeu0VGzZGw2q3Uj6bq/bfvKhBa75T1yVf\n",
              "aM25w0Q9AADIVYh5AECuUcjNU2Pqd1Bs2Bi9UquFPG2u2nP9vAasnqVuS77UuvNHiHoAAJArEPMA\n",
              "gFynsHs+/a1BJ8WGheulms3lbnVR3PVz6rdqpnos/UobLxwj6gEAgFMj5gEAuVYR9/z6e8POig0L\n",
              "15AaQXKz2rTz2lk9t3KGQpZP1eaLx4l6AADglIh5AECuV8yjgN5r1FVbQsP1QvWmcrPatO3KafVe\n",
              "MV1hv0xT7OWTZk8EAADIEmIeAJBnlPD00geNuykmZLQGVguQq8WqrZdPKWz5NPX+5Wttu3La7IkA\n",
              "AAAPhZgHAOQ5Pvm89e8m3RUTMlr9qzaRi8WqzZdOqNeyKXp2xXTtuHLG7IkAAAB/ipgHAORZpfIX\n",
              "1H8CemhTyCj18Wskm2HRpovH1WPZV+qz8hvtunbW7IkAAAB/iJgHAOR5ZfIX0timvbQxZJSeqdxA\n",
              "VsOiDReOKnjJl+q/aqb2XD9v9kQAAID7EPMAAPwP3wKF9UlQqDb0GqmnK9WX1bBo7fkj6rL4cz2/\n",
              "+lvtv3HB7IkAAACSiHkAAH6nvFcRTWgWpnU9RyikYl1ZDEOrzh1Sx0WT9cKa73Tw5kWzJwIAgDyO\n",
              "mAcA4AEqeBfVpOa9ta7nCPWs4C9DhlacPaj2Cz/TkLVzdOjmZbMnAgCAPMqhMX/s2DEFBgbKz89P\n",
              "DRs21IEDB353zPr16+Xh4SF/f//fbvfu3XPkLAAAsqSidzFNbvGM1vYcru5P1ZEhQ8vO7Fe7hZ/q\n",
              "5XU/6OjtK2ZPBAAAeYxDY37o0KEaMmSIjh49qjFjxmjgwIF/eFyVKlUUFxf3283Dw8ORswAAeCSV\n",
              "CxbXFy2f1eoeb6pr+VqSpMWn96rN/E/16oYfdfz2VZMXAgCAvMJhMX/16lXt2LFDffv2lSSFhITo\n",
              "3LlzOn78+GM9bkpKiu7cuXPfLSMjIzsmAwDwUKoUKqEprfpoZfc31KlcDdll18KTe9R6wUQN2/CT\n",
              "TsZfM3siAADI5RwW8+fOnZOPj49sNpskyTAM+fr66uzZ379n74kTJ1SvXj01bNhQX3755Z8+7kcf\n",
              "fSRvb+/7btu2bXPI9wAAwJ+pXthHX7fupxXBr6uDb3Vl2u2afzJOLedP0Jsbf9apO9fNnggAAHIp\n",
              "0y+AV69ePZ0/f167du3S/PnzNWXKFP38888PPP7tt99WfHz8fbdGjRo9wcUAANyvRpFSmtGmv5Z1\n",
              "e01ty1ZVpt2uqBO71HLeBI2MidSZhBtmTwQAALmMw2K+bNmyunTpktLT0yVJdrtdZ8+ela+v733H\n",
              "eXl5ydvbW5JUpkwZPfvss9q0adMDH9fNzU1eXl733axWq6O+DQAAHlrtomU0q+1ALe76qlqVrqIM\n",
              "e6bmHtupFtHjNXpztM4l3DR7IgAAyCUcFvPFixdXvXr1NGfOHElSdHS0ypQpo0qVKt133KVLl5SZ\n",
              "mSlJSkhI0JIlS1S3bl1HzQIAwOHqFiur2e2f18Iur6hFqcpKt2fqx6Pb1XzeeL21Zb4uJN42eyIA\n",
              "AHByht1utzvqwY8cOaKBAwfqxo0b8vLy0syZM1WrVi0NHjxYwcHBCg4O1ueff66vvvpKNptN6enp\n",
              "CgsL0z/+8Q8ZhvHQX2fEiBGaMGGCo74NAAAey44rZzQ+bpU2XfzvRWBdLVY969dQr9ZupVL5vE1e\n",
              "BwAAnJFDY/5JIeYBAM7g18unNH73Km25fFLSf6O+T5XGerV2S5X09DJ5HQAAcCYPHfMbN2780883\n",
              "b948WwY9CmIeAOBMtlw6ofG7V+vXK6ckSW5Wm/pVaaxXarVUcc8CJq8DAADO4KFjvmHDhpKkjIwM\n",
              "xcXFqUKFCjIMQydOnJC/v7927drl0KF/hpgHADgbu92uzZdOaPzuVdp+9Ywkyd3qogFVm+jlWi1U\n",
              "1CO/yQsBAEBO9tAXwNu+fbu2b98uf39/rVixQsePH9exY8e0cuVK1atXz5EbAQDIdQzDUFCpSprX\n",
              "+SV9336Q6hXzVXJGmqYe2KSAqLH6cPty3Uy+a/ZMAACQQ2X5d+Zr166tvXv33vexOnXqaM+ePdk6\n",
              "LCt4Zh4A4OzsdrvWXTiq8btXac/185IkT5urnq8WqJdqNlMh93wmLwQAADlJlt+azmq1at26db/9\n",
              "94YNG2SxOOwd7gAAyBMMw1DrMlW0pOurmtV2gGoVKa2k9FR9sW+9mkSOVcTOFbqVkmT2TAAAkEPY\n",
              "snqHL774Qs8884xcXFwkSenp6Zo7d262DwMAIC8yDENty1ZTmzJVtercIY3fvUoHbl7SZ3vXaeah\n",
              "LXqhRpBerB4kbzcPs6cCAAATPdJb06Wlpenw4cOSpKpVq/4W9mbhZfYAgNwq056pFWcPavzu1Tp8\n",
              "67IkycvVXS/WCNIL1YPk5epu8kIAAGCGR3p9/KJFi7R48WLVqlVL165d0759+7J7FwAAkGQxLOpU\n",
              "rqZWdn9dU1r1UZWCJXQnNVnjd69WQORYfbZnrRLTUsyeCQAAnrAsx/x7772n6dOna9asWZL++3LA\n",
              "oUOHZvcuAADwf1gMi7qWr6VVPd7Qly2eVWXv4opPvaeIXSvVJHKsPt+7XneJegAA8owsx/zChQu1\n",
              "ZMkS5cv336vq+vj4KDExMduHAQCA37MYFgVXqKPVPd7U5ObPqIJXUd1OSdLHO39RQGSEvtq3QUlp\n",
              "qWbPBAAADpblmPfw8JDVar3vY4/wa/cAAOAxWC0W9azor7U9h+vTZk+rfIEiuplyVx/uWK7AqAhN\n",
              "279J99KJegAAcqssx3y5cuW0adMmGYahtLQ0ffDBB/L393fANAAA8FdsFqtCK9XT+l4jNCEoVOUK\n",
              "FNb15ET9c/tSBUZFaPqBGN1LTzN7JgAAyGZZvpr9lStXNGDAAK1Zs0aGYahVq1b6/vvvVbRoUUdt\n",
              "/EtczR4AgP9Ky8xQ9PFdmrRnrc4l3pIklfAooFdrt9Rzfo3kbjP3HWgAAED2eKS3ppOkpKQk2e32\n",
              "33533kzEPAAA90vNSFfk8V36bM9aXbh7W5JU0tNLw2q30jN+DeVmtZk7EAAAPJYsv8w+JCREy5Yt\n",
              "k7u7e44IeQAA8HuuVpv6VGmkjSGj9FFAD/l4euty0h29s3WhmkWP05zDvyo1I93smQAA4BFlOeaD\n",
              "g4MVERGhsmXLasyYMTpy5IgjdgEAgGzgZrWpX9UmigkdrX836a4Snl66eDdeb8XOV/N5n+iHo9uU\n",
              "lplh9kwAAJBFj/wy+5MnT+q7777T7NmzVbJkSW3evDm7tz00XmYPAMDDSU5P0/dHt+mLvet19V6C\n",
              "JMk3f2G94d9aIRXrymax/sUjAACAnCDLz8z/r7Jly6pGjRry8/Pj2XkAAJyEu81FL1Rvqs2h4fpH\n",
              "oy4q6p5fZxNvamRMlFrMm6Co4zuVzjP1AADkeFmO+V27dmnYsGEqXbq0Zs2apUGDBunixYuO2AYA\n",
              "ABzEw+aiF2s005bQcP29QWcVcc+nMwk39OamSLWaP1HzTuxWRmam2TMBAMADZPll9lWqVNHzzz+v\n",
              "fv36qXTp0o7alSW8zB4AgMdzNy1Fsw7Fasr+jbqVkiRJquRdTMP926pr+VqyWh75xXwAAMABHvl3\n",
              "5nMSYh4AgOyRmJaimQe3aMr+jYpPvSdJ8itYXMP926pL+ZqyGEQ9AAA5wUPH/Pjx4zVy5EiNGDHi\n",
              "Dz9vZkwT8wAAZK+E1GTNOLhZXx/YpPjUZElSlYIlNKJuW3UqV4OoBwDAZLaHPTB//vySJG9vb4eN\n",
              "AQAAOUMBV3e96d9Gz1cL/C3qj9y+oqHrvlf1wj4a4d9WHXyryzAMs6cCAJAnZfll9hkZGbJac9bb\n",
              "1vDMPAAAjnU7JUlfH4jRjIOblZiWIkmqVaS0Rvi3Uduy1Yh6AACesCy/Rq5MmTIKDw/XoUOHHLEH\n",
              "AADkQAXdPDW6XnvFhoZrWO1W8rS5at+NC3p+zXfquuQLrTl3WLngMjwAADiNLMd8bGysPD091aVL\n",
              "FzVu3FhTp07VnTt3HLENAADkMIXc82lM/Q7aGjZGr9RqIQ+bi/ZcP68Bq2cpeOmXWn/hKFEPAMAT\n",
              "8FhXs1+/fr2mTJmixYsX6+7du9m5K0t4mT0AAOa4fi9RX+3fqG8PxSo5I02SVL+Yr0bVa6cgn0q8\n",
              "/B4AAAd55EvR7ty5U5GRkVq7dq1atWqVnZsAAICTKOqRX+827KwtoeF6sUaQ3Kw27bx2Vs+umKGQ\n",
              "5VO1+dIJsycCAJArZTnmx48fr1q1aqlfv34qX7689uzZoyVLljhiGwAAcBLFPQvoH426aktouAZV\n",
              "C5Sb1aZtV06r9y9fK3T5VMVePmn2RAAAcpWHfmu6/3XkyBFNmzZNAQEBjtgDAACcWAlPL/2zSbBe\n",
              "rtVCX+xbrx+ObNPWy6cUtnyamvpU1Mi67dSoRHmzZwIA4PSy9Mx8RkaGTp48ScgDAIA/5ZPPW/9u\n",
              "0l0xIaPVr0pjuVis2nzphHotm6LnVszQzqtnzJ4IAIBTy1LMW61WJSUlKTMz01F7AABALlIqf0F9\n",
              "FNhTm0JG6Tm/RrIZFm28eEzdl36lviu/0e5r58yeCACAU8ryy+wbNmyorl27qm/fvsqfP/9vHw8O\n",
              "Ds7WYQAAIPcok7+QIpr20mu1W+qzPWsVeXyX1l84qvUXjqpNmaoaWbetahctY/ZMAACcRpbfmu6P\n",
              "rlxvGIbWrl2bbaOyiremAwDAuZy+c0Of7VmrqBO7lPk//xRpX7aaRtRtq5pFSpu8DgCAnO+x3mc+\n",
              "pyDmAQBwTifjr2vSnjWafzLut6jv4FtdI+u2VfXCpUxeBwBAzpXlmN+4ceMffrx58+bZMuhREPMA\n",
              "ADi3E/HXNDFujRae3CO7/vtPk87lampE3baqWqikyesAAMh5shzzDRs2/O3PycnJOnLkiGrWrKld\n",
              "u3Zl+7iHRcwDAJA7HL19RZ/GrdHiU/tkl12GDHUtX0vD67aRX8ESZs8DACDHyPIF8LZv337ff2/b\n",
              "tk2zZs3Krj0AACAP8ytYQl+2fE6v17msiXFrtPT0Pi0+vVdLTu9TcIXaGl6njSoVLG72TAAATJel\n",
              "t6b7I40aNVJsbGx2bAEAAJAkVS1UUlNb9dHK7m+oo28N2WXXwpN71HrBRL2+ca5Oxl83eyIAAKbK\n",
              "8jPze/fu/e3PGRkZ2rp1q9LS0rJ1FAAAgCRVL+yj6W366cCNi5oQt1orzh7UvBO7teBknEIq1tUb\n",
              "ddqovFcRs2cCAPDEZTnmu3fv/tufXVxcVKlSJX377bfZOgoAAOD/qlGklGa06a+9189rQtxqrT53\n",
              "WJHHd2neiTiFVqqnN+q0lm+BwmbPBADgiXnkt6Y7ceKEFi1apEqVKqlbt27ZvStLuAAeAAB5y+5r\n",
              "5zRh92qtu3BEkmQzLHq6cgO9XqeVyuQvZPI6AAAc76F/Z75t27aKi4uTJF28eFENGzbUypUrFR4e\n",
              "rrFjxzpqHwAAwO/ULVZWs9s/r4VdXlaLUpWVbs/UD0e3qVn0J3pry3xdTLxt9kQAABzqoWP+woUL\n",
              "8vf3lyT98MMPatGihZYvX64tW7bo+++/d9Q+AACAB6pfvJy+7/CC5nd+SUE+lZSWmaE5R35VUPQ4\n",
              "vRO7UJfuxps9EQAAh3jomPfw8Pjtz1u2bFHnzp0lSYUKFZLNluVfvQcAAMg2DUuU108dByuq0xAF\n",
              "lKyg1MwMfXs4VkHR4/Tu1kW6nHTH7IkAAGSrh455i8Wi8+fPKzExURs2bFCLFi1++1xSUpJDxgEA\n",
              "AGRFk5IVFNlpiOZ2fFGNS5RXSka6Zh7aoqZREXr/18W6mpRg9kQAALLFQz+l/re//U1169aVzWZT\n",
              "q1at5OfnJ+m/z9KXL1/eUfsAAACyrKlPRQWWrKDNl07ok92rtOPqGU0/uFlzjmzTgKpN9HKtFirq\n",
              "kd/smQAAPLIsXc3+8uXLunLlimrXri3DMCT992J46enp8vX1ddjIv8LV7AEAwIPY7XZtvHhMn+xe\n",
              "pd3XzkmSPGwuGlg1UC/Xaq7C7vlMXggAQNY98lvT5STEPAAA+Ct2u13rLhzV+N2rtOf6eUmSp81V\n",
              "g6oHamiNZipE1AMAnMhD/848AACAMzMMQ63LVNGSrq9qVtsBqlWktJLSU/X53vUKiIrQuF0rdTuF\n",
              "6wABAJwDMQ8AAPIUwzDUtmw1Lev2mma07qfqhX2UmJaiSXvWKiByrMbvXqX4lHtmzwQA4E8R8wAA\n",
              "IE8yDEMdytXQL8HDNK1VX1UtVFIJaSmaGLdGgVFjNTFute6kJps9EwCAP0TMAwCAPM1iWNS5fE2t\n",
              "7P66prR8TlUKllB8arLG716tgMix+mzPWiWmpZg9EwCA+xDzAAAA+m/Ud32qtlb1eENftnhWlbyL\n",
              "KT71niJ2rVRA5Fh9vne97hL1AIAcgpgHAAD4PyyGRcEV6mhNj+Ga3PwZVfAqqlspSfp45y8KiIzQ\n",
              "V/s2KCkt1eyZAIA8jpgHAAD4A1aLRT0r+mttz+H6tNnTKlegiG6m3NWHO5YrMCpC0/Zv0r10oh4A\n",
              "YA5iHgAA4E/YLFaFVqqnDb1GaEJQqHzzF9b15ET9c/tSNY0ap+kHYnQvPc3smQCAPIaYBwAAeAg2\n",
              "i1VPV26gDSEjNa5piMrmL6Sr9xL0/rYlCoqK0MyDW5RM1AMAnhBiHgAAIAtcLFY969dQG3qN1MeB\n",
              "PVUqn7eu3EvQu78uUlD0OH13eKtSMtLNngkAyOWIeQAAgEfgarWpb5XG2hQyWv8J6CEfT29dTrqj\n",
              "v8UuULPocZpz5FelEvUAAAch5gEAAB6Dm9Wm/lWbaFPIKP2rcbBKeHrp4t14vbVlvprP+0Q/Ht2u\n",
              "tMwMs2cCAHIZYh4AACAbuNtc9Hz1QMWEjNb7jbqquEcBnU+8rdGbo9Vy3njNPbZD6UQ9ACCbEPMA\n",
              "AADZyMPmosE1grQ5dLTea9hFRd3z60zCTY2MiVLLeRMUdXwnUQ8AeGzEPAAAgAN42Fw1pGYzbQkN\n",
              "1zsNOqmwWz6dTrihNzdFqvX8iZp3YrcyMjPNngkAcFLEPAAAgAN5urjq5VotFBsWrrfrd1RBN0+d\n",
              "vHNdr2+cqzYLJmrhyT3KtBP1AICsIeYBAACegHwubnq1dkttDRujMfU6yNvVQ8fjr+nVDT+q3YJJ\n",
              "WnJqL1EPAHhoxDwAAMATlN/FTcPqtFJs2BiNqttO3q7uOnL7il5a/4PaL/xMy07vJ+oBAH+JmAcA\n",
              "ADCBl6u73vRvoy2hYzTcv40KuLjp8K3LGrJujjoumqwVZw7IbrebPRMAkEMR8wAAACbydvPQyLrt\n",
              "FBs2Rm/Uaa38Lm46ePOSXlg7W50Xf65VZw8S9QCA3yHmAQAAcoCCbp4aXa+9YkPD9VrtlvK0uWrf\n",
              "jQt6fs136rrkC605d5ioBwD8xqExf+zYMQUGBsrPz08NGzbUgQMHHnis3W5X69atVbBgQUdOAgAA\n",
              "yNEKuefTW/U7KjYsXC/XbCEPm4v2XD+vAatnKXjpl1p/4ShRDwBwbMwPHTpUQ4YM0dGjRzVmzBgN\n",
              "HDjwgcdOnDhRFStWdOQcAAAAp1HEPb/eadhJsaFjNLRmc7lbXbT72jn1XfmNei6bok0XjxH1AJCH\n",
              "GXYH/S1w9epVVapUSTdv3pTNZpPdbpePj49iYmJUqVKl+449cOCAXn75Zc2cOVP169fX7du3H/i4\n",
              "KSkpSklJue9j7777riZNmuSIbwMAACBHuJqUoK/2b9B3h7cqJSNdktS4RHmNqNtOTX14QgQA8hqH\n",
              "PTN/7tw5+fj4yGazSZIMw5Cvr6/Onj1733FpaWl68cUXNXXqVFmt1r983I8++kje3t733bZt2+aQ\n",
              "7wEAACCnKO5ZQP9o1FVbQsM1qFqg3Kw2/XrltHr/8rXClk/T1ssnzZ4IAHiCTL8A3gcffKBevXqp\n",
              "WrVqD3X822+/rfj4+PtujRo1cvBKAACAnKGEp5f+2SRYMSGjNaBqgFwtVsVePqnQ5dP0zC/Ttf3K\n",
              "abMnAgCeANNfZt+sWTOdPXtWhmEoPT1dFy9elK+vr7Zv365ixYo91NcaMWKEJkyY4IhvAwAAIEe7\n",
              "mHhbk/eu00/HdigtM0OS1LxUZY2s21b1i5czeR0AwFEc9sx88eLFVa9ePc2ZM0eSFB0drTJlyvzu\n",
              "9+U3bdqkM2fO6PTp04qJiZGXl5dOnz790CEPAACQl5XKX1AfBfbUppBRes6vkWyGRRsvHlP3pV+p\n",
              "78pvtPvaObMnAgAcwKEvs586daqmTp0qPz8/ffzxx5o5c6YkafDgwVq0aJEjvzQAAECeUiZ/IUU0\n",
              "7aWNIaPUu3IDWQ2L1l84qm5LvtCAVbO09/p5sycCALKRw15m/yTxMnsAAID7nb5zQ5P2rFH0id3K\n",
              "/J9/7rUvW00j6rZVzSKlTV4HAHhcpl8ADwAAANmvvFcRTWz2tNb3HKFeFevKYhhaee6QOi6arMFr\n",
              "ZuvgzUtmTwQAPAZiHgAAIBer4F1MnzXvrbU9hqtHBX8ZMvTL2QNqv3CShq77XodvXTZ7IgDgERDz\n",
              "AAAAeUClgsX1eYtntKbnmwp+qrYMGVp6ep/aLZikV9b/oGO3r5o9EQCQBcQ8AABAHuJXsIS+bPmc\n",
              "VvV4Q13K15Jddi06tVet50/Uaxt+0on4a2ZPBAA8BGIeAAAgD6paqKSmtuqjld1fV0ffGrLLrgUn\n",
              "49Rq/gS9vnGuTsZfN3siAOBPEPMAAAB5WPXCpTS9TT/9EjxM7ctWU6bdrnkndqvV/Akavulnnb5z\n",
              "w+yJAIA/QMwDAABANYuU1jdtB2hpt9fUpkxVZdgzFXl8l1rMG6+RMVE6m3DT7IkAgP+DmAcAAMBv\n",
              "6hQto2/bDdTirq+qZWk/ZdgzNffYDjWP/kThm+fpfOItsycCAETMAwAA4A/ULVZWc9oP0sIuL6t5\n",
              "qcpKt2fqh6Pb1Cz6E729Zb4uJt42eyIA5GnEPAAAAB6ofvFy+qHDC5rf+SUF+VRSWmaGZh/5VUHR\n",
              "4/RO7EJduhtv9kQAyJOIeQAAAPylhiXK66eOgxXVaYialHxKqZkZ+vZwrIKix+m9rYt0JemO2RMB\n",
              "IE8h5gEAAPDQmpSsoKhOQzW344tqXKK8UjLS9c2hLQqMitAH25bo2r0EsycCQJ5AzAMAACDLmvpU\n",
              "VFSnofqxwwtqULycUjLS9fWBGAVERuhf25fp+r1EsycCQK5GzAMAAOCRGIahZqUqa37nlzSn/SDV\n",
              "LVZWyRlpmrp/owKixurD7ct1M/mu2TMBIFci5gEAAPBYDMNQy9J+WtTlFX3bdqDqFC2je+lp+mr/\n",
              "BgVEjtXHO3/RLaIeALIVMQ8AAIBsYRiG2pStqiVdX9XMNv1Vs3Ap3U1P1ed71ysgKkLjdq3U7ZQk\n",
              "s2cCQK5AzAMAACBbGYahdr7VtTx4mGa07qfqhX2UmJaiSXvWKiByrMbvXqX4lHtmzwQAp0bMAwAA\n",
              "wCEMw1CHcjX0S/AwTWvVV1UKllBCWoomxq1RYNRYfRq3RgmpyWbPBACnRMwDAADAoSyGRZ3L19Sq\n",
              "Hm9oSsvn5FewuOJTk/XJ7lVqEjlWk/esU2JaitkzAcCpEPMAAAB4IiyGRV2fqq1V3d/UFy2eVSXv\n",
              "YopPvaexu1YoIHKsvti7XneJegB4KMQ8AAAAniirxaLuFepoTY/h+qx5b1XwKqpbKUn6aOcvCoiM\n",
              "0JR9G5WUlmr2TADI0Yh5AAAAmMJqsahXxbpa23O4Pm0WpnIFiuhmyl39e8cyBUZFaNr+TbqXTtQD\n",
              "wB8h5gEAAGAqm8Wq0Er1taHXCI0PCpVv/sK6npyof25fqqZR4zT9QIyS09PMngkAOQoxDwAAgBzB\n",
              "ZrGqd+UG2hAyUuOahqhM/oK6ei9B729boqbR4zTrUKxSMtLNngkAOQIxDwAAgBzFxWLVs34NtbHX\n",
              "KH0c2FOl8nnrStId/X3rQgVFjdN3h7cS9QDyPGIeAAAAOZKr1aa+VRprU8ho/Segh0p6eulSUrz+\n",
              "FrtAzaM/0ZwjvyqVqAeQRxHzAAAAyNHcrDb1r9pEMSGj9a/GwSrhUUAX7t7WW1vmq8W88frx6Hal\n",
              "ZWaYPRMAnihiHgAAAE7B3eai56sHKiY0XO836qpiHvl1LvGWRm+OVst54/XzsR1KJ+oB5BHEPAAA\n",
              "AJyKh81Fg2sEaUtouN5r2EVF3fPrTMJNjYiJUst5ExR1fBdRDyDXI+YBAADglDxsrhpSs5m2hIbr\n",
              "nQadVNgtn04n3NCbm35W6/kTNf9EnDIyM82eCQAOQcwDAADAqXm6uOrlWi0UGxaut+p3VEE3T528\n",
              "c13DNv6ktgs+1aKTe5RpJ+oB5C7EPAAAAHKFfC5ueq12S8WGhiu8Xnt5u3roWPxVvbLhR7VbMElL\n",
              "Tu0l6gHkGsQ8AAAAcpUCru56vU5rxYaN0ci6beXl6q4jt6/opfU/qP3Cz7Ts9H6iHoDTI+YBAACQ\n",
              "K3m5umu4f1vFho7RcP82KuDipsO3LmvIujnqtGiyVpw5ILvdbvZMAHgkxDwAAAByNW83D42s205b\n",
              "wsbojTqtlc/mqgM3L+mFtbPVZfHnWn3uEFEPwOkQ8wAAAMgTCrl5anS99toaNkav1W4pT5ur9t64\n",
              "oIGrv1XXJV9o7fkjRD0Ap0HMAwAAIE8p5J5Pb9XvqNiwcL1cs4U8bC7ac/28+q+aqeClX2rDhaNE\n",
              "PYAcj5gHAABAnlTEPb/eadhJsaFjNLRGM7lbXbT72jn1WfmNei6bopiLx4l6ADkWMQ8AAIA8rahH\n",
              "fr3bqIu2hIZrcPWmcrPatOPqGT2zYrpCl0/VlksnzJ4IAL9DzAMAAACSinsW0PuNu2lzaLierxYo\n",
              "N6tNv145rad/+Vphy6dp6+WTZk8EgN8Q8wAAAMD/UdLTS/9qEqyYkNEaUDVArharYi+fVOjyaXrm\n",
              "l+nafuW02RMBgJgHAAAA/ohPPm99GNBdm0JGq2+VxnKxWBVz6bh6LpuiPitmaOfVs2ZPBJCHEfMA\n",
              "AADAnyidv6A+DuypTSGj9JxfI9kMizZcPKbuS79Uv5UzFXftnNkTAeRBxDwAAADwEMrkL6SIpr20\n",
              "MWSUelduIKth0boLR9R1yRcauHqW9l4/b/ZEAHkIMQ8AAABkgW+BwhofFKr1vUYorFI9WQxDq88d\n",
              "VufFn2vQ6m+1/8YFsycCyAOIeQAAAOARPOVVVBObPa31PUeoV8W6shiGVp47pI6LJmvwmtk6ePOS\n",
              "2RMB5GLEPAAAAPAYKngX02fNe2ttj+HqXqGODBn65ewBtV84SUPXfa/Dty6bPRFALkTMAwAAANmg\n",
              "UsHi+qLFs1rT8011K19bkrT09D61WzBJr6z/QcduXzV5IYDchJgHAAAAspFfwRL6qtVzWtX9TXUu\n",
              "V1N22bXo1F61nj9Rr234SSfir5k9EUAuQMwDAAAADlCtcElNa91XK7u/rg6+1WWXXQtOxqnV/Al6\n",
              "Y+NcnYy/bvZEAE6MmAcAAAAcqHrhUprRpr9+CR6m9mWrKdNuV/SJ3Wo1f4JGbIrUmYQbZk8E4ISI\n",
              "eQAAAOAJqFmktL5pO0BLu72mNmWqKsOeqZ+P71Tz6PEaFROlcwk3zZ4IwIkQ8wAAAMATVKdoGX3b\n",
              "bqAWdX1FLUv7KcOeqZ+O7VCz6E8UvnmezifeMnsiACdAzAMAAAAmqFfMV3PaD9LCLi+reanKSrdn\n",
              "6oej29Qs+hP9LXaBLt6NN3sigByMmAcAAABMVL94Of3Q4QXN6/ySmvpUVFpmhr47vFVBURH6+9aF\n",
              "upx0x+yJAHIgYh4AAADIARqVKK+5HV9UZKchalziKaVmZmjWoVg1jYrQe1sX6QpRD+D/IOYBAACA\n",
              "HCSgZAVFdRqiuR0Gq1GJ8krJSNc3h7YoMCpCH2xbomv3EsyeCCAHIOYBAACAHMYwDDUtVUnRnYbq\n",
              "xw4vqH4xX6VkpOvrAzEKiIzQv7Yv043kRLNnAjARMQ8AAADkUIZhqFmpylrQ5WXNaT9I/kXLKjkj\n",
              "TVP3b1RAZIT+s2O5bibfNXsmABMQ8wAAAEAOZxiGWpb20+Kur+jbtgNVu0hpJaWn6st9GxQQOVZj\n",
              "d67QrZQks2cCeIKIeQAAAMBJGIahNmWramm31zSzTX/VLFxKd9NTNXnvOgVEjtW4XSt1m6gH8gRi\n",
              "HgAAAHAyhmGonW91LQ8epumt+6l6YR8lpqVo0p61CoyK0ITdq3UnNdnsmQAciJgHAAAAnJRhGOpY\n",
              "roZ+CR6mqa36qErBErqTmqwJcasVEPmxPo1bowSiHsiViHkAAADAyVkMi7qUr6VVPd7QVy2fk1/B\n",
              "4opPTdYnu1cpICpCk/esU2JaitkzAWQjYh4AAADIJSyGRd2eqq1V3d/UFy2eVUXvYrqdkqSxu1Yo\n",
              "IHKsvti7XneJeiBXIOYBAACAXMZqsah7hTpa22O4PmveW095FdWtlCR9tPMXBUZFaMq+jbqXnmr2\n",
              "TACPgZgHAAAAcimrxaJeFetqXc/h+rRZmMoVKKIbyXf17x3LFBAZoa8PbNK99DSzZwJ4BMQ8AAAA\n",
              "kMvZLFaFVqqvDb1GaHxQqHzzF9b15ER9sG2pmkZFaMbBzUom6gGnQswDAAAAeYTNYlXvyg20IWSk\n",
              "Ipr2Upn8BXX1XoL+8etiNY0ep1mHYpWSkW72TAAPgZgHAAAA8hgXi1XP+TXSxl6j9HFAT5XK560r\n",
              "SXf0960LFRQ1TrMPb1UqUQ/kaA6N+WPHjikwMFB+fn5q2LChDhw48LtjYmNj5e/vL39/f9WoUUND\n",
              "hw5VSgpX2AQAAAAczdVqU9+qjbUpZLQ+bNJdJT29dCkpXm/HLlCz6E/0/ZFtSsvMMHsmgD/g0Jgf\n",
              "OnSohgwZoqNHj2rMmDEaOHDg746pU6eOtm/frri4OO3bt09Xr17Vl19+6chZAAAAAP4PN6tNA6oF\n",
              "KCZktP7ZuJtKeBTQhbu3NWbLPDWP/kQ/Hd1O1AM5jMNi/urVq9qxY4f69u0rSQoJCdG5c+d0/Pjx\n",
              "+47z9PSUi4uLJCk1NVX37t2TYRgPfNyUlBTduXPnvltGBj9YAAAAgMflbnPRoOpNFRMarvcbdVUx\n",
              "j/w6l3hLozZHq+W88fr52A6lE/VAjuCwmD937px8fHxks9kkSYZhyNfXV2fPnv3dsadPn1adOnVU\n",
              "tGhReXt765VXXnng43700Ufy9va+77Zt2zZHfRsAAABAnuNhc9HgGkHaEhqu9xp2URH3fDqTcFMj\n",
              "YqLUct4ERR3fpYzMTLNnAnlajrgAXvny5bVnzx5dvnxZKSkpmjdv3gOPffvttxUfH3/frVGjRk9w\n",
              "LQAAAJA3eNhcNaRmM8WGjtE7DTqpsFs+nU64oTc3/azWCyZq/ok4oh4wicNivmzZsrp06ZLS0/97\n",
              "FUy73a6zZ8/K19f3gffJnz+/nnnmGX3//fcPPMbNzU1eXl733axWa7bvBwAAAPBfni6uerlWC8WG\n",
              "heut+h1V0M1TJ+KvadjGn9R2wadadHKPMu1EPfAkOSzmixcvrnr16mnOnDmSpOjoaJUpU0aVKlW6\n",
              "77jjx48rLS1N0n9/Z37+/PmqXbu2o2YBAAAAeET5XNz0Wu2Wig0NV3i99vJ2ddex+Kt6ZcOPardg\n",
              "kpac3kfUA0+IQ19mP3XqVE2dOlV+fn76+OOPNXPmTEnS4MGDtWjRIknS2rVrVbduXdWpU0d169ZV\n",
              "iRIl9O677zpyFgAAAIDHUMDVXa/Xaa3YsLc0sm5bebm668jtK3pp3ffqsPAzLT+zX3a73eyZQK5m\n",
              "2HPB/8pGjBihCRMmmD0DAAAAyJPiU+7p64MxmnEgRglpKZKkGoV9NLJuO7UrW+1P360KwKPJERfA\n",
              "AwAAAOC8vN08NKpuO20JG6PXa7dSPpurDty8pEFrvlOXxZ9r9blDPFMPZDNiHgAAAEC2KOTmqfD6\n",
              "HRQbNkav1mopT5ur9t64oIGrv1XXJV9o7fkjRD2QTYh5AAAAANmqsHs+vd2go2LDwvVyzRbysLlo\n",
              "z/Xz6r9qprov/UobLhwl6oHHRMwDAAAAcIgi7vn1TsNOig0do6E1msnNatOua2fVZ+U36rVsimIu\n",
              "HifqgUdEzAMAAABwqKIe+fVuoy6KDR2jwdWbys1q0/arZ/TMiukKXT5NWy6dMHsi4HSIeQAAAABP\n",
              "RHHPAnq/cTdtDg3X89UC5Wqx6tcrp/T0L1/r6eXT9OvlU2ZPBJwGMQ8AAADgiSrp6aV/NQlWTGi4\n",
              "BlRtIheLVVsun1TI8ql6dsV07bhyxuyJQI5HzAMAAAAwRal83vowoIdiQkarb5XGshkWbbp4XD2W\n",
              "faU+K2Zo59WzZk8EcixiHgAAAICpSucvqI8De2pTyCg969dQNsOiDRePqfvSL9Vv5UzFXTtn9kQg\n",
              "xyHmAQAAAOQIZQsU1rimIdoQMlK9K9eX1bBo3YUj6rrkCw1cPUv7rl8weyKQYxDzAAAAAHKUcgWK\n",
              "aHxQmNb3GqHQivVkMQytPndYnRZP1gtrvtOBGxfNngiYjpgHAAAAkCM95VVUnzZ/Wut7jlDPCv4y\n",
              "ZGjF2YPqsOgzvbh2tg7dvGz2RMA0xDwAAACAHK2CdzFNbvGM1vUcru4V6siQoeVnDqjdwk/10rrv\n",
              "deTWFbMnAk8cMQ8AAADAKVQqWFxftHhWq3u8qW7la0uSlpzep7YLPtWr63/UsdtXTV4IPDnEPAAA\n",
              "AACnUqVQCX3V6jmt6v6mOperKbvsWnhqj1rPn6hhG37SyfhrZk8EHI6YBwAAAOCUqhUuqWmt+2pF\n",
              "8Ovq4Ftddtk1/2ScWs6foDc2ztWpO9fNngg4DDEPAAAAwKnVKFJKM9r01/Juw9SubDVl2u2KPrFb\n",
              "LedN0IhNkTqTcMPsiUC2I+YBAAAA5Aq1ipbWzLYDtKTrq2pdpooy7Jn6+fhOtYger1ExUTqXcNPs\n",
              "iUC2IeYBAAAA5Cr+xcrqu3bPa1HXV9SitJ/S7Zn66dgONYv+RGM2z9OFxNtmTwQeGzEPAAAAIFeq\n",
              "V8xX37cfpAWdX1azUpWUbs/U90e3KSh6nP4Wu0AX78abPRF4ZMQ8AAAAgFytQYly+rHDYM3r/JKa\n",
              "+lRUWmaGvju8VUFREfr71oW6nHTH7IlAlhHzAAAAAPKERiXKa27HF/VzxxfVuMRTSs3M0KxDsWoa\n",
              "FaF//LpYV4h6OBFiHgAAAECeEuhTUVGdhmhuh8FqVKK8UjLSNePgZgVGReif25bo2r0EsycCf4mY\n",
              "BwAAAJDnGIahpqUqKbrTUP3Q/gXVL+arlIx0TTsQo4DICP17+zLdSE40eybwQMQ8AAAAgDzLMAw1\n",
              "L11ZC7q8rNntnpd/0bJKzkjTlP0bFRAZof/sWK6byXfNngn8DjEPAAAAIM8zDEOtylTR4q6v6Nu2\n",
              "A1W7SGklpafqy30bFBA5VmN3rtCtlCSzZwK/IeYBAAAA4H8YhqE2ZatqabfXNLNNf9UsXEp301M1\n",
              "ee86BUSO1bhdK3WbqEcOQMwDAAAAwP/DMAy1862u5cHDNL11P1UrVFKJaSmatGetAqMiNGH3at1J\n",
              "TTZ7JvIwYh4AAAAAHsAwDHUsV0Mrur+uqa36qErBErqTmqwJcasVEPmxJsWtUQJRDxMQ8wAAAADw\n",
              "FyyGRV3K19KqHm/oq5bPya9gccWnJmvc7lUKiIrQ53vXKTEtxeyZyEOIeQAAAAB4SBbDom5P1daq\n",
              "7m/q8xbPqKJ3Md1OSdLHO1coIHKsvty3QUlpqWbPRB5AzAMAAABAFlktFvWo4K+1PYZrUvPeesqr\n",
              "qG6lJOk/O5YrIGqspu7fqHvpRD0ch5gHAAAAgEdktVgUUrGu1vUcrolBYSpXoIhuJN/Vv7YvU2BU\n",
              "hL4+sEn30tPMnolciJgHAAAAgMdks1gVVrm+1vcaofFBoSqbv5Cu3UvUB9uWKigqQjMOblYyUY9s\n",
              "RMwDAAAAQDZxsVjVu3IDbQwZpYimvVQ6X0FduZegf/y6WEHR4zTrUKxSMtLNnolcgJgHAAAAgGzm\n",
              "YrHqOb9G2hQySh8H9JSPp7cuJ93R37cuVFDUOM0+vFWpRD0eAzEPAAAAAA7iarWpb9XGigkdrQ+b\n",
              "dFcJTy9dSorX27EL1Cz6E31/ZJvSMjPMngknRMwDAAAAgIO5WW0aUC1Am0NG65+Nu6m4RwFduHtb\n",
              "Y7bMU4vo8frp6HaiHllCzAMAAADAE+Juc9Gg6k21OTRc7zfqqmIe+XU28aZGbY5Wy3kTFHlsp9KJ\n",
              "ejwEYh4AAAAAnjAPm4sG1wjSltBwvduws4q459OZhBsaHhOpVvMnKvrEbmVkZpo9EzkYMQ8AAAAA\n",
              "JvGwuWpozeaKDR2jvzXopEJunjp157re2DhXrRdM1IKTcUQ9/hAxDwAAAAAm83Rx1Su1Wig2bIze\n",
              "qt9BBd08dSL+ml7b8JPaLvhUi07uUaadqMf/j5gHAAAAgBwiv4ubXqvdSrGh4Rpdt528Xd11LP6q\n",
              "Xtnwo9otmKQlp/cR9ZBEzAMAAABAjlPA1V1v+LdRbNhbGuHfVl6u7jpy+4peWve9Oiz8TMvP7Jfd\n",
              "bjd7JkxEzAMAAABADuXl6q4RddsqNnSM3vRvo/wubjp067JeXDtHnRZN1sqzB4n6PIqYBwAAAIAc\n",
              "ztvNQ6PqtlNs2Bi9XruV8tlctf/mRQ1a8526LvlCa84dJurzGGIeAAAAAJxEITdPhdfvoNiwMXq1\n",
              "Vkt52ly15/p5DVg9S92WfKl1548Q9XkEMQ8AAAAATqawez693aCjYsPC9VLN5vKwuSju+jn1WzVT\n",
              "3Zd+pY0XjhH1uRwxDwAAAABOqoh7fv29YWdtCQ3XkBpBcrPatOvaWT23coZ6LZuimIvHifpcipgH\n",
              "AAAAACdXzKOA3mvUVVtCw/VC9aZys9q0/eoZPbNiukKXT1Ps5ZNmT0Q2I+YBAAAAIJco4emlDxp3\n",
              "U0zIaA2sFiBXi1W/XjmlsOXT9PTyafr18imzJyKbEPMAAAAAkMv45PPWv5t0V0xouAZUbSIXi1Vb\n",
              "Lp9UyPKpenbFdO24csbsiXhMxDwAAAAA5FKl8nnrw4AeigkZrT5+jWQzLNp08bh6LPtKfVZ+o13X\n",
              "zpo9EY+ImAcAAACAXK50/oIa27SXNoWM0rN+DWU1LNpw4aiCl3yp/qtmas/182ZPRBYR8wAAAACQ\n",
              "R5QtUFjjmoZoY8hI9a5cX1bDorXnj6jL4s/1/Opvte/6BbMn4iER8wAAAACQx5QrUETjg8K0vtcI\n",
              "hVasJ4thaNW5Q+q0eLJeWPOdDty4aPZE/AViHgAAAADyqKe8iurT5k9rXc8R6lnBX4YMrTh7UB0W\n",
              "faYX187WoZuXzZ6IByDmAQAAACCPq+hdTJNbPKO1PYer+1N1ZMjQ8jMH1G7hp3pp3fc6cuuK2RPx\n",
              "/yDmAQAAAACSpMoFi+uLls9qdY831bV8LUnSktP71HbBp3p1/Y86fvuqyQvxv4h5AAAAAMB9qhQq\n",
              "oSmt+mhl9zfUqVwN2WXXwlN71HrBRA3b8JNOxl8ze2KeR8wDAAAAAP5Q9cI++rp1P60Ifl0dfKsr\n",
              "027X/JNxajl/gt7c+LNO3blu9sQ8i5gHAAAAAPypGkVKaUab/lrebZjala2mTLtdUSd2qeW8CRoZ\n",
              "E6kzCTfMnpjnEPMAAAAAgIdSq2hpzWw7QEu6vqrWZaoow56pucd2qkX0eI3eHK1zCTfNnphnEPMA\n",
              "AAAAgCzxL1ZW37V7Xgu7vKIWpf2Ubs/Uj0e3q1n0JxqzeZ4uJN42e2KuR8wDAAAAAB5J/eK++r79\n",
              "IC3o/LKalaqkdHumvj+6TUHR4/RO7AJdvBtv9sRci5gHAAAAADyWBiXK6ccOgxXdaagCS1ZQWmaG\n",
              "vj28VUFREXp36yJdTrpj9sRch5gHAAAAAGSLxiWf0s+dhujnji+qcYmnlJqZoZmHtqhpVIT+8eti\n",
              "XU1KMHtirkHMAwAAAACyVaBPRUV1GqKfOgxWw+LllJKRrhkHNyswKkL/3LZE1+4R9Y+LmAcAAAAA\n",
              "ZDvDMBRUqpLmdX5JP7R/QfWK+So5I03TDsQoMCpC/96+TDeSE82e6bSIeQAAAACAwxiGoealK2th\n",
              "l5c1u93zqlO0jO6lp2nK/o0KiIzQRzt+0a3ku2bPdDoOjfljx44pMDBQfn5+atiwoQ4cOPC7Y9au\n",
              "XatGjRqpevXqqlGjhsLDw5WZmenIWQAAAACAJ8wwDLUqU0VLur6qb9sOVO0ipZWUnqov9q1Xk8ix\n",
              "iti5QrdSksye6TQcGvNDhw7VkCFDdPToUY0ZM0YDBw783TGFChXSTz/9pIMHD2rnzp3asmWLvvvu\n",
              "O0fOAgAAAACYxDAMtSlbVUu7vaZv2vRXjcI+upueqs/2rlNg5Fh9snuV4lPumT0zxzPsdrvdEQ98\n",
              "9epVVapUSTdv3pTNZpPdbpePj49iYmJUqVKlB97vtddeU9GiRfX+++//4edTUlKUkpJy38feffdd\n",
              "TZo0KTvnAwAAAACeALvdrl/OHtCE3at16NZlSZKXq7sGVw/S4BpB8nJ1N3lhzuSwZ+bPnTsnHx8f\n",
              "2Ww2Sf/9f198fX119uzZB97n8uXLioqKUteuXR94zEcffSRvb+/7btu2bcv2/QAAAAAAxzMMQ53K\n",
              "1dSK7q9rSqs+qlKwhO6kJmtC3GoFRH6sSXFrlJCabPbMHCfHXADvzp076tatm8LDw9WgQYMHHvf2\n",
              "228rPj7+vlujRo2e4FIAAAAAQHazGBZ1LV9Lq3q8oS9bPKvK3sUVn5qscbtXKSAqQp/vXae7aSl/\n",
              "/UB5hM1RD1y2bFldunRJ6enpv73M/uzZs/L19f3dsQkJCerYsaO6d++uESNG/Onjurm5yc3N7b6P\n",
              "Wa3WbN0OAAAAADCHxbAouEIddSlfS4tP79XEuDU6EX9NH+9coWn7Y/RSreYaWDVAni6uZk81lcOe\n",
              "mS9evLjq1aunOXPmSJKio6NVpkyZ3/2+fGJiojp27KiOHTvq73//u6PmAAAAAACciNViUY8K/lrb\n",
              "Y7gmNe+t8gWK6GbKXf1nx3IFRkVo6v6NupeeavZM0zjsAniSdOTIEQ0cOFA3btyQl5eXZs6cqVq1\n",
              "amnw4MEKDg5WcHCwPvzwQ73//vuqUaPGb/cLCwvTO++889BfZ8SIEZowYYIjvgUAAAAAQA6Qnpmh\n",
              "+Sfi9OmeNTqTcFOSVMwjv16t1VJ9qjSWh83F5IVPlkNj/kkh5gEAAAAgb0jLzFD08V2atGetziXe\n",
              "kiSV8CigV2u31HN+jeSeR6I+x1wADwAAAACAv+JiseoZv4ba0Gukxgb2Uul8BXXlXoLe+3WxgqLH\n",
              "6dtDsUrJSDd7psMR8wAAAAAAp+NqtalPlUbaFDJKHwX0kI+nty4n3dE7WxeqWfQ4zTn8q1JzcdQT\n",
              "8wAAAAAAp+Vqtalf1SaKCR2tfzfprhKeXrp4N15vxc5X83mfaO/182ZPdAhiHgAAAADg9NysNg2s\n",
              "FqDNIaP1QeNuKu5RQAmpySrvVdTsaQ7hsPeZBwAAAADgSXO3ueiF6k31nF8jHb51WV6u7mZPcgie\n",
              "mQcAAAAA5DoeNhfVLVbW7BkOQ8wDAAAAAOBkiHkAAAAAAJwMMQ8AAAAAgJMh5gEAAAAAcDLEPAAA\n",
              "AAAAToaYBwAAAADAyRDzAAAAAAA4GWIeAAAAAAAnQ8wDAAAAAOBkiHkAAAAAAJwMMQ8AAAAAgJMh\n",
              "5gEAAAAAcDLEPAAAAAAAToaYBwAAAADAyRDzAAAAAAA4GWIeAAAAAAAnQ8wDAAAAAOBkiHkAAAAA\n",
              "AJwMMQ8AAAAAgJMx7Ha73ewRj6tXr14qX778E/laGRkZ2rZtmxo1aiSr1fpEvibyDs4vOBLnFxyJ\n",
              "8wuOxPkFR+L8giNl5fwqV66c3njjjYd+7FwR80/SnTt35O3trfj4eHl5eZk9B7kM5xccifMLjsT5\n",
              "BUfi/IIjcX7BkRx5fvEyewAAAAAAnAwxDwAAAACAkyHmAQAAAABwMsR8Frm5uekf//iH3NzczJ6C\n",
              "XIjzC47E+QVH4vyCI3F+wZE4v+BIjjy/uAAeAAAAAABOhmfmAQAAAABwMsQ8AAAAAABOhpgHAAAA\n",
              "AMDJEPOSXn/9dZUvX16GYSguLu53n585c6YMw9CCBQv+8P6JiYnq0KGDihYtqoIFCzp0K5zP455f\n",
              "+/btU/PmzVW1alXVrFlTgwYN0r179xw7Gk7lcc+xU6dOqX79+vL391fNmjUVFhamW7duOXY0nMbj\n",
              "nl//18CBA2UYhm7fvp3tO+GcHvf8On36tKxWq/z9/X+7nThxwrGj4TSy4+fX2bNn1a1bN1WpUkXV\n",
              "q1fX5MmTHTcYTuVxz68VK1bc97OrVKlSqlevXpY2EPOSQkNDFRMTo3Llyv3uc6dPn9bXX3+tJk2a\n",
              "PPD+Li4uGjNmjFavXu3ImXBSj3t+ubu76/PPP9fhw4e1Z88e3b17V2PHjnXkZDiZxz3HSpUqpZiY\n",
              "GMXFxWn//v0qVaqU3n//fQcuhjN53PPrf82bN08uLi6OmAgnlh3nV4ECBRQXF/fbrWLFio6aCyfz\n",
              "uOeX3W5Xz5491b9/fx05ckQHDx7U008/7cjJcCKPe3516NDhvp9d9erVU58+fbK0gZiX1Lx5c5Up\n",
              "U+Z3H8/MzNTgwYM1efLkP30rATc3N7Vu3Zpn5fGHHvf8qly5smrXri1JslqtatiwoU6fPu2ouXBC\n",
              "2fEzzMPDQ5KUkZGhu3fvyjAMh+2Fc3nc80uSrly5ov/85z+aMGGCo2bCSWXH+QU8yOOeX2vWrJGb\n",
              "m5vCwsJ++1iJEiUcshXOJzt/fl28eFFr1qxRv379srSBmP8TEyZMUNOmTVW/fn2zpyAXepTz6+7d\n",
              "u5o+fbq6d+/uwGXILbJyjqWmpsrf319FixbVsWPH9MEHHzyBhXBmWTm/XnzxRUVERKhAgQJPYBly\n",
              "g6ycX3fv3lXDhg1Vr149/fOf/1RGRsYTWAhn9rDn18GDB1WsWDE988wzqlu3rnr27KmTJ08+oZVw\n",
              "Vo/yb/xZs2apc+fOKl68eJa+li2r4/KK/fv3Kzo6Whs3bjR7CnKhRzm/UlNT1bt3b7Vv3149e/Z0\n",
              "4DrkBlk9x1xdXRUXF6fU1FQNGzZMU6dOVXh4uINXwlll5fyaPn26fH191bp16yewDLlBVs4vHx8f\n",
              "XbhwQcWLF9fNmzfVu3dvjR8/np9feKCsnF/p6elau3attm7dqho1amjKlCl6+umntWPHjiewFM7o\n",
              "Uf6Nb7fb9c033+izzz7L8tfjmfkH2LRpk06fPq3KlSurfPny2rp1q4YMGaKvvvrK7GnIBbJ6fqWl\n",
              "pal3797y8fHRpEmTnvBaOKNH/Rnm6uqq559/XrNnz35CS+GMsnJ+rVu3TgsXLlT58uVVvnx5SVLt\n",
              "2rW1e/fuJ7waziIr55ebm9tvz2QVLlxYgwYN0qZNm570ZDiRrJxfvr6+qlu3rmrUqCFJ6tevn3bt\n",
              "2qW0tLQnPRtO4lH+/bVhwwYlJyerQ4cOWf+CdvymXLly9t27d//h51q0aGGfP3/+n97/1KlTdm9v\n",
              "72zfhdzhUc+vtLQ0e69eveyDBg2yZ2ZmOm4gnN6jnmOnT5+2371712632+0ZGRn2ESNG2J977jkH\n",
              "rYSzety/I/+XJPutW7eybRdyh0c9v65cuWJPTU212+12e3Jysj00NNT+7rvvOmglnNWjnl+JiYn2\n",
              "p556yn7+/Hm73W63//zzz/bq1as7aCWc1eP+/di3b1/7O++880hfm2fmJQ0dOlRlypTR+fPn1aFD\n",
              "B1WqVOkv7/Pee+9pypQpv/137dq1FRAQoDt37qhMmTJZvngBcq/HPb/mzp2refPmaceOHapbt678\n",
              "/f316quvOno2nMjjnmN79+5VkyZNVLt2bdWuXVvXrl17pJd6IXfKjr8jgQd53PMrJiZGdevWVZ06\n",
              "dVSvXj2VLFlS77zzjqNnw0k87vmVL18+TZkyRV26dFGdOnU0efJk/fTTT46eDSeRHX8/xsfHa968\n",
              "eRo0aNAjbTDsdrv9ke4JAAAAAABMwTPzAAAAAAA4GWIeAAAAAAAnQ8wDAAAAAOBkiHkAAPK4hIQE\n",
              "5c+fXy+88ILZUwAAwEMi5gEAyOPmzp2r+vXra968eUpMTDR7DgAAeAjEPAAAedyMGTM0ZswYNW/e\n",
              "XHPnzpUkpaWl6ZVXXpGfn5+aNGmikSNHqmXLlr/dZ/bs2WrcuLHq1aun5s2ba8+ePSatBwAgb7KZ\n",
              "PQAAAJjn4MGDOnfunDp06KD09HR9/PHHeuGFFzRt2jQdO3ZMBw4ckCR17tz5t/ts3rxZP/74ozZu\n",
              "3Cg3Nzdt2rRJzz333G/HAgAAx+OZeQAA8rAZM2aof//+slqt6ty5s06dOqVDhw5pzZo16tu3r1xc\n",
              "XOTi4qIBAwb8dp+FCxdqz549aty4sfz9/TVs2DDdvHlT9+7dM/E7AQAgb+GZeQAA8qi0tDTNnj1b\n",
              "Li4u+uGHHyRJSUlJmjFjxu+ONQzjtz/b7XYNGDBA//nPf57YVgAAcD+emQcAII9atGiRKlSooAsX\n",
              "Luj06dM6ffq0tm7dqtmzZ6tVq1b64YcflJaWprS0NH333Xe/3S84OFhz5szR2bNnJUmZmZnasWOH\n",
              "Wd8GAAB5Es/MAwCQR82YMUN9+vS572PVqlVT6dKlVbx4cZUvX17Vq1dXoUKF1KBBA128eFGS1KxZ\n",
              "M0VERKhnz55KT09XamqqunTpogYNGpjxbQAAkCcZdrvdbvYIAACQ8yQkJKhAgQJKS0tTnz59VL9+\n",
              "fY0ZM8bsWQAAQMQ8AAB4gMaNGyslJUXJyckKCgrS5MmT5eHhYfYsAAAgYh4AAAAAAKfDBfAAAAAA\n",
              "AHAyxDwAAAAAAE6GmAcAAAAAwMkQ8wAAAAAAOBliHgAAAAAAJ0PMAwAAAADgZIh5AAAAAACcDDEP\n",
              "AAAAAICT+f8A3HDZlsewHXEAAAAASUVORK5CYII=\n",
              "\">\n",
              "      </div>\n",
              "      <script type=\"text/javascript\">\n",
              "        (() => {\n",
              "          const chartElement = document.getElementById(\"chart-f4b4d2f9-81ca-479e-9d88-10977854fb9d\");\n",
              "          async function getCodeForChartHandler(event) {\n",
              "            const chartCodeResponse =  await google.colab.kernel.invokeFunction(\n",
              "                'getCodeForChart', [\"chart-f4b4d2f9-81ca-479e-9d88-10977854fb9d\"], {});\n",
              "            const responseJson = chartCodeResponse.data['application/json'];\n",
              "            await google.colab.notebook.addCell(responseJson.code, 'code');\n",
              "          }\n",
              "          chartElement.onclick = getCodeForChartHandler;\n",
              "        })();\n",
              "      </script>\n",
              "      <style>\n",
              "        .colab-quickchart-chart-with-code  {\n",
              "            display: block;\n",
              "            float: left;\n",
              "            border: 1px solid transparent;\n",
              "        }\n",
              "\n",
              "        .colab-quickchart-chart-with-code:hover {\n",
              "            cursor: pointer;\n",
              "            border: 1px solid #aaa;\n",
              "        }\n",
              "      </style>"
            ]
          },
          "metadata": {}
        },
        {
          "output_type": "display_data",
          "data": {
            "text/plain": [
              "from matplotlib import pyplot as plt\n",
              "import seaborn as sns\n",
              "def _plot_series(series, series_name, series_index=0):\n",
              "  palette = list(sns.palettes.mpl_palette('Dark2'))\n",
              "  counted = (series['Age']\n",
              "                .value_counts()\n",
              "              .reset_index(name='counts')\n",
              "              .rename({'index': 'Age'}, axis=1)\n",
              "              .sort_values('Age', ascending=True))\n",
              "  xs = counted['Age']\n",
              "  ys = counted['counts']\n",
              "  plt.plot(xs, ys, label=series_name, color=palette[series_index % len(palette)])\n",
              "\n",
              "fig, ax = plt.subplots(figsize=(10, 5.2), layout='constrained')\n",
              "df_sorted = _df_4.sort_values('Age', ascending=True)\n",
              "_plot_series(df_sorted, '')\n",
              "sns.despine(fig=fig, ax=ax)\n",
              "plt.xlabel('Age')\n",
              "_ = plt.ylabel('count()')"
            ],
            "text/html": [
              "      <div class=\"colab-quickchart-chart-with-code\" id=\"chart-abaac489-0e6d-48f4-b409-e972d5251252\">\n",
              "        <img style=\"width: 180px;\" src=\"data:image/png;base64,iVBORw0KGgoAAAANSUhEUgAAA/MAAAITCAYAAABLz0yVAAAAOXRFWHRTb2Z0d2FyZQBNYXRwbG90\n",
              "bGliIHZlcnNpb24zLjcuMSwgaHR0cHM6Ly9tYXRwbG90bGliLm9yZy/bCgiHAAAACXBIWXMAAA9h\n",
              "AAAPYQGoP6dpAAAkRElEQVR4nO3de5DV9X3/8dfh4nqJXDoiaDfLBhEVEbkoXgvGZoqXSIp4G0VD\n",
              "FMWpiY40hTKWVtMpGqchMWRaNKG24ngbJQnTdqYz0Y4BqYMUMIloIobNgkbURkGJwMKe3x+Z7K9b\n",
              "QVnYw/rBx2PmO8M553vOeZ+Zz+zuk+93v1upVqvVAAAAAMXo1tUDAAAAAB0j5gEAAKAwYh4AAAAK\n",
              "I+YBAACgMGIeAAAACiPmAQAAoDBiHgAAAAoj5gEAAKAwB3zM33PPPV09AgAAAHSqAz7mf/WrX3X1\n",
              "CAAAANCpDviYBwAAgAONmAcAAIDCiHkAAAAojJgHAACAwoh5AAAAKIyYBwAAgMKIeQAAACiMmAcA\n",
              "AIDCiHkAAAAojJgHAACAwoh5AAAAKIyYBwAAgMKIeQAAACiMmAcAAIDCiHkAAAAojJgHAACAwoh5\n",
              "AAAAKIyYBwAAgMKIeQAAACiMmAcAAIDCiHkAAAAojJgHAACAwoh5AAAAKIyYBwAAgMKIeQAAACiM\n",
              "mAcAAIDCiHkAAAAojJgHAACAwoh5AAAAKIyYBwAAgMKIeQAAACiMmAcAAIDCiHkAAAAojJgHAACA\n",
              "woh5AAAAKIyYBwAAgMKIeQAAACiMmAcAAIDCiHkAAAAojJgHAACAwoh5AAAAKIyYBwAAgMKIeQAA\n",
              "ACiMmAcAAIDCiHkAAAAojJgHAACAwoh5AAAAKIyYBwAAgMKIeQAAACiMmAcAAIDCiHkAAAAojJgH\n",
              "AACAwoh5AAAAKIyYBwAAgMKIeQAAACiMmAcAAIDCiHkAAAAojJgHAACAwoh5AAAAKIyYBwAAgMKI\n",
              "eQAAAChMTWP+5ptvTmNjYyqVSlavXr3b/RYsWJBjjz02xxxzTK6//vq0tLS0e7xarebcc89Nnz59\n",
              "ajkuAAAAFKGmMX/JJZdk6dKlGThw4G73WbduXWbPnp0lS5Zk7dq12bhxY+677752+3zzm9/MMccc\n",
              "U8tRAQAAoBg1jfmxY8emvr7+Q/d5/PHHM2HChAwYMCCVSiU33nhjHn744bbHX3jhhfzgBz/IX/7l\n",
              "X37k+23bti2bN29ut+3cuXOfPwcAAAB8nHT578w3Nze3O3Lf2NiY5ubmJElLS0uuv/763Hvvvene\n",
              "vftHvtadd96Z3r17t9uWL19es9kBAACgK3R5zH+YO+64IxdffHFOOOGEPdp/1qxZ2bRpU7ttzJgx\n",
              "NZ4SAAAA9q8eXT1AQ0NDXnnllbbbTU1NaWhoSJI8/fTTaW5uzne+853s2LEjmzdvTmNjY5577rn0\n",
              "69fvA69VV1eXurq6dvftyRF9AAAAKEmXH5mfNGlSFi9enNdffz3VajXz58/PFVdckSRZsmRJfvWr\n",
              "X6WpqSlLly5Nr1690tTUtMuQBwAAgE+Kmsb8tGnTUl9fnw0bNmT8+PEZPHhwkmTq1KlZvHhxkmTQ\n",
              "oEG54447ctZZZ2Xw4MHp169fpk2bVsuxAAAAoGiVarVa7eohamn69OmZO3duV48BAAAAnabLT7MH\n",
              "AAAAOkbMAwAAQGHEPAAAABRGzAMAAEBhxDwAAAAURswDAABAYcQ8AAAAFEbMAwAAQGHEPAAAABRG\n",
              "zAMAAEBhxDwAAAAURswDAABAYcQ8AAAAFEbMAwAAQGHEPAAAABRGzAMAAEBhxDwAAAAURswDAABA\n",
              "YcQ8AAAAFEbMAwAAQGHEPAAAABRGzAMAAEBhxDwAAAAURswDAABAYcQ8AAAAFEbMAwAAQGHEPAAA\n",
              "ABRGzAMAAEBhxDwAAAAURswDAABAYcQ8AAAAFEbMAwAAQGHEPAAAABRGzAMAAEBhxDwAAAAURswD\n",
              "AABAYcQ8AAAAFEbMAwAAQGHEPAAAABRGzAMAAEBhxDwAAAAURswDAABAYcQ8AAAAFEbMAwAAQGHE\n",
              "PAAAABRGzAMAAEBhxDwAAAAURswDAABAYcQ8AAAAFEbMAwAAQGHEPAAAABRGzAMAAEBhxDwAAAAU\n",
              "RswDAABAYcQ8AAAAFEbMAwAAQGHEPAAAABRGzAMAAEBhxDwAAAAURswDAABAYcQ8AAAAFEbMAwAA\n",
              "QGHEPAAAABRGzAMAAEBhxDwAAAAURswDAABAYcQ8AAAAFEbMAwAAQGHEPAAAABRGzAMAAEBhxDwA\n",
              "AAAURswDAABAYcQ8AAAAFEbMAwAAQGHEPAAAABRGzAMAAEBhxDwAAAAURswDAABAYWoa8zfffHMa\n",
              "GxtTqVSyevXq3e63YMGCHHvssTnmmGNy/fXXp6WlJUny1FNPZcyYMRk6dGhOPPHEzJgxI62trbUc\n",
              "GQAAAD72ahrzl1xySZYuXZqBAwfudp9169Zl9uzZWbJkSdauXZuNGzfmvvvuS5L07ds3jzzySNas\n",
              "WZP//u//zrJly/LAAw/UcmQAAAD42KtpzI8dOzb19fUfus/jjz+eCRMmZMCAAalUKrnxxhvz8MMP\n",
              "J0lGjhyZQYMGJUkOPvjgjBgxIk1NTbt9rW3btmXz5s3ttp07d3ba5wEAAICPgy7/nfnm5uZ2R+4b\n",
              "GxvT3Nz8gf1ef/31PP744/n85z+/29e6884707t373bb8uXLazI3AAAAdJUuj/k9sXnz5lx00UWZ\n",
              "MWNGTjnllN3uN2vWrGzatKndNmbMmP04KQAAANRej64eoKGhIa+88krb7aampjQ0NLTdfvfdd3Pe\n",
              "eeflC1/4QqZPn/6hr1VXV5e6urp293Xv3r1zBwYAAIAu1uVH5idNmpTFixfn9ddfT7Vazfz583PF\n",
              "FVckSd57772cd955Oe+88/JXf/VXXTwpAAAAfDzUNOanTZuW+vr6bNiwIePHj8/gwYOTJFOnTs3i\n",
              "xYuTJIMGDcodd9yRs846K4MHD06/fv0ybdq0JMk999yT5cuXZ9GiRRkxYkRGjBiRv/u7v6vlyAAA\n",
              "APCxV6lWq9WuHqKWpk+fnrlz53b1GAAAANBpuvw0ewAAAKBjxDwAAAAURswDAABAYcQ8AAAAFEbM\n",
              "AwAAQGHEPAAAABRGzAMAAEBhxDwAAAAURswDAABAYcQ8AAAAFEbMAwAAQGHEPAAAABRGzAMAAEBh\n",
              "xDwAAAAURswDAABAYcQ8AAAAFEbMAwAAQGHEPAAAABRGzAMAAEBhxDwAAAAURswDAABAYcQ8AAAA\n",
              "FEbMAwAAQGHEPAAAABRGzAMAAEBhxDwAAAAURswDAABAYcQ8AAAAFEbMAwAAQGHEPAAAABRGzAMA\n",
              "AEBhxDwAAAAURswDAABAYcQ8AAAAFEbMAwAAQGHEPAAAABRGzAMAAEBhxDwAAAAURswDAABAYcQ8\n",
              "AAAAFEbMAwAAQGHEPAAAABRGzAMAAEBhxDwAAAAURswDAABAYcQ8AAAAFEbMAwAAQGHEPAAAABRG\n",
              "zAMAAEBhxDwAAAAURswDAABAYcQ8AAAAFEbMAwAAQGHEPAAAABRGzAMAAEBhxDwAAAAURswDAABA\n",
              "YcQ8AAAAFEbMAwAAQGHEPAAAABRGzAMAAEBhxDwAAAAURswDAABAYcQ8AAAAFKbH3jxpzZo12bBh\n",
              "Qw455JCcdNJJ6dOnTyePBQAAAOzOHsf8u+++m7//+7/Pd7/73Rx66KHp379/tm7dmldeeSVjxozJ\n",
              "zJkz88d//Me1nBUAAABIB2L+s5/9bK655pqsWrUq/fv3b7u/tbU1S5Ysyfz587N27dpMmzatJoMC\n",
              "AAAAv7PHMf/MM8+krq7uA/d369Yt48aNy7hx47Jt27ZOHQ4AAAD4oD2+AN6uQn5v9gEAAAD2zR7H\n",
              "/Oc///ksW7Zsl4+98847+cY3vpF777230wYDAAAAdm2PT7OfM2dOZs2alTVr1uTUU09tuwDeSy+9\n",
              "lFdffTU33XRTrr322lrOCgAAAKQDMT98+PD827/9W9avX5+nn346GzZsyKGHHpqrrroqZ599dnr0\n",
              "2Ku/cgcAAAB0UIcL/O23387kyZPb3feTn/wkw4cP77ShAAAAgN3b49+Z/70pU6bs0X0AAABAbezx\n",
              "kfk33ngjr7/+et5///389Kc/TbVaTZJs2rQpW7ZsqdmAAAAAQHt7HPMPP/xwvvWtb+W1117LhAkT\n",
              "2u7v3bt3ZsyYUZPhAAAAgA/a45i/5ZZbcsstt+Rv//ZvM3v27FrOBAAAAHyIDl8Ab/bs2Wltbc3r\n",
              "r7+eHTt2tN3f0NDQqYMBAAAAu9bhC+D9y7/8S/r06ZOTTjopo0ePzujRo3PKKafsct+bb745jY2N\n",
              "qVQqWb169W5fc8GCBTn22GNzzDHH5Prrr09LS8sePQYAAACfRB2O+a997Wt57rnn8j//8z958803\n",
              "8+abb+aNN97Y5b6XXHJJli5dmoEDB+729datW5fZs2dnyZIlWbt2bTZu3Jj77rvvIx8DAACAT6oO\n",
              "n2Z/xBFH5LjjjtujfceOHfuR+zz++OOZMGFCBgwYkCS58cYbM2fOnNx0000f+tiBpFqt5v0dzjgA\n",
              "AADobIf06JlKpdLVY3S6Dsf8n/7pn+Zb3/pWrrzyyhx88MFt9/fq1WuvBmhubm535L6xsTHNzc0f\n",
              "+diubNu2Ldu2bWt3386dO/dqrv3p/R0tGfLgX3f1GAAAAAecX0z+Wg7teVBXj9HpOnya/W233Zbp\n",
              "06dnwIAB6du3b/r06ZO+ffvWYrYOu/POO9O7d+922/Lly7t6LAAAAOhUHT4y39ra2qkDNDQ05JVX\n",
              "Xmm73dTU1HZl/A97bFdmzZqV6dOnt7uvhD+jd0iPnvnF5K919RgAAAAHnEN69OzqEWqiwzHf2SZN\n",
              "mpSzzz47t99+e/r375/58+fniiuu+MjHdqWuri51dXXt7uvevXtN5+8MlUrlgDztAwAAgNro8Gn2\n",
              "3bp1S/fu3T+w7cq0adNSX1+fDRs2ZPz48Rk8eHCSZOrUqVm8eHGSZNCgQbnjjjty1llnZfDgwenX\n",
              "r1+mTZv2kY8BAADAJ1WlWq1WO/KELVu2tP37/fffzwMPPJCdO3fmL/7iLzp9uM4wffr0zJ07t6vH\n",
              "AAAAgE7T4SPzhx12WNt2xBFHZPr06Xn88cdrMRsAAACwCx2O+f/rpZdeyltvvdUZswAAAAB7oMMX\n",
              "wOvbt28qlUqSZMeOHUmSefPmde5UAAAAwG51OOZXr179/5/co0cGDBhQxBXjAQAA4EDR4ZgfOHBg\n",
              "fvvb37ZFfd++fXPooYd29lwAAADAbnQ45pctW5ZJkyZlwIABSZKNGzfmiSeeyBlnnNHpwwEAAAAf\n",
              "1OGY//3V688666wkv4v7W2+9Nc8++2ynDwcAAAB8UIevZv/++++3hXySnHnmmdm6dWunDgUAAADs\n",
              "Xodj/lOf+lR+9KMftd1+8sknc9hhh3XqUAAAAMDudfg0+29/+9u5+OKL265g39ramkWLFnX6YAAA\n",
              "AMCudTjmX3vttaxYsSIbN25MkvTv3z/Lly/v9MEAAACAXevwafazZ89Ov379MmzYsAwbNixHHHFE\n",
              "Zs+eXYvZAAAAgF3ocMz/X5VKJTt37uyMWQAAAIA90OGYP/zww7Ns2bK2288880wOP/zwTh0KAAAA\n",
              "2L0O/8783XffnYkTJ+b4449Pkrz88sv5/ve/3+mDAQAAALvW4Zg/44wz8uKLL+a//uu/kvzu78z3\n",
              "6dOns+cCAAAAdqPDMZ8kffv2zQUXXNDZswAAAAB7YJ8vgAcAAADsX2IeAAAACiPmAQAAoDBiHgAA\n",
              "AAoj5gEAAKAwYh4AAAAKI+YBAACgMGIeAAAACiPmAQAAoDBiHgAAAAoj5gEAAKAwYh4AAAAKI+YB\n",
              "AACgMGIeAAAACiPmAQAAoDBiHgAAAAoj5gEAAKAwYh4AAAAKI+YBAACgMGIeAAAACiPmAQAAoDBi\n",
              "HgAAAAoj5gEAAKAwYh4AAAAKI+YBAACgMGIeAAAACiPmAQAAoDBiHgAAAAoj5gEAAKAwYh4AAAAK\n",
              "I+YBAACgMGIeAAAACiPmAQAAoDBiHgAAAAoj5gEAAKAwYh4AAAAKI+YBAACgMGIeAAAACiPmAQAA\n",
              "oDBiHgAAAAoj5gEAAKAwYh4AAAAKI+YBAACgMGIeAAAACiPmAQAAoDBiHgAAAAoj5gEAAKAwYh4A\n",
              "AAAKI+YBAACgMGIeAAAACiPmAQAAoDBiHgAAAAoj5gEAAKAwYh4AAAAKI+YBAACgMGIeAAAACiPm\n",
              "AQAAoDBiHgAAAAoj5gEAAKAwYh4AAAAKI+YBAACgMGIeAAAAClPTmH/55Zdz5plnZsiQITn11FPz\n",
              "wgsvfGCf1tbWfPWrX82wYcNy/PHH57rrrsv27dvbHv/617+eoUOHZsSIETn99NOzfPnyWo4MAAAA\n",
              "H3s1jflp06blhhtuyC9+8YvMnDkzU6ZM+cA+CxYsyMqVK7Ny5cq8+OKL6datW+65554kyerVq/MP\n",
              "//APWb58eVavXp0vf/nL+fKXv1zLkQEAAOBjr2Yx/8Ybb2TFihWZPHlykmTSpElZv3591q5d226/\n",
              "559/Pp/73Ody0EEHpVKp5Pzzz8/ChQuTJJVKJS0tLdmyZUuS5J133kl9ff1u33Pbtm3ZvHlzu23n\n",
              "zp01+oQAAADQNWoW8+vXr89RRx2VHj16JPldmDc0NKS5ubndfqNHj87ixYuzefPmtLS05LHHHktT\n",
              "U1OS5OSTT86tt96az3zmM6mvr883v/nNzJs3b7fveeedd6Z3797tNqflAwAAcKDp8gvgTZkyJeed\n",
              "d17GjRuXcePGZciQIW3/AbBu3bosWrQoa9euzYYNG3Lrrbfm8ssv3+1rzZo1K5s2bWq3jRkzZn99\n",
              "FAAAANgvahbzn/70p/PrX/86O3bsSJJUq9U0NzenoaGh3X6VSiW33357Vq1alWXLlmXo0KE58cQT\n",
              "kyRPPPFETjrppBx99NFJki996Ut55pln2l0g73+rq6tLr1692m3du3ev1UcEAACALlGzmD/yyCMz\n",
              "atSoPPjgg0l+F+b19fUZPHhwu/22bt2at99+O0ny1ltv5a677sqMGTOSJIMGDcozzzyT9957L0ny\n",
              "r//6rxkyZEgOOuigWo0NAAAAH3s9avni9957b6ZMmZI5c+akV69euf/++5MkU6dOzYQJEzJhwoRs\n",
              "2rQp55xzTrp165bW1tbccsstueiii5IkEydOzHPPPZdTTjkldXV1Oeyww/LQQw/VcmQAAAD42KtU\n",
              "q9VqVw9RS9OnT8/cuXO7egwAAADoNF1+ATwAAACgY8Q8AAAAFEbMAwAAQGHEPAAAABRGzAMAAEBh\n",
              "xDwAAAAURswDAABAYcQ8AAAAFEbMAwAAQGHEPAAAABRGzAMAAEBhxDwAAAAURswDAABAYcQ8AAAA\n",
              "FEbMAwAAQGHEPAAAABRGzAMAAEBhxDwAAAAURswDAABAYcQ8AAAAFEbMAwAAQGHEPAAAABRGzAMA\n",
              "AEBhxDwAAAAURswDAABAYcQ8AAAAFEbMAwAAQGHEPAAAABRGzAMAAEBhxDwAAAAURswDAABAYcQ8\n",
              "AAAAFEbMAwAAQGHEPAAAABRGzAMAAEBhxDwAAAAURswDAABAYcQ8AAAAFEbMAwAAQGHEPAAAABRG\n",
              "zAMAAEBhxDwAAAAURswDAABAYcQ8AAAAFEbMAwAAQGHEPAAAABRGzAMAAEBhxDwAAAAURswDAABA\n",
              "YcQ8AAAAFEbMAwAAQGHEPAAAABRGzAMAAEBhxDwAAAAURswDAABAYcQ8AAAAFEbMAwAAQGHEPAAA\n",
              "ABRGzAMAAEBhxDwAAAAURswDAABAYcQ8AAAAFEbMAwAAQGHEPAAAABRGzAMAAEBhxDwAAAAURswD\n",
              "AABAYcQ8AAAAFEbMAwAAQGHEPAAAABRGzAMAAEBhxDwAAAAURswDAABAYcQ8AAAAFEbMAwAAQGHE\n",
              "PAAAABRGzAMAAEBhxDwAAAAUpqYx//LLL+fMM8/MkCFDcuqpp+aFF174wD6tra356le/mmHDhuX4\n",
              "44/Pddddl+3bt7c93tzcnIsuuijHHXdchg4dmnnz5tVyZAAAAPjYq2nMT5s2LTfccEN+8YtfZObM\n",
              "mZkyZcoH9lmwYEFWrlyZlStX5sUXX0y3bt1yzz33JEmq1WomTpyYa665Jj//+c+zZs2aXHbZZbUc\n",
              "GQAAAD72ahbzb7zxRlasWJHJkycnSSZNmpT169dn7dq17fZ7/vnn87nPfS4HHXRQKpVKzj///Cxc\n",
              "uDBJ8uSTT6auri6XXnpp2/79+/ff7Xtu27Ytmzdvbrft3LmzBp8OAAAAuk7NYn79+vU56qij0qNH\n",
              "jyRJpVJJQ0NDmpub2+03evToLF68OJs3b05LS0see+yxNDU1JUnWrFmTfv365YorrsjIkSMzceLE\n",
              "/PKXv9zte955553p3bt3u2358uW1+ogAAADQJbr8AnhTpkzJeeedl3HjxmXcuHEZMmRI238A7Nix\n",
              "I0899VRmz56dVatWZfz48R96mv2sWbOyadOmdtuYMWP210cBAACA/aJmMf/pT386v/71r7Njx44k\n",
              "v/v99+bm5jQ0NLTbr1Kp5Pbbb8+qVauybNmyDB06NCeeeGKSpKGhISNHjmy7ffXVV2flypVpaWnZ\n",
              "5XvW1dWlV69e7bbu3bvX6iMCAABAl6hZzB955JEZNWpUHnzwwSTJE088kfr6+gwePLjdflu3bs3b\n",
              "b7+dJHnrrbdy1113ZcaMGUmS888/Pxs2bMirr76aJPn3f//3nHDCCenZs2etxgYAAICPvR61fPF7\n",
              "7703U6ZMyZw5c9KrV6/cf//9SZKpU6dmwoQJmTBhQjZt2pRzzjkn3bp1S2tra2655ZZcdNFFSZLD\n",
              "Djss8+fPz4UXXphqtZrevXvnkUceqeXIAAAA8LFXqVar1a4eopamT5+euXPndvUYAAAA0Gm6/AJ4\n",
              "AAAAQMeIeQAAACiMmAcAAIDCiHkAAAAojJgHAACAwoh5AAAAKIyYBwAAgMKIeQAAACiMmAcAAIDC\n",
              "iHkAAAAojJgHAACAwoh5AAAAKIyYBwAAgMKIeQAAACiMmAcAAIDCiHkAAAAojJgHAACAwoh5AAAA\n",
              "KIyYBwAAgMKIeQAAACiMmAcAAIDCiHkAAAAojJgHAACAwoh5AAAAKIyYBwAAgMKIeQAAACiMmAcA\n",
              "AIDCiHkAAAAojJgHAACAwoh5AAAAKIyYBwAAgMKIeQAAACiMmAcAAIDCiHkAAAAojJgHAACAwoh5\n",
              "AAAAKIyYBwAAgMKIeQAAACiMmAcAAIDCiHkAAAAojJgHAACAwoh5AAAAKIyYBwAAgMKIeQAAACiM\n",
              "mAcAAIDCiHkAAAAojJgHAACAwoh5AAAAKIyYBwAAgMKIeQAAACiMmAcAAIDCiHkAAAAojJgHAACA\n",
              "woh5AAAAKIyYBwAAgMKIeQAAACiMmAcAAIDCiHkAAAAojJgHAACAwoh5AAAAKEylWq1Wu3qIWrr4\n",
              "4ovT2Ni4X95r586dWb58ecaMGZPu3bvvl/fkwGddUSvWFrVibVEr1ha1Ym1RKx1ZWwMHDswtt9yy\n",
              "x699wMf8/rR58+b07t07mzZtSq9evbp6HA4Q1hW1Ym1RK9YWtWJtUSvWFrVSy7XlNHsAAAAojJgH\n",
              "AACAwoh5AAAAKIyY70R1dXX5m7/5m9TV1XX1KBxArCtqxdqiVqwtasXaolasLWqllmvLBfAAAACg\n",
              "MI7MAwAAQGHEPAAAABRGzAMAAEBhxPxHuPnmm9PY2JhKpZLVq1d/4PH7778/lUolP/jBD3b5/Pfe\n",
              "ey/jx4/PEUcckT59+tR0Vsqyr2vrpz/9acaOHZvjjz8+w4YNy7XXXpv333+/tkNThH1dW+vWrcvo\n",
              "0aMzYsSIDBs2LJdeemnefvvt2g5NEfZ1bf1vU6ZMSaVSyTvvvNPpc1KefV1bTU1N6d69e0aMGNG2\n",
              "vfLKK7UdmiJ0xtet5ubmXHTRRTnuuOMydOjQzJs3r3YDU4x9XVv/8R//0e5r1tFHH51Ro0Z1aAYx\n",
              "/xEuueSSLF26NAMHDvzAY01NTfnud7+b008/fbfP79mzZ2bOnJkf/ehHtRyTAu3r2jr44IPzne98\n",
              "Jy+99FKef/75bNmyJV//+tdrOTKF2Ne1dfTRR2fp0qVZvXp1fvazn+Xoo4/O7bffXsOJKcW+rq3f\n",
              "W7RoUXr27FmLESlUZ6ytww8/PKtXr27bjjnmmFqNS0H2dW1Vq9VMnDgx11xzTX7+859nzZo1ueyy\n",
              "y2o5MoXY17U1fvz4dl+zRo0alauuuqpDM4j5jzB27NjU19d/4P7W1tZMnTo18+bN+9A/M1BXV5dz\n",
              "zz3XUXk+YF/X1rHHHpvhw4cnSbp3755TTz01TU1NtRqXgnTG161DDjkkSbJz585s2bIllUqlZvNS\n",
              "jn1dW0mycePGzJkzJ3Pnzq3VmBSoM9YW7Mq+rq0nn3wydXV1ufTSS9vu69+/f01mpSyd+XXrtdde\n",
              "y5NPPpmrr766QzOI+b00d+7cnHXWWRk9enRXj8IBZm/W1pYtW/K9730vX/jCF2o4GaXryNravn17\n",
              "RowYkSOOOCIvv/xy7rjjjv0wIaXqyNq6/vrrc/fdd+fwww/fD5NRuo6srS1btuTUU0/NqFGj8rWv\n",
              "fS07d+7cDxNSqj1dW2vWrEm/fv1yxRVXZOTIkZk4cWJ++ctf7qcpKdHe/Cz/z//8z7ngggty5JFH\n",
              "dui9enR0OJKf/exneeKJJ/LjH/+4q0fhALM3a2v79u25/PLL8yd/8ieZOHFiDaejZB1dWwcddFBW\n",
              "r16d7du35ytf+UruvffezJgxo8ZTUqKOrK3vfe97aWhoyLnnnrsfJqN0HVlbRx11VF599dUceeSR\n",
              "+c1vfpPLL7883/jGN3zdYpc6srZ27NiRp556Ks8++2xOPPHEzJ8/P5dddllWrFixHyalNHvzs3y1\n",
              "Ws0//dM/5dvf/naH38+R+b2wZMmSNDU15dhjj01jY2OeffbZ3HDDDfnHf/zHrh6NwnV0bbW0tOTy\n",
              "yy/PUUcdlXvuuWc/T0tJ9vbr1kEHHZQvfelLWbhw4X6alNJ0ZG3953/+Z374wx+msbExjY2NSZLh\n",
              "w4dn1apV+3lqStCRtVVXV9d2ROsP/uAPcu2112bJkiX7e2QK0ZG11dDQkJEjR+bEE09Mklx99dVZ\n",
              "uXJlWlpa9vfYFGBvft56+umns3Xr1owfP77jb1hljwwcOLC6atWqXT42bty46ve///0Pff66deuq\n",
              "vXv37vS5KN/erq2WlpbqxRdfXL322murra2ttRuQYu3t2mpqaqpu2bKlWq1Wqzt37qxOnz69euWV\n",
              "V9ZoSkq0r98Tfy9J9e233+60uSjf3q6tjRs3Vrdv316tVqvVrVu3Vi+55JLq7NmzazQlJdrbtfXe\n",
              "e+9VP/OZz1Q3bNhQrVar1ccee6w6dOjQGk1Jifb1e+LkyZOrt9122169tyPzH2HatGmpr6/Phg0b\n",
              "Mn78+AwePPgjn/PXf/3XmT9/ftvt4cOH54wzzsjmzZtTX1/f4QsbcGDa17X16KOPZtGiRVmxYkVG\n",
              "jhyZESNG5Kabbqr12BRgX9fWT37yk5x++ukZPnx4hg8fnjfffHOvTv3iwNMZ3xNhV/Z1bS1dujQj\n",
              "R47MySefnFGjRmXAgAG57bbbaj02BdjXtXXYYYdl/vz5ufDCC3PyySdn3rx5eeSRR2o9NgXojO+J\n",
              "mzZtyqJFi3Lttdfu1QyVarVa3atnAgAAAF3CkXkAAAAojJgHAACAwoh5AAAAKIyYBwDaeffdd/Op\n",
              "T30q1113XVePAgDshpgHANp59NFHM3r06CxatCjvvfdeV48DAOyCmAcA2lmwYEFmzpyZsWPH5tFH\n",
              "H02StLS05M/+7M8yZMiQnH766fnzP//znHPOOW3PWbhwYU477bSMGjUqY8eOzfPPP99F0wPAJ0OP\n",
              "rh4AAPj4WLNmTdavX5/x48dnx44dueuuu3Ldddflvvvuy8svv5wXXnghSXLBBRe0PeeZZ57Jww8/\n",
              "nB//+Mepq6vLkiVLcuWVV7btCwB0PkfmAYA2CxYsyDXXXJPu3bvnggsuyLp16/Liiy/mySefzOTJ\n",
              "k9OzZ8/07NkzX/ziF9ue88Mf/jDPP/98TjvttIwYMSJf+cpX8pvf/Cbvv/9+F34SADiwOTIPACT5\n",
              "3an0CxcuTM+ePfPQQw8lSX77299mwYIFH9i3Uqm0/btareaLX/xi5syZs99mBYBPOkfmAYAkyeLF\n",
              "izNo0KC8+uqraWpqSlNTU5599tksXLgwn/3sZ/PQQw+lpaUlLS0teeCBB9qeN2HChDz44INpbm5O\n",
              "krS2tmbFihVd9TEA4BPBkXkAIMnvTrG/6qqr2t13wgkn5A//8A9z5JFHprGxMUOHDk3fvn1zyimn\n",
              "5LXXXkuS/NEf/VHuvvvuTJw4MTt27Mj27dtz4YUX5pRTTumKjwEAnwiVarVa7eohAICPv3fffTeH\n",
              "H354WlpactVVV2X06NGZOXNmV48FAJ9IYh4A2COnnXZatm3blq1bt+bss8/OvHnzcsghh3T1WADw\n",
              "iSTmAQAAoDAugAcAAACFEfMAAABQGDEPAAAAhRHzAAAAUBgxDwAAAIUR8wAAAFAYMQ8AAACFEfMA\n",
              "AABQmP8H8mQlyN7E880AAAAASUVORK5CYII=\n",
              "\">\n",
              "      </div>\n",
              "      <script type=\"text/javascript\">\n",
              "        (() => {\n",
              "          const chartElement = document.getElementById(\"chart-abaac489-0e6d-48f4-b409-e972d5251252\");\n",
              "          async function getCodeForChartHandler(event) {\n",
              "            const chartCodeResponse =  await google.colab.kernel.invokeFunction(\n",
              "                'getCodeForChart', [\"chart-abaac489-0e6d-48f4-b409-e972d5251252\"], {});\n",
              "            const responseJson = chartCodeResponse.data['application/json'];\n",
              "            await google.colab.notebook.addCell(responseJson.code, 'code');\n",
              "          }\n",
              "          chartElement.onclick = getCodeForChartHandler;\n",
              "        })();\n",
              "      </script>\n",
              "      <style>\n",
              "        .colab-quickchart-chart-with-code  {\n",
              "            display: block;\n",
              "            float: left;\n",
              "            border: 1px solid transparent;\n",
              "        }\n",
              "\n",
              "        .colab-quickchart-chart-with-code:hover {\n",
              "            cursor: pointer;\n",
              "            border: 1px solid #aaa;\n",
              "        }\n",
              "      </style>"
            ]
          },
          "metadata": {}
        },
        {
          "output_type": "display_data",
          "data": {
            "text/plain": [
              "<google.colab._quickchart_helpers.SectionTitle at 0x79161f2c7ca0>"
            ],
            "text/html": [
              "<h4 class=\"colab-quickchart-section-title\">Values</h4>\n",
              "<style>\n",
              "  .colab-quickchart-section-title {\n",
              "      clear: both;\n",
              "  }\n",
              "</style>"
            ]
          },
          "metadata": {}
        },
        {
          "output_type": "display_data",
          "data": {
            "text/plain": [
              "from matplotlib import pyplot as plt\n",
              "_df_5['Survived'].plot(kind='line', figsize=(8, 4), title='Survived')\n",
              "plt.gca().spines[['top', 'right']].set_visible(False)"
            ],
            "text/html": [
              "      <div class=\"colab-quickchart-chart-with-code\" id=\"chart-48fdf84c-6f47-4cdc-9de0-e0041354b2d2\">\n",
              "        <img style=\"width: 180px;\" src=\"data:image/png;base64,iVBORw0KGgoAAAANSUhEUgAAApsAAAF5CAYAAADQ9uFwAAAAOXRFWHRTb2Z0d2FyZQBNYXRwbG90\n",
              "bGliIHZlcnNpb24zLjcuMSwgaHR0cHM6Ly9tYXRwbG90bGliLm9yZy/bCgiHAAAACXBIWXMAAA9h\n",
              "AAAPYQGoP6dpAABDJ0lEQVR4nO3deVSUdf//8dc1wyYqoOKCIpoi7ooIaggKlC2WVpamlYlFtpmW\n",
              "plS/6q67bxmWpGYWpVJppbmUabaogIIbuO+KC4IrCgquIDC/P/D23N5aiTIOy/NxznVODJ+55n05\n",
              "59Sz65rLMSwWi0UAAACAFZhsPQAAAAAqLmITAAAAVkNsAgAAwGqITQAAAFgNsQkAAACrITYBAABg\n",
              "NcQmAAAArIbYBAAAgNUQmwAAALAaYhMAbqHExERVq1ZNhYWFVnuNJ554QuHh4VbbPwCUBLEJoNLa\n",
              "v3+/BgwYoPr166tatWqqX7++evbsqSNHjljtNYODg3XmzBmZzWarvQYAlCXEJoBKq2fPnqpevbq2\n",
              "bt2qM2fOaMOGDXr00UdlGMYN7S8/P7+UJwSA8o/YBFApZWVlaefOnXruuedUs2ZNSVLdunU1aNAg\n",
              "1atXT19//bU8PT2veM4777yjoKCgyz+HhIRo6NCh6t+/v2rUqKFhw4YpMDBQ77333hXPmzdvnmrX\n",
              "rq38/HwlJCTIMAwVFBRo9+7dMpvNOnDgwBXre/furWHDhkmSCgsLNW7cOLVs2VKurq7q2LGjli5d\n",
              "esX6jz76SF5eXnJzc1NERATRC6BMITYBVEq1atVS27Zt9eyzzyo2NlabN29WUVFRifcTGxurJ598\n",
              "UllZWYqOjlZERIRiY2NlsVgur/nqq680cOBAOTg4XPFcHx8fde3aVbGxsZcfO3z4sBYtWqSIiAhJ\n",
              "0nvvvafp06fr559/1smTJ/Xmm2+qd+/e2rt3ryTp+++/1wcffKCZM2fq+PHj6tSpk3766acb+SMB\n",
              "AKsgNgFUWvHx8br33nv1+eefq1OnTnJ3d9err76qvLy8695H79691bNnT5lMJjk7O+vRRx/ViRMn\n",
              "Lp99zMjI0J9//nk5Hv/Xf+L0P6EbGxsrPz8/tWvXTpL0ySefKCoqSs2bN5fJZNJDDz2kwMBA/fDD\n",
              "D5fXP/XUUwoMDJS9vb2GDBly+bkAUBYQmwAqrVq1aunf//63kpOTlZOTo2nTpumrr77SmDFjrnsf\n",
              "t9122xU/V61aVf3799fUqVMlSdOmTVPnzp3VqlWraz6/b9++ysnJ0eLFi2WxWDRt2rTLYXrs2DHl\n",
              "5uaqb9++cnNzu7ytXLlShw4dkiQdPHjwqhn+92cAsCU7Ww8AAGWBo6OjHnzwQd15551av3692rZt\n",
              "q7Nnz16x5vDhw1c9z2S6+v/ZIyIi1K1bN504cUKxsbF6++23//J1q1Sposcee0xTpkyRnZ2djh07\n",
              "pgEDBkiS3Nzc5OTkpIULF6pbt27XfL6np6fS0tKueCwtLU1t2rT5p0MGgFuCM5sAKqWTJ0/qtdde\n",
              "0+bNm5WXl6fCwkItXbpU8fHx6tatmzp06KDTp09r1qxZKioqUkJCgmbPnn1d++7UqZN8fHw0ePBg\n",
              "ZWdn69FHH/3b9REREfrll180duxY9evXT9WrV5dUHMDPPfecRo8erR07dshisej8+fNavny5du/e\n",
              "LUkaNGiQpk2bptWrV6ugoEBTpkzRpk2bbu4PBwBKEWc2AVRKDg4OOnHihPr27avDhw/LbDbL09NT\n",
              "kZGRGjlypAzD0KRJk/Tqq6/qmWee0X333afBgwcrOTn5uvYfERGh4cOH65lnnlHVqlX/dq2fn59a\n",
              "t26tP//8UytWrLjidx9//LEmTZqkvn37KiMjQ05OTvLz89PHH38sSXr88cd18OBB9e3bV6dPn9Yj\n",
              "jzyihx566Mb+UADACgzLf98yCQAAAJQiLqMDAADAaohNAAAAWA2xCQAAAKshNgEAAGA1xCYAAACs\n",
              "htgEAACA1RCbAAAAsJoyGZsTJkyw9QgAAAAoBWUyNg8cOGDrEQAAAFAKymRsAgAAoGIgNgEAAGA1\n",
              "xCYAAACshtgEAACA1RCbAAAAsBpiEwAAAFZDbAIAAMBqiE0AAABYDbEJAAAAqyE2AQAAYDWVPjaL\n",
              "iiz6c9tRFRZZbD0KAABAhVPpY/PP7Uc1ZPo69fhkmX7acFAFhUW2HgkAAKDCqPSxefpCgdyc7bXv\n",
              "+Fm9MmuTenyyXHPXEZ0AAAClodLHZl//hkqKDNOou5urhrO99p84q5GzN+nO6GWaQ3QCAADclEof\n",
              "m5JUzdFOL4Z6KzEyTKPvKY7OtKxzenX2Jt0RvUw/rs3QRaITAACgxIjN/1LN0U4vhHgrKTJMr93b\n",
              "QjWrOuhA1jmNnrNZYeMSNCslnegEAAAoAWLzGqo62um57k2VFBmqN3q2kHs1B2Vkn1fk3C0K/ThB\n",
              "M5PTlV9AdAIAAPwTYvNvODvYaUi3plo+OlT/r2dLuVdz0MGT5/XavOLo/H4N0QkAAPB3iM3r4Oxg\n",
              "p2e6NVHi6DC9eV9L1a7uqEOnzuuNn4qjc8bqA8orKLT1mAAAAGUOsVkCVRzMighuosTRoXr7/laq\n",
              "cyk63/x5q0I/StB0ohMAAOAKxOYNcLI366mg27R8dKj+1as4Og/nXNBbP29VyEcJ+nZVmi5cJDoB\n",
              "AACIzZvgZG/W4K7F0flu79aq5+KkIzkX9Pb8bQr5KEFfr9hPdAIAgEqN2CwFTvZmDQpsrIRRIXrv\n",
              "gdbycHXS0dwLemfBdnX/KF6xRCcAAKikiM1S5GRv1sDbL0Xng21U39VJx3Lz9O6C7QoeG6+pSUQn\n",
              "AACoXIhNK3C0M2tgl0aKHxWi9x9qowZuVXT8dJ7eW7hdQVHxmpK4T+fziU4AAFDxEZtW5Ghn1uOd\n",
              "Gyn+1RCN6dNWDdyq6MSZPP3frzsUPDZOXy3fp3P5BbYeEwAAwGqIzVvAwc6kAZ28FP9qiD7s01ae\n",
              "NaroxJl8vb9oh4Kj4hWzbC/RCQAAKiRi8xZysDOp/6XoHPtwO3nVdFbW2XyN+W2ngqLi9XnCXp3N\n",
              "IzoBAEDFQWzagL3ZpH4BDbV0ZHd99Eg7NarlrOyz+Yr6faeCouI0OWGPzhCdAACgAiA2bcjebFJf\n",
              "/4ZaOqK7Pu7bXo1rOevkuYsa+/suBUXF6bP4PTp94aKtxwQAALhhJY7N1NRUBQYGysfHRwEBAdq2\n",
              "bdtVa2JjY+Xr63t5c3d3V58+fUpl4IrIzmzSIx09tWREd0X3a68m7lV16txFffTHLgWPjdenS1OJ\n",
              "TgAAUC4ZFovFUpInhIWF6cknn1R4eLjmzJmjqKgopaSk/O1z2rRpo3fffVcPP/zwdb3GiBEjFB0d\n",
              "XZKxKpTCIosWbDqsiXGp2nf8rCTJtYq9ng66TeFdG8vFyd7GEwIAAFyfEsVmZmamvL29lZ2dLTs7\n",
              "O1ksFnl4eCgpKUne3t7XfM6aNWvUq1cvHTp0SPb2V0dSXl6e8vLyrnjsrbfe0oQJE0p4KBVPYZFF\n",
              "Czcf1sSlqdp7KTpdnOz0VNBtGtz1NrlWIToBAEDZVqLL6BkZGfLw8JCdnZ0kyTAMeXl5KT09/S+f\n",
              "M3XqVA0cOPCaoSlJY8aMkaur6xVbcnJyScaqsMwmQw/4NtCfr3TXxAEd1KxONeVeKND4JakKiorT\n",
              "J4t3K+ccl9cBAEDZZdUbhM6ePauZM2fq6aef/ss1r7/+unJycq7YOnXqZM2xyh2zyVDv9vX1x8vd\n",
              "NOmxDvKpW02nLxRowtLi6Iz+c5dOncu39ZgAAABXsSvJ4oYNG+rIkSMqKCi4fBk9PT1dXl5e11w/\n",
              "e/ZstW7dWq1atfrLfTo6OsrR0fGKx8xmc0nGqjRMJkP3t6uvnm089NvWo5q4NFW7jp3WxLg9mrYi\n",
              "TeGBjRURfJvcnB1sPSoAAICkEp7ZrFOnjvz8/DRjxgxJ0ty5c+Xp6fmXn9ecOnXq357VxI0xmQzd\n",
              "185Dvw0P1ueP+6lFveo6k1egSfF7FBQVr4/+2KmTZznTCQAAbK/Ed6Pv2rVL4eHhysrKkouLi2Jj\n",
              "Y9W2bVtFRESod+/e6t279+V1/v7+Onz4sKpXr16ioSr73eglVVRk0Z/bj2nC0lTtOJIrSarqYNaT\n",
              "gY31THAT1azKmU4AAGAbJY7NW4HYvDFFRRYt3nFME5akavul6HR2MGvg7Y00JLiJalVz/Ic9AAAA\n",
              "lC6+QagCMZkM3d26nn4dFqSvnvRX6/ouOpdfqJhl+xQUFa8xi3boxJm8f94RAABAKSE2KyDDMNSj\n",
              "VV0tfClIU570V9sGrjp/sVAxy/cpOCpe7/+6XcdPE50AAMD6iM0KzDAM3dmqrn4Z2lXTwv3V3rM4\n",
              "Or9K3K/gsXF6b+F2ZZ6+YOsxAQBABUZsVgKGYSisRV39/GJXxQ4OUPuGbrpwsUhTk/YrOCpe/16w\n",
              "XZm5RCcAACh9xGYlYhiGQpvX0c8vBOrrwQHq4OWmvIIiTVuxX8Fj4/XOL9t0jOgEAACliNishAzD\n",
              "UEjzOpr3fKC+faqTOjaqobyCIn29Mk3BY+P1r/lbdTSH6AQAADeP2KzEDMNQN5/amvPc7ZrxdGf5\n",
              "N6qh/IIifbPqgLqNjdfb87fqSM55W48JAADKsRJ9XSUqJsMwFNTMXV29a2nl3ixNWJKq5LRsfbvq\n",
              "gGYmZ6hfgKdeCPFWfbcqth4VAACUM8QmLjMMQ1293RXYtJZW7SuOzjX7szVjdbpmpWSon39DvRDq\n",
              "rQZEJwAAuE7EJq5iGIYCm7orsKm7Vu3N0oSlu7V6X7a+W5OuH9dm6JGODfVCSFM1rOls61EBAEAZ\n",
              "x2c28bdub1pLM4fcrllDuiiwaS1dLLToh+R0hX6coNfmblZG9jlbjwgAAMowYhPXpXOTWvr+mS6a\n",
              "/dztCvJ2V0GRRTNTMhT6cYIi52xWehbRCQAArkZsokQCGtfUjIjOmvPc7QpuVhyds9ZmKHRcgkbN\n",
              "3qQDWWdtPSIAAChDiE3cEP/GNTX96c6a+3yguvnUVmGRRbPXHVTYuGUa+eMmpZ0gOgEAALGJm9Sx\n",
              "UQ19+1QnzXshUCHNi6Nz7vqDChuXoBE/btR+ohMAgEqN2ESp8POqoa8Hd9LPL3ZVaPPaKrJI89Yf\n",
              "0h3jEvTKrI3ae/yMrUcEAAA2QGyiVPk2dFPs4E6a/2JX3dGijoos0k8bDqlH9DINn7lBezKJTgAA\n",
              "KhNiE1bRvqGbpoYHaMHQIN3Zsq6KLNL8jYfV45NlGvbDBu3JPG3rEQEAwC1AbMKq2nq6asogfy18\n",
              "KUg9WtWVxSL9sumwenyyXEO/X6/dx4hOAAAqMmITt0SbBq766kl//TosSHe3Lo7OhZuP6O7xy/Xi\n",
              "d+u16yjRCQBARURs4pZqXd9VMQP9tWhYsO5tU08Wi/TrluLofOG7ddp5NNfWIwIAgFJEbMImWtV3\n",
              "0edPdNRvw4PVs209SdKiLUd1z/hEPTd9nbYfJjoBAKgIiE3YVEsPF01+vKP+eLmb7mvnIcOQft92\n",
              "VD0nJmrIt2u19VCOrUcEAAA3gdhEmdC8XnV99pif/ni5m3q1ry/DkP7cfkz3f5qkZ4hOAADKLWIT\n",
              "ZYpP3er6dEAH/flyN/W+FJ2LL0VnxDcp2nKQ6AQAoDwhNlEmNatbXRMHdNDiV7rrQd/6MhnSkh2Z\n",
              "6jUpSU99naJNGadsPSIAALgOxCbKNO861TS+fwctHtFdfTo0kMmQ4nZm6oHPVmhwbLI2Ep0AAJRp\n",
              "xCbKhaa1qyn6UV8tGdFdffyKozN+13E9+NkKDZqWrPXpJ209IgAAuAZiE+VKk9rVFN3PV3EjQ/RI\n",
              "R0+ZTYaW7T6uPpNXauDUNVp3INvWIwIAgP9CbKJcauxeVR/3ba+4kd3Vz784OhNTT+jhz1dp4NQ1\n",
              "WptGdAIAUBYQmyjXGtWqqrGPtFf8yBA96t9Qdpei85EvVunxKauVvJ/oBADAlohNVAhetZwV9Ug7\n",
              "xb8aogGdiqNzxZ4s9YtZpQFfrtbqfVm2HhEAgEqJ2ESF0rCms8b0aaeEUSF6rLOX7M2GVu3LUv8v\n",
              "V6v/l6u0ai/RCQDArURsokLyrOGsDx5qq4RRoXr8UnSu3petAV+tVr+YVVq554QsFoutxwQAoMIj\n",
              "NlGhNXCrovcfaqtlo0I1sEsjOZhNSt6frcemrFG/mFVaQXQCAGBVxCYqhfpuVfTeg220bHSInry9\n",
              "ODpT0k7q8Slr1PeLVUpMPU50AgBgBcQmKhUP1yr69wNttHx0qMIDG8vBzqS1B05q4NRkPfz5Si3b\n",
              "TXQCAFCaiE1USvVcnfRO79ZKHB2qwV0by9HOpPXppzRoWrIemrxSCbsyiU4AAEoBsYlKra6Lk/7V\n",
              "qzg6n+p6mxztTNqYcUrhsSl6cPJKxe8kOgEAuBnEJiCpjouT3u7VSomRoYoIuk1O9iZtyjilwV+n\n",
              "6MHPVmjpjmNEJwAAN4DYBP5LnepOevP+VkocHaYh3Zqoir1Zmw7m6Olv1qr3pBVasp3oBACgJEoc\n",
              "m6mpqQoMDJSPj48CAgK0bdu2a67bsmWLQkJC1LJlS7Vs2VLz5s276WGBW6V2dUe90bOlEiND9eyl\n",
              "6NxyKEcR365Vr0lJ+nPbUaITAIDrYFhK+F/MsLAwPfnkkwoPD9ecOXMUFRWllJSUK9acO3dObdq0\n",
              "0bfffqugoCAVFhYqOztbtWvXvq7XGDFihKKjo0syFmBVWWfy9FXifn27Kk3n8gslSa08XDT8zma6\n",
              "q1VdGYZh4wkBACibShSbmZmZ8vb2VnZ2tuzs7GSxWOTh4aGkpCR5e3tfXjdlyhTFxcXp+++/v6Gh\n",
              "iE2UVdln8zUlcZ++WZmms5eis6WHi4bf4a27WtWTyUR0AgDw30p0GT0jI0MeHh6ys7OTJBmGIS8v\n",
              "L6Wnp1+xbvv27XJ0dNT9998vX19fPfnkkzp+/Pg195mXl6fc3NwrtsLCwhs8HMC6alZ10Oh7Wigp\n",
              "MkwvhjZVNUc77TiSq+dmrFfPiYlatOWIioq4vA4AwH9Y5QahgoICLVmyRDExMdqwYYMaNGig559/\n",
              "/pprx4wZI1dX1yu25ORka4wFlJoaVR006u4WSooM1Uth3qrmaKedR0/rhe/W694Jifp1M9EJAIBU\n",
              "wths2LChjhw5ooKCAkmSxWJRenq6vLy8rljn5eWl0NBQNWjQQIZh6IknntDq1auvuc/XX39dOTk5\n",
              "V2ydOnW6wcMBbi03ZweNvKu5VkSGadgdzVTd0U67jp3Wi9+v1z0TlmvBpsMqJDoBAJVYiWKzTp06\n",
              "8vPz04wZMyRJc+fOlaen5xWf15Skfv36KSUlRbm5uZKkRYsWqX379tfcp6Ojo1xcXK7YzGbzjRwL\n",
              "YDOuzvYa0cNHSZFhGn5HM1V3stPuY2f00g8bdPf45Zq/8RDRCQColEp8N/quXbsUHh6urKwsubi4\n",
              "KDY2Vm3btlVERIR69+6t3r17S5KmT5+uqKgomUwmNWjQQF9++aUaNmx4Xa/BDUIo73LOX9TXK9I0\n",
              "NWmfci8UXwloWruqht3RTPe3qy8zNxIBACqJEsfmrUBsoqLIvfCf6NyvnPMXJUlNalfVS2He6tWu\n",
              "vuzMfK8CAKBi4790gBW5ONlr2B3NlBQZqlfv8pGbs732HT+rV2ZtUo9PlmvuuoMqKCyy9ZgAAFgN\n",
              "sQncAtWd7DU0rJmSIsM06u7mquFsr/0nzmrk7E26M3qZ5hCdAIAKitgEbqFqjnZ6MdRbiZFhGn1P\n",
              "cXSmZZ3Tq7M36Y7oZfpxbYYuEp0AgAqE2ARsoJqjnV4I8VZSZJheu7eFalZ10IGscxo9Z7PCxiVo\n",
              "Vko60QkAqBCITcCGqjra6bnuTZUUGao3eraQezUHZWSfV+TcLQr9OEEzk9OVX0B0AgDKL2ITKAOc\n",
              "Hew0pFtTLR8dqv/Xs6Xcqzno4Mnzem1ecXR+v4boBACUT8QmUIY4O9jpmW5NlDg6TG/e11K1qzvq\n",
              "0KnzeuOn4uicsfqA8goKbT0mAADXjdgEyqAqDmZFBDdR4uhQvX1/K9W5FJ1v/rxVoR8laDrRCQAo\n",
              "J4hNoAxzsjfrqaDbtHx0qP7Vq5XqujjqcM4FvfXzVoV8lKBvV6XpwkWiEwBQdhGbQDngZG/W4K63\n",
              "admoUL3bu7XquTjpSM4FvT1/m7p/FK+vV+wnOgEAZRKxCZQjTvZmDQpsrIRRIXrvgdbycHXSsdw8\n",
              "vbNgu7p/FK9YohMAUMYQm0A55GRv1sDbL0Xng21U/1J0vrtgu4LHxmtqEtEJACgbiE2gHHO0M2tg\n",
              "l0aKHxWi9x9qowZuVXT8dJ7eW7hdQVHxmpK4T+fziU4AgO0Qm0AF4Ghn1uOdGyn+1RCN6dNWDdyq\n",
              "6MSZPP3frzsUPDZOXy3fp3P5BbYeEwBQCRGbQAXiYGfSgE5ein81RB/2aSvPGlV04ky+3l+0Q8FR\n",
              "8YpZtpfoBADcUsQmUAE52JnU/1J0jn24nbxqOivrbL7G/LZTQVHx+jxhr87mEZ0AAOsjNoEKzN5s\n",
              "Ur+Ahlo6srs+eqSdGtVyVvbZfEX9vlNBUXGanLBHZ4hOAIAVEZtAJWBvNqmvf0MtHdFdH/dtr8a1\n",
              "nHXy3EWN/X2XgqLi9Fn8Hp2+cNHWYwIAKiBiE6hE7MwmPdLRU0tGdFd0v/Zq4l5Vp85d1Ed/7FJQ\n",
              "VLw+XZpKdAIAShWxCVRCdmaT+vh5avGI7hr/qK+a1K6qnPMXNW7xbgVFxWvi0lTlEp0AgFJAbAKV\n",
              "mNlk6MEODbT4le6a0N9XTS9FZ/Ti3Qr6ME7jl+xWznmiEwBw44hNADKbDD3g20B/vtJdEwd0ULM6\n",
              "1ZR7oUDjl6QqKCpO0Yt3K+cc0QkAKDliE8BlZpOh3u3r64+Xu2nSYx3kU7eaTl8o0MSll6Lzz106\n",
              "dS7f1mMCAMoRYhPAVUwmQ/e3q6/fh3fTZ4/5qXnd6jqdV6CJcXsUFBWvj//YpZNniU4AwD8jNgH8\n",
              "JZPJ0H3tPPTb8GB9/rifWtSrrjN5BZoUv0dBUXEa+/tOZROdAIC/QWwC+Ecmk6F723po0bBgffFE\n",
              "R7X0cNHZ/EJNTtir4Kg4RRGdAIC/QGwCuG4mk6F72tTTry8FKWZgR7W6FJ2fJ+xVUFScxvy2Q1ln\n",
              "8mw9JgCgDCE2AZSYyWTo7tb19OuwIH31pL/aNHDRufxCxSzbp6CoeH2waIdOEJ0AABGbAG6CYRjq\n",
              "0aquFgwN0tRB/mrbwFXnLxbqy+X7FBwVr/d/3a7jp4lOAKjMiE0AN80wDN3Rsq5+GdpV08L91d6z\n",
              "ODq/Styv4LFxem/hdmWevmDrMQEANkBsAig1hmEorEVd/fxiV8UODpBvQzdduFikqUn7FRwVr3cX\n",
              "bFNmLtEJAJUJsQmg1BmGodDmdfTTC4H65qlO6uDlpryCIsWuSFPw2Hi988s2HSM6AaBSIDYBWI1h\n",
              "GOruU1vzng/Ut091UsdGNZRXUKSvVxZH57/mb9XRHKITACoyO1sPAKDiMwxD3XxqK7iZu1bsydKE\n",
              "pbuVknZS36w6oB+SM/RoQEM9H9JU9d2q2HpUAEApIzYB3DKGYSiombu6etfSqr1ZGr8kVclp2Zq+\n",
              "+oBmpWSoX4CnXgjxJjoBoAIhNgHccoZhKNDbXbc3raVV+7I0YUmq1uzP1ozV6ZqVkqG+/g31QkhT\n",
              "edZwtvWoAICbRGwCsBnDMBTY1F2BTd21am/x5fXV+7L1/Zp0zV6boUc6Fkdnw5pEJwCUV9wgBKBM\n",
              "uL1pLc0ccrtmDemiwKa1dLHQoh+S0xX6cYJem7tZGdnnbD0iAOAGEJsAypTOTWrp+2e6aPZztyvI\n",
              "210FRRbNTMlQ6McJGj1nk9KziE4AKE+ITQBlUkDjmpoR0Vlznrtdwc2Ko/PHtQcVOi5Bo2Zv0oGs\n",
              "s7YeEQBwHYhNAGWaf+Oamv50Z819PlDdfGqrsMii2esOKmzcMo38cZPSThCdAFCWEZsAyoWOjWro\n",
              "26c6ad4LgQppXhydc9cfVNi4BI2YtVH7jp+x9YgAgGsocWympqYqMDBQPj4+CggI0LZt265ak5CQ\n",
              "oCpVqsjX1/fydv78+VIZGEDl5udVQ18P7qSfX+yq0Oa1VWSR5m04pDujl+mVWRu1l+gEgDKlxH/1\n",
              "0bPPPqshQ4YoPDxcc+bMUXh4uFJSUq5a17x5c23cuLE0ZgSAq/g2dFPs4E7alHFKE5emaunOTP20\n",
              "4ZDmbzykXu3r66WwZvKuU83WYwJApVeiM5uZmZlau3atnnjiCUnSww8/rIyMDO3Zs+eGB8jLy1Nu\n",
              "bu4VW2Fh4Q3vD0Dl0r6hm6aGB2jB0CDd2bKuiizS/I2H1eOTZXrphw1KPXba1iMCQKVWotjMyMiQ\n",
              "h4eH7OyKT4gahiEvLy+lp6dftXbv3r3y8/NTQECAJk+e/Jf7HDNmjFxdXa/YkpOTS3gYACq7tp6u\n",
              "mjLIXwtfClKPVnVlsUgLNh3WXeOXa+j367Wb6AQAm7DKDUJ+fn46ePCg1q9fr59++klffPGFfvzx\n",
              "x2uuff3115WTk3PF1qlTJ2uMBaASaNPAVV896a9fhwXp7tbF0blw8xHdPX65XvxuvXYdJToB4FYq\n",
              "UWw2bNhQR44cUUFBgSTJYrEoPT1dXl5eV6xzcXGRq6urJMnT01MDBgxQYmLiNffp6OgoFxeXKzaz\n",
              "2XwjxwIAl7Wu76qYgf5aNCxY97apJ4tF+nVLcXQ+P2OddhzJtfWIAFAplCg269SpIz8/P82YMUOS\n",
              "NHfuXHl6esrb2/uKdUeOHFFRUZEk6fTp01q4cKE6dOhQSiMDwPVrVd9Fnz/RUb8ND1bPtvUkSb9t\n",
              "Pap7JyTquenrtP0w0QkA1lTiy+gxMTGKiYmRj4+PPvzwQ8XGxkqSIiIi9Msvv0gqjtC2bduqffv2\n",
              "6tKli3r06KHBgweX7uQAUAItPVw0+fGO+uPlbrqvnYcMQ/p921H1nJioId+u1dZDObYeEQAqJMNi\n",
              "sVhsPcT/GjFihKKjo209BoAKbPex0/o0bo8Wbj6s//xb8M6WdfXync3UpoGrbYcDgAqEbxACUCn5\n",
              "1K2uTwd00J8vd1Pv9vVlGNKSHcd0/6dJivgmRVsOcqYTAEoDsQmgUmtWt7omDuigxa9014O+9WUy\n",
              "pCU7MtVrUpKe+jpFmzJO2XpEACjXiE0AkORdp5rG9++gxSO6q0+HBjIZUtzOTD3w2QqFxyZrQ/pJ\n",
              "W48IAOUSsQkA/6Vp7WqKftRXS0Z0Vx+/BjKbDCXsOq6HJq/UoGnJWk90AkCJEJsAcA1NaldTdD9f\n",
              "LR3RXY909JTZZGjZ7uPqM3mlBk5do3UHsm09IgCUC8QmAPyNxu5V9XHf9oob2V39/IujMzH1hB7+\n",
              "fJWemLJGKWlEJwD8HWITAK5Do1pVNfaR9oofGaJH/RvKzmQoac8J9f1ilR6fslrJ+4lOALgWYhMA\n",
              "SsCrlrOiHmmn+FdDNKBTcXSu2JOlfjGrNODL1Vq9L8vWIwJAmUJsAsANaFjTWWP6tFPCqBA91tlL\n",
              "9mZDq/Zlqf+Xq9X/y1VatZfoBACJ2ASAm+JZw1kfPNRWCaNC9fil6Fy9L1sDvlqtfjGrtHLPCZXB\n",
              "L2oDgFuG2ASAUtDArYref6itlo0K1cAujeRgNil5f7Yem7JG/WJWaQXRCaCSIjYBoBTVd6ui9x5s\n",
              "o2WjQ/Tk7cXRmZJ2Uo9PWaO+X6xSYupxohNApUJsAoAVeLhW0b8faKPlo0MVHthYDnYmrT1wUgOn\n",
              "Juvhz1dq2W6iE0DlQGwCgBXVc3XSO71bK3F0qAZ3bSxHO5PWp5/SoGnJemjySiXsyiQ6AVRoxCYA\n",
              "3AJ1XZz0r17F0flU19vkaGfSxoxTCo9N0YOTVyp+J9EJoGIiNgHgFqrj4qS3e7VSYmSoIoJuk5O9\n",
              "SZsyTmnw1yl68LMVWrrjGNEJoEIhNgHABupUd9Kb97dS4ugwDenWRFXszdp0MEdPf7NWvSet0JLt\n",
              "RCeAioHYBAAbql3dUW/0bKnEyFA9eyk6txzKUcS3a9VrUpL+3HaU6ARQrhGbAFAGuFdz1Os9Wyop\n",
              "MlTPdW8qZwezth7K1ZDp63TfxCT9vvWoioqITgDlD7EJAGVIrWqOeu3eFkqKDNMLIU1V1cGs7Udy\n",
              "9dyMdeo5MVG/bz1CdAIoV4hNACiDalZ10Oh7iqPzxdCmquZop51HT+u5GevVc2KiFm0hOgGUD8Qm\n",
              "AJRhNao6aNTdLZQUGaqXwrxV/VJ0vvDdet07IVELNx8mOgGUacQmAJQDbs4OGnlXcyVFhmnYHc1U\n",
              "3dFOu46d1tDvN+ju8cu1YNNhFRKdAMogYhMAyhFXZ3uN6OGjpMgwDb+jmao72Sk184xe+qE4Oudv\n",
              "PER0AihTiE0AKIdcne31yqXofOVOH7k42WlP5hkNn7lRd32yTD9vIDoBlA3EJgCUY65V7DX8zmZK\n",
              "ei1MI3v4yLWKvfYeP6uXZ21Uj+hl+mnDQRUUFtl6TACVGLEJABWAi5O9XrqjmZIiQ/XqXT5yc7bX\n",
              "vhNn9cqsTerxyXLNXUd0ArANYhMAKpDqTvYaGtZMSZFhGnV3c9Vwttf+E2c1cvYm3Rm9TLPXZhCd\n",
              "AG4pYhMAKqBqjnZ6MdRbiZFhirynhWpWdVBa1jmNmrNZYeOW6ce1GbpIdAK4BYhNAKjAqjna6fmQ\n",
              "pkocHarX7i2OzvTscxo9Z7PCxiVoVko60QnAqohNAKgEqjra6bnuTZUUGao3eraQezUHZWSfV+Tc\n",
              "LQr9OEE/JKcrv4DoBFD6iE0AqEScHew0pFtTJY4O05v3tZR7NUcdPHler88rjs7v1xCdAEoXsQkA\n",
              "lVAVB7MigpsocXSo3ryvpWpXd9ShU+f1xk/F0Tlj9QHlFRTaekwAFQCxCQCV2H9H59v3t1KdS9H5\n",
              "5s9bFfpRgqavSiM6AdwUYhMAICd7s54Kuk3LR4fqX71aqa6Low7nXNBb87ep+9gEfbsqTRcuEp0A\n",
              "So7YBABc5mRv1uCut2nZqFC927u16rk46WjuBb09f5u6fxSvr1fsJzoBlAixCQC4ipO9WYMCGyth\n",
              "VIjee6C1PFyddCw3T+8s2K5uY+M1LYnoBHB9iE0AwF9ysjdr4O2XovPBNqrv6qTM03n698LtCh4b\n",
              "r6lEJ4B/QGwCAP6Ro51ZA7s0UvyoEL3/UBs1cKui46fz9N7C7QqKiteUxH06n090ArgasQkAuG6O\n",
              "dmY93rmR4l8N0Zg+bdXArYpOnMnT//26Q8Fj4/Tl8r06l19g6zEBlCHEJgCgxBzsTBrQyUvxr4bo\n",
              "wz5t5Vmjik6cydcHi3YqOCpeMcuITgDFShybqampCgwMlI+PjwICArRt27a/XGuxWBQWFiY3N7eb\n",
              "mREAUEY52JnU/1J0jn24nbxqOivrbL7G/LZTQVHx+jxhr87mEZ1AZVbi2Hz22Wc1ZMgQ7d69W5GR\n",
              "kQoPD//LtZ988omaNm16M/MBAMoBe7NJ/QIaaunI7vrokXZqVMtZ2WfzFfX7TgVFxemz+D06Q3QC\n",
              "lZJhsVgs17s4MzNT3t7eys7Olp2dnSwWizw8PJSUlCRvb+8r1m7btk3PP/+8YmNj1bFjR506deq6\n",
              "hxoxYoSio6Ovez0AoGwpKCzSzxsPa1JcqtKyzkmS3Jzt9UxwEz15eyNVd7K38YQAbpUSndnMyMiQ\n",
              "h4eH7OzsJEmGYcjLy0vp6elXrLt48aKeeeYZxcTEyGw2/+0+8/LylJube8VWWMgdjQBQntmZTXqk\n",
              "o6eWjOiu6H7t1cS9qk6du6iP/tiloKh4fbo0VacvXLT1mABuAavcIPTuu++qT58+atmy5T+uHTNm\n",
              "jFxdXa/YkpOTrTEWAOAWszOb1MfPU4tHdNf4R33VpHZV5Zy/qHGLd6vrh3GasCRVuUQnUKFZ5TJ6\n",
              "cHCw0tPTZRiGCgoKdPjwYXl5eSklJUW1a9e+Yp95eXnKy8u74rG33npLEyZMuMlDAwCUNYVFFi3c\n",
              "fFgTl6Zq7/GzkiQXJzs9FXSbBne9Ta5VuLwOVDR2JVlcp04d+fn5acaMGQoPD9fcuXPl6el51ec1\n",
              "ExMTL/9zWlqafH19lZaWds19Ojo6ytHR8YrH/unSOwCgfDKbDD3g20D3t6uvX7cc0adLU5WaeUbj\n",
              "l6RqatJ+De56m57ueptcnYlOoKIo8WX0mJgYxcTEyMfHRx9++KFiY2MlSREREfrll19KfUAAQMVj\n",
              "Nhnq3b6+/ni5myY91kE+davp9IUCTVyaqqCoOEX/uUunzuXbekwApaBEl9FvFe5GB4DKpajIot+2\n",
              "HtXEpanadey0JKmao53CAxvr6aDbVKOqg40nBHCj+AYhAIDNmUyG7mvnod+GB+vzx/3Uol51nckr\n",
              "0KT4PQqKitPY33cq+yxnOoHyiNgEAJQZJpOhe9t6aNGwYH3xREe19HDR2fxCTU7Yq+CoOEURnUC5\n",
              "Q2wCAMock8nQPW3q6deXghQzsKNa1y+Ozs8T9iooKk5jftuhrDN5/7wjADZHbAIAyiyTydDdretp\n",
              "4UtB+upJf7Vp4KJz+YWKWbZPQVHx+mDRDp0gOoEyjdgEAJR5hmGoR6u6WjA0SFMH+attA1edv1io\n",
              "L5fvU3BUvN7/dbuOnyY6gbKI2AQAlBuGYeiOlnX1y9Cumhbur/aexdH5VeJ+BY+N03sLtyvz9AVb\n",
              "jwngvxCbAIByxzAMhbWoq59f7KrYwQHybeimCxeLNDVpv4Kj4vXugm3KzCU6gbKA2AQAlFuGYSi0\n",
              "eR399EKgvnmqkzp4uSmvoEixK9IUPDZe7/yyTceITsCmiE0AQLlnGIa6+9TWvOcD9e1TndSxUQ3l\n",
              "FRTp65XF0fmv+Vt1NIfoBGyhRN+NDgBAWWYYhrr51FZwM3et2JOlCUt3KyXtpL5ZdUA/JGfo0YCG\n",
              "ej6kqeq7VbH1qEClQWwCACocwzAU1MxdXb1radXeLI1fkqrktGxNX31As1Iy1C/AU8+HeKsB0QlY\n",
              "HbEJAKiwDMNQoLe7bm9aS6v2ZWnCklSt2Z+tGavTNSslQ339G+qFkKbyrOFs61GBCovYBABUeIZh\n",
              "KLCpuwKbumv1pehctS9L369J1+y1GXqkY3F0NqxJdAKljRuEAACVSpcmtfTDkC6aNaSLApvW0sVC\n",
              "i35ITlfoxwl6be5mZWSfs/WIQIVCbAIAKqXOTWrp+2e6aPZztyvI210FRRbNTMlQ6McJGj1nk9Kz\n",
              "iE6gNBCbAIBKLaBxTc2I6Ky5z9+u4GbF0fnj2oMKHZegUbM36UDWWVuPCJRrxCYAAJI6Nqqp6U93\n",
              "1tznA9XNp7YKiyyave6gwsYt08gfN2n/CaITuBHEJgAA/6Vjoxr69qlOmvdCoEKaF0fn3PUHdce4\n",
              "BI2YtVH7jp+x9YhAuUJsAgBwDX5eNfT14E76+cWuCmtRR0UWad6GQ7ozeplembVRe4lO4LoQmwAA\n",
              "/A3fhm6aFh6g+S921R2XovOnDYfUI3qZhs/coD2Zp209IlCmEZsAAFyH9g3dNDU8QAuGBunOlnVV\n",
              "ZJHmbzysHp8s10s/bFDqMaITuBZiEwCAEmjr6aopg/y18KUg3dWqriwWacGmw7pr/HIN/X69dhOd\n",
              "wBWITQAAbkCbBq768kl//TosSHe3Lo7OhZuP6O7xy/Xid+u182iurUcEygRiEwCAm9C6vqtiBvpr\n",
              "0bBg3dumniwW6dctR3TP+EQ9P2OddhwhOlG5EZsAAJSCVvVd9PkTHfX7y8G6r62HJOm3rUd174RE\n",
              "PTd9nbYfJjpRORGbAACUohb1XPTZ43764+Vuuq+dhwxD+n3bUfWcmKgh367V1kM5th4RuKWITQAA\n",
              "rKB5ver67LHi6OzVvr4MQ/pz+zHd/2mSIr4hOlF5EJsAAFiRT93q+nRABy1+pZse8C2OziU7/hOd\n",
              "KdpykOhExUZsAgBwC3jXqa4J/Tto8Svd9aBvfZkMacmOTPWalKSnvk7RpoxTth4RsApiEwCAW8i7\n",
              "TjWN799Bi0d0V58ODWQypLidmXrgsxUKj03WhvSTth4RKFXEJgAANtC0djVFP+qrpSND9LCfp8wm\n",
              "Qwm7juuhySs1aFqy1hOdqCCITQAAbOg296oa16+9lo7orkc6Fkfnst3H1WfySg2cukbrDmTbekTg\n",
              "phCbAACUAY3dq+rjvu0VN7K7+vkXR2di6gk9/PkqPTFljVLSiE6UT8QmAABlSKNaVTX2kfZKeDVE\n",
              "/QMays5kKGnPCfX9YpUen7JayfuJTpQvxCYAAGVQw5rO+vDhdop/NUQDOhVH54o9WeoXs0oDvlyt\n",
              "1fuybD0icF2ITQAAyrCGNZ01pk87JYwK0WOdvWRvNrRqX5b6f7laj8as0qq9RCfKNmITAIBywLOG\n",
              "sz54qK0SRoXqiS7F0blmf7YGfLVa/WJWaeWeE7JYLLYeE7gKsQkAQDnSwK2K/u/Btlo2KlQDuzSS\n",
              "g9mk5P3ZemzKGvWLWaUVRCfKGGITAIByqL5bFb33YBstGx2iQbc3koOdSSlpJ/X4lDXq+8UqJaYe\n",
              "JzpRJhCbAACUYx6uVfTuA220fFSowgMby8HOpLUHTmrg1GQ9/PlKLdtNdMK2iE0AACqAeq5Oeqd3\n",
              "ayWODtXgro3laGfS+vRTGjQtWQ9NXqmEXZlEJ2yC2AQAoAKp6+Kkf/Uqjs6ng26Tk71JGzNOKTw2\n",
              "RQ9OXqn4nUQnbq0Sx2ZqaqoCAwPl4+OjgIAAbdu27ao1q1atkq+vr3x9fdW6dWs9++yzysvLK5WB\n",
              "AQDAP6vj4qS37m+l5aNDFXEpOjdlnNLgr1P0wGcrtHTHMaITt0SJY/PZZ5/VkCFDtHv3bkVGRio8\n",
              "PPyqNe3bt1dKSoo2btyoLVu2KDMzU5MnTy6NeQEAQAnUqe6kN+9vpcTRYRrSrYmq2Ju1+WCOnv5m\n",
              "rXpPWqEl24lOWFeJYjMzM1Nr167VE088IUl6+OGHlZGRoT179lyxztnZWfb29pKk/Px8nT9/XoZh\n",
              "lNLIAACgpGpXd9QbPVsqMTJUz3ZvImcHs7YcylHEt2vVa1KS/tx2lOiEVZQoNjMyMuTh4SE7OztJ\n",
              "kmEY8vLyUnp6+lVr09LS1L59e7m7u8vV1VUvvPDCNfeZl5en3NzcK7bCwsIbOBQAAPBP3Ks56vV7\n",
              "WypxdKie695Uzg5mbT2UqyHT1+m+iUn6fetRFRURnSg9VrtBqHHjxtq0aZOOHj2qvLw8zZs375rr\n",
              "xowZI1dX1yu25ORka40FAAAk1armqNfubaGkyDC9ENJUVR3M2n4kV8/NWKeeExP1+9YjRCdKhWEp\n",
              "wTnzzMxMeXt7Kzs7W3Z2drJYLPLw8FBSUpK8vb3/8nkzZ87Ud999pwULFlz1u7y8vKtuHnrrrbc0\n",
              "YcKEEhwGAAC4GSfP5mtK0j59s/KAzuQVSJJa1KuuYXc00z2t68lk4uNwuDElOrNZp04d+fn5acaM\n",
              "GZKkuXPnytPT86rQ3LNnjy5evCip+DObP/30k9q1a3fNfTo6OsrFxeWKzWw238ixAACAG1SjqoNG\n",
              "3d1CSZGheinMW9Ud7bTz6Gm98N163TshUQs3H+ZMJ25IiS+jx8TEKCYmRj4+Pvrwww8VGxsrSYqI\n",
              "iNAvv/wiSYqLi1OHDh3Uvn17dejQQXXr1tVbb71VupMDAIBS5+bsoJF3NVdSZJiG3dFM1R3ttOvY\n",
              "aQ39foPuHr9cCzYdViHRiRIo0WX0W2XEiBGKjo629RgAAFR6OecuatqK/Zq2Yr9OXyi+vO5dp5pe\n",
              "CvPW/e3qy8zldfwDvkEIAAD8JVdne73Sw0dJkWF65U4fuTjZaU/mGQ2fuVF3fbJMP284xJlO/C1i\n",
              "EwAA/CPXKvYafmczJb0WppE9fORaxV57j5/Vy7M2qkf0Mv204aAKCotsPSbKIGITAABcNxcne710\n",
              "RzMlRYbq1bt85OZsr30nzuqVWZvU45PlmruO6MSViE0AAFBi1Z3sNTSsmZIiwzTq7uaq4Wyv/SfO\n",
              "auTsTbozeplmr80gOiGJ2AQAADehmqOdXgz1VmJkmCLvaaGaVR2UlnVOo+ZsVti4ZfpxbYYuEp2V\n",
              "GrEJAABuWjVHOz0f0lSJo0P12r3F0ZmefU6j52xW2LgEzUpJJzorKWITAACUmqqOdnque1MlRYbq\n",
              "jZ4t5F7NQRnZ5xU5d4tCP07QD8npyi8gOisTYhMAAJQ6Zwc7DenWVImjw/TmfS3lXs1RB0+e1+vz\n",
              "iqPz+zVEZ2VBbAIAAKup4mBWRHATJY4O1Zv3tVTt6o46dOq83vipODpnrD6gvIJCW48JKyI2AQCA\n",
              "1f13dL59fyvVuRSdb/68VSEfJWj6qjSis4IiNgEAwC3jZG/WU0G3afnoUL3Tq5XqujjqSM4FvTV/\n",
              "m7qPTdC3q9J04SLRWZEQmwAA4JZzsjcrvOttWjYqVO/2bq16Lk46mntBb8/fpu4fxevrFfuJzgqC\n",
              "2AQAADbjZG/WoMDGShgVovceaC0PVycdy83TOwu2q9vYeE1LIjrLO2ITAADYnJO9WQNvL47O/3uw\n",
              "jeq7OinzdJ7+vXC7gsfGayrRWW4RmwAAoMxwtDPriS6NFD8qRO8/1EYN3Kro+Ok8vbdwu4Ki4jUl\n",
              "cZ/O5xOd5QmxCQAAyhxHO7Me79xI8a+GaEyftvKsUUUnzuTp/37doeCxcfpy+V6dyy+w9Zi4DsQm\n",
              "AAAosxzsTBrQyUvxr4Yo6uH/RGe+Pli0U8FR8YpZRnSWdcQmAAAo8+zNJj0aUBydYx9uJ6+azso6\n",
              "m68xv+1UUFS8Pk/Yq7N5RGdZRGwCAIByw95sUr+Ahlo6srs+eqSdGtVyVvbZfEX9vlNBUXH6LH6P\n",
              "zhCdZQqxCQAAyh17s0l9/Rtq6YjuGte3vRrXctbJcxf10R+7Lkfn6QsXbT0mRGwCAIByzM5s0sMd\n",
              "PbVkRHdF92uvJu5VdepydMbr06WpyiU6bYrYBAAA5Z6d2aQ+fp5aPKK7xj/qqya1qyrn/EWNW7xb\n",
              "QR/GacISotNWiE0AAFBhmE2GHuzQQItf6a4J/X3VtHZV5V4o0CdLiqNz/JLdyjlPdN5KxCYAAKhw\n",
              "zCZDD/g20J+vdNfEAR3UrE415V4o0PglqQqKilP04t3KOUd03grEJgAAqLDMJkO929fXHy9306TH\n",
              "OsinbjWdvlCgiUuLo3Pcn7t06ly+rces0IhNAABQ4ZlMhu5vV1+/D++myY/7qXnd6jqdV6BP4/Yo\n",
              "KCpeH/+xSyfPEp3WQGwCAIBKw2Qy1LOth34bHqzPH/dTi3rVdSavQJPi9ygoKk5jf9+pbKKzVBGb\n",
              "AACg0jGZDN3b1kOLhgXriyc6qpWHi87mF2pywl4FRcXpw992KutMnq3HrBCITQAAUGmZTIbuaVNP\n",
              "vw4L0pcDO6p1fRedyy/UF8v2KnhsvMb8toPovEnEJgAAqPQMw9Bdretp4UtB+upJf7VpUBydMcv2\n",
              "KSgqXh8s2qETROcNITYBAAAuMQxDPVrV1YKhQZo6yF/tPF11/mKhvly+T0FRcfq/hduVefqCrccs\n",
              "V4hNAACA/2EYhu5oWVfzX+yq2PAAtfd01YWLRZqStF/dxsbrPaLzuhGbAAAAf8EwDIW2qKOfX+yq\n",
              "2MEB8m3opgsXizQ1ab+Co+L17oJtyswlOv8OsQkAAPAPDMNQaPM6+umFQH3zVCf5ebkpr6BIsSvS\n",
              "FDQ2Xu/8sk1Hc4jOayE2AQAArpNhGOruU1tznw/U9Kc7qWOjGsovKNLXK9PU7aN4/Wv+VqLzf9jZ\n",
              "egAAAIDyxjAMBTerrSBvd63Yk6UJS3crJe2kvll1QD8kZ+jRgIZ6PqSp6rtVsfWoNkdsAgAA3CDD\n",
              "MBTUzF1dvWtp1d4sjV+aquT92Zq++oBmpWSoX4Cnng/xVoNKHJ3EJgAAwE0yDEOB3u4K9HYvjs4l\n",
              "u7Vmf7ZmrE7XrJQM9fVvqBdCmsqzhrOtR73l+MwmAABAKbq9aS3NevZ2zRzSRbc3qaWLhRZ9vyZd\n",
              "oR8n6PV5W5SRfc7WI95SxCYAAIAVdGlSSz8M6aJZQ7oosGlxdP6QXBydr83dXGmik9gEAACwos5N\n",
              "aun7Z7po9nO3K8jbXQVFFs1MyVDoxwkaPWeT0rMqdnQSmwAAALdAQOOamhHRWXOfv13BzYqj88e1\n",
              "BxU6LkGjZm/Sgayzth7RKkocm6mpqQoMDJSPj48CAgK0bdu2q9bExcWpU6dOatWqlVq3bq3Ro0er\n",
              "qKioVAYGAAAozzo2qqnpT3fW3OcD1c2ntgqLLJq97qDCxi3TyB83af+JihWdJY7NZ599VkOGDNHu\n",
              "3bsVGRmp8PDwq9bUqFFDM2fO1Pbt27Vu3TqtXLlS3377bWnMCwAAUCF0bFRD3z7VST+9EKiQ5sXR\n",
              "OXf9Qd0xLkEjZm3UvuNnbD1iqTAsFovlehdnZmbK29tb2dnZsrOzk8VikYeHh5KSkuTt7f2Xzxs6\n",
              "dKjc3d31zjvvXPW7vLw85eXlXfHYW2+9pQkTJlz/UQAAAJRzGzNOaeLSVMXtzJQkmQzpAd8GGhrm\n",
              "raa1q9l4uhtXojObGRkZ8vDwkJ1d8V/PaRiGvLy8lJ6e/pfPOXr0qObMmaP777//mr8fM2aMXF1d\n",
              "r9iSk5NLMhYAAEC559vQTdPCAzT/xa66o0UdFVmknzYcUo/oZRo+c4P2ZJ629Yg3xKo3COXm5qpX\n",
              "r14aPXq0/P39r7nm9ddfV05OzhVbp06drDkWAABAmdW+oZumhgdowdAg3dmyroos0vyNh9Xjk+V6\n",
              "6YcNSj1WvqKzRN8g1LBhQx05ckQFBQWXL6Onp6fLy8vrqrWnT5/WPffcowceeEAjRoz4y306OjrK\n",
              "0dHxisfMZnNJxgIAAKhw2nq6asogf209lKOJS1P15/ZjWrDpsBZuPqz72npo2B3N5FO3uq3H/Ecl\n",
              "OrNZp04d+fn5acaMGZKkuXPnytPT86rPa545c0b33HOP7rnnHr355pulNy0AAEAl06aBq7580l+/\n",
              "DgvS3a3rymKRFm4+orvHL9eL363XzqO5th7xb5X4MnpMTIxiYmLk4+OjDz/8ULGxsZKkiIgI/fLL\n",
              "L5KkCRMmKDk5WfPmzZOvr698fX31/vvvl+7kAAAAlUjr+q6KGeiv34YH69429WSxSL9uOaJ7xifq\n",
              "+RnrtONI2YzOEt2NfquMGDFC0dHRth4DAACgzNp5NFefLt2jX7ccufzYW/e30tNBt9lwqqvxDUIA\n",
              "AADlUIt6LvrscT/98XI33dfOQ2aToe4+7rYe6yolukEIAAAAZUvzetX12WN+OppzQfVcnWw9zlU4\n",
              "swkAAFABlMXQlIhNAAAAWBGxCQAAAKshNgEAAGA1xCYAAACshtgEAACA1RCbAAAAsBpiEwAAAFZD\n",
              "bAIAAMBqiE0AAABYDbEJAAAAqyE2AQAAYDWGxWKx2HqI/9WnTx81btz4lr1eYWGhkpOT1alTJ5nN\n",
              "5lv2uigdvH/lH+9h+cd7WP7xHpZvtnj/GjVqpOHDh//jujIZm7dabm6uXF1dlZOTIxcXF1uPgxLi\n",
              "/Sv/eA/LP97D8o/3sHwry+8fl9EBAABgNcQmAAAArIbYBAAAgNUQm5IcHR31r3/9S46OjrYeBTeA\n",
              "96/84z0s/3gPyz/ew/KtLL9/3CAEAAAAq+HMJgAAAKyG2AQAAIDVEJsAAACwmnIfm/Pnz1fLli3l\n",
              "6+urLVu2WPW1vv76az344INWfQ0AAICKxM7WA9ysL774Qm+//bYGDBhg61EAAADwP8r1mc1hw4Yp\n",
              "MTFRb7zxhgIDA5WSkqKwsDD5+/urQ4cOmj17tiQpLS1Nbm5ueuutt+Tn56dmzZppxYoVeuWVV+Tr\n",
              "66s2bdpo69atkqSjR48qNDRUHTt2VOvWrTV06FAVFRVd8/WnT5+uzp07y8/PT926ddOmTZtu2bED\n",
              "AACUB+U6NidOnCh/f3998sknWrRokYYMGaLvvvtOa9eu1eLFizVy5EgdOnRIkpSTk6OOHTtq/fr1\n",
              "eu2113T33Xerd+/e2rhxowYNGqR3331XkuTm5qYFCxZo3bp12rx5s9LS0vTjjz9e9dorVqzQDz/8\n",
              "oOXLl2v9+vV6//339dhjj93S4wcAACjryv1l9P9YuXKl9u3bp3vvvfeKx3ft2qUmTZrIycnp8uct\n",
              "/f39Va1aNYWGhkqSOnXqpO+++06SVFRUpMjISCUlJclisSgzM1Nt2rRR//79r9jv/PnztWnTJnXu\n",
              "3PnyY9nZ2Tp//ryqVKlixSMFAAAoPypMbFosFrVu3VorV6686ndpaWlX/I36ZrNZTk5OV/xcUFAg\n",
              "SYqOjlZmZqbWrFkjJycnjRgxQhcuXLjm6w0aNEgffPCBFY4GAACgYijXl9H/W2BgoPbv368lS5Zc\n",
              "fmzjxo3Kz88v0X5OnjypevXqycnJSUePHr38uc//1bt3b82YMUPp6emSis+Irl279sYPAAAAoAKq\n",
              "MGc2a9SooV9//VWvvvqqRo4cqYsXL8rLy0s///xzifYzfPhwPfLII2rdurXq16+vO++885rrgoOD\n",
              "NXbsWD300EMqKChQfn6+7rvvPvn7+5fC0QAAAFQMfDc6AAAArKbCXEYHAABA2UNsAgAAwGqITQAo\n",
              "BfPmzVPHjh3l6+urFi1aKCws7C+/EAIAKhM+swkAN+nIkSNq27at1q1bp0aNGkmS1q9frw4dOsgw\n",
              "DBtPBwC2xZlNALhJx44dk9lsVs2aNS8/5ufnJ8MwlJqaqvvuu08BAQFq166dJk2aJEn67rvv5O/v\n",
              "r7y8PFksFvXq1Uvvv/++rQ4BAKyGM5sAcJOKiorUt29fxcfHq3v37goMDNRjjz2mevXqqXPnzpox\n",
              "Y4ZatGihc+fOqUuXLpo6daoCAgL07LPPyt7eXo0aNVJcXJwWLVrEmVAAFQ6xCQClZOfOnVq2bJl+\n",
              "++03JSQkaPny5ercubOaN29+eU1OTo7eeecdDRo0SBcuXFDnzp118uRJrV+/Xu7u7jacHgCsg9gE\n",
              "ACu45557FBwcrMmTJ+vQoUPXXJOenq6goCAVFRUpISFB3t7et3hKALA+PrMJADfp0KFDWrFixeWf\n",
              "T548qf3796tNmzZycXFRbGzs5d/t2bNH2dnZKigoUP/+/fXee+8pOjpa/fr1U15eni3GBwCr4swm\n",
              "ANykAwcOaMiQIdq/f7+cnZ1VUFCgxx57TG+88Yb27t2rl19+WQcOHFBhYaHc3d31/fff65NPPlFW\n",
              "VtblEH3xxRdVVFSkzz//3MZHAwCli9gEAACA1XAZHQAAAFZDbAIAAMBqiE0AAABYDbEJAAAAqyE2\n",
              "AQAAYDXEJgAAAKyG2AQAAIDVEJsAAACwGmITAAAAVkNsAgAAwGqITQAAAFjN/wc/yi8rFl/YUwAA\n",
              "AABJRU5ErkJggg==\n",
              "\">\n",
              "      </div>\n",
              "      <script type=\"text/javascript\">\n",
              "        (() => {\n",
              "          const chartElement = document.getElementById(\"chart-48fdf84c-6f47-4cdc-9de0-e0041354b2d2\");\n",
              "          async function getCodeForChartHandler(event) {\n",
              "            const chartCodeResponse =  await google.colab.kernel.invokeFunction(\n",
              "                'getCodeForChart', [\"chart-48fdf84c-6f47-4cdc-9de0-e0041354b2d2\"], {});\n",
              "            const responseJson = chartCodeResponse.data['application/json'];\n",
              "            await google.colab.notebook.addCell(responseJson.code, 'code');\n",
              "          }\n",
              "          chartElement.onclick = getCodeForChartHandler;\n",
              "        })();\n",
              "      </script>\n",
              "      <style>\n",
              "        .colab-quickchart-chart-with-code  {\n",
              "            display: block;\n",
              "            float: left;\n",
              "            border: 1px solid transparent;\n",
              "        }\n",
              "\n",
              "        .colab-quickchart-chart-with-code:hover {\n",
              "            cursor: pointer;\n",
              "            border: 1px solid #aaa;\n",
              "        }\n",
              "      </style>"
            ]
          },
          "metadata": {}
        },
        {
          "output_type": "display_data",
          "data": {
            "text/plain": [
              "from matplotlib import pyplot as plt\n",
              "_df_6['Age'].plot(kind='line', figsize=(8, 4), title='Age')\n",
              "plt.gca().spines[['top', 'right']].set_visible(False)"
            ],
            "text/html": [
              "      <div class=\"colab-quickchart-chart-with-code\" id=\"chart-a13ee0bb-1758-4679-805e-9f4d3cfc4780\">\n",
              "        <img style=\"width: 180px;\" src=\"data:image/png;base64,iVBORw0KGgoAAAANSUhEUgAAAqIAAAF5CAYAAABEEEiCAAAAOXRFWHRTb2Z0d2FyZQBNYXRwbG90\n",
              "bGliIHZlcnNpb24zLjcuMSwgaHR0cHM6Ly9tYXRwbG90bGliLm9yZy/bCgiHAAAACXBIWXMAAA9h\n",
              "AAAPYQGoP6dpAAA61ElEQVR4nO3deVTUh73//9eACKII7oooCIxLXKLijhK2lmb9mtYsTZqaxagY\n",
              "A169N23axtvce1pP+zulQYyamMQ0iU2bRGuamvYmAioYjVGDSm2UbQBRcEFAQbaZ+f0xiKGuyDIL\n",
              "z8c5c458tnl/zhzweT6fgTFYrVarAAAAgE7mZu8BAAAA0DURogAAALALQhQAAAB2QYgCAADALghR\n",
              "AAAA2AUhCgAAALsgRAEAAGAXhCgAAADsghAFAACAXRCiAAAAsAtCFAA60MaNG2UwGPTTn/7U3qMA\n",
              "gMMx8FnzANBxpk6dqoKCArm5uam4uFienp72HgkAHAZXRAGgg3z11Vfav3+/3nvvPVVWVurDDz9s\n",
              "XnfhwgU9+eST6tevnwICApScnKyAgAC9/fbbzdt88803uu+++zRo0CANHTpUS5YsUXV1tR3OBAA6\n",
              "BiEKAB1k7dq1mjhxor73ve/pwQcf1Nq1a5vXJSYm6ujRozpy5IiOHz+uI0eOqKysrHn92bNnNWfO\n",
              "HMXExKioqEiHDh3S8ePHtWzZMjucCQB0DG7NA0AHOH/+vIYOHarf/e53io+PV1pammJiYpSVlaVx\n",
              "48bJ29tbf/nLX3TPPfdIkqqqqtSnTx+9+eabevLJJ5WUlKQPP/xQe/bsaT7m7t27FR0drZqaGrm7\n",
              "u9vr1ACg3XBFFAA6wOVfUnr88cclSVFRUQoNDdXatWt19uxZ1dfXKzAwsHn73r17q0+fPs1f5+Tk\n",
              "6MCBA/Lz82t+3HPPPTIYDCotLe308wGAjkCIAkA7s1qtWr9+verr6zVy5EgNHjxYQ4YM0YkTJ7Rp\n",
              "0yZ5eXmpe/fuKiwsbN6nqqpK58+fb/568ODBmj17tioqKpoflZWVqq2t1dChQ+1xWgDQ7ghRAGhn\n",
              "n3/+uXJycvTZZ58pKyur+XH48GFJ0jvvvKPHHntM//M//6NTp06ppqZG//Vf/yU3tys/kp966il9\n",
              "/fXXWrt2rWpqamS1WlVcXKytW7fa6awAoP0RogDQztatW6fY2FhFRUVp8ODBzQ+j0agFCxZo3bp1\n",
              "Sk5O1siRIzV27FgZjUbdcccd6tu3r7y8vCRJw4cP1549e/T5558rJCREfn5+iouL05EjR+x8dgDQ\n",
              "fvhlJQBwAOfPn1e/fv20e/duzZw5097jAECn4IooANhBUVGRdu7cKbPZrHPnzmnJkiUyGo2aOnWq\n",
              "vUcDgE5DiAKAHdTX1+v555+Xn5+fjEajKioq9Ne//lXdunWz92gA0Gm4NQ8AAAC74IooAAAA7IIQ\n",
              "BQAAgF0QogAAALALQhQAAAB20aoQTUhIUFBQkAwGg7Kysq5af/mzla/3yR//93//p4kTJzY//P39\n",
              "NXny5FYPnZyc3Op9AAAA4FhaFaLz5s1TZmamAgMDr1pnMpm0YcMGzZgx47r7x8XFtfi4u8mTJ+vx\n",
              "xx9v9dDf/nxmAAAAOKdWhWhERIQCAgKuWm6xWLRgwQKlpKTI09Pzlo518uRJpaam6oknnrjhdnV1\n",
              "daqqqmrxMJvNrRkbAAAADqhd3iOalJSk8PBwhYWF3fI+b7/9tu655x4NHDjwhtutWrVKvr6+LR77\n",
              "9u1r68gAAACwszaHaHZ2tjZv3qxf/OIXt7yP1WrVW2+9pWeeeeam27744ouqrKxs8Zg2bVpbRgYA\n",
              "AIADaPNnyWVkZMhkMsloNEqSSktLtXDhQp06dUrx8fHX3Gfnzp2qra1VXFzcTY/v6el51e1+d3f3\n",
              "to4NAAAAO2vzFdH4+HidOnVKJpNJJpNJM2bM0Ouvv37dCJWkN998U08++SRBCQAA0IW1KkQXLVqk\n",
              "gIAAnThxQnFxcQoNDb3pPitXrtT69eubv66srNSWLVv09NNPt35aAAAAuAyD1Wq12nuI1lq+fLmS\n",
              "kpLsPQYAAADagE9WAgAAgF0QogAAALALQhQAAAB2QYgCAAC4MIvFqs+PlqnBbLH3KFchRAEAAFyQ\n",
              "xWLVp0dO6Z7VGXr2nf3acvCEvUe6Spv/oD0AAAAch8Vi1d+zS7U6NUfHyi5Iknp5dtOlerOdJ7sa\n",
              "IQoAAOACzE1XQFPScnS87KIkycezm54KD9LTs0fIz7u7nSe8GiEKAADgxMwWq/52+KRS0nKVe7op\n",
              "QL266enwEXo6fIR8vT3sPOH1EaIAAABO6HKArk7NUd6ZaklSb69uenr2CD0VPkK+PRw3QC8jRAEA\n",
              "AJxIo9miT5qugOY3BahvDw89M3uEngwPUm8vxw/QywhRAAAAJ9Botuivh2wBWnDWFqB+3h5aMHuE\n",
              "5s8Kko8TBehlhCgAAIADazRbtDXrpNak5ch0rkaSLUCfnROsH88MdMoAvYwQBQAAcEANZov+8nWJ\n",
              "Xk3PVWFTgPbx9tCzEcH68cwg9fJ0/oxz/jMAAABwIQ1mi/5ysERr0nNVVG4L0L49u2thRLCemBGo\n",
              "ni4QoJe5zpkAAAA4sfpGi7YcPKFXd+SquPySJKlfU4D+yMUC9DLXOyMAAAAnUt9o0UcHTujV9FyV\n",
              "VNgCtH+v7loUEaLHZwyXd3fXzTXXPTMAAAAHVt9o0YcHirU2Pe9bAeqpxXcF6/HpgerR3d3OE3Y8\n",
              "QhQAAKAT1TWa9cH+E1qXnquTlbWSpAE+nlp8V4gemza8SwToZYQoAABAJ6htMOuD/cVatyNPp5oC\n",
              "dKCPp+IjQ/TDacPl5dF1AvQyQhQAAKAD1TaY9eevbAFaWmUL0MG9vRQfGaJHpg7rkgF6GSEKAADQ\n",
              "AWobzHp/X5HW78xTWVWdJGmIry1AH57StQP0MkIUAACgHdU2mLXpS1uAnrlgC1B/Xy/FR4Xq4SkB\n",
              "8uxGgF5GiAIAALSDS/VmbfqyUK/tym8O0KF+PbQkKkTzwgjQayFEAQAA2qCmvlGb9hbptV35Onvx\n",
              "SoA+FxWqeWEB6t7Nzc4TOi5CFAAA4DbU1Dfq3T2Fen1Xvs5V10uSAvr00NKoUH1/MgF6KwhRAACA\n",
              "Vqiua9S7ewu14VsBOqxvDz0fZdSDk4fKw50AvVWEKAAAwC24WNeod/aY9EZGgcqbAjSwn7eeiwrV\n",
              "g5MI0NtBiAIAANzAhdoGvbOnUBsy8lVR0yBJCurnraXRRs2d6K9uBOhtI0QBAACu4UJtg/7whUlv\n",
              "ZBY0B+iI/j31fHSoHriTAG0PhCgAAMC3VNU26O3dJr2ZWaDKS7YADR5gC9D7JxCg7YkQBQAAkFR5\n",
              "qUEbdxforcwCVdU2SpJCBvRUQoxR903wl7ubwc4Tuh5CFAAAdGmVlxr0VmaB3tpdoAtNARo6sJcS\n",
              "Yoy6d/wQArQDEaIAAKBLqqip11uZBdq426QLdbYANTYF6D0EaKcgRAEAQJdSUVOvNzIK9PYXJl1s\n",
              "CtBRg3yUEGPU3eMGy40A7TSEKAAA6BLOV9frjcx8/eGLwuYAHT3YR4kxRsWNJUDtgRAFAAAurby6\n",
              "Xhsy8vXOFyZV15slSWOG9FZiTKi+ewcBak+EKAAAcEnnLtbp9Yx8vbunUDVNAXrHkN5KjDXqO2MG\n",
              "EaAOgBAFAAAu5ezFOm3Yla939hTqUoMtQMf699ay2JGKHTNQBgMB6igIUQAA4BLOXKjT67vy9N7e\n",
              "ouYAHT/UV4kxRsUQoA6JEAUAAE7t9IVavbYzX5u+LFRtg0WSdGeArxJjjYoaRYA6slZ9RlVCQoKC\n",
              "goJkMBiUlZV11fqNGzfKYDBo69at1z1GUVGR7r//fo0aNUp33HGHUlJSWjszAACATlfV6n8+Oao5\n",
              "v0nXm5kFqm2w6M5hftr41FRtfS5c0aMHEaEOrlVXROfNm6cXXnhBs2fPvmqdyWTShg0bNGPGjOvu\n",
              "b7Va9eCDD+qnP/2pHnroIUlSWVlZK0cGAABdWVlVrdbtyNP7+4pU12i7AjppuJ8SY4y6a+QA4tOJ\n",
              "tCpEIyIirrncYrFowYIFSklJ0YoVK667f2pqqjw9PZsjVJIGDRp0w+esq6tTXV1di2Vms7kVUwMA\n",
              "AFdQWlmrdTty9f5XxapvCtCwwD5KjDFqjrE/AeqE2uU9oklJSQoPD1dYWNgNtzt69KgGDBigRx99\n",
              "VMeOHVNQUJB+97vfKTg4+Lr7rFq1Si+//HKLZTe66goAAFzLqcpLWrcjT3/aV6x6sy1ApwT20bLY\n",
              "kQoP7UeAOrE2h2h2drY2b96sXbt23XTbxsZGpaWlae/evRo7dqzWr1+vhx9+WPv377/uPi+++KKW\n",
              "L1/eYtlLL73U1rEBAICDO1lxSWt35OqDr040B+i0oL5KjDVqVggB6graHKIZGRkymUwyGo2SpNLS\n",
              "Ui1cuFCnTp1SfHx8i22HDx+uSZMmaezYsZKkJ554QkuWLFFDQ4M8PDyueXxPT095enq2WObu7t7W\n",
              "sQEAgIMqqbiktem5+mB/sRrMVknS9BG2AJ0ZTIC6kjaHaHx8fIvgjIyM1LJlyzR37tyrtr377rv1\n",
              "wgsvqKSkREOHDtWnn36qMWPGXDdCAQBA13HifI1eTc/TRweuBOiM4L5KjBmpmSH97DwdOkKrQnTR\n",
              "okXatm2bSktLFRcXJx8fH+Xm5t5wn5UrV8rf31+LFy9Wz549tX79et17772yWq3y9fXVn/70pzad\n",
              "AAAAcG7F5TV6NT1XHx04oUaLLUBnhfRTYoxR04MJUFdmsFqtVnsP0VrLly9XUlKSvccAAABtUHTO\n",
              "FqCbD14J0PDQfkqMGalpI/raeTp0Bj5ZCQAAdKrCc9Vak5arLV+XyNwUoHOM/ZUYY9SUIAK0KyFE\n",
              "AQBApzCdrVZKWq62Zl0J0IiRA5QYY1RYYB87Twd7IEQBAECHKjhbrZS0HG39ukRN/am7Rg5QYqxR\n",
              "k4cToF0ZIQoAADpE3pmLWpOWq4+zrgRo1KgBSowdqYnD/Ow6GxwDIQoAANpV7umLSknL0SeHTjYH\n",
              "aMzogUqIMepOAhTfQogCAIB2kXv6glan5uqTwyd1+W/yxI6xBeiEAD+7zgbHRIgCAIA2OV52QatT\n",
              "c7TtyKnmAP3OHYOUGGPUuKG+9h0ODo0QBQAAt+VYqS1AP82+EqBxYwcpIcaosf4EKG6OEAUAAK3y\n",
              "TWmVLUCPlDYv+97YwUqIMeoO/952nAzOhhAFAAC35OhJW4D+459XAvSe8YP1fLRRY4YQoGg9QhQA\n",
              "ANxQdkmlVqfm6LOjZZIkg0G6Z/wQJUQbNWqwj52ngzMjRAEAwDVll1QqOTVHn38rQO8dP0QJMUaN\n",
              "HESAou0IUQAA0MKRE5VKTj2u7f86LckWoPdP8Nfz0aEyEqBoR4QoAACQJB0qrlByao7SvrEFqJtB\n",
              "euBOfy2NNip0YC87TwdXRIgCANDFZRVXKHn7caUfOyPJFqD/b+JQLY0OVcgAAhQdhxAFAKCLOlh0\n",
              "Xsnbc7Tz+JUAnTtpqJZGhSqYAEUnIEQBAOhiDhSW65XtOcrIOStJcncz6MGmAA3q39PO06ErIUQB\n",
              "AOgi9pvKlZzaMkC/P8l2Cz6wHwGKzkeIAgDg4vYVlCs59bh2556TJHVzM+gHkwP0XFSohvfztvN0\n",
              "6MoIUQAAXNTe/HNK3p6jPflXAvShKQFaEhmqYX0JUNgfIQoAgIvZk3dOyanHtTe/XJLk4W7QvLBh\n",
              "WhIZQoDCoRCiAAC4AKvVqj355/TK9hztK7gSoA9PGaYlUaEa6tfDzhMCVyNEAQBwYlarVV/k2W7B\n",
              "7zPZArS7u5semTpM8ZEh8idA4cAIUQAAnJDValVm7lklb8/R/sLzkmwB+ug0W4AO8SVA4fgIUQAA\n",
              "nIjValVGzlm9sv24DhZVSJK6d3PTY9OGa/FdIRrs62XfAYFWIEQBAHACVqtVO4+fUXJqjr5uClDP\n",
              "bm764bThio8M0aDeBCicDyEKAIADs1qt2nHMFqBZxRWSbAH6+PRALb4rWAMJUDgxQhQAAAdktVqV\n",
              "fuy0krfn6NCJSkmSl4ebfjQ9UAvvCtZAHwIUzo8QBQDAgVitVqX+67RWp+Xo8LcC9IkZgVoYEaIB\n",
              "Pp52nhBoP4QoAAAOwGq16vOjZVqdlqPskipJUg8Pd/14ZqCejQhW/14EKFwPIQoAgB1ZrVZ9drRM\n",
              "ydtzdPSULUC9u7vrxzOD9OycEepHgMKFEaIAANiBxWLVZ0dLlZyaq381BWjP7u768awgPTsnWH17\n",
              "drfzhEDHI0QBAOhEFotV//hnqVan5uib0guSpF6e3TR/VqAWzA5WHwIUXQghCgBAJ7BYrPp7ti1A\n",
              "j5VdCdCnwoP0zOwR8vMmQNH1EKIAAHQgs8WqT4+cUkpajo6XXZQk+TQF6NMEKLo4QhQAgA5gtlj1\n",
              "t8MnlZKWq9zTTQHq1U1Ph4/Q0+Ej5OvtYecJAfsjRAEAaEeXA3R1ao7yzlRLknp7ddMzs4P1ZHiQ\n",
              "fHsQoMBlhCgAAO2g0WzRJ01XQPObAtS3h4eemT1CT4YHqbcXAQr8O0IUAIA2aDRb9HHWSa1Jz1XB\n",
              "WVuA+nl7aMHsEZo/K0g+BChwXYQoAAC3odFs0dask1qTliPTuRpJUh9vDy2YE6z5s4LUy5P/YoGb\n",
              "cWvNxgkJCQoKCpLBYFBWVtZV6zdu3CiDwaCtW7dec3+TySR3d3dNnDix+ZGXl3c7cwMAYBcNZos+\n",
              "2F+smKSd+s8PD8l0rkZ9vD30wvdGKeMn0XouKpQIBW5Rq75T5s2bpxdeeEGzZ8++ap3JZNKGDRs0\n",
              "Y8aMGx7Dx8fnmhELAIAjazBbtOXgCb2anqeictsV0L49u2thRLCemBGonsQn0Gqt+q6JiIi45nKL\n",
              "xaIFCxYoJSVFK1asaJfBAABwBPWNtgBdk56rE+cvSZL697IF6I9mBMq7OwEK3K52+e5JSkpSeHi4\n",
              "wsLCbrptdXW1pk6dKrPZrLlz5+rnP/+53N3dr7t9XV2d6urqWiwzm81tnhkAgBupb7ToowMn9Gp6\n",
              "rkoqrgTooogQPT5jOAEKtIM2fxdlZ2dr8+bN2rVr1023HTJkiEpKSjRw4ECVl5frkUce0e9+9zu9\n",
              "8MIL191n1apVevnll1ssu9ntfwAAblddo1kf7j+hdTvymgN0gI+nFkUE6/HpgerR/foXTwC0Tqt+\n",
              "WelaMjIyZDKZZDQaFRQUpL1792rhwoVat27dVdt6enpq4MCBkqS+ffvq6aefVkZGxg2P/+KLL6qy\n",
              "srLFY9q0aW0dGwCAFuoazXp3b6Gi/r8d+sXWbJVUXNJAH0+tvO8OZbwQpQVzgolQoJ21+YpofHy8\n",
              "4uPjm7+OjIzUsmXLNHfu3Ku2PX36tPr06SMPDw/V1dVpy5YtmjRp0g2P7+npKU9PzxbLbnQrHwCA\n",
              "1qhtMOuD/cVatyNPpyprJUkDfTwVHxmiH04bLi8P/s8BOkqrQnTRokXatm2bSktLFRcXJx8fH+Xm\n",
              "5t5wn5UrV8rf31+LFy9WZmamVq5cKXd3dzU2Nio6Olo///nP23QCAADcjtoGs/60r0jrd+artMoW\n",
              "oIN7eyk+MkSPTB1GgAKdwGC1Wq32HqK1li9frqSkJHuPAQBwQrUNZr2/r0jrd+aprMr2y7BDfL20\n",
              "JDJED00hQIHOxK/8AQC6hNoGszZ9aQvQMxdsAerv66X4qFA9PCVAnt0IUKCzEaIAAJd2qd6sTV8W\n",
              "av3OfJ29aAvQoX49tCQqRPPCCFDAnghRAIBLqqlv1Ka9RXptV57OXqyXZAvQ56JCNS8sQN27tfkP\n",
              "xwBoI0IUAOBSauob9e6eQr2+K1/nqm0BGtCnh5ZGher7kwlQwJEQogAAl1Bd16h39hRqQ0a+ypsC\n",
              "dFjfHno+yqgHJw+VhzsBCjgaQhQA4NQu1jXqnT0mbdiVr/M1DZKkwH7eei4qVA9OIkABR0aIAgCc\n",
              "0oXahuYroBVNARrUz1tLo42aO9Ff3QhQwOERogAAp3KhtkFv7zbpzd0FzQE6on9PPR8dqgfuJEAB\n",
              "Z0KIAgCcQtXlAM0sUOUlW4AGD7AF6P0TCFDAGRGiAACHVnmpQRt3F+itzAJV1TZKkkIG9FRCjFH3\n",
              "TfCXu5vBzhMCuF2EKADAIVXWNOit3QV6a3eBLjQFaOjAXkqIMere8UMIUMAFEKIAAIdSUVOvtzIL\n",
              "tHG3SRfqbAE6clAvPR9t1D0EKOBSCFEAgEOoqKnXGxkFevsLky42BeioQT5KiDHq7nGD5UaAAi6H\n",
              "EAUA2NX56nq9kZmvP3xR2Bygowf7KDHGqLixBCjgyghRAIBdlFfXa0NGvt75wqTqerMkacyQ3kqM\n",
              "CdV37yBAga6AEAUAdKpzF+v0eka+3t1TqJqmAL1jSG8lxhr1nTGDCFCgCyFEAQCd4uzFOm3Yla93\n",
              "9hTqUoMtQMf699ay2JGKHTNQBgMBCnQ1hCgAoEOduVCn13fl6b29Rc0BOn6orxJjjIohQIEujRAF\n",
              "AHSI0xdq9drOfG36slC1DRZJ0p0BvkqMNSpqFAEKgBAFALSz01W1Wt8UoHWNTQE6zE/LYo2KHDmA\n",
              "AAXQjBAFALSLsqparduRp/f3FTUH6KThfkqMMeouAhTANRCiAIA2Ka2s1boduXr/q2LVNwVoWGAf\n",
              "JcYYNcfYnwAFcF2EKADgtpyqvKR1O/L0p33FqjfbAnRKYB8tix2p8NB+BCiAmyJEAQCtcrLiktbu\n",
              "yNUHX51oDtBpQX2VGGvUrBACFMCtI0QBALekpOKS1qbn6oP9xWowWyVJ00fYAnRmMAEKoPUIUQDA\n",
              "DRWX12jtjjx9dOBKgM4I7qvEmJGaGdLPztMBcGaEKADgmorLa/Rqeq4+OnBCjRZbgM4K6afEGKOm\n",
              "BxOgANqOEAUAtFB0zhagmw9eCdDZof2VGGvU1KC+dp4OgCshRAEAkqTCc9Vak5arLV+XyNwUoHOM\n",
              "/ZUYY9QUAhRAByBEAaCLM52tVkparrZmXQnQiJEDlBhjVFhgHztPB8CVEaIA0EUVnK1WSlqOtn5d\n",
              "oqb+VOSoAUqIMWrycAIUQMcjRAGgi8k7c1Fr0nL1cdaVAI0aNUCJsSM1cZifXWcD0LUQogDQReSe\n",
              "vqiUtBx9cuhkc4DGjB6ohBij7iRAAdgBIQoALi739AWtTs3VJ4dPytoUoLFjBikxxqjxAb72HQ5A\n",
              "l0aIAoCLOl52QatTc7TtyKnmAP3OHbYAHTeUAAVgf4QoALiYY6W2AP00+0qAxo0dpIQYo8b6E6AA\n",
              "HAchCgAu4pvSKluAHiltXnb3uMF6PtqoO/x723EyALg2QhQAnNzRk7YA/cc/rwToPeNtATpmCAEK\n",
              "wHERogDgpLJLKrU6NUefHS2TJBkM0j3jhygh2qhRg33sPB0A3BwhCgBOJrukUsmpOfr8WwF63wR/\n",
              "PR8dqpGDCFAAzsOtNRsnJCQoKChIBoNBWVlZV63fuHGjDAaDtm7detNjPfnkkzIYDKqoqGjNCADQ\n",
              "ZR05UakFf/hK96Vk6vOjZTIYpAfu9NdnyyKU8sNJRCgAp9OqK6Lz5s3TCy+8oNmzZ1+1zmQyacOG\n",
              "DZoxY8ZNj7NlyxZ5eHi05qkBoMs6VFyh5NQcpX1zWpLk1hSgS6ONCh3Yy87TAcDta1WIRkREXHO5\n",
              "xWLRggULlJKSohUrVtzwGGVlZfr1r3+t9PR0vfHGG615egDoUrKKK5S8/bjSj52RZAvQuROH6rno\n",
              "UIUMIEABOL92eY9oUlKSwsPDFRYWdtNtn332Wf32t7+Vj8+t3UKqq6tTXV1di2Vms/m25gQAZ3Cw\n",
              "6LySt+do5/FvBeikoVoaFapgAhSAC2lziGZnZ2vz5s3atWvXTbd94403NHz4cEVHR9/y8VetWqWX\n",
              "X365xbJbuf0PAM7mQGG5Xtmeo4ycs5IkdzeDHmwK0KD+Pe08HQC0vzaHaEZGhkwmk4xGoySptLRU\n",
              "Cxcu1KlTpxQfH99i2/T0dO3atUt/+9vfmpdNmDBBH3/8sSZNmnTN47/44otavnx5i2UvvfRSW8cG\n",
              "AIex31Su5NSWAfqDyUP1XFSoAvsRoABcV5tDND4+vkVwRkZGatmyZZo7d+5V227atKnF1waDQYcP\n",
              "H5afn991j+/p6SlPT88Wy9zd3ds0MwA4gn0F5UpOPa7dueckSd3cDPrB5AA9FxWq4f287TwdAHS8\n",
              "VoXookWLtG3bNpWWliouLk4+Pj7Kzc294T4rV66Uv7+/Fi9e3KZBAcBV7M0/p+TtOdqTfyVAH5oS\n",
              "oCWRoRrWlwAF0HUYrFar1d5DtNby5cuVlJRk7zEAoFX25J1Tcupx7c0vlyR5uBv00JRhWhIZooA+\n",
              "BCiArodPVgKADmS1WrUn/5xe2Z6jfQVXAvThKcO0JCpUQ/162HlCALAfQhQAOoDVatUXebZb8PtM\n",
              "tgDt7u6mR6YOU3xkiPwJUAAgRAGgPVmtVmXmnlXy9hztLzwvyRagj06zBegQXwIUAC4jRAGgHVit\n",
              "VmXknNUr24/rYFGFJKl7Nzc9Nm24Ft8VosG+XvYdEAAcECEKAG1gtVq18/gZJafm6OumAPXs5qbH\n",
              "ptsCdFBvAhQArocQBYDbYLVatePYGb2SmqNDxRWSbAH6+PRALb4rWAMJUAC4KUIUAFrBarUq/dhp\n",
              "JW/P0aETlZIkLw83/Wh6oBbeFayBPgQoANwqQhQAboHValXqv05rdVqODjcFaA8Pdz0xM1DPzgnW\n",
              "AB/PmxwBAPDvCFEAuAGr1arPj5ZpdVqOskuqJNkC9MczA/VsRLD69yJAAeB2EaIAcA1Wq1WfHS1T\n",
              "8vYcHT1lC1Dv7u768cwgPTtnhPoRoADQZoQoAHyLxWLVZ0dLlZyaq381BWjP7u6aPytIC+YEq2/P\n",
              "7naeEABcByEKALIF6D/+WarVqTn6pvSCJKmXZzfNnxWoBbOD1YcABYB2R4gC6NIsFqv+nm0L0GNl\n",
              "VwL0qfAgPTN7hPy8CVAA6CiEKIAuyWyx6tMjp5SSlqPjZRclST6e3fTU7BF6JnyEfL097DwhALg+\n",
              "QhRAl2K2WPW3wyeVkpar3NNNAerVTU+Hj9DTBCgAdCpCFECXcDlAV6fmKO9MtSSpt1c3PTM7WE+G\n",
              "B8m3BwEKAJ2NEAXg0hrNFn3SdAU0vylAfXt46JnZI/RkeJB6exGgAGAvhCgAl9RotujjrJNak56r\n",
              "grO2APXz9tCC2SM0f1aQfAhQALA7QhSAS2k0W7Q166TWpOXIdK5GktTH20ML5gRr/qwg9fLkxx4A\n",
              "OAp+IgNwCQ1mi/7ydYleTc9V4bcC9NmIYP14JgEKAI6In8wAnFqD2aItB09oTXquissvSZL69uyu\n",
              "hRHBemJGoHoSoADgsPgJDcAp1TdeCdAT520B2r+XLUB/NCNQ3t358QYAjo6f1ACcSn2jRR8dOKFX\n",
              "03NVUnElQBdFhOjxGcMJUABwIvzEBuAU6hrN+nD/Ca3bkdccoAN8PLUoIliPTw9Uj+7udp4QANBa\n",
              "hCgAh1bXaNYH+09oXXquTlbWSpIG+nhq8V0hemz6cHl5EKAA4KwIUQAOqbbBrA/2F2vdjjyd+laA\n",
              "xkeG6IfTCFAAcAWEKACHUttg1p/2FWndzjyVVdVJkgb39lJ8ZIgemTqMAAUAF0KIAnAItQ1mvb+v\n",
              "SOu/FaBDfL20JDJED00hQAHAFRGiAOyqtsGsTV/aAvTMBVuA+vt6KT4qVA9PCZBnNwIUAFwVIQrA\n",
              "Li7Vm7Xpy0Kt35mvsxdtATrUr4eWRIVoXhgBCgBdASEKoFPV1Ddq094ivbYrT2cv1kuyBejS6FD9\n",
              "YHKAundzs/OEAIDOQogC6BQ19Y16d0+hXt+Vr3PVtgAN6NNDS6NC9X0CFAC6JEIUQIeqrmvUO3sK\n",
              "tSEjX+VNATq8r7eWRoXqwclD5eFOgAJAV0WIAugQF+sa9c4ekzbsytf5mgZJUmA/W4DOnUSAAgAI\n",
              "UQDt7EJtQ/MV0IqmAA3q562l0UbNneivbgQoAKAJIQqgXVyobdDbu016I7NAlZdsARrcv6eWRofq\n",
              "gTsJUADA1QhRAG1S1RSgb347QAf0VEK0Ufff6S93N4OdJwQAOCpCFMBtqbzUoI27C/RWZoGqahsl\n",
              "SSEDeiohxqj7JhCgAICbI0QBtEplTYPe3F2gjbsLdKEpQI0De+n5GKPuHT+EAAUA3DJCFMAtqaip\n",
              "11uZBdq426QLdbYAHTmolxJijLpn3BC5EaAAgFYiRAHc0Pnqer2ZWaC3vzDpYlOAjhrko4QYo+4e\n",
              "N5gABQDctlb9GmtCQoKCgoJkMBiUlZV11fqNGzfKYDBo69at19y/oKBAYWFhmjhxosaNG6eHHnpI\n",
              "58+fv525AXSw8up6/fYf32j2b9K0Jj1XF+saNXqwj9Y9Pll/T5yjeydwFRQA0DatCtF58+YpMzNT\n",
              "gYGBV60zmUzasGGDZsyYcd39/f39lZmZqaysLGVnZ8vf31+//OUvWz00gI5TXl2v3/zjG835TZrW\n",
              "7shTdb1ZY4b01vofhenThDm6ezwBCgBoH626NR8REXHN5RaLRQsWLFBKSopWrFhx3f09PT2b/202\n",
              "m1VdXa1evXrd8Dnr6upUV1fXYpnZbG7F1ABuxbmLdXo9I1/v7ilUTb3te+yOIb2VGGvUd8YMIj4B\n",
              "AO2uXd4jmpSUpPDwcIWFhd102/r6ek2bNk2FhYWaMGGC/vrXv95w+1WrVunll19usexGV10BtM7Z\n",
              "i3V6fZctQC812AJ03NDeSowZqdgxA2UwEKAAgI7R5o86yc7O1ubNm/WLX/zilrbv3r27srKyVFZW\n",
              "ptGjR+u111674fYvvviiKisrWzymTZvW1rGBLu/MhTr9attRzflNul7fla9LDWaNH+qrN+dP0SdL\n",
              "Z+s7dwwiQgEAHarNV0QzMjJkMplkNBolSaWlpVq4cKFOnTql+Pj46+7XvXt3PfXUU3r22Wf1wgsv\n",
              "XHc7T0/PFrf0Jcnd3b2tYwNd1ukLtXptZ742fVmo2gaLJOnOAF8lxhoVNYoroACAztPmEI2Pj28R\n",
              "nJGRkVq2bJnmzp171baFhYUaMGCAvL29ZbFY9OGHH2rChAltHQHALThdVat1O/P0xy+LVNdoC9CJ\n",
              "w/yUGGtU5MgBBCgAoNO1KkQXLVqkbdu2qbS0VHFxcfLx8VFubu4N91m5cqX8/f21ePFiHT58WD//\n",
              "+c8l2X7BafLkyVq9evXtTw/gpsqqarVuR57e33clQCcN99Oy2JGKMPYnQAEAdmOwWq1Wew/RWsuX\n",
              "L1dSUpK9xwAcWmllrdbtyNX7XxWrvilAwwL7KDHGqDkEKADAAfDJSoCLOVlxSet25OnPXxWr3mwL\n",
              "0KlBfZQYM1Lhof0IUACAwyBEARdxsuKS1u7I1QdfnWgO0GlBfbUs1qiZIQQoAMDxEKKAkztxvkZr\n",
              "d+Tpw/3FajDb3mkzfURfJcYaNTOYAAUAOC5CFHBSxeW2AP3owJUAnRHcV4kxIzUzpJ+dpwMA4OYI\n",
              "UcDJFJfX6NX0XH104IQaLbYAnRXST4kxRk0PJkABAM6DEAWcRNG5Gq1Jz9GWgyXNATo7tL8SY42a\n",
              "GtTXztMBANB6hCjg4ArPVWtNWq62fF0ic1OAzjH2V2KMUVMIUACAEyNEAQdlOlutlLRcbc26EqAR\n",
              "IwcoMcaosMA+dp4OAIC2I0QBB5N/5qLWNAVoU38qctQAJcQYNXk4AQoAcB2EKOAg8poC9ONvBWjU\n",
              "qAFKjB2picP87DobAAAdgRAF7Cz39EWlpOXok0MnmwM0ZvRAJcQYdScBCgBwYYQoYCe5py9odWqu\n",
              "Pjl8UtamAI0dM0iJMUaND/C173AAAHQCQhToZMfLLmh1ao62HTnVHKDfucMWoOOGEqAAgK6DEAU6\n",
              "ybFSW4B+mn0lQOPGDlJCjFFj/QlQAEDXQ4gCHeyb0ipbgB4pbV5297jBej7aqDv8e9txMgAA7IsQ\n",
              "BTrI0ZO2AP3HP68E6D3jbQE6ZggBCgAAIQq0s+ySSq1OzdFnR8skSQaDdM/4IUqINmrUYB87TwcA\n",
              "gOMgRIF2kl1SqeTUHH3+rQC9b4K/no8O1chBBCgAAP+OEAXa6MiJSiWnHtf2f52WZAvQ+5sC1EiA\n",
              "AgBwXYQocJsOFVcoOTVHad/YAtTNID1wp7+WRhsVOrCXnacDAMDxEaJAK2UVVyh5+3GlHzsjyRag\n",
              "cycO1XPRoQoZQIACAHCrCFHgFh0sOq/k7TnaedwWoO5uBv2/if5aGhWqYAIUAIBWI0SBmzhQWK5X\n",
              "tucoI+esJFuAPjhpqJZGhSqof087TwcAgPMiRIHr2G8qV3JqywD9weShei4qVIH9CFAAANqKEAX+\n",
              "zb6CciWnHtfu3HOSpG5uBv1gcoCeiwrV8H7edp4OAADXQYgCTfbmn1Py9hztyb8SoA9NCdCSyFAN\n",
              "60uAAgDQ3ghRdHl78s4pOfW49uaXS5I83A16aMowLYkMUUAfAhQAgI5CiKJLslqt2pN3Tq+k5mhf\n",
              "wZUAfXjKMC2JCtVQvx52nhAAANdHiKJLsVqt+iLvnF7Zflxfmc5Lkrq7u+mRqcMUHxkifwIUAIBO\n",
              "Q4iiS7BarcrMPavk7TnaX3glQB+dZgvQIb4EKAAAnY0QhUuzWq3alXNWyduP62BRhSSpezc3PTZt\n",
              "uBbfFaLBvl72HRAAgC6MEIVLslqt2nn8jF7ZnqOs4gpJkmc3Nz023Ragg3oToAAA2BshCpditVq1\n",
              "49gZvZKao0PfCtDHpwdq8V3BGkiAAgDgMAhRuASr1aq0b05rdWqODp2olCR5ebjpR9MDtfCuYA30\n",
              "IUABAHA0hCicmtVqVeq/Tis5NUdHSmwB2sPDXU/MDNSzc4I1wMfTzhMCAIDrIUThlKxWqz4/WqbV\n",
              "aTnKLqmSZAvQH88M1LMRwerfiwAFAMDREaJwKhaLVZ8dLdPq1BwdPWULUO/u7vrxzCA9O2eE+hGg\n",
              "AAA4DUIUTsEWoKV6ZXuOvim9IEnq2d1d82cFacGcYPXt2d3OEwIAgNYiROHQLBar/vHPUq1OvRKg\n",
              "vTy7af6sQC2YHaw+BCgAAE6LEIVDslis+jT7lFJSc3Ws7EqAPhUepGdmj5CfNwEKAICzc2vNxgkJ\n",
              "CQoKCpLBYFBWVtZV6zdu3CiDwaCtW7dec/8jR44oIiJCo0eP1rhx4/T000/r0qVLtzM3XJTZYtUn\n",
              "h04q7pVdWvrHr3Ws7IJ8PLspIcao3T+J1orvjiJCAQBwEa0K0Xnz5ikzM1OBgYFXrTOZTNqwYYNm\n",
              "zJhx3f29vLy0Zs0affPNNzp06JCqq6v1m9/8pvVTw+WYLVZ9nFWiuFd26fn3v1bO6Yvy8eqmxBij\n",
              "Mn8SreXfGSlfbw97jwkAANpRq27NR0REXHO5xWLRggULlJKSohUrVlx3f6PR2Pxvd3d3TZ06VdnZ\n",
              "2a0ZAS7m8hXQlLQc5Z2pliT19uqmZ2YH68nwIPn2ID4BAHBV7fIe0aSkJIWHhyssLOyW96murtYb\n",
              "b7yhVatW3XC7uro61dXVtVhmNptva044jkazRZ8cPqmU1Fzln7UFqG8PDz0ze4SeDA9Sby8CFAAA\n",
              "V9fmEM3OztbmzZu1a9euW96nvr5ejzzyiL773e/qwQcfvOG2q1at0ssvv9xi2Y1u/8OxNZot+jjr\n",
              "pNak56qgKUD9vD20YPYIzZ8VJB8CFACALqPNIZqRkSGTydR82720tFQLFy7UqVOnFB8ff9X2DQ0N\n",
              "euSRRzRkyBAlJyff9Pgvvviili9f3mLZSy+91Nax0ckazRb95esSvZqeK9O5GklSH28PLZgTrPmz\n",
              "gtTLkz/gAABAV9Pm//3j4+NbBGdkZKSWLVumuXPnXrVtY2OjHn30UfXt21evv/66DAbDTY/v6ekp\n",
              "T8+Wn5bj7u7e1rHRSRqaAnRNWq6Kyq8E6LMRwfrxTAIUAICurFUVsGjRIm3btk2lpaWKi4uTj4+P\n",
              "cnNzb7jPypUr5e/vr8WLF+vPf/6ztmzZogkTJmjSpEmSpPDwcL366qu3fwZwSA1mi7YcPKE16bkq\n",
              "Lrf9ia6+PbtrYUSwnpgRqJ4EKAAAXZ7BarVa7T1Eay1fvlxJSUn2HgPXUN9o0eaDJ/Rqeq5OnLcF\n",
              "aP9etgD90YxAeXcnQAEAgA1VgHZR32jRRwdsAVpScSVAF0WE6PEZwwlQAABwFeoAbVLXaNaH+09o\n",
              "3Y685gAd4OOpRRHBenx6oHp05/28AADg2ghR3Ja6RrM++KpY63bk6WRlrSRpoI+nFt8VosemD5eX\n",
              "BwEKAABujBBFq9Q2mPXB/mKtTc9TaZUtQAf1tgXoD6cRoAAA4NYRorgltQ1m/WlfkdbtzFNZle2T\n",
              "rgb39lJ8ZIgemTqMAAUAAK1GiOKGahvM+uOXRVq/M0+nL9gCdIivl5ZEhuihKQQoAAC4fYQorqm2\n",
              "waxNTQF6pilA/X29FB8VqoenBMizGwEKAADahhBFC5fqzdr0ZaHW78zX2Yu2AB3q10NLokI0L4wA\n",
              "BQAA7YcQhSSppr5R7+0t1Ou78nX2Yr0kW4AujQ7VDyYHqHs3NztPCAAAXA0h2sXV1Dfq3T22AD1X\n",
              "bQvQgD49tDQqVN8nQAEAQAciRLuo6rpGvbOnUBsy8lXeFKDD+3praVSoHpw8VB7uBCgAAOhYhGgX\n",
              "c7GuUX/4wqQ3MvJ1vqZBkhTYzxagcycRoAAAoPMQol3EhdqG5iugFU0BGtTPW0ujjZo70V/dCFAA\n",
              "ANDJCFEXd6G2QW/vNumNzAJVXrIFaHD/nloaHaoH7iRAAQCA/RCiLqqqtkEbM016MzNfVbWNkqTg\n",
              "AT2VEG3U/Xf6y93NYOcJAQBAV0eIupjKSw3auLtAb2UWNAdoyICeSogx6r4JBCgAAHAchKiLqKxp\n",
              "0Ju7C7Rxd4EuNAWocWAvPR9j1L3jhxCgAADA4RCiTq6ipl5vZRZo426TLtTZAnTkoF5KiDHqnnFD\n",
              "5EaAAgAAB0WIOqnz1fV6M7NAb39h0sWmAB01yEcJMUbdPW4wAQoAABweIepkyqvr9UZGvv7whUnV\n",
              "9WZJ0ujBPkqMMSpuLAEKAACcByHqJMqr67UhI1/vfCtAxwzprcQYo757xyACFAAAOB1C1MGdu1in\n",
              "1zPy9e6eQtU0BehY/95KiDHqO2MIUAAA4LwIUQd19mKdXt9lC9BLDbYAHTe0txJjRip2zEAZDAQo\n",
              "AABwboSogzlzoU6v78rTe3uLmgN0/FBfLYs1Kno0AQoAAFwHIeogTl+o1Ws787Xpy0LVNlgkSXcG\n",
              "+Cox1qioUQQoAABwPYSonZ2uqtW6nXn645dFqmu0BejEYX5KjDUqcuQAAhQAALgsQtROyqpqtW5H\n",
              "nt7fdyVAJw3307LYkYow9idAAQCAyyNEO1lpZa3W7cjV+18Vq74pQMMC+ygxxqg5BCgAAOhCCNFO\n",
              "crLiktbtyNOfvypWvdkWoFOD+igxZqTCQ/sRoAAAoMshRDvYyYpLWrsjVx98daI5QKcF9dWyWKNm\n",
              "hhCgAACg6yJEO8iJ8zVauyNPH+4vVoPZKkmaPqKvEmONmhlMgAIAABCi7ay43BagHx24EqAzg/sp\n",
              "MdaoGcH97DwdAACA4yBE20lxeY1eTc/VRwdOqNFiC9BZIf2UGGPUdAIUAADgKoRoGxWdq9Ga9Bxt\n",
              "OVjSHKCzQ/srMdaoqUF97TwdAACA4yJEb1PhuWqtScvVlq9LZG4K0DnG/loWa1RYIAEKAABwM4Ro\n",
              "K5nOVislLVdbs64EaMTIAUqMMSossI+dpwMAAHAehOgtyj9zUWuaArSpPxU5aoASYoyaPJwABQAA\n",
              "aC1C9CbymgL0428FaPTogUqIMWriMD+7zgYAAODMCNEb+HB/sX6y+XBzgMY0BeidBCgAAECbEaI3\n",
              "EB7aX93c3JrfAzo+wNfeIwEAALgMt9ZsnJCQoKCgIBkMBmVlZV21fuPGjTIYDNq6des197948aLi\n",
              "4uLUv39/+fn53ca4ncvfr4d2vRClN+ZPIUIBAADaWatCdN68ecrMzFRgYOBV60wmkzZs2KAZM2Zc\n",
              "d38PDw/95Cc/0fbt21s/qZ0M9vWy9wgAAAAuqVUhGhERoYCAgKuWWywWLViwQCkpKfL09Lzu/p6e\n",
              "noqOjnaKq6EAAADoWO3yHtGkpCSFh4crLCysPQ7XQl1dnerq6losM5vN7f48AAAA6FytuiJ6LdnZ\n",
              "2dq8ebN+8YtftMc8V1m1apV8fX1bPPbt29chzwUAAIDO0+YQzcjIkMlkktFoVFBQkPbu3auFCxdq\n",
              "3bp17TGfXnzxRVVWVrZ4TJs2rV2ODQAAAPtp8635+Ph4xcfHN38dGRmpZcuWae7cuW09tCTb+0r/\n",
              "/X2n7u7u7XJsAAAA2E+rroguWrRIAQEBOnHihOLi4hQaGnrTfVauXKn169c3fz1hwgTNnDlTVVVV\n",
              "CggI0BNPPNH6qQEAAOD0DFar1WrvIVpr+fLlSkpKsvcYAAAAaIM2v0cUAAAAuB2EKAAAAOyCEAUA\n",
              "AIBdEKIAAACwC6f8ZaXvf//7CgoK6pTnMpvN2rdvn6ZNm8afjXJSvIbOjdfP+fEaOj9eQ+dmr9cv\n",
              "MDBQiYmJN9zGKUO0M1VVVcnX11eVlZXq3bu3vcfBbeA1dG68fs6P19D58Ro6N0d+/bg1DwAAALsg\n",
              "RAEAAGAXhCgAAADsghC9CU9PT/33f//3VZ93D+fBa+jceP2cH6+h8+M1dG6O/Prxy0oAAACwC66I\n",
              "AgAAwC4IUQAAANgFIQoAAAC7cOkQ/fjjjzVmzBhNnDhRR44c6dDnevvttzV37twOfQ4AAABX0s3e\n",
              "A3Sk9evXa+XKlfrhD39o71EAAADwb1z2imhCQoIyMjL0s5/9TLNmzdJXX32l6OhoTZkyRZMmTdKH\n",
              "H34oSTKZTPLz89NLL72kyZMny2g0avfu3fqP//gPTZw4UePGjVN2drYkqbS0VFFRUQoLC9PYsWO1\n",
              "dOlSWSyWaz7/u+++q+nTp2vy5MmKiIjQoUOHOu3cAQAAnIHLhujq1as1ZcoU/f73v9enn36qhQsX\n",
              "atOmTdq/f78+//xzrVixQiUlJZKkyspKhYWF6eDBg/rpT3+quLg4PfDAA8rKytL8+fP18ssvS5L8\n",
              "/Pz0ySef6MCBAzp8+LBMJpM++OCDq5579+7dev/997Vr1y4dPHhQv/rVr/TYY4916vkDAAA4Ope+\n",
              "NX/ZF198ofz8fN19990tlh87dkzBwcHy8vJqfn/nlClT1KtXL0VFRUmSpk2bpk2bNkmSLBaLfvKT\n",
              "nygzM1NWq1WnT5/WuHHj9Oijj7Y47scff6xDhw5p+vTpzcvKy8t16dIl9ejRowPPFAAAwHl0iRC1\n",
              "Wq0aO3asvvjii6vWmUymFp804O7uLi8vrxZfNzY2SpKSkpJ0+vRpffnll/Ly8tLy5ctVW1t7zeeb\n",
              "P3++fv3rX3fA2QAAALgGl701/22zZs1SQUGBtm/f3rwsKytL9fX1rTrO+fPnNXjwYHl5eam0tLT5\n",
              "fab/7oEHHtB7772noqIiSbYrqfv377/9EwAAAHBBXeKKaJ8+fbRt2zb953/+p1asWKGGhgYNHz5c\n",
              "W7dubdVxEhMTNW/ePI0dO1b+/v6KjY295nZz5szRb3/7Wz344INqbGxUfX297r33Xk2ZMqUdzgYA\n",
              "AMA18FnzAAAAsIsucWseAAAAjocQBQAAgF0QogDQwbZs2aKwsDBNnDhRo0ePVnR09HU/DAMAuhLe\n",
              "IwoAHejUqVMaP368Dhw4oMDAQEnSwYMHNWnSJBkMBjtPBwD2xRVRAOhAZWVlcnd3V9++fZuXTZ48\n",
              "WQaDQTk5Obr33ns1depUTZgwQWvWrJEkbdq0SVOmTFFdXZ2sVqvuv/9+/epXv7LXKQBAh+GKKAB0\n",
              "IIvFooceekjp6em66667NGvWLD322GMaPHiwpk+frvfee0+jR49WTU2NZsyYoTfffFNTp07VokWL\n",
              "5OHhocDAQKWlpenTTz/lCioAl0OIAkAn+Oabb7Rz5079/e9/144dO7Rr1y5Nnz5do0aNat6msrJS\n",
              "v/zlLzV//nzV1tZq+vTpOn/+vA4ePKj+/fvbcXoA6BiEKAB0su9973uaM2eO1q5dq5KSkmtuU1RU\n",
              "pNmzZ8tisWjHjh0KDQ3t5CkBoOPxHlEA6EAlJSXavXt389fnz59XQUGBxo0bp969e2vjxo3N63Jz\n",
              "c1VeXq7GxkY9+uij+t///V8lJSXp4YcfVl1dnT3GB4AOxRVRAOhAhYWFWrhwoQoKCuTt7a3GxkY9\n",
              "9thj+tnPfqa8vDwtW7ZMhYWFMpvN6t+/v/74xz/q97//vc6dO9ccqc8995wsFovWrVtn57MBgPZF\n",
              "iAIAAMAuuDUPAAAAuyBEAQAAYBeEKAAAAOyCEAUAAIBdEKIAAACwC0IUAAAAdkGIAgAAwC4IUQAA\n",
              "ANgFIQoAAAC7IEQBAABgF4QoAAAA7OL/B4aIy2ZZ600WAAAAAElFTkSuQmCC\n",
              "\">\n",
              "      </div>\n",
              "      <script type=\"text/javascript\">\n",
              "        (() => {\n",
              "          const chartElement = document.getElementById(\"chart-a13ee0bb-1758-4679-805e-9f4d3cfc4780\");\n",
              "          async function getCodeForChartHandler(event) {\n",
              "            const chartCodeResponse =  await google.colab.kernel.invokeFunction(\n",
              "                'getCodeForChart', [\"chart-a13ee0bb-1758-4679-805e-9f4d3cfc4780\"], {});\n",
              "            const responseJson = chartCodeResponse.data['application/json'];\n",
              "            await google.colab.notebook.addCell(responseJson.code, 'code');\n",
              "          }\n",
              "          chartElement.onclick = getCodeForChartHandler;\n",
              "        })();\n",
              "      </script>\n",
              "      <style>\n",
              "        .colab-quickchart-chart-with-code  {\n",
              "            display: block;\n",
              "            float: left;\n",
              "            border: 1px solid transparent;\n",
              "        }\n",
              "\n",
              "        .colab-quickchart-chart-with-code:hover {\n",
              "            cursor: pointer;\n",
              "            border: 1px solid #aaa;\n",
              "        }\n",
              "      </style>"
            ]
          },
          "metadata": {}
        }
      ]
    },
    {
      "cell_type": "markdown",
      "source": [
        "## Filtros"
      ],
      "metadata": {
        "id": "XafsRA5lcB5L"
      }
    },
    {
      "cell_type": "code",
      "source": [
        "pddf.loc[pddf.Sex =='femele'].head()"
      ],
      "metadata": {
        "id": "trz4A0eScGgH",
        "outputId": "e124edec-888d-4b28-8bd2-732e5ef68e62",
        "colab": {
          "base_uri": "https://localhost:8080/",
          "height": 53
        }
      },
      "execution_count": 42,
      "outputs": [
        {
          "output_type": "execute_result",
          "data": {
            "text/plain": [
              "Empty DataFrame\n",
              "Columns: [PassengerId, Survived, Pclass, Name, Sex, Age, SibSp, Parch, Ticket, Fare, Cabin, Embarked]\n",
              "Index: []"
            ],
            "text/html": [
              "\n",
              "  <div id=\"df-65776ea4-4733-4f15-94cc-e743c120e039\" class=\"colab-df-container\">\n",
              "    <div>\n",
              "<style scoped>\n",
              "    .dataframe tbody tr th:only-of-type {\n",
              "        vertical-align: middle;\n",
              "    }\n",
              "\n",
              "    .dataframe tbody tr th {\n",
              "        vertical-align: top;\n",
              "    }\n",
              "\n",
              "    .dataframe thead th {\n",
              "        text-align: right;\n",
              "    }\n",
              "</style>\n",
              "<table border=\"1\" class=\"dataframe\">\n",
              "  <thead>\n",
              "    <tr style=\"text-align: right;\">\n",
              "      <th></th>\n",
              "      <th>PassengerId</th>\n",
              "      <th>Survived</th>\n",
              "      <th>Pclass</th>\n",
              "      <th>Name</th>\n",
              "      <th>Sex</th>\n",
              "      <th>Age</th>\n",
              "      <th>SibSp</th>\n",
              "      <th>Parch</th>\n",
              "      <th>Ticket</th>\n",
              "      <th>Fare</th>\n",
              "      <th>Cabin</th>\n",
              "      <th>Embarked</th>\n",
              "    </tr>\n",
              "  </thead>\n",
              "  <tbody>\n",
              "  </tbody>\n",
              "</table>\n",
              "</div>\n",
              "    <div class=\"colab-df-buttons\">\n",
              "\n",
              "  <div class=\"colab-df-container\">\n",
              "    <button class=\"colab-df-convert\" onclick=\"convertToInteractive('df-65776ea4-4733-4f15-94cc-e743c120e039')\"\n",
              "            title=\"Convert this dataframe to an interactive table.\"\n",
              "            style=\"display:none;\">\n",
              "\n",
              "  <svg xmlns=\"http://www.w3.org/2000/svg\" height=\"24px\" viewBox=\"0 -960 960 960\">\n",
              "    <path d=\"M120-120v-720h720v720H120Zm60-500h600v-160H180v160Zm220 220h160v-160H400v160Zm0 220h160v-160H400v160ZM180-400h160v-160H180v160Zm440 0h160v-160H620v160ZM180-180h160v-160H180v160Zm440 0h160v-160H620v160Z\"/>\n",
              "  </svg>\n",
              "    </button>\n",
              "\n",
              "  <style>\n",
              "    .colab-df-container {\n",
              "      display:flex;\n",
              "      gap: 12px;\n",
              "    }\n",
              "\n",
              "    .colab-df-convert {\n",
              "      background-color: #E8F0FE;\n",
              "      border: none;\n",
              "      border-radius: 50%;\n",
              "      cursor: pointer;\n",
              "      display: none;\n",
              "      fill: #1967D2;\n",
              "      height: 32px;\n",
              "      padding: 0 0 0 0;\n",
              "      width: 32px;\n",
              "    }\n",
              "\n",
              "    .colab-df-convert:hover {\n",
              "      background-color: #E2EBFA;\n",
              "      box-shadow: 0px 1px 2px rgba(60, 64, 67, 0.3), 0px 1px 3px 1px rgba(60, 64, 67, 0.15);\n",
              "      fill: #174EA6;\n",
              "    }\n",
              "\n",
              "    .colab-df-buttons div {\n",
              "      margin-bottom: 4px;\n",
              "    }\n",
              "\n",
              "    [theme=dark] .colab-df-convert {\n",
              "      background-color: #3B4455;\n",
              "      fill: #D2E3FC;\n",
              "    }\n",
              "\n",
              "    [theme=dark] .colab-df-convert:hover {\n",
              "      background-color: #434B5C;\n",
              "      box-shadow: 0px 1px 3px 1px rgba(0, 0, 0, 0.15);\n",
              "      filter: drop-shadow(0px 1px 2px rgba(0, 0, 0, 0.3));\n",
              "      fill: #FFFFFF;\n",
              "    }\n",
              "  </style>\n",
              "\n",
              "    <script>\n",
              "      const buttonEl =\n",
              "        document.querySelector('#df-65776ea4-4733-4f15-94cc-e743c120e039 button.colab-df-convert');\n",
              "      buttonEl.style.display =\n",
              "        google.colab.kernel.accessAllowed ? 'block' : 'none';\n",
              "\n",
              "      async function convertToInteractive(key) {\n",
              "        const element = document.querySelector('#df-65776ea4-4733-4f15-94cc-e743c120e039');\n",
              "        const dataTable =\n",
              "          await google.colab.kernel.invokeFunction('convertToInteractive',\n",
              "                                                    [key], {});\n",
              "        if (!dataTable) return;\n",
              "\n",
              "        const docLinkHtml = 'Like what you see? Visit the ' +\n",
              "          '<a target=\"_blank\" href=https://colab.research.google.com/notebooks/data_table.ipynb>data table notebook</a>'\n",
              "          + ' to learn more about interactive tables.';\n",
              "        element.innerHTML = '';\n",
              "        dataTable['output_type'] = 'display_data';\n",
              "        await google.colab.output.renderOutput(dataTable, element);\n",
              "        const docLink = document.createElement('div');\n",
              "        docLink.innerHTML = docLinkHtml;\n",
              "        element.appendChild(docLink);\n",
              "      }\n",
              "    </script>\n",
              "  </div>\n",
              "\n",
              "\n",
              "    </div>\n",
              "  </div>\n"
            ],
            "application/vnd.google.colaboratory.intrinsic+json": {
              "type": "dataframe",
              "repr_error": "Out of range float values are not JSON compliant: nan"
            }
          },
          "metadata": {},
          "execution_count": 42
        }
      ]
    },
    {
      "cell_type": "code",
      "source": [
        "# sentencias selectivas\n",
        "pddf.Age <= 14"
      ],
      "metadata": {
        "id": "GqWQuddfcVGD",
        "outputId": "0da894d0-77e7-425e-b130-be1546d48b93",
        "colab": {
          "base_uri": "https://localhost:8080/"
        }
      },
      "execution_count": 43,
      "outputs": [
        {
          "output_type": "execute_result",
          "data": {
            "text/plain": [
              "0      False\n",
              "1      False\n",
              "2      False\n",
              "3      False\n",
              "4      False\n",
              "       ...  \n",
              "886    False\n",
              "887    False\n",
              "888    False\n",
              "889    False\n",
              "890    False\n",
              "Name: Age, Length: 891, dtype: bool"
            ]
          },
          "metadata": {},
          "execution_count": 43
        }
      ]
    },
    {
      "cell_type": "code",
      "source": [
        "pddf.loc[pddf.Age <= 14].head()"
      ],
      "metadata": {
        "id": "PpAJGTmmcmi_",
        "outputId": "d880a33e-30e4-4739-f8ef-8cde1529e70c",
        "colab": {
          "base_uri": "https://localhost:8080/",
          "height": 206
        }
      },
      "execution_count": 44,
      "outputs": [
        {
          "output_type": "execute_result",
          "data": {
            "text/plain": [
              "    PassengerId  Survived  Pclass                                  Name  \\\n",
              "7             8         0       3        Palsson, Master. Gosta Leonard   \n",
              "9            10         1       2   Nasser, Mrs. Nicholas (Adele Achem)   \n",
              "10           11         1       3       Sandstrom, Miss. Marguerite Rut   \n",
              "14           15         0       3  Vestrom, Miss. Hulda Amanda Adolfina   \n",
              "16           17         0       3                  Rice, Master. Eugene   \n",
              "\n",
              "       Sex   Age  SibSp  Parch   Ticket     Fare Cabin Embarked  \n",
              "7     male   2.0      3      1   349909  21.0750   NaN        S  \n",
              "9   female  14.0      1      0   237736  30.0708   NaN        C  \n",
              "10  female   4.0      1      1  PP 9549  16.7000    G6        S  \n",
              "14  female  14.0      0      0   350406   7.8542   NaN        S  \n",
              "16    male   2.0      4      1   382652  29.1250   NaN        Q  "
            ],
            "text/html": [
              "\n",
              "  <div id=\"df-0c624822-cf88-45f0-9cfb-8c7a07bf333d\" class=\"colab-df-container\">\n",
              "    <div>\n",
              "<style scoped>\n",
              "    .dataframe tbody tr th:only-of-type {\n",
              "        vertical-align: middle;\n",
              "    }\n",
              "\n",
              "    .dataframe tbody tr th {\n",
              "        vertical-align: top;\n",
              "    }\n",
              "\n",
              "    .dataframe thead th {\n",
              "        text-align: right;\n",
              "    }\n",
              "</style>\n",
              "<table border=\"1\" class=\"dataframe\">\n",
              "  <thead>\n",
              "    <tr style=\"text-align: right;\">\n",
              "      <th></th>\n",
              "      <th>PassengerId</th>\n",
              "      <th>Survived</th>\n",
              "      <th>Pclass</th>\n",
              "      <th>Name</th>\n",
              "      <th>Sex</th>\n",
              "      <th>Age</th>\n",
              "      <th>SibSp</th>\n",
              "      <th>Parch</th>\n",
              "      <th>Ticket</th>\n",
              "      <th>Fare</th>\n",
              "      <th>Cabin</th>\n",
              "      <th>Embarked</th>\n",
              "    </tr>\n",
              "  </thead>\n",
              "  <tbody>\n",
              "    <tr>\n",
              "      <th>7</th>\n",
              "      <td>8</td>\n",
              "      <td>0</td>\n",
              "      <td>3</td>\n",
              "      <td>Palsson, Master. Gosta Leonard</td>\n",
              "      <td>male</td>\n",
              "      <td>2.0</td>\n",
              "      <td>3</td>\n",
              "      <td>1</td>\n",
              "      <td>349909</td>\n",
              "      <td>21.0750</td>\n",
              "      <td>NaN</td>\n",
              "      <td>S</td>\n",
              "    </tr>\n",
              "    <tr>\n",
              "      <th>9</th>\n",
              "      <td>10</td>\n",
              "      <td>1</td>\n",
              "      <td>2</td>\n",
              "      <td>Nasser, Mrs. Nicholas (Adele Achem)</td>\n",
              "      <td>female</td>\n",
              "      <td>14.0</td>\n",
              "      <td>1</td>\n",
              "      <td>0</td>\n",
              "      <td>237736</td>\n",
              "      <td>30.0708</td>\n",
              "      <td>NaN</td>\n",
              "      <td>C</td>\n",
              "    </tr>\n",
              "    <tr>\n",
              "      <th>10</th>\n",
              "      <td>11</td>\n",
              "      <td>1</td>\n",
              "      <td>3</td>\n",
              "      <td>Sandstrom, Miss. Marguerite Rut</td>\n",
              "      <td>female</td>\n",
              "      <td>4.0</td>\n",
              "      <td>1</td>\n",
              "      <td>1</td>\n",
              "      <td>PP 9549</td>\n",
              "      <td>16.7000</td>\n",
              "      <td>G6</td>\n",
              "      <td>S</td>\n",
              "    </tr>\n",
              "    <tr>\n",
              "      <th>14</th>\n",
              "      <td>15</td>\n",
              "      <td>0</td>\n",
              "      <td>3</td>\n",
              "      <td>Vestrom, Miss. Hulda Amanda Adolfina</td>\n",
              "      <td>female</td>\n",
              "      <td>14.0</td>\n",
              "      <td>0</td>\n",
              "      <td>0</td>\n",
              "      <td>350406</td>\n",
              "      <td>7.8542</td>\n",
              "      <td>NaN</td>\n",
              "      <td>S</td>\n",
              "    </tr>\n",
              "    <tr>\n",
              "      <th>16</th>\n",
              "      <td>17</td>\n",
              "      <td>0</td>\n",
              "      <td>3</td>\n",
              "      <td>Rice, Master. Eugene</td>\n",
              "      <td>male</td>\n",
              "      <td>2.0</td>\n",
              "      <td>4</td>\n",
              "      <td>1</td>\n",
              "      <td>382652</td>\n",
              "      <td>29.1250</td>\n",
              "      <td>NaN</td>\n",
              "      <td>Q</td>\n",
              "    </tr>\n",
              "  </tbody>\n",
              "</table>\n",
              "</div>\n",
              "    <div class=\"colab-df-buttons\">\n",
              "\n",
              "  <div class=\"colab-df-container\">\n",
              "    <button class=\"colab-df-convert\" onclick=\"convertToInteractive('df-0c624822-cf88-45f0-9cfb-8c7a07bf333d')\"\n",
              "            title=\"Convert this dataframe to an interactive table.\"\n",
              "            style=\"display:none;\">\n",
              "\n",
              "  <svg xmlns=\"http://www.w3.org/2000/svg\" height=\"24px\" viewBox=\"0 -960 960 960\">\n",
              "    <path d=\"M120-120v-720h720v720H120Zm60-500h600v-160H180v160Zm220 220h160v-160H400v160Zm0 220h160v-160H400v160ZM180-400h160v-160H180v160Zm440 0h160v-160H620v160ZM180-180h160v-160H180v160Zm440 0h160v-160H620v160Z\"/>\n",
              "  </svg>\n",
              "    </button>\n",
              "\n",
              "  <style>\n",
              "    .colab-df-container {\n",
              "      display:flex;\n",
              "      gap: 12px;\n",
              "    }\n",
              "\n",
              "    .colab-df-convert {\n",
              "      background-color: #E8F0FE;\n",
              "      border: none;\n",
              "      border-radius: 50%;\n",
              "      cursor: pointer;\n",
              "      display: none;\n",
              "      fill: #1967D2;\n",
              "      height: 32px;\n",
              "      padding: 0 0 0 0;\n",
              "      width: 32px;\n",
              "    }\n",
              "\n",
              "    .colab-df-convert:hover {\n",
              "      background-color: #E2EBFA;\n",
              "      box-shadow: 0px 1px 2px rgba(60, 64, 67, 0.3), 0px 1px 3px 1px rgba(60, 64, 67, 0.15);\n",
              "      fill: #174EA6;\n",
              "    }\n",
              "\n",
              "    .colab-df-buttons div {\n",
              "      margin-bottom: 4px;\n",
              "    }\n",
              "\n",
              "    [theme=dark] .colab-df-convert {\n",
              "      background-color: #3B4455;\n",
              "      fill: #D2E3FC;\n",
              "    }\n",
              "\n",
              "    [theme=dark] .colab-df-convert:hover {\n",
              "      background-color: #434B5C;\n",
              "      box-shadow: 0px 1px 3px 1px rgba(0, 0, 0, 0.15);\n",
              "      filter: drop-shadow(0px 1px 2px rgba(0, 0, 0, 0.3));\n",
              "      fill: #FFFFFF;\n",
              "    }\n",
              "  </style>\n",
              "\n",
              "    <script>\n",
              "      const buttonEl =\n",
              "        document.querySelector('#df-0c624822-cf88-45f0-9cfb-8c7a07bf333d button.colab-df-convert');\n",
              "      buttonEl.style.display =\n",
              "        google.colab.kernel.accessAllowed ? 'block' : 'none';\n",
              "\n",
              "      async function convertToInteractive(key) {\n",
              "        const element = document.querySelector('#df-0c624822-cf88-45f0-9cfb-8c7a07bf333d');\n",
              "        const dataTable =\n",
              "          await google.colab.kernel.invokeFunction('convertToInteractive',\n",
              "                                                    [key], {});\n",
              "        if (!dataTable) return;\n",
              "\n",
              "        const docLinkHtml = 'Like what you see? Visit the ' +\n",
              "          '<a target=\"_blank\" href=https://colab.research.google.com/notebooks/data_table.ipynb>data table notebook</a>'\n",
              "          + ' to learn more about interactive tables.';\n",
              "        element.innerHTML = '';\n",
              "        dataTable['output_type'] = 'display_data';\n",
              "        await google.colab.output.renderOutput(dataTable, element);\n",
              "        const docLink = document.createElement('div');\n",
              "        docLink.innerHTML = docLinkHtml;\n",
              "        element.appendChild(docLink);\n",
              "      }\n",
              "    </script>\n",
              "  </div>\n",
              "\n",
              "\n",
              "<div id=\"df-6825bec9-6850-4081-8329-d2c6378fd925\">\n",
              "  <button class=\"colab-df-quickchart\" onclick=\"quickchart('df-6825bec9-6850-4081-8329-d2c6378fd925')\"\n",
              "            title=\"Suggest charts\"\n",
              "            style=\"display:none;\">\n",
              "\n",
              "<svg xmlns=\"http://www.w3.org/2000/svg\" height=\"24px\"viewBox=\"0 0 24 24\"\n",
              "     width=\"24px\">\n",
              "    <g>\n",
              "        <path d=\"M19 3H5c-1.1 0-2 .9-2 2v14c0 1.1.9 2 2 2h14c1.1 0 2-.9 2-2V5c0-1.1-.9-2-2-2zM9 17H7v-7h2v7zm4 0h-2V7h2v10zm4 0h-2v-4h2v4z\"/>\n",
              "    </g>\n",
              "</svg>\n",
              "  </button>\n",
              "\n",
              "<style>\n",
              "  .colab-df-quickchart {\n",
              "      --bg-color: #E8F0FE;\n",
              "      --fill-color: #1967D2;\n",
              "      --hover-bg-color: #E2EBFA;\n",
              "      --hover-fill-color: #174EA6;\n",
              "      --disabled-fill-color: #AAA;\n",
              "      --disabled-bg-color: #DDD;\n",
              "  }\n",
              "\n",
              "  [theme=dark] .colab-df-quickchart {\n",
              "      --bg-color: #3B4455;\n",
              "      --fill-color: #D2E3FC;\n",
              "      --hover-bg-color: #434B5C;\n",
              "      --hover-fill-color: #FFFFFF;\n",
              "      --disabled-bg-color: #3B4455;\n",
              "      --disabled-fill-color: #666;\n",
              "  }\n",
              "\n",
              "  .colab-df-quickchart {\n",
              "    background-color: var(--bg-color);\n",
              "    border: none;\n",
              "    border-radius: 50%;\n",
              "    cursor: pointer;\n",
              "    display: none;\n",
              "    fill: var(--fill-color);\n",
              "    height: 32px;\n",
              "    padding: 0;\n",
              "    width: 32px;\n",
              "  }\n",
              "\n",
              "  .colab-df-quickchart:hover {\n",
              "    background-color: var(--hover-bg-color);\n",
              "    box-shadow: 0 1px 2px rgba(60, 64, 67, 0.3), 0 1px 3px 1px rgba(60, 64, 67, 0.15);\n",
              "    fill: var(--button-hover-fill-color);\n",
              "  }\n",
              "\n",
              "  .colab-df-quickchart-complete:disabled,\n",
              "  .colab-df-quickchart-complete:disabled:hover {\n",
              "    background-color: var(--disabled-bg-color);\n",
              "    fill: var(--disabled-fill-color);\n",
              "    box-shadow: none;\n",
              "  }\n",
              "\n",
              "  .colab-df-spinner {\n",
              "    border: 2px solid var(--fill-color);\n",
              "    border-color: transparent;\n",
              "    border-bottom-color: var(--fill-color);\n",
              "    animation:\n",
              "      spin 1s steps(1) infinite;\n",
              "  }\n",
              "\n",
              "  @keyframes spin {\n",
              "    0% {\n",
              "      border-color: transparent;\n",
              "      border-bottom-color: var(--fill-color);\n",
              "      border-left-color: var(--fill-color);\n",
              "    }\n",
              "    20% {\n",
              "      border-color: transparent;\n",
              "      border-left-color: var(--fill-color);\n",
              "      border-top-color: var(--fill-color);\n",
              "    }\n",
              "    30% {\n",
              "      border-color: transparent;\n",
              "      border-left-color: var(--fill-color);\n",
              "      border-top-color: var(--fill-color);\n",
              "      border-right-color: var(--fill-color);\n",
              "    }\n",
              "    40% {\n",
              "      border-color: transparent;\n",
              "      border-right-color: var(--fill-color);\n",
              "      border-top-color: var(--fill-color);\n",
              "    }\n",
              "    60% {\n",
              "      border-color: transparent;\n",
              "      border-right-color: var(--fill-color);\n",
              "    }\n",
              "    80% {\n",
              "      border-color: transparent;\n",
              "      border-right-color: var(--fill-color);\n",
              "      border-bottom-color: var(--fill-color);\n",
              "    }\n",
              "    90% {\n",
              "      border-color: transparent;\n",
              "      border-bottom-color: var(--fill-color);\n",
              "    }\n",
              "  }\n",
              "</style>\n",
              "\n",
              "  <script>\n",
              "    async function quickchart(key) {\n",
              "      const quickchartButtonEl =\n",
              "        document.querySelector('#' + key + ' button');\n",
              "      quickchartButtonEl.disabled = true;  // To prevent multiple clicks.\n",
              "      quickchartButtonEl.classList.add('colab-df-spinner');\n",
              "      try {\n",
              "        const charts = await google.colab.kernel.invokeFunction(\n",
              "            'suggestCharts', [key], {});\n",
              "      } catch (error) {\n",
              "        console.error('Error during call to suggestCharts:', error);\n",
              "      }\n",
              "      quickchartButtonEl.classList.remove('colab-df-spinner');\n",
              "      quickchartButtonEl.classList.add('colab-df-quickchart-complete');\n",
              "    }\n",
              "    (() => {\n",
              "      let quickchartButtonEl =\n",
              "        document.querySelector('#df-6825bec9-6850-4081-8329-d2c6378fd925 button');\n",
              "      quickchartButtonEl.style.display =\n",
              "        google.colab.kernel.accessAllowed ? 'block' : 'none';\n",
              "    })();\n",
              "  </script>\n",
              "</div>\n",
              "\n",
              "    </div>\n",
              "  </div>\n"
            ],
            "application/vnd.google.colaboratory.intrinsic+json": {
              "type": "dataframe",
              "summary": "{\n  \"name\": \"pddf\",\n  \"rows\": 5,\n  \"fields\": [\n    {\n      \"column\": \"PassengerId\",\n      \"properties\": {\n        \"dtype\": \"number\",\n        \"std\": 3,\n        \"min\": 8,\n        \"max\": 17,\n        \"num_unique_values\": 5,\n        \"samples\": [\n          10,\n          17,\n          11\n        ],\n        \"semantic_type\": \"\",\n        \"description\": \"\"\n      }\n    },\n    {\n      \"column\": \"Survived\",\n      \"properties\": {\n        \"dtype\": \"number\",\n        \"std\": 0,\n        \"min\": 0,\n        \"max\": 1,\n        \"num_unique_values\": 2,\n        \"samples\": [\n          1,\n          0\n        ],\n        \"semantic_type\": \"\",\n        \"description\": \"\"\n      }\n    },\n    {\n      \"column\": \"Pclass\",\n      \"properties\": {\n        \"dtype\": \"number\",\n        \"std\": 0,\n        \"min\": 2,\n        \"max\": 3,\n        \"num_unique_values\": 2,\n        \"samples\": [\n          2,\n          3\n        ],\n        \"semantic_type\": \"\",\n        \"description\": \"\"\n      }\n    },\n    {\n      \"column\": \"Name\",\n      \"properties\": {\n        \"dtype\": \"string\",\n        \"num_unique_values\": 5,\n        \"samples\": [\n          \"Nasser, Mrs. Nicholas (Adele Achem)\",\n          \"Rice, Master. Eugene\"\n        ],\n        \"semantic_type\": \"\",\n        \"description\": \"\"\n      }\n    },\n    {\n      \"column\": \"Sex\",\n      \"properties\": {\n        \"dtype\": \"category\",\n        \"num_unique_values\": 2,\n        \"samples\": [\n          \"female\",\n          \"male\"\n        ],\n        \"semantic_type\": \"\",\n        \"description\": \"\"\n      }\n    },\n    {\n      \"column\": \"Age\",\n      \"properties\": {\n        \"dtype\": \"number\",\n        \"std\": 6.260990336999411,\n        \"min\": 2.0,\n        \"max\": 14.0,\n        \"num_unique_values\": 3,\n        \"samples\": [\n          2.0,\n          14.0\n        ],\n        \"semantic_type\": \"\",\n        \"description\": \"\"\n      }\n    },\n    {\n      \"column\": \"SibSp\",\n      \"properties\": {\n        \"dtype\": \"number\",\n        \"std\": 1,\n        \"min\": 0,\n        \"max\": 4,\n        \"num_unique_values\": 4,\n        \"samples\": [\n          1,\n          4\n        ],\n        \"semantic_type\": \"\",\n        \"description\": \"\"\n      }\n    },\n    {\n      \"column\": \"Parch\",\n      \"properties\": {\n        \"dtype\": \"number\",\n        \"std\": 0,\n        \"min\": 0,\n        \"max\": 1,\n        \"num_unique_values\": 2,\n        \"samples\": [\n          0,\n          1\n        ],\n        \"semantic_type\": \"\",\n        \"description\": \"\"\n      }\n    },\n    {\n      \"column\": \"Ticket\",\n      \"properties\": {\n        \"dtype\": \"string\",\n        \"num_unique_values\": 5,\n        \"samples\": [\n          \"237736\",\n          \"382652\"\n        ],\n        \"semantic_type\": \"\",\n        \"description\": \"\"\n      }\n    },\n    {\n      \"column\": \"Fare\",\n      \"properties\": {\n        \"dtype\": \"number\",\n        \"std\": 9.21407341082108,\n        \"min\": 7.8542,\n        \"max\": 30.0708,\n        \"num_unique_values\": 5,\n        \"samples\": [\n          30.0708,\n          29.125\n        ],\n        \"semantic_type\": \"\",\n        \"description\": \"\"\n      }\n    },\n    {\n      \"column\": \"Cabin\",\n      \"properties\": {\n        \"dtype\": \"category\",\n        \"num_unique_values\": 1,\n        \"samples\": [\n          \"G6\"\n        ],\n        \"semantic_type\": \"\",\n        \"description\": \"\"\n      }\n    },\n    {\n      \"column\": \"Embarked\",\n      \"properties\": {\n        \"dtype\": \"string\",\n        \"num_unique_values\": 3,\n        \"samples\": [\n          \"S\"\n        ],\n        \"semantic_type\": \"\",\n        \"description\": \"\"\n      }\n    }\n  ]\n}"
            }
          },
          "metadata": {},
          "execution_count": 44
        }
      ]
    },
    {
      "cell_type": "code",
      "source": [
        "pddf.loc[pddf.Sex == 'female'].head()"
      ],
      "metadata": {
        "id": "PXe6cDbmc0yh",
        "outputId": "d6971f04-3d7b-4082-a3b2-b2503afb8541",
        "colab": {
          "base_uri": "https://localhost:8080/",
          "height": 258
        }
      },
      "execution_count": 45,
      "outputs": [
        {
          "output_type": "execute_result",
          "data": {
            "text/plain": [
              "   PassengerId  Survived  Pclass  \\\n",
              "1            2         1       1   \n",
              "2            3         1       3   \n",
              "3            4         1       1   \n",
              "8            9         1       3   \n",
              "9           10         1       2   \n",
              "\n",
              "                                                Name     Sex   Age  SibSp  \\\n",
              "1  Cumings, Mrs. John Bradley (Florence Briggs Th...  female  38.0      1   \n",
              "2                             Heikkinen, Miss. Laina  female  26.0      0   \n",
              "3       Futrelle, Mrs. Jacques Heath (Lily May Peel)  female  35.0      1   \n",
              "8  Johnson, Mrs. Oscar W (Elisabeth Vilhelmina Berg)  female  27.0      0   \n",
              "9                Nasser, Mrs. Nicholas (Adele Achem)  female  14.0      1   \n",
              "\n",
              "   Parch            Ticket     Fare Cabin Embarked  \n",
              "1      0          PC 17599  71.2833   C85        C  \n",
              "2      0  STON/O2. 3101282   7.9250   NaN        S  \n",
              "3      0            113803  53.1000  C123        S  \n",
              "8      2            347742  11.1333   NaN        S  \n",
              "9      0            237736  30.0708   NaN        C  "
            ],
            "text/html": [
              "\n",
              "  <div id=\"df-a93a8c17-b352-4a4a-a2cd-672a67f5ead9\" class=\"colab-df-container\">\n",
              "    <div>\n",
              "<style scoped>\n",
              "    .dataframe tbody tr th:only-of-type {\n",
              "        vertical-align: middle;\n",
              "    }\n",
              "\n",
              "    .dataframe tbody tr th {\n",
              "        vertical-align: top;\n",
              "    }\n",
              "\n",
              "    .dataframe thead th {\n",
              "        text-align: right;\n",
              "    }\n",
              "</style>\n",
              "<table border=\"1\" class=\"dataframe\">\n",
              "  <thead>\n",
              "    <tr style=\"text-align: right;\">\n",
              "      <th></th>\n",
              "      <th>PassengerId</th>\n",
              "      <th>Survived</th>\n",
              "      <th>Pclass</th>\n",
              "      <th>Name</th>\n",
              "      <th>Sex</th>\n",
              "      <th>Age</th>\n",
              "      <th>SibSp</th>\n",
              "      <th>Parch</th>\n",
              "      <th>Ticket</th>\n",
              "      <th>Fare</th>\n",
              "      <th>Cabin</th>\n",
              "      <th>Embarked</th>\n",
              "    </tr>\n",
              "  </thead>\n",
              "  <tbody>\n",
              "    <tr>\n",
              "      <th>1</th>\n",
              "      <td>2</td>\n",
              "      <td>1</td>\n",
              "      <td>1</td>\n",
              "      <td>Cumings, Mrs. John Bradley (Florence Briggs Th...</td>\n",
              "      <td>female</td>\n",
              "      <td>38.0</td>\n",
              "      <td>1</td>\n",
              "      <td>0</td>\n",
              "      <td>PC 17599</td>\n",
              "      <td>71.2833</td>\n",
              "      <td>C85</td>\n",
              "      <td>C</td>\n",
              "    </tr>\n",
              "    <tr>\n",
              "      <th>2</th>\n",
              "      <td>3</td>\n",
              "      <td>1</td>\n",
              "      <td>3</td>\n",
              "      <td>Heikkinen, Miss. Laina</td>\n",
              "      <td>female</td>\n",
              "      <td>26.0</td>\n",
              "      <td>0</td>\n",
              "      <td>0</td>\n",
              "      <td>STON/O2. 3101282</td>\n",
              "      <td>7.9250</td>\n",
              "      <td>NaN</td>\n",
              "      <td>S</td>\n",
              "    </tr>\n",
              "    <tr>\n",
              "      <th>3</th>\n",
              "      <td>4</td>\n",
              "      <td>1</td>\n",
              "      <td>1</td>\n",
              "      <td>Futrelle, Mrs. Jacques Heath (Lily May Peel)</td>\n",
              "      <td>female</td>\n",
              "      <td>35.0</td>\n",
              "      <td>1</td>\n",
              "      <td>0</td>\n",
              "      <td>113803</td>\n",
              "      <td>53.1000</td>\n",
              "      <td>C123</td>\n",
              "      <td>S</td>\n",
              "    </tr>\n",
              "    <tr>\n",
              "      <th>8</th>\n",
              "      <td>9</td>\n",
              "      <td>1</td>\n",
              "      <td>3</td>\n",
              "      <td>Johnson, Mrs. Oscar W (Elisabeth Vilhelmina Berg)</td>\n",
              "      <td>female</td>\n",
              "      <td>27.0</td>\n",
              "      <td>0</td>\n",
              "      <td>2</td>\n",
              "      <td>347742</td>\n",
              "      <td>11.1333</td>\n",
              "      <td>NaN</td>\n",
              "      <td>S</td>\n",
              "    </tr>\n",
              "    <tr>\n",
              "      <th>9</th>\n",
              "      <td>10</td>\n",
              "      <td>1</td>\n",
              "      <td>2</td>\n",
              "      <td>Nasser, Mrs. Nicholas (Adele Achem)</td>\n",
              "      <td>female</td>\n",
              "      <td>14.0</td>\n",
              "      <td>1</td>\n",
              "      <td>0</td>\n",
              "      <td>237736</td>\n",
              "      <td>30.0708</td>\n",
              "      <td>NaN</td>\n",
              "      <td>C</td>\n",
              "    </tr>\n",
              "  </tbody>\n",
              "</table>\n",
              "</div>\n",
              "    <div class=\"colab-df-buttons\">\n",
              "\n",
              "  <div class=\"colab-df-container\">\n",
              "    <button class=\"colab-df-convert\" onclick=\"convertToInteractive('df-a93a8c17-b352-4a4a-a2cd-672a67f5ead9')\"\n",
              "            title=\"Convert this dataframe to an interactive table.\"\n",
              "            style=\"display:none;\">\n",
              "\n",
              "  <svg xmlns=\"http://www.w3.org/2000/svg\" height=\"24px\" viewBox=\"0 -960 960 960\">\n",
              "    <path d=\"M120-120v-720h720v720H120Zm60-500h600v-160H180v160Zm220 220h160v-160H400v160Zm0 220h160v-160H400v160ZM180-400h160v-160H180v160Zm440 0h160v-160H620v160ZM180-180h160v-160H180v160Zm440 0h160v-160H620v160Z\"/>\n",
              "  </svg>\n",
              "    </button>\n",
              "\n",
              "  <style>\n",
              "    .colab-df-container {\n",
              "      display:flex;\n",
              "      gap: 12px;\n",
              "    }\n",
              "\n",
              "    .colab-df-convert {\n",
              "      background-color: #E8F0FE;\n",
              "      border: none;\n",
              "      border-radius: 50%;\n",
              "      cursor: pointer;\n",
              "      display: none;\n",
              "      fill: #1967D2;\n",
              "      height: 32px;\n",
              "      padding: 0 0 0 0;\n",
              "      width: 32px;\n",
              "    }\n",
              "\n",
              "    .colab-df-convert:hover {\n",
              "      background-color: #E2EBFA;\n",
              "      box-shadow: 0px 1px 2px rgba(60, 64, 67, 0.3), 0px 1px 3px 1px rgba(60, 64, 67, 0.15);\n",
              "      fill: #174EA6;\n",
              "    }\n",
              "\n",
              "    .colab-df-buttons div {\n",
              "      margin-bottom: 4px;\n",
              "    }\n",
              "\n",
              "    [theme=dark] .colab-df-convert {\n",
              "      background-color: #3B4455;\n",
              "      fill: #D2E3FC;\n",
              "    }\n",
              "\n",
              "    [theme=dark] .colab-df-convert:hover {\n",
              "      background-color: #434B5C;\n",
              "      box-shadow: 0px 1px 3px 1px rgba(0, 0, 0, 0.15);\n",
              "      filter: drop-shadow(0px 1px 2px rgba(0, 0, 0, 0.3));\n",
              "      fill: #FFFFFF;\n",
              "    }\n",
              "  </style>\n",
              "\n",
              "    <script>\n",
              "      const buttonEl =\n",
              "        document.querySelector('#df-a93a8c17-b352-4a4a-a2cd-672a67f5ead9 button.colab-df-convert');\n",
              "      buttonEl.style.display =\n",
              "        google.colab.kernel.accessAllowed ? 'block' : 'none';\n",
              "\n",
              "      async function convertToInteractive(key) {\n",
              "        const element = document.querySelector('#df-a93a8c17-b352-4a4a-a2cd-672a67f5ead9');\n",
              "        const dataTable =\n",
              "          await google.colab.kernel.invokeFunction('convertToInteractive',\n",
              "                                                    [key], {});\n",
              "        if (!dataTable) return;\n",
              "\n",
              "        const docLinkHtml = 'Like what you see? Visit the ' +\n",
              "          '<a target=\"_blank\" href=https://colab.research.google.com/notebooks/data_table.ipynb>data table notebook</a>'\n",
              "          + ' to learn more about interactive tables.';\n",
              "        element.innerHTML = '';\n",
              "        dataTable['output_type'] = 'display_data';\n",
              "        await google.colab.output.renderOutput(dataTable, element);\n",
              "        const docLink = document.createElement('div');\n",
              "        docLink.innerHTML = docLinkHtml;\n",
              "        element.appendChild(docLink);\n",
              "      }\n",
              "    </script>\n",
              "  </div>\n",
              "\n",
              "\n",
              "<div id=\"df-59d36b27-ecdb-4039-b1be-70bb7e7a1279\">\n",
              "  <button class=\"colab-df-quickchart\" onclick=\"quickchart('df-59d36b27-ecdb-4039-b1be-70bb7e7a1279')\"\n",
              "            title=\"Suggest charts\"\n",
              "            style=\"display:none;\">\n",
              "\n",
              "<svg xmlns=\"http://www.w3.org/2000/svg\" height=\"24px\"viewBox=\"0 0 24 24\"\n",
              "     width=\"24px\">\n",
              "    <g>\n",
              "        <path d=\"M19 3H5c-1.1 0-2 .9-2 2v14c0 1.1.9 2 2 2h14c1.1 0 2-.9 2-2V5c0-1.1-.9-2-2-2zM9 17H7v-7h2v7zm4 0h-2V7h2v10zm4 0h-2v-4h2v4z\"/>\n",
              "    </g>\n",
              "</svg>\n",
              "  </button>\n",
              "\n",
              "<style>\n",
              "  .colab-df-quickchart {\n",
              "      --bg-color: #E8F0FE;\n",
              "      --fill-color: #1967D2;\n",
              "      --hover-bg-color: #E2EBFA;\n",
              "      --hover-fill-color: #174EA6;\n",
              "      --disabled-fill-color: #AAA;\n",
              "      --disabled-bg-color: #DDD;\n",
              "  }\n",
              "\n",
              "  [theme=dark] .colab-df-quickchart {\n",
              "      --bg-color: #3B4455;\n",
              "      --fill-color: #D2E3FC;\n",
              "      --hover-bg-color: #434B5C;\n",
              "      --hover-fill-color: #FFFFFF;\n",
              "      --disabled-bg-color: #3B4455;\n",
              "      --disabled-fill-color: #666;\n",
              "  }\n",
              "\n",
              "  .colab-df-quickchart {\n",
              "    background-color: var(--bg-color);\n",
              "    border: none;\n",
              "    border-radius: 50%;\n",
              "    cursor: pointer;\n",
              "    display: none;\n",
              "    fill: var(--fill-color);\n",
              "    height: 32px;\n",
              "    padding: 0;\n",
              "    width: 32px;\n",
              "  }\n",
              "\n",
              "  .colab-df-quickchart:hover {\n",
              "    background-color: var(--hover-bg-color);\n",
              "    box-shadow: 0 1px 2px rgba(60, 64, 67, 0.3), 0 1px 3px 1px rgba(60, 64, 67, 0.15);\n",
              "    fill: var(--button-hover-fill-color);\n",
              "  }\n",
              "\n",
              "  .colab-df-quickchart-complete:disabled,\n",
              "  .colab-df-quickchart-complete:disabled:hover {\n",
              "    background-color: var(--disabled-bg-color);\n",
              "    fill: var(--disabled-fill-color);\n",
              "    box-shadow: none;\n",
              "  }\n",
              "\n",
              "  .colab-df-spinner {\n",
              "    border: 2px solid var(--fill-color);\n",
              "    border-color: transparent;\n",
              "    border-bottom-color: var(--fill-color);\n",
              "    animation:\n",
              "      spin 1s steps(1) infinite;\n",
              "  }\n",
              "\n",
              "  @keyframes spin {\n",
              "    0% {\n",
              "      border-color: transparent;\n",
              "      border-bottom-color: var(--fill-color);\n",
              "      border-left-color: var(--fill-color);\n",
              "    }\n",
              "    20% {\n",
              "      border-color: transparent;\n",
              "      border-left-color: var(--fill-color);\n",
              "      border-top-color: var(--fill-color);\n",
              "    }\n",
              "    30% {\n",
              "      border-color: transparent;\n",
              "      border-left-color: var(--fill-color);\n",
              "      border-top-color: var(--fill-color);\n",
              "      border-right-color: var(--fill-color);\n",
              "    }\n",
              "    40% {\n",
              "      border-color: transparent;\n",
              "      border-right-color: var(--fill-color);\n",
              "      border-top-color: var(--fill-color);\n",
              "    }\n",
              "    60% {\n",
              "      border-color: transparent;\n",
              "      border-right-color: var(--fill-color);\n",
              "    }\n",
              "    80% {\n",
              "      border-color: transparent;\n",
              "      border-right-color: var(--fill-color);\n",
              "      border-bottom-color: var(--fill-color);\n",
              "    }\n",
              "    90% {\n",
              "      border-color: transparent;\n",
              "      border-bottom-color: var(--fill-color);\n",
              "    }\n",
              "  }\n",
              "</style>\n",
              "\n",
              "  <script>\n",
              "    async function quickchart(key) {\n",
              "      const quickchartButtonEl =\n",
              "        document.querySelector('#' + key + ' button');\n",
              "      quickchartButtonEl.disabled = true;  // To prevent multiple clicks.\n",
              "      quickchartButtonEl.classList.add('colab-df-spinner');\n",
              "      try {\n",
              "        const charts = await google.colab.kernel.invokeFunction(\n",
              "            'suggestCharts', [key], {});\n",
              "      } catch (error) {\n",
              "        console.error('Error during call to suggestCharts:', error);\n",
              "      }\n",
              "      quickchartButtonEl.classList.remove('colab-df-spinner');\n",
              "      quickchartButtonEl.classList.add('colab-df-quickchart-complete');\n",
              "    }\n",
              "    (() => {\n",
              "      let quickchartButtonEl =\n",
              "        document.querySelector('#df-59d36b27-ecdb-4039-b1be-70bb7e7a1279 button');\n",
              "      quickchartButtonEl.style.display =\n",
              "        google.colab.kernel.accessAllowed ? 'block' : 'none';\n",
              "    })();\n",
              "  </script>\n",
              "</div>\n",
              "\n",
              "    </div>\n",
              "  </div>\n"
            ],
            "application/vnd.google.colaboratory.intrinsic+json": {
              "type": "dataframe",
              "summary": "{\n  \"name\": \"pddf\",\n  \"rows\": 5,\n  \"fields\": [\n    {\n      \"column\": \"PassengerId\",\n      \"properties\": {\n        \"dtype\": \"number\",\n        \"std\": 3,\n        \"min\": 2,\n        \"max\": 10,\n        \"num_unique_values\": 5,\n        \"samples\": [\n          3,\n          10,\n          4\n        ],\n        \"semantic_type\": \"\",\n        \"description\": \"\"\n      }\n    },\n    {\n      \"column\": \"Survived\",\n      \"properties\": {\n        \"dtype\": \"number\",\n        \"std\": 0,\n        \"min\": 1,\n        \"max\": 1,\n        \"num_unique_values\": 1,\n        \"samples\": [\n          1\n        ],\n        \"semantic_type\": \"\",\n        \"description\": \"\"\n      }\n    },\n    {\n      \"column\": \"Pclass\",\n      \"properties\": {\n        \"dtype\": \"number\",\n        \"std\": 1,\n        \"min\": 1,\n        \"max\": 3,\n        \"num_unique_values\": 3,\n        \"samples\": [\n          1\n        ],\n        \"semantic_type\": \"\",\n        \"description\": \"\"\n      }\n    },\n    {\n      \"column\": \"Name\",\n      \"properties\": {\n        \"dtype\": \"string\",\n        \"num_unique_values\": 5,\n        \"samples\": [\n          \"Heikkinen, Miss. Laina\"\n        ],\n        \"semantic_type\": \"\",\n        \"description\": \"\"\n      }\n    },\n    {\n      \"column\": \"Sex\",\n      \"properties\": {\n        \"dtype\": \"category\",\n        \"num_unique_values\": 1,\n        \"samples\": [\n          \"female\"\n        ],\n        \"semantic_type\": \"\",\n        \"description\": \"\"\n      }\n    },\n    {\n      \"column\": \"Age\",\n      \"properties\": {\n        \"dtype\": \"number\",\n        \"std\": 9.354143466934854,\n        \"min\": 14.0,\n        \"max\": 38.0,\n        \"num_unique_values\": 5,\n        \"samples\": [\n          26.0\n        ],\n        \"semantic_type\": \"\",\n        \"description\": \"\"\n      }\n    },\n    {\n      \"column\": \"SibSp\",\n      \"properties\": {\n        \"dtype\": \"number\",\n        \"std\": 0,\n        \"min\": 0,\n        \"max\": 1,\n        \"num_unique_values\": 2,\n        \"samples\": [\n          0\n        ],\n        \"semantic_type\": \"\",\n        \"description\": \"\"\n      }\n    },\n    {\n      \"column\": \"Parch\",\n      \"properties\": {\n        \"dtype\": \"number\",\n        \"std\": 0,\n        \"min\": 0,\n        \"max\": 2,\n        \"num_unique_values\": 2,\n        \"samples\": [\n          2\n        ],\n        \"semantic_type\": \"\",\n        \"description\": \"\"\n      }\n    },\n    {\n      \"column\": \"Ticket\",\n      \"properties\": {\n        \"dtype\": \"string\",\n        \"num_unique_values\": 5,\n        \"samples\": [\n          \"STON/O2. 3101282\"\n        ],\n        \"semantic_type\": \"\",\n        \"description\": \"\"\n      }\n    },\n    {\n      \"column\": \"Fare\",\n      \"properties\": {\n        \"dtype\": \"number\",\n        \"std\": 27.25168469410653,\n        \"min\": 7.925,\n        \"max\": 71.2833,\n        \"num_unique_values\": 5,\n        \"samples\": [\n          7.925\n        ],\n        \"semantic_type\": \"\",\n        \"description\": \"\"\n      }\n    },\n    {\n      \"column\": \"Cabin\",\n      \"properties\": {\n        \"dtype\": \"category\",\n        \"num_unique_values\": 2,\n        \"samples\": [\n          \"C123\"\n        ],\n        \"semantic_type\": \"\",\n        \"description\": \"\"\n      }\n    },\n    {\n      \"column\": \"Embarked\",\n      \"properties\": {\n        \"dtype\": \"category\",\n        \"num_unique_values\": 2,\n        \"samples\": [\n          \"S\"\n        ],\n        \"semantic_type\": \"\",\n        \"description\": \"\"\n      }\n    }\n  ]\n}"
            }
          },
          "metadata": {},
          "execution_count": 45
        }
      ]
    },
    {
      "cell_type": "code",
      "source": [
        "pddf2 = pddf.loc[pddf.Age <= 14]"
      ],
      "metadata": {
        "id": "vnvjF7QPdif_"
      },
      "execution_count": null,
      "outputs": []
    },
    {
      "cell_type": "code",
      "source": [
        "pddf2.Survived.mean()"
      ],
      "metadata": {
        "id": "DcjPx-VMdsyL",
        "outputId": "41936525-7c44-4a21-a2a0-6d6a87f9681d",
        "colab": {
          "base_uri": "https://localhost:8080/"
        }
      },
      "execution_count": null,
      "outputs": [
        {
          "output_type": "execute_result",
          "data": {
            "text/plain": [
              "0.5844155844155844"
            ]
          },
          "metadata": {},
          "execution_count": 93
        }
      ]
    },
    {
      "cell_type": "code",
      "source": [],
      "metadata": {
        "id": "jh6oNLo7pPJL"
      },
      "execution_count": null,
      "outputs": []
    },
    {
      "cell_type": "markdown",
      "source": [
        "**ejercicio 2**\n",
        "\n",
        "Indique cual es la tasa de supervivencia de las mujeres de menos de 14 años y de más de 14 (inclusive)."
      ],
      "metadata": {
        "id": "67imBz4Ld8FT"
      }
    },
    {
      "cell_type": "code",
      "source": [
        "def rango edad"
      ],
      "metadata": {
        "id": "CjMs5fxBpUUc",
        "outputId": "e258129b-bdae-4b6a-8537-bbf971595696",
        "colab": {
          "base_uri": "https://localhost:8080/",
          "height": 206
        }
      },
      "execution_count": 47,
      "outputs": [
        {
          "output_type": "execute_result",
          "data": {
            "text/plain": [
              "    PassengerId  Survived  Pclass                                  Name  \\\n",
              "7             8         0       3        Palsson, Master. Gosta Leonard   \n",
              "9            10         1       2   Nasser, Mrs. Nicholas (Adele Achem)   \n",
              "10           11         1       3       Sandstrom, Miss. Marguerite Rut   \n",
              "14           15         0       3  Vestrom, Miss. Hulda Amanda Adolfina   \n",
              "16           17         0       3                  Rice, Master. Eugene   \n",
              "\n",
              "       Sex   Age  SibSp  Parch   Ticket     Fare Cabin Embarked  \n",
              "7     male   2.0      3      1   349909  21.0750   NaN        S  \n",
              "9   female  14.0      1      0   237736  30.0708   NaN        C  \n",
              "10  female   4.0      1      1  PP 9549  16.7000    G6        S  \n",
              "14  female  14.0      0      0   350406   7.8542   NaN        S  \n",
              "16    male   2.0      4      1   382652  29.1250   NaN        Q  "
            ],
            "text/html": [
              "\n",
              "  <div id=\"df-cc24ce3b-6beb-4db5-a619-20677c486985\" class=\"colab-df-container\">\n",
              "    <div>\n",
              "<style scoped>\n",
              "    .dataframe tbody tr th:only-of-type {\n",
              "        vertical-align: middle;\n",
              "    }\n",
              "\n",
              "    .dataframe tbody tr th {\n",
              "        vertical-align: top;\n",
              "    }\n",
              "\n",
              "    .dataframe thead th {\n",
              "        text-align: right;\n",
              "    }\n",
              "</style>\n",
              "<table border=\"1\" class=\"dataframe\">\n",
              "  <thead>\n",
              "    <tr style=\"text-align: right;\">\n",
              "      <th></th>\n",
              "      <th>PassengerId</th>\n",
              "      <th>Survived</th>\n",
              "      <th>Pclass</th>\n",
              "      <th>Name</th>\n",
              "      <th>Sex</th>\n",
              "      <th>Age</th>\n",
              "      <th>SibSp</th>\n",
              "      <th>Parch</th>\n",
              "      <th>Ticket</th>\n",
              "      <th>Fare</th>\n",
              "      <th>Cabin</th>\n",
              "      <th>Embarked</th>\n",
              "    </tr>\n",
              "  </thead>\n",
              "  <tbody>\n",
              "    <tr>\n",
              "      <th>7</th>\n",
              "      <td>8</td>\n",
              "      <td>0</td>\n",
              "      <td>3</td>\n",
              "      <td>Palsson, Master. Gosta Leonard</td>\n",
              "      <td>male</td>\n",
              "      <td>2.0</td>\n",
              "      <td>3</td>\n",
              "      <td>1</td>\n",
              "      <td>349909</td>\n",
              "      <td>21.0750</td>\n",
              "      <td>NaN</td>\n",
              "      <td>S</td>\n",
              "    </tr>\n",
              "    <tr>\n",
              "      <th>9</th>\n",
              "      <td>10</td>\n",
              "      <td>1</td>\n",
              "      <td>2</td>\n",
              "      <td>Nasser, Mrs. Nicholas (Adele Achem)</td>\n",
              "      <td>female</td>\n",
              "      <td>14.0</td>\n",
              "      <td>1</td>\n",
              "      <td>0</td>\n",
              "      <td>237736</td>\n",
              "      <td>30.0708</td>\n",
              "      <td>NaN</td>\n",
              "      <td>C</td>\n",
              "    </tr>\n",
              "    <tr>\n",
              "      <th>10</th>\n",
              "      <td>11</td>\n",
              "      <td>1</td>\n",
              "      <td>3</td>\n",
              "      <td>Sandstrom, Miss. Marguerite Rut</td>\n",
              "      <td>female</td>\n",
              "      <td>4.0</td>\n",
              "      <td>1</td>\n",
              "      <td>1</td>\n",
              "      <td>PP 9549</td>\n",
              "      <td>16.7000</td>\n",
              "      <td>G6</td>\n",
              "      <td>S</td>\n",
              "    </tr>\n",
              "    <tr>\n",
              "      <th>14</th>\n",
              "      <td>15</td>\n",
              "      <td>0</td>\n",
              "      <td>3</td>\n",
              "      <td>Vestrom, Miss. Hulda Amanda Adolfina</td>\n",
              "      <td>female</td>\n",
              "      <td>14.0</td>\n",
              "      <td>0</td>\n",
              "      <td>0</td>\n",
              "      <td>350406</td>\n",
              "      <td>7.8542</td>\n",
              "      <td>NaN</td>\n",
              "      <td>S</td>\n",
              "    </tr>\n",
              "    <tr>\n",
              "      <th>16</th>\n",
              "      <td>17</td>\n",
              "      <td>0</td>\n",
              "      <td>3</td>\n",
              "      <td>Rice, Master. Eugene</td>\n",
              "      <td>male</td>\n",
              "      <td>2.0</td>\n",
              "      <td>4</td>\n",
              "      <td>1</td>\n",
              "      <td>382652</td>\n",
              "      <td>29.1250</td>\n",
              "      <td>NaN</td>\n",
              "      <td>Q</td>\n",
              "    </tr>\n",
              "  </tbody>\n",
              "</table>\n",
              "</div>\n",
              "    <div class=\"colab-df-buttons\">\n",
              "\n",
              "  <div class=\"colab-df-container\">\n",
              "    <button class=\"colab-df-convert\" onclick=\"convertToInteractive('df-cc24ce3b-6beb-4db5-a619-20677c486985')\"\n",
              "            title=\"Convert this dataframe to an interactive table.\"\n",
              "            style=\"display:none;\">\n",
              "\n",
              "  <svg xmlns=\"http://www.w3.org/2000/svg\" height=\"24px\" viewBox=\"0 -960 960 960\">\n",
              "    <path d=\"M120-120v-720h720v720H120Zm60-500h600v-160H180v160Zm220 220h160v-160H400v160Zm0 220h160v-160H400v160ZM180-400h160v-160H180v160Zm440 0h160v-160H620v160ZM180-180h160v-160H180v160Zm440 0h160v-160H620v160Z\"/>\n",
              "  </svg>\n",
              "    </button>\n",
              "\n",
              "  <style>\n",
              "    .colab-df-container {\n",
              "      display:flex;\n",
              "      gap: 12px;\n",
              "    }\n",
              "\n",
              "    .colab-df-convert {\n",
              "      background-color: #E8F0FE;\n",
              "      border: none;\n",
              "      border-radius: 50%;\n",
              "      cursor: pointer;\n",
              "      display: none;\n",
              "      fill: #1967D2;\n",
              "      height: 32px;\n",
              "      padding: 0 0 0 0;\n",
              "      width: 32px;\n",
              "    }\n",
              "\n",
              "    .colab-df-convert:hover {\n",
              "      background-color: #E2EBFA;\n",
              "      box-shadow: 0px 1px 2px rgba(60, 64, 67, 0.3), 0px 1px 3px 1px rgba(60, 64, 67, 0.15);\n",
              "      fill: #174EA6;\n",
              "    }\n",
              "\n",
              "    .colab-df-buttons div {\n",
              "      margin-bottom: 4px;\n",
              "    }\n",
              "\n",
              "    [theme=dark] .colab-df-convert {\n",
              "      background-color: #3B4455;\n",
              "      fill: #D2E3FC;\n",
              "    }\n",
              "\n",
              "    [theme=dark] .colab-df-convert:hover {\n",
              "      background-color: #434B5C;\n",
              "      box-shadow: 0px 1px 3px 1px rgba(0, 0, 0, 0.15);\n",
              "      filter: drop-shadow(0px 1px 2px rgba(0, 0, 0, 0.3));\n",
              "      fill: #FFFFFF;\n",
              "    }\n",
              "  </style>\n",
              "\n",
              "    <script>\n",
              "      const buttonEl =\n",
              "        document.querySelector('#df-cc24ce3b-6beb-4db5-a619-20677c486985 button.colab-df-convert');\n",
              "      buttonEl.style.display =\n",
              "        google.colab.kernel.accessAllowed ? 'block' : 'none';\n",
              "\n",
              "      async function convertToInteractive(key) {\n",
              "        const element = document.querySelector('#df-cc24ce3b-6beb-4db5-a619-20677c486985');\n",
              "        const dataTable =\n",
              "          await google.colab.kernel.invokeFunction('convertToInteractive',\n",
              "                                                    [key], {});\n",
              "        if (!dataTable) return;\n",
              "\n",
              "        const docLinkHtml = 'Like what you see? Visit the ' +\n",
              "          '<a target=\"_blank\" href=https://colab.research.google.com/notebooks/data_table.ipynb>data table notebook</a>'\n",
              "          + ' to learn more about interactive tables.';\n",
              "        element.innerHTML = '';\n",
              "        dataTable['output_type'] = 'display_data';\n",
              "        await google.colab.output.renderOutput(dataTable, element);\n",
              "        const docLink = document.createElement('div');\n",
              "        docLink.innerHTML = docLinkHtml;\n",
              "        element.appendChild(docLink);\n",
              "      }\n",
              "    </script>\n",
              "  </div>\n",
              "\n",
              "\n",
              "<div id=\"df-56999d86-4848-4bf1-bea0-5af89b809faa\">\n",
              "  <button class=\"colab-df-quickchart\" onclick=\"quickchart('df-56999d86-4848-4bf1-bea0-5af89b809faa')\"\n",
              "            title=\"Suggest charts\"\n",
              "            style=\"display:none;\">\n",
              "\n",
              "<svg xmlns=\"http://www.w3.org/2000/svg\" height=\"24px\"viewBox=\"0 0 24 24\"\n",
              "     width=\"24px\">\n",
              "    <g>\n",
              "        <path d=\"M19 3H5c-1.1 0-2 .9-2 2v14c0 1.1.9 2 2 2h14c1.1 0 2-.9 2-2V5c0-1.1-.9-2-2-2zM9 17H7v-7h2v7zm4 0h-2V7h2v10zm4 0h-2v-4h2v4z\"/>\n",
              "    </g>\n",
              "</svg>\n",
              "  </button>\n",
              "\n",
              "<style>\n",
              "  .colab-df-quickchart {\n",
              "      --bg-color: #E8F0FE;\n",
              "      --fill-color: #1967D2;\n",
              "      --hover-bg-color: #E2EBFA;\n",
              "      --hover-fill-color: #174EA6;\n",
              "      --disabled-fill-color: #AAA;\n",
              "      --disabled-bg-color: #DDD;\n",
              "  }\n",
              "\n",
              "  [theme=dark] .colab-df-quickchart {\n",
              "      --bg-color: #3B4455;\n",
              "      --fill-color: #D2E3FC;\n",
              "      --hover-bg-color: #434B5C;\n",
              "      --hover-fill-color: #FFFFFF;\n",
              "      --disabled-bg-color: #3B4455;\n",
              "      --disabled-fill-color: #666;\n",
              "  }\n",
              "\n",
              "  .colab-df-quickchart {\n",
              "    background-color: var(--bg-color);\n",
              "    border: none;\n",
              "    border-radius: 50%;\n",
              "    cursor: pointer;\n",
              "    display: none;\n",
              "    fill: var(--fill-color);\n",
              "    height: 32px;\n",
              "    padding: 0;\n",
              "    width: 32px;\n",
              "  }\n",
              "\n",
              "  .colab-df-quickchart:hover {\n",
              "    background-color: var(--hover-bg-color);\n",
              "    box-shadow: 0 1px 2px rgba(60, 64, 67, 0.3), 0 1px 3px 1px rgba(60, 64, 67, 0.15);\n",
              "    fill: var(--button-hover-fill-color);\n",
              "  }\n",
              "\n",
              "  .colab-df-quickchart-complete:disabled,\n",
              "  .colab-df-quickchart-complete:disabled:hover {\n",
              "    background-color: var(--disabled-bg-color);\n",
              "    fill: var(--disabled-fill-color);\n",
              "    box-shadow: none;\n",
              "  }\n",
              "\n",
              "  .colab-df-spinner {\n",
              "    border: 2px solid var(--fill-color);\n",
              "    border-color: transparent;\n",
              "    border-bottom-color: var(--fill-color);\n",
              "    animation:\n",
              "      spin 1s steps(1) infinite;\n",
              "  }\n",
              "\n",
              "  @keyframes spin {\n",
              "    0% {\n",
              "      border-color: transparent;\n",
              "      border-bottom-color: var(--fill-color);\n",
              "      border-left-color: var(--fill-color);\n",
              "    }\n",
              "    20% {\n",
              "      border-color: transparent;\n",
              "      border-left-color: var(--fill-color);\n",
              "      border-top-color: var(--fill-color);\n",
              "    }\n",
              "    30% {\n",
              "      border-color: transparent;\n",
              "      border-left-color: var(--fill-color);\n",
              "      border-top-color: var(--fill-color);\n",
              "      border-right-color: var(--fill-color);\n",
              "    }\n",
              "    40% {\n",
              "      border-color: transparent;\n",
              "      border-right-color: var(--fill-color);\n",
              "      border-top-color: var(--fill-color);\n",
              "    }\n",
              "    60% {\n",
              "      border-color: transparent;\n",
              "      border-right-color: var(--fill-color);\n",
              "    }\n",
              "    80% {\n",
              "      border-color: transparent;\n",
              "      border-right-color: var(--fill-color);\n",
              "      border-bottom-color: var(--fill-color);\n",
              "    }\n",
              "    90% {\n",
              "      border-color: transparent;\n",
              "      border-bottom-color: var(--fill-color);\n",
              "    }\n",
              "  }\n",
              "</style>\n",
              "\n",
              "  <script>\n",
              "    async function quickchart(key) {\n",
              "      const quickchartButtonEl =\n",
              "        document.querySelector('#' + key + ' button');\n",
              "      quickchartButtonEl.disabled = true;  // To prevent multiple clicks.\n",
              "      quickchartButtonEl.classList.add('colab-df-spinner');\n",
              "      try {\n",
              "        const charts = await google.colab.kernel.invokeFunction(\n",
              "            'suggestCharts', [key], {});\n",
              "      } catch (error) {\n",
              "        console.error('Error during call to suggestCharts:', error);\n",
              "      }\n",
              "      quickchartButtonEl.classList.remove('colab-df-spinner');\n",
              "      quickchartButtonEl.classList.add('colab-df-quickchart-complete');\n",
              "    }\n",
              "    (() => {\n",
              "      let quickchartButtonEl =\n",
              "        document.querySelector('#df-56999d86-4848-4bf1-bea0-5af89b809faa button');\n",
              "      quickchartButtonEl.style.display =\n",
              "        google.colab.kernel.accessAllowed ? 'block' : 'none';\n",
              "    })();\n",
              "  </script>\n",
              "</div>\n",
              "\n",
              "    </div>\n",
              "  </div>\n"
            ],
            "application/vnd.google.colaboratory.intrinsic+json": {
              "type": "dataframe",
              "summary": "{\n  \"name\": \"pddf\",\n  \"rows\": 5,\n  \"fields\": [\n    {\n      \"column\": \"PassengerId\",\n      \"properties\": {\n        \"dtype\": \"number\",\n        \"std\": 3,\n        \"min\": 8,\n        \"max\": 17,\n        \"num_unique_values\": 5,\n        \"samples\": [\n          10,\n          17,\n          11\n        ],\n        \"semantic_type\": \"\",\n        \"description\": \"\"\n      }\n    },\n    {\n      \"column\": \"Survived\",\n      \"properties\": {\n        \"dtype\": \"number\",\n        \"std\": 0,\n        \"min\": 0,\n        \"max\": 1,\n        \"num_unique_values\": 2,\n        \"samples\": [\n          1,\n          0\n        ],\n        \"semantic_type\": \"\",\n        \"description\": \"\"\n      }\n    },\n    {\n      \"column\": \"Pclass\",\n      \"properties\": {\n        \"dtype\": \"number\",\n        \"std\": 0,\n        \"min\": 2,\n        \"max\": 3,\n        \"num_unique_values\": 2,\n        \"samples\": [\n          2,\n          3\n        ],\n        \"semantic_type\": \"\",\n        \"description\": \"\"\n      }\n    },\n    {\n      \"column\": \"Name\",\n      \"properties\": {\n        \"dtype\": \"string\",\n        \"num_unique_values\": 5,\n        \"samples\": [\n          \"Nasser, Mrs. Nicholas (Adele Achem)\",\n          \"Rice, Master. Eugene\"\n        ],\n        \"semantic_type\": \"\",\n        \"description\": \"\"\n      }\n    },\n    {\n      \"column\": \"Sex\",\n      \"properties\": {\n        \"dtype\": \"category\",\n        \"num_unique_values\": 2,\n        \"samples\": [\n          \"female\",\n          \"male\"\n        ],\n        \"semantic_type\": \"\",\n        \"description\": \"\"\n      }\n    },\n    {\n      \"column\": \"Age\",\n      \"properties\": {\n        \"dtype\": \"number\",\n        \"std\": 6.260990336999411,\n        \"min\": 2.0,\n        \"max\": 14.0,\n        \"num_unique_values\": 3,\n        \"samples\": [\n          2.0,\n          14.0\n        ],\n        \"semantic_type\": \"\",\n        \"description\": \"\"\n      }\n    },\n    {\n      \"column\": \"SibSp\",\n      \"properties\": {\n        \"dtype\": \"number\",\n        \"std\": 1,\n        \"min\": 0,\n        \"max\": 4,\n        \"num_unique_values\": 4,\n        \"samples\": [\n          1,\n          4\n        ],\n        \"semantic_type\": \"\",\n        \"description\": \"\"\n      }\n    },\n    {\n      \"column\": \"Parch\",\n      \"properties\": {\n        \"dtype\": \"number\",\n        \"std\": 0,\n        \"min\": 0,\n        \"max\": 1,\n        \"num_unique_values\": 2,\n        \"samples\": [\n          0,\n          1\n        ],\n        \"semantic_type\": \"\",\n        \"description\": \"\"\n      }\n    },\n    {\n      \"column\": \"Ticket\",\n      \"properties\": {\n        \"dtype\": \"string\",\n        \"num_unique_values\": 5,\n        \"samples\": [\n          \"237736\",\n          \"382652\"\n        ],\n        \"semantic_type\": \"\",\n        \"description\": \"\"\n      }\n    },\n    {\n      \"column\": \"Fare\",\n      \"properties\": {\n        \"dtype\": \"number\",\n        \"std\": 9.21407341082108,\n        \"min\": 7.8542,\n        \"max\": 30.0708,\n        \"num_unique_values\": 5,\n        \"samples\": [\n          30.0708,\n          29.125\n        ],\n        \"semantic_type\": \"\",\n        \"description\": \"\"\n      }\n    },\n    {\n      \"column\": \"Cabin\",\n      \"properties\": {\n        \"dtype\": \"category\",\n        \"num_unique_values\": 1,\n        \"samples\": [\n          \"G6\"\n        ],\n        \"semantic_type\": \"\",\n        \"description\": \"\"\n      }\n    },\n    {\n      \"column\": \"Embarked\",\n      \"properties\": {\n        \"dtype\": \"string\",\n        \"num_unique_values\": 3,\n        \"samples\": [\n          \"S\"\n        ],\n        \"semantic_type\": \"\",\n        \"description\": \"\"\n      }\n    }\n  ]\n}"
            }
          },
          "metadata": {},
          "execution_count": 47
        }
      ]
    },
    {
      "cell_type": "markdown",
      "source": [
        "## Seaborn"
      ],
      "metadata": {
        "id": "k1ZPcvzfeOzZ"
      }
    },
    {
      "cell_type": "code",
      "source": [],
      "metadata": {
        "id": "D5FvgdF2pRQf"
      },
      "execution_count": null,
      "outputs": []
    },
    {
      "cell_type": "code",
      "source": [
        "import seaborn as sns"
      ],
      "metadata": {
        "id": "kaABzRs_exBL"
      },
      "execution_count": null,
      "outputs": []
    },
    {
      "cell_type": "code",
      "source": [
        "sns.displot(data = pddf, x = 'Age')"
      ],
      "metadata": {
        "id": "v1grfmiKe6CV",
        "outputId": "d2524eaa-e992-40fc-f1d0-9e0533a02286",
        "colab": {
          "base_uri": "https://localhost:8080/",
          "height": 523
        }
      },
      "execution_count": null,
      "outputs": [
        {
          "output_type": "execute_result",
          "data": {
            "text/plain": [
              "<seaborn.axisgrid.FacetGrid at 0x7e57e9c38160>"
            ]
          },
          "metadata": {},
          "execution_count": 96
        },
        {
          "output_type": "display_data",
          "data": {
            "text/plain": [
              "<Figure size 500x500 with 1 Axes>"
            ],
            "image/png": "[encoded data removed]"
          },
          "metadata": {}
        }
      ]
    },
    {
      "cell_type": "code",
      "source": [
        "sns.boxplot(data = pddf, x = 'Age')"
      ],
      "metadata": {
        "id": "8jaI8zBwfSfw",
        "outputId": "14ded52b-62d7-4b40-9ed3-ad8020a55ea2",
        "colab": {
          "base_uri": "https://localhost:8080/",
          "height": 466
        }
      },
      "execution_count": null,
      "outputs": [
        {
          "output_type": "execute_result",
          "data": {
            "text/plain": [
              "<Axes: xlabel='Age'>"
            ]
          },
          "metadata": {},
          "execution_count": 97
        },
        {
          "output_type": "display_data",
          "data": {
            "text/plain": [
              "<Figure size 640x480 with 1 Axes>"
            ],
            "image/png": "[encoded data removed]"
          },
          "metadata": {}
        }
      ]
    },
    {
      "cell_type": "code",
      "source": [
        "sns.countplot(data = pddf, x = 'Sex')"
      ],
      "metadata": {
        "id": "SOV2F_mxfYOx",
        "outputId": "936390f2-1415-491a-e23d-bab0760b6e50",
        "colab": {
          "base_uri": "https://localhost:8080/",
          "height": 468
        }
      },
      "execution_count": null,
      "outputs": [
        {
          "output_type": "execute_result",
          "data": {
            "text/plain": [
              "<Axes: xlabel='Sex', ylabel='count'>"
            ]
          },
          "metadata": {},
          "execution_count": 98
        },
        {
          "output_type": "display_data",
          "data": {
            "text/plain": [
              "<Figure size 640x480 with 1 Axes>"
            ],
            "image/png": "[encoded data removed]"
          },
          "metadata": {}
        }
      ]
    },
    {
      "cell_type": "code",
      "source": [
        "import matplotlib.pyplot as plt\n",
        "import numpy as np\n",
        "\n",
        "# Generar datos aleatorios para la distribución\n",
        "np.random.seed(42)\n",
        "datos = np.random.normal(loc=50, scale=10, size=1000)\n",
        "\n",
        "# Crear el gráfico de distribución\n",
        "plt.hist(datos, bins=30, density=True, alpha=0.7, color='b')\n",
        "plt.title('Gráfico de Distribución')\n",
        "plt.xlabel('Valores')\n",
        "plt.ylabel('Frecuencia')\n",
        "plt.grid(True)\n",
        "plt.show()\n",
        "\n",
        "\n",
        "\n",
        "\n",
        "\n"
      ],
      "metadata": {
        "id": "lGXnxEaHgTll",
        "outputId": "804274f0-ce45-4d94-e39c-47a2f2f0b967",
        "colab": {
          "base_uri": "https://localhost:8080/",
          "height": 472
        }
      },
      "execution_count": null,
      "outputs": [
        {
          "output_type": "display_data",
          "data": {
            "text/plain": [
              "<Figure size 640x480 with 1 Axes>"
            ],
            "image/png": "[encoded data removed]"
          },
          "metadata": {}
        }
      ]
    },
    {
      "cell_type": "code",
      "source": [
        "df = pddf"
      ],
      "metadata": {
        "id": "pe9henKMgzM1"
      },
      "execution_count": null,
      "outputs": []
    },
    {
      "cell_type": "code",
      "source": [
        "import pandas as pd\n",
        "import matplotlib.pyplot as plt\n",
        "\n",
        "# Supongamos que ya tienes cargada la base de datos Titanic en un DataFrame llamado 'df'\n",
        "# Asegúrate de tener una columna 'Age' en el DataFrame que represente las edades de las personas y otra columna 'Survived' que indique si sobrevivieron (1) o no (0)\n",
        "\n",
        "# Agrupar los datos por tramos de edad de 10 en 10 y calcular el ratio de supervivencia en cada grupo\n",
        "bins = list(range(0, 101, 10))  # Rangos de edad: 0-9, 10-19, ..., 90-99\n",
        "labels = [f'{i}-{i+9}' for i in bins[:-1]]  # Etiquetas para los tramos de edad\n",
        "df['AgeGroup'] = pd.cut(df['Age'], bins=bins, labels=labels)\n",
        "survival_ratio_by_age = df.groupby('AgeGroup')['Survived'].mean()\n",
        "\n",
        "# Generar el gráfico de barras\n",
        "plt.bar(labels, survival_ratio_by_age)\n",
        "plt.title('Ratio de supervivencia por tramo de edad')\n",
        "plt.xlabel('Tramo de edad')\n",
        "plt.ylabel('Ratio de supervivencia')\n",
        "plt.xticks(rotation=45)\n",
        "plt.grid(True)\n",
        "plt.show()"
      ],
      "metadata": {
        "id": "QsFRCFJegxIc",
        "outputId": "b6006677-c382-4dc6-ac5f-f2e087fe2c0e",
        "colab": {
          "base_uri": "https://localhost:8080/",
          "height": 496
        }
      },
      "execution_count": null,
      "outputs": [
        {
          "output_type": "display_data",
          "data": {
            "text/plain": [
              "<Figure size 640x480 with 1 Axes>"
            ],
            "image/png": "[encoded data removed]"
          },
          "metadata": {}
        }
      ]
    },
    {
      "cell_type": "code",
      "source": [
        "import pandas as pd\n",
        "import seaborn as sns\n",
        "import matplotlib.pyplot as plt\n",
        "\n",
        "# Supongamos que ya tienes cargada la base de datos Titanic en un DataFrame llamado 'df'\n",
        "# Asegúrate de tener una columna 'Age' en el DataFrame que represente las edades de las personas y otra columna 'Survived' que indique si sobrevivieron (1) o no (0)\n",
        "\n",
        "# Agrupar los datos por tramos de edad de 10 en 10 y calcular el ratio de supervivencia en cada grupo\n",
        "bins = list(range(0, 101, 10))  # Rangos de edad: 0-9, 10-19, ..., 90-99\n",
        "labels = [f'{i}-{i+9}' for i in bins[:-1]]  # Etiquetas para los tramos de edad\n",
        "df['AgeGroup'] = pd.cut(df['Age'], bins=bins, labels=labels)\n",
        "survival_ratio_by_age = df.groupby('AgeGroup')['Survived'].mean().reset_index()\n",
        "\n",
        "# Generar el gráfico de line plot con Seaborn\n",
        "plt.figure(figsize=(10, 6))\n",
        "sns.lineplot(x='AgeGroup', y='Survived', data=survival_ratio_by_age, marker='o')\n",
        "plt.title('Ratio de supervivencia por tramo de edad')\n",
        "plt.xlabel('Tramo de edad')\n",
        "plt.ylabel('Ratio de supervivencia')\n",
        "plt.xticks(rotation=45)\n",
        "plt.grid(True)\n",
        "plt.show()\n"
      ],
      "metadata": {
        "id": "zIs8SLKVhAp5",
        "outputId": "9dc8b9a2-a2b5-46fb-9d39-3f27d01cd541",
        "colab": {
          "base_uri": "https://localhost:8080/",
          "height": 588
        }
      },
      "execution_count": null,
      "outputs": [
        {
          "output_type": "display_data",
          "data": {
            "text/plain": [
              "<Figure size 1000x600 with 1 Axes>"
            ],
            "image/png": "[encoded data removed]"
          },
          "metadata": {}
        }
      ]
    },
    {
      "cell_type": "markdown",
      "source": [
        "**Tarea 3**\n",
        "\n",
        "Realizar un ejercicio sobre la base de datos titanic en la cual identifiquen algún grupo de personas (basadas en sus características) que tengan un nivel alto de supervivencia.\n",
        "\n",
        "Entregable: El perfil, la cantida de personas y su ratio de supervivencia.\n"
      ],
      "metadata": {
        "id": "vSorjxYjizkq"
      }
    }
  ]
}